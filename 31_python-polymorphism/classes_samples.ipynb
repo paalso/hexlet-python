{
 "cells": [
  {
   "cell_type": "code",
   "execution_count": 1,
   "id": "957c1d7e",
   "metadata": {},
   "outputs": [],
   "source": [
    "class BaseClass:\n",
    "    const = 10\n",
    "    def __init__(self, value):\n",
    "        self.value = value"
   ]
  },
  {
   "cell_type": "code",
   "execution_count": 41,
   "id": "b0147eff",
   "metadata": {},
   "outputs": [],
   "source": [
    "class CopyMixin:\n",
    "    @classmethod\n",
    "    def copy_instance(cls, instance):\n",
    "        obj_attrs = instance.__dict__\n",
    "        print(cls)\n",
    "        return cls(**obj_attrs)"
   ]
  },
  {
   "cell_type": "code",
   "execution_count": 42,
   "id": "0acb617f",
   "metadata": {},
   "outputs": [],
   "source": [
    "class EqualityMixin:\n",
    "    def __eq__(self, other):\n",
    "        return type(self) == type(other) and self.__dict__ == other.__dict__"
   ]
  },
  {
   "cell_type": "code",
   "execution_count": 43,
   "id": "5b4711fd",
   "metadata": {},
   "outputs": [],
   "source": [
    "class Class(BaseClass, CopyMixin, EqualityMixin):\n",
    "    pass"
   ]
  },
  {
   "cell_type": "code",
   "execution_count": 44,
   "id": "1d5ba9bd",
   "metadata": {},
   "outputs": [],
   "source": [
    "a = Class(1)"
   ]
  },
  {
   "cell_type": "code",
   "execution_count": 49,
   "id": "59eec508",
   "metadata": {},
   "outputs": [
    {
     "name": "stdout",
     "output_type": "stream",
     "text": [
      "<class '__main__.Class'>\n"
     ]
    }
   ],
   "source": [
    "b = Class.copy_instance(a)"
   ]
  },
  {
   "cell_type": "code",
   "execution_count": 46,
   "id": "a9c8af51",
   "metadata": {},
   "outputs": [
    {
     "data": {
      "text/plain": [
       "<__main__.Class at 0x7efd96025390>"
      ]
     },
     "execution_count": 46,
     "metadata": {},
     "output_type": "execute_result"
    }
   ],
   "source": [
    "b"
   ]
  },
  {
   "cell_type": "code",
   "execution_count": 47,
   "id": "b8ccde90",
   "metadata": {},
   "outputs": [
    {
     "data": {
      "text/plain": [
       "True"
      ]
     },
     "execution_count": 47,
     "metadata": {},
     "output_type": "execute_result"
    }
   ],
   "source": [
    "a == b"
   ]
  },
  {
   "cell_type": "code",
   "execution_count": 48,
   "id": "5757c412",
   "metadata": {},
   "outputs": [
    {
     "data": {
      "text/plain": [
       "{'value': 1}"
      ]
     },
     "execution_count": 48,
     "metadata": {},
     "output_type": "execute_result"
    }
   ],
   "source": [
    "a.__dict__"
   ]
  },
  {
   "cell_type": "code",
   "execution_count": 40,
   "id": "7b934ea4",
   "metadata": {},
   "outputs": [
    {
     "data": {
      "text/plain": [
       "{'value': 1}"
      ]
     },
     "execution_count": 40,
     "metadata": {},
     "output_type": "execute_result"
    }
   ],
   "source": [
    "b.__dict__"
   ]
  },
  {
   "cell_type": "raw",
   "id": "ba25317b",
   "metadata": {},
   "source": [
    "В вашем коде, когда вы создаете объект b с использованием метода copy_instance класса Class, значение cls будет <class '__main__.Class'> потому, что cls - это ссылка на текущий класс, из которого был вызван метод. В данном случае, метод copy_instance вызывается из класса Class, поэтому cls указывает на этот класс.\n",
    "\n",
    "Подразумевается, что у вас есть класс Class, который наследуется как от BaseClass, так и от CopyMixin. Когда метод copy_instance вызывается через класс Class, cls указывает на Class.\n",
    "\n",
    "Если бы вы вызывали метод copy_instance из класса BaseClass или CopyMixin, то значение cls было бы соответственно <class '__main__.BaseClass'> или <class '__main__.CopyMixin'>, так как в этом случае метод был бы вызван из другого класса."
   ]
  },
  {
   "cell_type": "code",
   "execution_count": null,
   "id": "af6eff50",
   "metadata": {},
   "outputs": [],
   "source": []
  }
 ],
 "metadata": {
  "kernelspec": {
   "display_name": "Python 3 (ipykernel)",
   "language": "python",
   "name": "python3"
  },
  "language_info": {
   "codemirror_mode": {
    "name": "ipython",
    "version": 3
   },
   "file_extension": ".py",
   "mimetype": "text/x-python",
   "name": "python",
   "nbconvert_exporter": "python",
   "pygments_lexer": "ipython3",
   "version": "3.11.4"
  }
 },
 "nbformat": 4,
 "nbformat_minor": 5
}
