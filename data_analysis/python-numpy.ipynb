{
 "cells": [
  {
   "cell_type": "markdown",
   "id": "393e17b6",
   "metadata": {},
   "source": [
    "# Python: Numpy-массивы \n",
    "[link](https://ru.hexlet.io/courses/python-numpy)\n",
    "\n",
    "[Конспект](https://drive.google.com/drive/folders/10qe1lthtJ4T2J9rZ-pudLZlf604Pyenw?usp=sharing)"
   ]
  },
  {
   "cell_type": "markdown",
   "id": "28e788d2",
   "metadata": {},
   "source": [
    "## 2. Многомерные массивы в Numpy"
   ]
  },
  {
   "cell_type": "raw",
   "id": "a9d4b374",
   "metadata": {},
   "source": [
    " за какое время находится максимальный элемент списка и массива Numpy с аналогичным набором элементов"
   ]
  },
  {
   "cell_type": "code",
   "execution_count": 1,
   "id": "4e016ef8",
   "metadata": {},
   "outputs": [],
   "source": [
    "import numpy\n",
    "import numpy as np"
   ]
  },
  {
   "cell_type": "code",
   "execution_count": 11,
   "id": "7db01f42",
   "metadata": {},
   "outputs": [
    {
     "name": "stdout",
     "output_type": "stream",
     "text": [
      "Total time for a large list: 8.23 s\n",
      "Total time for a ndarray: 0.7 s\n"
     ]
    }
   ],
   "source": [
    "import time\n",
    "\n",
    "large_list_of_numbers = list(range(1_000_000))\n",
    "\n",
    "ndarray_of_numbers = numpy.array(large_list_of_numbers)\n",
    "\n",
    "tries = 500\n",
    "# Замеряем время выполнения заданного количества итераций\n",
    "# нахождения максимального элемента списка\n",
    "start_time = time.time()\n",
    "for _ in range(tries):\n",
    "    max(large_list_of_numbers)\n",
    "end_time = time.time()\n",
    "\n",
    "print(f'Total time for a large list: {round(end_time - start_time, 2)} s')\n",
    "\n",
    "# Замеряем время выполнения заданного количества итераций\n",
    "# нахождения максимального элемента массива Numpy\n",
    "start_time = time.time()\n",
    "for _ in range(tries):\n",
    "    ndarray_of_numbers.max()\n",
    "end_time = time.time()\n",
    "\n",
    "print(f'Total time for a ndarray: {round(end_time - start_time, 2)} s')"
   ]
  },
  {
   "cell_type": "code",
   "execution_count": 12,
   "id": "f6430c12",
   "metadata": {},
   "outputs": [
    {
     "name": "stdout",
     "output_type": "stream",
     "text": [
      "<class 'numpy.ndarray'>\n",
      "[1 2 3 4 5]\n"
     ]
    }
   ],
   "source": [
    "# Создаем простой пример списка языка Python\n",
    "simple_list = [1, 2, 3, 4, 5]\n",
    "\n",
    "# Конвертируем созданный список в массив Numpy\n",
    "my_first_ndarray = np.array(simple_list, dtype=int)\n",
    "\n",
    "# Тип созданного объекта\n",
    "print(type(my_first_ndarray))\n",
    "# => <class 'numpy.ndarray'>\n",
    "\n",
    "# Результат стандартного вывода\n",
    "print(my_first_ndarray)\n",
    "# => [1 2 3 4 5]"
   ]
  },
  {
   "cell_type": "code",
   "execution_count": 15,
   "id": "5f6c84bc",
   "metadata": {},
   "outputs": [
    {
     "data": {
      "text/plain": [
       "numpy.int64"
      ]
     },
     "execution_count": 15,
     "metadata": {},
     "output_type": "execute_result"
    }
   ],
   "source": [
    "my_first_ndarray.dtype.type"
   ]
  },
  {
   "cell_type": "code",
   "execution_count": 14,
   "id": "d1f79c58",
   "metadata": {},
   "outputs": [
    {
     "data": {
      "text/plain": [
       "[1, 2, 3, 4, 5]"
      ]
     },
     "execution_count": 14,
     "metadata": {},
     "output_type": "execute_result"
    }
   ],
   "source": [
    "my_first_ndarray.tolist()"
   ]
  },
  {
   "cell_type": "code",
   "execution_count": 17,
   "id": "df2d92f2",
   "metadata": {},
   "outputs": [
    {
     "name": "stdout",
     "output_type": "stream",
     "text": [
      "<class 'numpy.int64'>\n",
      "<class 'numpy.str_'>\n",
      "<class 'numpy.float64'>\n"
     ]
    }
   ],
   "source": [
    "# Целочисленный массив\n",
    "print(np.array([1, 2, 3], dtype=int).dtype.type)\n",
    "# => <class 'numpy.int64'>\n",
    "\n",
    "# Массив строк\n",
    "print(np.array([1, 2, 3], dtype=str).dtype.type)\n",
    "# => <class 'numpy.str_'>\n",
    "\n",
    "# Массив чисел с плавающей запятой\n",
    "print(np.array([1, 2, 3], dtype=float).dtype.type)\n",
    "# => <class 'numpy.float64'>"
   ]
  },
  {
   "cell_type": "code",
   "execution_count": 16,
   "id": "e9adec1a",
   "metadata": {},
   "outputs": [
    {
     "name": "stdout",
     "output_type": "stream",
     "text": [
      "<class 'numpy.int64'>\n",
      "<class 'numpy.str_'>\n",
      "<class 'numpy.str_'>\n"
     ]
    }
   ],
   "source": [
    "# Все элементы списка целочисленные\n",
    "print(np.array([1, 2, 3]).dtype.type)\n",
    "# => <class 'numpy.int64'>\n",
    "\n",
    "# Все элементы списка — это строки\n",
    "print(np.array(['1', '2', '3']).dtype.type)\n",
    "# => <class 'numpy.str_'>\n",
    "\n",
    "# Элементы списка как текстовые, так и целочисленные\n",
    "print(np.array(['1', 2, 3]).dtype.type)\n",
    "# => <class 'numpy.str_'>"
   ]
  },
  {
   "cell_type": "raw",
   "id": "b56fea0b",
   "metadata": {},
   "source": [
    "Представим продажи ноутбуков в магазине за одну неделю:\n",
    "День \tМагазин №1\n",
    "0 \t7\n",
    "1 \t4\n",
    "2 \t3\n",
    "3 \t8\n",
    "4 \t15\n",
    "5 \t21\n",
    "6 \t25"
   ]
  },
  {
   "cell_type": "code",
   "execution_count": 18,
   "id": "28d3a764",
   "metadata": {},
   "outputs": [
    {
     "name": "stdout",
     "output_type": "stream",
     "text": [
      "<class 'numpy.ndarray'>\n",
      "[ 7  4  3  8 15 21 25]\n"
     ]
    }
   ],
   "source": [
    "# Создаем список продаж — представим, что считали его из базы данных\n",
    "orders_list = [7, 4, 3, 8, 15, 21, 25]\n",
    "\n",
    "# Конвертируем созданный список в массив Numpy\n",
    "orders_ndarray = np.array(orders_list, dtype=int)\n",
    "\n",
    "# Тип созданного объекта\n",
    "print(type(orders_ndarray))\n",
    "# => <class 'numpy.ndarray'>\n",
    "\n",
    "# Результат стандартного вывода\n",
    "print(orders_ndarray)\n",
    "# => [ 7  4  3  8 15 21 25]"
   ]
  },
  {
   "cell_type": "code",
   "execution_count": 19,
   "id": "005aa1f8",
   "metadata": {},
   "outputs": [
    {
     "name": "stdout",
     "output_type": "stream",
     "text": [
      "3\n",
      "2\n"
     ]
    }
   ],
   "source": [
    "# Находим минимальный элемент массива\n",
    "print(orders_ndarray.min())\n",
    "# => 3\n",
    "\n",
    "# Находим порядковый номер минимального элемента массива\n",
    "print(orders_ndarray.argmin())\n",
    "# => 2"
   ]
  },
  {
   "cell_type": "raw",
   "id": "4d5fec8e",
   "metadata": {},
   "source": [
    "День \tМагазин №1 \tМагазин №2 \tМагазин №3 \tМагазин №4\n",
    "0 \t7 \t1 \t7 \t8\n",
    "1 \t4 \t2 \t4 \t5\n",
    "2 \t3 \t5 \t2 \t3\n",
    "3 \t8 \t12 \t8 \t7\n",
    "4 \t15 \t11 \t13 \t9\n",
    "5 \t21 \t18 \t17 \t21\n",
    "6 \t25 \t16 \t25 \t17"
   ]
  },
  {
   "cell_type": "code",
   "execution_count": 20,
   "id": "d5004b52",
   "metadata": {},
   "outputs": [
    {
     "name": "stdout",
     "output_type": "stream",
     "text": [
      "<class 'numpy.ndarray'>\n",
      "1\n"
     ]
    }
   ],
   "source": [
    "# Создаем «список списков продаж»\n",
    "orders_list =  [\n",
    "    [7, 1, 7, 8],\n",
    "    [4, 2, 4, 5],\n",
    "    [3, 5, 2, 3],\n",
    "    [8, 12, 8, 7],\n",
    "    [15, 11, 13, 9],\n",
    "    [21, 18, 17, 21],\n",
    "    [25, 16, 25, 17]\n",
    "]\n",
    "\n",
    "# Конвертируем созданный «список списков» в массив Numpy\n",
    "orders_ndarray = np.array(orders_list, dtype=int)\n",
    "\n",
    "# Описываем тип созданного объекта\n",
    "print(type(orders_ndarray))\n",
    "# => <class 'numpy.ndarray'>\n",
    "\n",
    "# Находим минимальный элемент массива\n",
    "print(orders_ndarray.min())\n",
    "# => 1"
   ]
  },
  {
   "cell_type": "markdown",
   "id": "5944afd3",
   "metadata": {},
   "source": [
    "### Самостоятельная работа "
   ]
  },
  {
   "cell_type": "code",
   "execution_count": 3,
   "id": "5bc87f18",
   "metadata": {},
   "outputs": [
    {
     "data": {
      "text/plain": [
       "[1428, 1251, 1763, 1701, 1657, 1485, 1409, 2316, 1378, 2409]"
      ]
     },
     "execution_count": 3,
     "metadata": {},
     "output_type": "execute_result"
    }
   ],
   "source": [
    "# тестовые данные\n",
    "import random\n",
    "random.seed(42)\n",
    "min_num = 1200\n",
    "max_num = 2500\n",
    "input_click_numbers = [random.randrange(min_num, max_num) for _ in range(365)]\n",
    "input_click_numbers[:10]"
   ]
  },
  {
   "cell_type": "code",
   "execution_count": 10,
   "id": "5864c432",
   "metadata": {},
   "outputs": [
    {
     "data": {
      "text/plain": [
       "'1.24.3'"
      ]
     },
     "execution_count": 10,
     "metadata": {},
     "output_type": "execute_result"
    }
   ],
   "source": [
    "import numpy as np\n",
    "np.version.version"
   ]
  },
  {
   "cell_type": "code",
   "execution_count": 11,
   "id": "0b225e70",
   "metadata": {},
   "outputs": [
    {
     "data": {
      "text/plain": [
       "'1.24.3'"
      ]
     },
     "execution_count": 11,
     "metadata": {},
     "output_type": "execute_result"
    }
   ],
   "source": [
    "np.__version__"
   ]
  },
  {
   "cell_type": "code",
   "execution_count": 34,
   "id": "4b32eddb",
   "metadata": {},
   "outputs": [],
   "source": [
    "def create_nparray(values, type_=int):\n",
    "    return np.array(values, dtype=type_)"
   ]
  },
  {
   "cell_type": "code",
   "execution_count": 36,
   "id": "71f3f6f4",
   "metadata": {},
   "outputs": [
    {
     "data": {
      "text/plain": [
       "array([1428, 1251, 1763, 1701, 1657])"
      ]
     },
     "execution_count": 36,
     "metadata": {},
     "output_type": "execute_result"
    }
   ],
   "source": [
    "input_click_array = create_nparray(input_click_numbers)\n",
    "input_click_array[:5]"
   ]
  },
  {
   "cell_type": "code",
   "execution_count": 37,
   "id": "50eb1d54",
   "metadata": {},
   "outputs": [],
   "source": [
    "def range(array):\n",
    "    return np.max(array) - np.min(array)"
   ]
  },
  {
   "cell_type": "code",
   "execution_count": 28,
   "id": "d147924c",
   "metadata": {},
   "outputs": [
    {
     "data": {
      "text/plain": [
       "1297"
      ]
     },
     "execution_count": 28,
     "metadata": {},
     "output_type": "execute_result"
    }
   ],
   "source": [
    "range(input_click_numbers)"
   ]
  },
  {
   "cell_type": "code",
   "execution_count": 38,
   "id": "96a355ed",
   "metadata": {},
   "outputs": [
    {
     "data": {
      "text/plain": [
       "1829.0191780821917"
      ]
     },
     "execution_count": 38,
     "metadata": {},
     "output_type": "execute_result"
    }
   ],
   "source": [
    "np.mean(input_click_array)"
   ]
  },
  {
   "cell_type": "code",
   "execution_count": 39,
   "id": "4e365191",
   "metadata": {},
   "outputs": [
    {
     "data": {
      "text/plain": [
       "532.0191780821917"
      ]
     },
     "execution_count": 39,
     "metadata": {},
     "output_type": "execute_result"
    }
   ],
   "source": [
    "abs(np.mean(input_click_array) - range(input_click_array))"
   ]
  },
  {
   "cell_type": "code",
   "execution_count": 40,
   "id": "f2df086a",
   "metadata": {},
   "outputs": [
    {
     "data": {
      "text/plain": [
       "(array([362]),)"
      ]
     },
     "execution_count": 40,
     "metadata": {},
     "output_type": "execute_result"
    }
   ],
   "source": [
    "np.where(input_click_array == np.max(input_click_array))"
   ]
  },
  {
   "cell_type": "code",
   "execution_count": 41,
   "id": "921841f0",
   "metadata": {},
   "outputs": [
    {
     "data": {
      "text/plain": [
       "362"
      ]
     },
     "execution_count": 41,
     "metadata": {},
     "output_type": "execute_result"
    }
   ],
   "source": [
    "input_click_array.argmax()"
   ]
  },
  {
   "cell_type": "code",
   "execution_count": 42,
   "id": "68356a69",
   "metadata": {},
   "outputs": [
    {
     "data": {
      "text/plain": [
       "156"
      ]
     },
     "execution_count": 42,
     "metadata": {},
     "output_type": "execute_result"
    }
   ],
   "source": [
    "input_click_array.argmin()"
   ]
  },
  {
   "cell_type": "markdown",
   "id": "66e99602",
   "metadata": {},
   "source": [
    "### Упражнение \n",
    "[link](https://ru.hexlet.io/code_reviews/1237588)"
   ]
  },
  {
   "cell_type": "raw",
   "id": "80fbe2ed",
   "metadata": {},
   "source": [
    "Для работы со списком входных значений в нашем вычислительном модуле его необходимо сконвертировать в нужный формат данных. Напишите функцию make_click_numbers(), которая возвращает массив numpy.ndarray, созданный из списка целочисленных значений:"
   ]
  },
  {
   "cell_type": "code",
   "execution_count": 46,
   "id": "9ef82149",
   "metadata": {},
   "outputs": [],
   "source": [
    "def make_click_numbers(values, dtype_=int):\n",
    "    return np.array(values, dtype=int)"
   ]
  },
  {
   "cell_type": "raw",
   "id": "d918d8b7",
   "metadata": {},
   "source": [
    "Напишите функцию get_range(), которая находит размах выборки — разницу между максимальным и минимальным элементами. Эта простая характеристика позволяет оценить величину разброса значений кликов на сайт:"
   ]
  },
  {
   "cell_type": "code",
   "execution_count": 58,
   "id": "f6c753d8",
   "metadata": {},
   "outputs": [],
   "source": [
    "def get_range(array):\n",
    "    return array.max() - array.min()"
   ]
  },
  {
   "cell_type": "code",
   "execution_count": 59,
   "id": "7205d275",
   "metadata": {},
   "outputs": [],
   "source": [
    "clicks_per_day = make_click_numbers([5, 7, 12, 3])\n",
    "assert get_range(clicks_per_day) == 9"
   ]
  },
  {
   "cell_type": "raw",
   "id": "406a2e9f",
   "metadata": {},
   "source": [
    "Размах выборки станет более информативным, если мы сравним его со средним значением — это покажет насколько сильно могут отклоняться клики на сайте. Напишите функцию get_mean(), которая находит среднее значение элементов:"
   ]
  },
  {
   "cell_type": "code",
   "execution_count": 68,
   "id": "746afbd8",
   "metadata": {},
   "outputs": [],
   "source": [
    "def get_mean(array):\n",
    "    return array.mean()"
   ]
  },
  {
   "cell_type": "code",
   "execution_count": 61,
   "id": "63011114",
   "metadata": {},
   "outputs": [],
   "source": [
    "clicks_per_day = make_click_numbers([5, 7, 12, 3])\n",
    "get_mean(clicks_per_day)  # 6.75"
   ]
  },
  {
   "cell_type": "raw",
   "id": "ea58c508",
   "metadata": {},
   "source": [
    "Если общая статистическая картина понятна аналитику, то для других сотрудников компании будет интереснее разобраться с конкретными крайними случаями в значениях данных, дав им бизнес-оценку и обоснование. Напишите функции get_max_clicks_day() и get_min_clicks_day(), которые находят день в году, в который было совершено наибольшее и наименьшее количество кликов:"
   ]
  },
  {
   "cell_type": "code",
   "execution_count": 65,
   "id": "6f443733",
   "metadata": {},
   "outputs": [],
   "source": [
    "def get_max_clicks_day(array):\n",
    "    return array.argmax() + 1"
   ]
  },
  {
   "cell_type": "code",
   "execution_count": 66,
   "id": "2afe71f5",
   "metadata": {},
   "outputs": [],
   "source": [
    "def get_min_clicks_day(array):\n",
    "    return array.argmin() + 1"
   ]
  },
  {
   "cell_type": "code",
   "execution_count": 67,
   "id": "d83c9a67",
   "metadata": {},
   "outputs": [],
   "source": [
    "clicks_per_day = make_click_numbers([5, 7, 12, 3])\n",
    "assert get_max_clicks_day(clicks_per_day) == 3\n",
    "assert get_min_clicks_day(clicks_per_day) == 4"
   ]
  },
  {
   "cell_type": "markdown",
   "id": "9ceb201d",
   "metadata": {},
   "source": [
    "## 3. Индексы, срезы и итеративный обход"
   ]
  },
  {
   "cell_type": "code",
   "execution_count": 2,
   "id": "e8b805d3",
   "metadata": {},
   "outputs": [
    {
     "name": "stdout",
     "output_type": "stream",
     "text": [
      "<class 'list'>\n",
      "<class 'numpy.ndarray'>\n"
     ]
    }
   ],
   "source": [
    "# Создание списка языка Python\n",
    "numbers = [0, 1, 2, 3, 4, 5, 6, 7, 8, 9]\n",
    "\n",
    "# Конвертация созданного списка в массив Numpy\n",
    "numpy_numbers = np.array(numbers)\n",
    "\n",
    "# Тип созданного объекта numbers\n",
    "print(type(numbers))\n",
    "# => <class 'list'>\n",
    "\n",
    "# Тип созданного объекта numpy_numbers\n",
    "print(type(numpy_numbers))\n",
    "# => <class 'numpy.ndarray'>"
   ]
  },
  {
   "cell_type": "code",
   "execution_count": 3,
   "id": "0270a5ef",
   "metadata": {},
   "outputs": [
    {
     "name": "stdout",
     "output_type": "stream",
     "text": [
      "2\n",
      "2\n"
     ]
    }
   ],
   "source": [
    "# Получение элемента по индексу из списка\n",
    "print(numbers[2])\n",
    "# => 2\n",
    "\n",
    "# Получение элемента по индексу из numpy.ndarray\n",
    "print(numpy_numbers[2])\n",
    "# => 2"
   ]
  },
  {
   "cell_type": "code",
   "execution_count": 4,
   "id": "2cfc2879",
   "metadata": {},
   "outputs": [
    {
     "name": "stdout",
     "output_type": "stream",
     "text": [
      "9\n",
      "9\n"
     ]
    }
   ],
   "source": [
    "# Получение элемента по отрицательному индексу из списка\n",
    "print(numbers[-1])\n",
    "# => 9\n",
    "\n",
    "# Получение элемента по отрицательному индексу из numpy.ndarray\n",
    "print(numpy_numbers[-1])\n",
    "# => 9"
   ]
  },
  {
   "cell_type": "code",
   "execution_count": 15,
   "id": "6d365bbe",
   "metadata": {},
   "outputs": [
    {
     "name": "stdout",
     "output_type": "stream",
     "text": [
      "7\n",
      "4\n",
      "8\n"
     ]
    }
   ],
   "source": [
    "# Создание списка списков\n",
    "numbers_lists = [\n",
    "    [0, 1, 2,],\n",
    "    [3, 4, 5,],\n",
    "    [6, 7, 8,],\n",
    "    [9, 10, 11]\n",
    "]\n",
    "\n",
    "# Конвертация созданного списка списков в массив Numpy\n",
    "numpy_numbers_lists = np.array(numbers_lists)\n",
    "\n",
    "# Получение элемента по индексу из списка\n",
    "print(numbers_lists[2][1])\n",
    "# => 7\n",
    "\n",
    "# Получение элемента по индексу из numpy.ndarray\n",
    "print(numpy_numbers_lists[1][1])\n",
    "# => 4\n",
    "\n",
    "# Получение элемента по индексу из numpy.ndarray\n",
    "# Более предпочтительный способ\n",
    "print(numpy_numbers_lists[2,2])\n",
    "# => 8"
   ]
  },
  {
   "cell_type": "code",
   "execution_count": 16,
   "id": "36451e59",
   "metadata": {},
   "outputs": [
    {
     "name": "stdout",
     "output_type": "stream",
     "text": [
      "[0 1 2 3]\n",
      "[2 3 4]\n",
      "[7 8 9]\n"
     ]
    }
   ],
   "source": [
    "# Срезы\n",
    "# Первые элементы списка\n",
    "print(numpy_numbers[:4])\n",
    "# => [0 1 2 3]\n",
    "\n",
    "# Середина\n",
    "print(numpy_numbers[2:5])\n",
    "# => [2 3 4]\n",
    "\n",
    "# Последние элементы списка\n",
    "print(numpy_numbers[-3:])\n",
    "# => [7 8 9]"
   ]
  },
  {
   "cell_type": "code",
   "execution_count": 17,
   "id": "7d4606fe",
   "metadata": {},
   "outputs": [
    {
     "name": "stdout",
     "output_type": "stream",
     "text": [
      "[0 2 4 6 8]\n",
      "[9 8 7 6 5 4 3 2 1 0]\n"
     ]
    }
   ],
   "source": [
    "# Четные элементы массива\n",
    "print(numpy_numbers[::2])\n",
    "# => [0 2 4 6 8]\n",
    "\n",
    "# Обратный порядок элементов массива\n",
    "print(numpy_numbers[::-1])\n",
    "# => [9 8 7 6 5 4 3 2 1 0]"
   ]
  },
  {
   "cell_type": "code",
   "execution_count": 18,
   "id": "251c4bfc",
   "metadata": {},
   "outputs": [
    {
     "data": {
      "text/plain": [
       "array([[ 0,  1,  2],\n",
       "       [ 3,  4,  5],\n",
       "       [ 6,  7,  8],\n",
       "       [ 9, 10, 11]])"
      ]
     },
     "execution_count": 18,
     "metadata": {},
     "output_type": "execute_result"
    }
   ],
   "source": [
    "numpy_numbers_lists"
   ]
  },
  {
   "cell_type": "code",
   "execution_count": 12,
   "id": "1507e7bc",
   "metadata": {},
   "outputs": [
    {
     "name": "stdout",
     "output_type": "stream",
     "text": [
      "[[0 1]\n",
      " [3 4]]\n",
      "[[0, 1, 2], [3, 4, 5]]\n",
      "[[0, 1], [3, 4]]\n"
     ]
    }
   ],
   "source": [
    "# Вырезание элементов из numpy.ndarray\n",
    "print(numpy_numbers_lists[:2,:2])\n",
    "# => [[0 1]\n",
    "#     [3 4]]\n",
    "\n",
    "# Попытка вырезать те же элементы из списка\n",
    "print(numbers_lists[:2][:2])\n",
    "# => [[0, 1, 2], [3, 4, 5]]\n",
    "\n",
    "# Решение для вырезания элементов из списка\n",
    "print([row[:2] for row in numbers_lists[:2]])\n",
    "# => [[0, 1], [3, 4]]"
   ]
  },
  {
   "cell_type": "code",
   "execution_count": 19,
   "id": "479ef612",
   "metadata": {},
   "outputs": [
    {
     "name": "stdout",
     "output_type": "stream",
     "text": [
      "[0 1 2]\n",
      "[0 1 2]\n",
      "[ 1  4  7 10]\n"
     ]
    }
   ],
   "source": [
    "# Вырезание 0 строки из numpy.ndarray\n",
    "print(numpy_numbers_lists[0,:])\n",
    "# => [0 1 2]\n",
    "\n",
    "# Вырезание 0 строки — еще один способ\n",
    "print(numpy_numbers_lists[0])\n",
    "# => [0 1 2]\n",
    "\n",
    "# Вырезание 1 столбца из numpy.ndarray\n",
    "print(numpy_numbers_lists[:,1])\n",
    "# => [ 1  4  7 10]"
   ]
  },
  {
   "cell_type": "code",
   "execution_count": 22,
   "id": "ac1f9602",
   "metadata": {},
   "outputs": [
    {
     "data": {
      "text/plain": [
       "array([[ 0,  1,  2],\n",
       "       [ 3,  4,  5],\n",
       "       [ 6,  7,  8],\n",
       "       [ 9, 10, 11]])"
      ]
     },
     "execution_count": 22,
     "metadata": {},
     "output_type": "execute_result"
    }
   ],
   "source": [
    "numpy_numbers_lists"
   ]
  },
  {
   "cell_type": "code",
   "execution_count": 21,
   "id": "9df3ab2a",
   "metadata": {},
   "outputs": [
    {
     "name": "stdout",
     "output_type": "stream",
     "text": [
      "[[ 9 10 11]\n",
      " [ 6  7  8]\n",
      " [ 3  4  5]\n",
      " [ 0  1  2]]\n",
      "[[ 0  2]\n",
      " [ 3  5]\n",
      " [ 6  8]\n",
      " [ 9 11]]\n"
     ]
    }
   ],
   "source": [
    "# Перестановка строк в обратном порядке\n",
    "print(numpy_numbers_lists[::-1])\n",
    "# => [[ 9 10 11]\n",
    "#     [ 6  7  8]\n",
    "#     [ 3  4  5]\n",
    "#     [ 0  1  2]]\n",
    "\n",
    "# Четные столбцы\n",
    "print(numpy_numbers_lists[:,::2])\n",
    "# => [[ 0  2]\n",
    "#     [ 3  5]\n",
    "#     [ 6  8]\n",
    "#     [ 9 11]]"
   ]
  },
  {
   "cell_type": "raw",
   "id": "44a8c325",
   "metadata": {},
   "source": [
    "День \tМагазины\n",
    "    №1  №2  №3  №4\n",
    "ПН \t7 \t1 \t7 \t8\n",
    "ВТ \t4 \t2 \t4 \t5\n",
    "СР \t3 \t5 \t2 \t3\n",
    "ЧТ \t8 \t12 \t8 \t7\n",
    "ПТ \t15 \t11 \t13 \t9\n",
    "СБ \t21 \t18 \t17 \t21\n",
    "ВС \t25 \t16 \t25 \t17"
   ]
  },
  {
   "cell_type": "code",
   "execution_count": 25,
   "id": "a4aaa583",
   "metadata": {},
   "outputs": [],
   "source": [
    "# Создаем «лист листов» продаж\n",
    "orders_values =  [\n",
    "    [7, 1, 7, 8],\n",
    "    [4, 2, 4, 5],\n",
    "    [3, 5, 2, 3],\n",
    "    [8, 12, 8, 7],\n",
    "    [15, 11, 13, 9],\n",
    "    [21, 18, 17, 21],\n",
    "    [25, 16, 25, 17]\n",
    "]\n",
    "\n",
    "# Конвертируем созданный «лист листов» в массив Numpy\n",
    "orders = np.array(orders_values)"
   ]
  },
  {
   "cell_type": "code",
   "execution_count": 28,
   "id": "659c44c7",
   "metadata": {},
   "outputs": [
    {
     "data": {
      "text/plain": [
       "array([[ 7,  1],\n",
       "       [ 4,  2],\n",
       "       [ 3,  5],\n",
       "       [ 8, 12],\n",
       "       [15, 11],\n",
       "       [21, 18],\n",
       "       [25, 16]])"
      ]
     },
     "execution_count": 28,
     "metadata": {},
     "output_type": "execute_result"
    }
   ],
   "source": [
    "# Оставляем только первые два магазина\n",
    "orders[:,:2]"
   ]
  },
  {
   "cell_type": "code",
   "execution_count": 29,
   "id": "2ea280f9",
   "metadata": {},
   "outputs": [
    {
     "data": {
      "text/plain": [
       "array([[21, 18, 17, 21],\n",
       "       [25, 16, 25, 17]])"
      ]
     },
     "execution_count": 29,
     "metadata": {},
     "output_type": "execute_result"
    }
   ],
   "source": [
    "# Оставляем в рассмотрении данные продаж за выходные дни\n",
    "orders[-2:,:]"
   ]
  },
  {
   "cell_type": "code",
   "execution_count": 31,
   "id": "1d9556ea",
   "metadata": {},
   "outputs": [
    {
     "data": {
      "text/plain": [
       "array([[25, 16, 25, 17],\n",
       "       [21, 18, 17, 21],\n",
       "       [15, 11, 13,  9],\n",
       "       [ 8, 12,  8,  7],\n",
       "       [ 3,  5,  2,  3],\n",
       "       [ 4,  2,  4,  5],\n",
       "       [ 7,  1,  7,  8]])"
      ]
     },
     "execution_count": 31,
     "metadata": {},
     "output_type": "execute_result"
    }
   ],
   "source": [
    "# Делаем обратный порядок дней в таблице\n",
    "orders[::-1]"
   ]
  },
  {
   "cell_type": "markdown",
   "id": "122b39a0",
   "metadata": {},
   "source": [
    "### Упражнение\n",
    "[link](https://ru.hexlet.io/code_reviews/1237579)"
   ]
  },
  {
   "cell_type": "code",
   "execution_count": 2,
   "id": "fabe0915",
   "metadata": {},
   "outputs": [],
   "source": [
    "# В каждой строке — количество кликов рекламного баннера с четырех площадок\n",
    "# Каждая строка — дни месяца с понедельника по воскресенье\n",
    "\n",
    "clicks_values = [\n",
    "    [319, 265, 319, 328],\n",
    "    [292, 274, 292, 301],\n",
    "    [283, 301, 274, 283],\n",
    "    [328, 364, 328, 319],\n",
    "    [391, 355, 373, 337],\n",
    "    [445, 418, 409, 445],\n",
    "    [481, 400, 481, 409],\n",
    "    [333, 267, 333, 344],\n",
    "    [300, 278, 300, 311],\n",
    "    [289, 311, 278, 289],\n",
    "    [344, 388, 344, 333],\n",
    "    [421, 377, 399, 355],\n",
    "    [487, 454, 443, 487],\n",
    "    [531, 432, 531, 443],\n",
    "    [312, 264, 312, 320],\n",
    "    [288, 272, 288, 296],\n",
    "    [280, 296, 272, 280],\n",
    "    [320, 352, 320, 312],\n",
    "    [376, 344, 360, 328],\n",
    "    [424, 400, 392, 424],\n",
    "    [456, 384, 456, 392],\n",
    "    [347, 269, 347, 360],\n",
    "    [308, 282, 308, 321],\n",
    "    [295, 321, 282, 295],\n",
    "    [360, 412, 360, 347],\n",
    "    [451, 399, 425, 373],\n",
    "    [529, 490, 477, 529],\n",
    "    [581, 464, 581, 477],\n",
    "    [111, 467, 666, 111],\n",
    "]\n",
    "\n",
    "clicks_values = np.array(clicks_values)"
   ]
  },
  {
   "cell_type": "raw",
   "id": "5e774912",
   "metadata": {},
   "source": [
    "Напишите функцию get_max_weekly(), которая принимает таблицу и возвращает список значений из максимального числа кликов за каждую неделю. Постарайтесь использовать срезы данных:"
   ]
  },
  {
   "cell_type": "code",
   "execution_count": 88,
   "id": "f0bf9e75",
   "metadata": {},
   "outputs": [],
   "source": [
    "def get_max_weekly(data):\n",
    "    return [data[i:i + 7:].max() for i in range(0,len(data),7)]"
   ]
  },
  {
   "cell_type": "code",
   "execution_count": 89,
   "id": "90c681e9",
   "metadata": {},
   "outputs": [
    {
     "data": {
      "text/plain": [
       "[481, 531, 456, 581, 666]"
      ]
     },
     "execution_count": 89,
     "metadata": {},
     "output_type": "execute_result"
    }
   ],
   "source": [
    "get_max_weekly(clicks_values)"
   ]
  },
  {
   "cell_type": "raw",
   "id": "9b5de85c",
   "metadata": {},
   "source": [
    "Напишите функцию get_min_weekly(), которая принимает таблицу и возвращает список значений из минимального числа кликов за каждую неделю:"
   ]
  },
  {
   "cell_type": "code",
   "execution_count": 74,
   "id": "afb66da3",
   "metadata": {},
   "outputs": [],
   "source": [
    "def get_min_weekly(data):\n",
    "    return [data[i:i + 7:].min() for i in range(0,len(data),7)]"
   ]
  },
  {
   "cell_type": "code",
   "execution_count": 76,
   "id": "8f49c76d",
   "metadata": {},
   "outputs": [
    {
     "data": {
      "text/plain": [
       "[265, 267, 264, 269]"
      ]
     },
     "execution_count": 76,
     "metadata": {},
     "output_type": "execute_result"
    }
   ],
   "source": [
    "get_min_weekly(clicks_values)"
   ]
  },
  {
   "cell_type": "raw",
   "id": "45fdb9c0",
   "metadata": {},
   "source": [
    "Напишите функцию get_day_of_week_mean(), которая принимает таблицу и возвращает среднее значение за каждый день недели:"
   ]
  },
  {
   "cell_type": "code",
   "execution_count": 7,
   "id": "285bb8be",
   "metadata": {},
   "outputs": [],
   "source": [
    "def get_day_of_week_mean(data):\n",
    "    return [row.mean() for row in data]"
   ]
  },
  {
   "cell_type": "code",
   "execution_count": 9,
   "id": "2cb7481c",
   "metadata": {},
   "outputs": [
    {
     "data": {
      "text/plain": [
       "[307.75, 289.75, 285.25, 334.75, 364.0]"
      ]
     },
     "execution_count": 9,
     "metadata": {},
     "output_type": "execute_result"
    }
   ],
   "source": [
    "get_day_of_week_mean(clicks_values)[:5]"
   ]
  },
  {
   "cell_type": "raw",
   "id": "8c7da083",
   "metadata": {},
   "source": [
    "Напишите функцию get_placement_max_clicks(), которая принимает таблицу и номер площадки и возвращает максимальное значение кликов для указанной рекламной площадки (столбец в таблице):"
   ]
  },
  {
   "cell_type": "code",
   "execution_count": 85,
   "id": "59c3d430",
   "metadata": {},
   "outputs": [],
   "source": [
    "def get_placement_max_clicks(data, column):\n",
    "    return data[:,column].max()"
   ]
  },
  {
   "cell_type": "code",
   "execution_count": 86,
   "id": "d321a133",
   "metadata": {},
   "outputs": [
    {
     "data": {
      "text/plain": [
       "490"
      ]
     },
     "execution_count": 86,
     "metadata": {},
     "output_type": "execute_result"
    }
   ],
   "source": [
    "get_placement_max_clicks(clicks_values, 1)"
   ]
  },
  {
   "cell_type": "raw",
   "id": "b577517a",
   "metadata": {},
   "source": [
    "Напишите функцию get_mean_monday(clicks_values: np.ndarray), которая возвращает среднее значение кликов среди всех точек только в разрезе понедельников. Постарайтесь использовать срезы данных."
   ]
  },
  {
   "cell_type": "code",
   "execution_count": 5,
   "id": "c50846e4",
   "metadata": {},
   "outputs": [],
   "source": [
    "def get_mean_monday(data):\n",
    "    return data[::7]"
   ]
  },
  {
   "cell_type": "code",
   "execution_count": 6,
   "id": "a9f123bc",
   "metadata": {},
   "outputs": [
    {
     "data": {
      "text/plain": [
       "array([[319, 265, 319, 328],\n",
       "       [333, 267, 333, 344],\n",
       "       [312, 264, 312, 320],\n",
       "       [347, 269, 347, 360],\n",
       "       [111, 467, 666, 111]])"
      ]
     },
     "execution_count": 6,
     "metadata": {},
     "output_type": "execute_result"
    }
   ],
   "source": [
    "get_mean_monday(clicks_values)"
   ]
  },
  {
   "cell_type": "code",
   "execution_count": null,
   "id": "2769e63b",
   "metadata": {},
   "outputs": [],
   "source": []
  }
 ],
 "metadata": {
  "kernelspec": {
   "display_name": "Python 3 (ipykernel)",
   "language": "python",
   "name": "python3"
  },
  "language_info": {
   "codemirror_mode": {
    "name": "ipython",
    "version": 3
   },
   "file_extension": ".py",
   "mimetype": "text/x-python",
   "name": "python",
   "nbconvert_exporter": "python",
   "pygments_lexer": "ipython3",
   "version": "3.11.4"
  }
 },
 "nbformat": 4,
 "nbformat_minor": 5
}
