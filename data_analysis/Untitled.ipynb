{
 "cells": [
  {
   "cell_type": "code",
   "execution_count": null,
   "id": "436deb97-49a6-4db2-94b4-11b89ddad9a0",
   "metadata": {},
   "outputs": [],
   "source": []
  }
 ],
 "metadata": {
  "kernelspec": {
   "display_name": "",
   "name": ""
  },
  "language_info": {
   "name": ""
  }
 },
 "nbformat": 4,
 "nbformat_minor": 5
}
