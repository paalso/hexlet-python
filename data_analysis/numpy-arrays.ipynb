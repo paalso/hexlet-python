{
 "cells": [
  {
   "cell_type": "code",
   "execution_count": 1,
   "id": "e15983e6",
   "metadata": {
    "tags": []
   },
   "outputs": [],
   "source": [
    "import numpy as np"
   ]
  },
  {
   "cell_type": "raw",
   "id": "51af84c8",
   "metadata": {},
   "source": [
    "Решения:\n",
    "\n",
    "https://ru.hexlet.io/code_reviews/1237588\n",
    "https://ru.hexlet.io/code_reviews/1237579\n",
    "https://ru.hexlet.io/code_reviews/1550724\n",
    "https://ru.hexlet.io/code_reviews/1553250\n",
    "https://ru.hexlet.io/code_reviews/1554442\n",
    "https://ru.hexlet.io/code_reviews/1555568\n",
    "https://ru.hexlet.io/code_reviews/1557993\n",
    "https://ru.hexlet.io/code_reviews/1558458"
   ]
  },
  {
   "cell_type": "code",
   "execution_count": 2,
   "id": "f094c2cb",
   "metadata": {
    "tags": []
   },
   "outputs": [],
   "source": [
    "simple_list = [1, 2, 3, 4, 5]"
   ]
  },
  {
   "cell_type": "code",
   "execution_count": 3,
   "id": "c2f8e49b",
   "metadata": {
    "tags": []
   },
   "outputs": [],
   "source": [
    "my_first_ndarray = np.array(simple_list, dtype=int)"
   ]
  },
  {
   "cell_type": "code",
   "execution_count": 4,
   "id": "effb9852",
   "metadata": {
    "tags": []
   },
   "outputs": [
    {
     "data": {
      "text/plain": [
       "numpy.ndarray"
      ]
     },
     "execution_count": 4,
     "metadata": {},
     "output_type": "execute_result"
    }
   ],
   "source": [
    "type(my_first_ndarray)"
   ]
  },
  {
   "cell_type": "code",
   "execution_count": 5,
   "id": "e3f8f626",
   "metadata": {
    "tags": []
   },
   "outputs": [
    {
     "data": {
      "text/plain": [
       "array([1, 2, 3, 4, 5])"
      ]
     },
     "execution_count": 5,
     "metadata": {},
     "output_type": "execute_result"
    }
   ],
   "source": [
    "my_first_ndarray"
   ]
  },
  {
   "cell_type": "code",
   "execution_count": 6,
   "id": "36a93960",
   "metadata": {
    "tags": []
   },
   "outputs": [],
   "source": [
    "from_ndarray = my_first_ndarray.tolist()"
   ]
  },
  {
   "cell_type": "code",
   "execution_count": 7,
   "id": "03198d93",
   "metadata": {
    "tags": []
   },
   "outputs": [
    {
     "data": {
      "text/plain": [
       "[1, 2, 3, 4, 5]"
      ]
     },
     "execution_count": 7,
     "metadata": {},
     "output_type": "execute_result"
    }
   ],
   "source": [
    "from_ndarray"
   ]
  },
  {
   "cell_type": "code",
   "execution_count": 8,
   "id": "37ed5696",
   "metadata": {
    "tags": []
   },
   "outputs": [
    {
     "data": {
      "text/plain": [
       "list"
      ]
     },
     "execution_count": 8,
     "metadata": {},
     "output_type": "execute_result"
    }
   ],
   "source": [
    "type(from_ndarray)"
   ]
  },
  {
   "cell_type": "code",
   "execution_count": 9,
   "id": "25d61af1",
   "metadata": {},
   "outputs": [
    {
     "data": {
      "text/plain": [
       "dtype('int64')"
      ]
     },
     "execution_count": 9,
     "metadata": {},
     "output_type": "execute_result"
    }
   ],
   "source": [
    "my_first_ndarray.dtype"
   ]
  },
  {
   "cell_type": "code",
   "execution_count": 10,
   "id": "18de8610",
   "metadata": {},
   "outputs": [],
   "source": [
    "str_array = np.array([1, 2, 3], dtype=str)"
   ]
  },
  {
   "cell_type": "code",
   "execution_count": 11,
   "id": "aafd82f9",
   "metadata": {},
   "outputs": [
    {
     "data": {
      "text/plain": [
       "array(['1', '2', '3'], dtype='<U1')"
      ]
     },
     "execution_count": 11,
     "metadata": {},
     "output_type": "execute_result"
    }
   ],
   "source": [
    "str_array"
   ]
  },
  {
   "cell_type": "code",
   "execution_count": 12,
   "id": "442b3af8",
   "metadata": {},
   "outputs": [
    {
     "data": {
      "text/plain": [
       "dtype('<U1')"
      ]
     },
     "execution_count": 12,
     "metadata": {},
     "output_type": "execute_result"
    }
   ],
   "source": [
    "str_array.dtype"
   ]
  },
  {
   "cell_type": "code",
   "execution_count": 13,
   "id": "e28614db",
   "metadata": {},
   "outputs": [],
   "source": [
    "float_array = np.array([1, 2, 3], dtype=float)"
   ]
  },
  {
   "cell_type": "code",
   "execution_count": 15,
   "id": "95adc02f",
   "metadata": {},
   "outputs": [
    {
     "data": {
      "text/plain": [
       "dtype('float64')"
      ]
     },
     "execution_count": 15,
     "metadata": {},
     "output_type": "execute_result"
    }
   ],
   "source": [
    "float_array.dtype"
   ]
  },
  {
   "cell_type": "code",
   "execution_count": 16,
   "id": "9728e2e3",
   "metadata": {},
   "outputs": [
    {
     "data": {
      "text/plain": [
       "numpy.float64"
      ]
     },
     "execution_count": 16,
     "metadata": {},
     "output_type": "execute_result"
    }
   ],
   "source": [
    "float_array.dtype.type"
   ]
  },
  {
   "cell_type": "code",
   "execution_count": 17,
   "id": "f4e2a925",
   "metadata": {},
   "outputs": [
    {
     "data": {
      "text/plain": [
       "numpy.dtype[float64]"
      ]
     },
     "execution_count": 17,
     "metadata": {},
     "output_type": "execute_result"
    }
   ],
   "source": [
    "type(float_array.dtype)"
   ]
  },
  {
   "cell_type": "code",
   "execution_count": 18,
   "id": "e5f7ff04",
   "metadata": {},
   "outputs": [
    {
     "data": {
      "text/plain": [
       "type"
      ]
     },
     "execution_count": 18,
     "metadata": {},
     "output_type": "execute_result"
    }
   ],
   "source": [
    "type(float_array.dtype.type)"
   ]
  },
  {
   "cell_type": "code",
   "execution_count": 20,
   "id": "a1c5f103",
   "metadata": {},
   "outputs": [
    {
     "name": "stdout",
     "output_type": "stream",
     "text": [
      "<class 'numpy.ndarray'>\n",
      "[ 7  4  3  8 15 21 25]\n"
     ]
    }
   ],
   "source": [
    "orders_list = [7, 4, 3, 8, 15, 21, 25]\n",
    "\n",
    "# Конвертируем созданный список в массив Numpy\n",
    "orders_ndarray = np.array(orders_list, dtype=int)\n",
    "\n",
    "# Тип созданного объекта\n",
    "print(type(orders_ndarray))\n",
    "# => <class 'numpy.ndarray'>\n",
    "\n",
    "# Результат стандартного вывода\n",
    "print(orders_ndarray)\n",
    "# => [ 7  4  3  8 15 21 25]"
   ]
  },
  {
   "cell_type": "code",
   "execution_count": 21,
   "id": "b88ccf7d",
   "metadata": {},
   "outputs": [
    {
     "data": {
      "text/plain": [
       "3"
      ]
     },
     "execution_count": 21,
     "metadata": {},
     "output_type": "execute_result"
    }
   ],
   "source": [
    "orders_ndarray.min()"
   ]
  },
  {
   "cell_type": "code",
   "execution_count": 22,
   "id": "29b67bc0",
   "metadata": {},
   "outputs": [
    {
     "data": {
      "text/plain": [
       "2"
      ]
     },
     "execution_count": 22,
     "metadata": {},
     "output_type": "execute_result"
    }
   ],
   "source": [
    "orders_ndarray.argmin()"
   ]
  },
  {
   "cell_type": "code",
   "execution_count": 23,
   "id": "9445399a",
   "metadata": {},
   "outputs": [],
   "source": [
    "orders_list =  [\n",
    "    [7, 1, 7, 8],\n",
    "    [4, 2, 4, 5],\n",
    "    [3, 5, 2, 3],\n",
    "    [8, 12, 8, 7],\n",
    "    [15, 11, 13, 9],\n",
    "    [21, 18, 17, 21],\n",
    "    [25, 16, 25, 17]\n",
    "]\n",
    "\n",
    "# Конвертируем созданный «список списков» в массив Numpy\n",
    "orders_ndarray = np.array(orders_list, dtype=int)"
   ]
  },
  {
   "cell_type": "code",
   "execution_count": 24,
   "id": "74b0fa6e",
   "metadata": {},
   "outputs": [
    {
     "data": {
      "text/plain": [
       "1"
      ]
     },
     "execution_count": 24,
     "metadata": {},
     "output_type": "execute_result"
    }
   ],
   "source": [
    "orders_ndarray.min()"
   ]
  },
  {
   "cell_type": "code",
   "execution_count": 25,
   "id": "0e9c86bc",
   "metadata": {},
   "outputs": [
    {
     "data": {
      "text/plain": [
       "1"
      ]
     },
     "execution_count": 25,
     "metadata": {},
     "output_type": "execute_result"
    }
   ],
   "source": [
    "orders_ndarray.argmin()"
   ]
  },
  {
   "cell_type": "code",
   "execution_count": 1,
   "id": "72acc479",
   "metadata": {},
   "outputs": [],
   "source": [
    "import random\n",
    "random.seed(42)\n",
    "min_num = 1200\n",
    "max_num = 2500\n",
    "input_click_numbers = [random.randrange(min_num, max_num) for _ in range(365)]"
   ]
  },
  {
   "cell_type": "code",
   "execution_count": 2,
   "id": "1666f441",
   "metadata": {},
   "outputs": [
    {
     "data": {
      "text/plain": [
       "[1428, 1251, 1763, 1701, 1657, 1485, 1409, 2316, 1378, 2409]"
      ]
     },
     "execution_count": 2,
     "metadata": {},
     "output_type": "execute_result"
    }
   ],
   "source": [
    "input_click_numbers[:10]"
   ]
  },
  {
   "cell_type": "code",
   "execution_count": 3,
   "id": "603d1e39",
   "metadata": {},
   "outputs": [],
   "source": [
    "def test_numpy_version(capsys):\n",
    "    expected = '1.0.0'\n",
    "    assert np.__version__ >= expected"
   ]
  },
  {
   "cell_type": "code",
   "execution_count": 7,
   "id": "e4e8b2b8",
   "metadata": {},
   "outputs": [],
   "source": [
    "test_numpy_version(np.__version__)"
   ]
  },
  {
   "cell_type": "code",
   "execution_count": 8,
   "id": "4af31cc7",
   "metadata": {},
   "outputs": [
    {
     "data": {
      "text/plain": [
       "'1.24.3'"
      ]
     },
     "execution_count": 8,
     "metadata": {},
     "output_type": "execute_result"
    }
   ],
   "source": [
    "np.__version__"
   ]
  },
  {
   "cell_type": "code",
   "execution_count": 9,
   "id": "9a00665d",
   "metadata": {},
   "outputs": [],
   "source": [
    "def create_click_numbers_ndarray(numbers_array):\n",
    "    return np.array(numbers_array)"
   ]
  },
  {
   "cell_type": "code",
   "execution_count": 10,
   "id": "84f98866",
   "metadata": {},
   "outputs": [],
   "source": [
    "click_numbers = create_click_numbers_ndarray(input_click_numbers)"
   ]
  },
  {
   "cell_type": "code",
   "execution_count": 11,
   "id": "ec98b8b7",
   "metadata": {},
   "outputs": [
    {
     "data": {
      "text/plain": [
       "array([1428, 1251, 1763, 1701, 1657, 1485, 1409, 2316, 1378, 2409])"
      ]
     },
     "execution_count": 11,
     "metadata": {},
     "output_type": "execute_result"
    }
   ],
   "source": [
    "click_numbers[:10]"
   ]
  },
  {
   "cell_type": "code",
   "execution_count": 15,
   "id": "4da66140",
   "metadata": {},
   "outputs": [
    {
     "data": {
      "text/plain": [
       "1"
      ]
     },
     "execution_count": 15,
     "metadata": {},
     "output_type": "execute_result"
    }
   ],
   "source": [
    "len(click_numbers.shape)\n"
   ]
  },
  {
   "cell_type": "code",
   "execution_count": 17,
   "id": "62fab54f",
   "metadata": {},
   "outputs": [
    {
     "data": {
      "text/plain": [
       "1297"
      ]
     },
     "execution_count": 17,
     "metadata": {},
     "output_type": "execute_result"
    }
   ],
   "source": [
    "click_numbers.max() - click_numbers.min()"
   ]
  },
  {
   "cell_type": "code",
   "execution_count": 19,
   "id": "038ea7f7",
   "metadata": {},
   "outputs": [
    {
     "data": {
      "text/plain": [
       "1829.0191780821917"
      ]
     },
     "execution_count": 19,
     "metadata": {},
     "output_type": "execute_result"
    }
   ],
   "source": [
    "click_numbers.mean()"
   ]
  },
  {
   "cell_type": "code",
   "execution_count": 20,
   "id": "adccb85c",
   "metadata": {},
   "outputs": [
    {
     "data": {
      "text/plain": [
       "362"
      ]
     },
     "execution_count": 20,
     "metadata": {},
     "output_type": "execute_result"
    }
   ],
   "source": [
    "click_numbers.argmax()"
   ]
  },
  {
   "cell_type": "code",
   "execution_count": 21,
   "id": "d615b5db",
   "metadata": {},
   "outputs": [
    {
     "data": {
      "text/plain": [
       "156"
      ]
     },
     "execution_count": 21,
     "metadata": {},
     "output_type": "execute_result"
    }
   ],
   "source": [
    "click_numbers.argmin()"
   ]
  },
  {
   "cell_type": "code",
   "execution_count": null,
   "id": "821c79b6",
   "metadata": {},
   "outputs": [],
   "source": [
    "def make_click_numbers(numbers_array):\n",
    "    return np.array(numbers_array)\n",
    "\n",
    "\n",
    "def get_range(data):\n",
    "    return data.max() - data.min()\n",
    "\n",
    "\n",
    "def get_mean(data):\n",
    "    return data.mean()\n",
    "\n",
    "\n",
    "def get_max_clicks_day(data):\n",
    "    return data.argmax() + 1\n",
    "\n",
    "\n",
    "def get_min_clicks_day(data):\n",
    "    return data.argmin() + 1"
   ]
  },
  {
   "cell_type": "markdown",
   "id": "0916c6af",
   "metadata": {},
   "source": [
    "## Индексы, срезы и итеративный обход "
   ]
  },
  {
   "cell_type": "code",
   "execution_count": 7,
   "id": "704728e0",
   "metadata": {},
   "outputs": [],
   "source": [
    "numbers_lists = [\n",
    "    [0, 1, 2,],\n",
    "    [3, 4, 5,],\n",
    "    [6, 7, 8,],\n",
    "    [9, 10, 11]\n",
    "]\n",
    "\n",
    "numpy_numbers_lists = np.array(numbers_lists)"
   ]
  },
  {
   "cell_type": "code",
   "execution_count": 8,
   "id": "98b52510",
   "metadata": {},
   "outputs": [
    {
     "data": {
      "text/plain": [
       "array([[ 0,  1,  2],\n",
       "       [ 3,  4,  5],\n",
       "       [ 6,  7,  8],\n",
       "       [ 9, 10, 11]])"
      ]
     },
     "execution_count": 8,
     "metadata": {},
     "output_type": "execute_result"
    }
   ],
   "source": [
    "numpy_numbers_lists"
   ]
  },
  {
   "cell_type": "code",
   "execution_count": 12,
   "id": "62ca12e3",
   "metadata": {},
   "outputs": [
    {
     "data": {
      "text/plain": [
       "array([0, 1, 2])"
      ]
     },
     "execution_count": 12,
     "metadata": {},
     "output_type": "execute_result"
    }
   ],
   "source": [
    "numpy_numbers_lists[0,:]"
   ]
  },
  {
   "cell_type": "code",
   "execution_count": 13,
   "id": "006ffe5f",
   "metadata": {},
   "outputs": [
    {
     "data": {
      "text/plain": [
       "array([0, 3, 6, 9])"
      ]
     },
     "execution_count": 13,
     "metadata": {},
     "output_type": "execute_result"
    }
   ],
   "source": [
    "numpy_numbers_lists[:,0]"
   ]
  },
  {
   "cell_type": "code",
   "execution_count": 14,
   "id": "1473602f",
   "metadata": {},
   "outputs": [
    {
     "data": {
      "text/plain": [
       "array([[ 9, 10, 11],\n",
       "       [ 6,  7,  8],\n",
       "       [ 3,  4,  5],\n",
       "       [ 0,  1,  2]])"
      ]
     },
     "execution_count": 14,
     "metadata": {},
     "output_type": "execute_result"
    }
   ],
   "source": [
    "numpy_numbers_lists[::-1]"
   ]
  },
  {
   "cell_type": "code",
   "execution_count": 15,
   "id": "2b034363",
   "metadata": {},
   "outputs": [
    {
     "data": {
      "text/plain": [
       "array([[ 0,  2],\n",
       "       [ 3,  5],\n",
       "       [ 6,  8],\n",
       "       [ 9, 11]])"
      ]
     },
     "execution_count": 15,
     "metadata": {},
     "output_type": "execute_result"
    }
   ],
   "source": [
    "numpy_numbers_lists[:,::2]"
   ]
  },
  {
   "cell_type": "raw",
   "id": "a10da80d",
   "metadata": {},
   "source": [
    "ПН \t7 \t1 \t7 \t8\n",
    "ВТ \t4 \t2 \t4 \t5\n",
    "СР \t3 \t5 \t2 \t3\n",
    "ЧТ \t8 \t12 \t8 \t7\n",
    "ПТ \t15 \t11 \t13 \t9\n",
    "СБ \t21 \t18 \t17 \t21\n",
    "ВС \t25 \t16 \t25 \t17"
   ]
  },
  {
   "cell_type": "code",
   "execution_count": 20,
   "id": "050013a4",
   "metadata": {},
   "outputs": [],
   "source": [
    "orders_values =  [\n",
    "    [7, 1, 7, 8],\n",
    "    [4, 2, 4, 5],\n",
    "    [3, 5, 2, 3],\n",
    "    [8, 12, 8, 7],\n",
    "    [15, 11, 13, 9],\n",
    "    [21, 18, 17, 21],\n",
    "    [25, 16, 25, 17]\n",
    "]\n",
    "orders = np.array(orders)"
   ]
  },
  {
   "cell_type": "code",
   "execution_count": 22,
   "id": "3c0531ae",
   "metadata": {},
   "outputs": [
    {
     "data": {
      "text/plain": [
       "array([[ 7,  1],\n",
       "       [ 4,  2],\n",
       "       [ 3,  5],\n",
       "       [ 8, 12],\n",
       "       [15, 11],\n",
       "       [21, 18],\n",
       "       [25, 16]])"
      ]
     },
     "execution_count": 22,
     "metadata": {},
     "output_type": "execute_result"
    }
   ],
   "source": [
    "# Задача 1. Оставить только первые два магазина:\n",
    "\n",
    "orders[:,:2]"
   ]
  },
  {
   "cell_type": "code",
   "execution_count": 23,
   "id": "b3c7212e",
   "metadata": {},
   "outputs": [
    {
     "data": {
      "text/plain": [
       "array([[21, 18, 17, 21],\n",
       "       [25, 16, 25, 17]])"
      ]
     },
     "execution_count": 23,
     "metadata": {},
     "output_type": "execute_result"
    }
   ],
   "source": [
    "# Задача 2. Оставить в рассмотрении данные продаж за выходные дни:\n",
    "\n",
    "orders[5:]"
   ]
  },
  {
   "cell_type": "code",
   "execution_count": 24,
   "id": "4d785045",
   "metadata": {},
   "outputs": [
    {
     "data": {
      "text/plain": [
       "array([[25, 16, 25, 17],\n",
       "       [21, 18, 17, 21],\n",
       "       [15, 11, 13,  9],\n",
       "       [ 8, 12,  8,  7],\n",
       "       [ 3,  5,  2,  3],\n",
       "       [ 4,  2,  4,  5],\n",
       "       [ 7,  1,  7,  8]])"
      ]
     },
     "execution_count": 24,
     "metadata": {},
     "output_type": "execute_result"
    }
   ],
   "source": [
    "# Сделать обратный порядок дней в таблице:\n",
    "\n",
    "orders[::-1]"
   ]
  },
  {
   "cell_type": "markdown",
   "id": "f60bf37a",
   "metadata": {},
   "source": [
    "#### Самостоятельная работа"
   ]
  },
  {
   "cell_type": "code",
   "execution_count": 5,
   "id": "8b4eed78",
   "metadata": {},
   "outputs": [],
   "source": [
    "clicks_values = [\n",
    "    [319, 265, 319, 328],\n",
    "    [292, 274, 292, 301],\n",
    "    [283, 301, 274, 283],\n",
    "    [328, 364, 328, 319],\n",
    "    [391, 355, 373, 337],\n",
    "    [445, 418, 409, 445],\n",
    "    [481, 400, 481, 409],\n",
    "    [333, 267, 333, 344],\n",
    "    [300, 278, 300, 311],\n",
    "    [289, 311, 278, 289],\n",
    "    [344, 388, 344, 333],\n",
    "    [421, 377, 399, 355],\n",
    "    [487, 454, 443, 487],\n",
    "    [531, 432, 531, 443],\n",
    "    [312, 264, 312, 320],\n",
    "    [288, 272, 288, 296],\n",
    "    [280, 296, 272, 280],\n",
    "    [320, 352, 320, 312],\n",
    "    [376, 344, 360, 328],\n",
    "    [424, 400, 392, 424],\n",
    "    [456, 384, 456, 392],\n",
    "    [347, 269, 347, 360],\n",
    "    [308, 282, 308, 321],\n",
    "    [295, 321, 282, 295],\n",
    "    [360, 412, 360, 347],\n",
    "    [451, 399, 425, 373],\n",
    "    [529, 490, 477, 529],\n",
    "    [581, 464, 581, 477]\n",
    "]"
   ]
  },
  {
   "cell_type": "code",
   "execution_count": 8,
   "id": "ab34e247",
   "metadata": {},
   "outputs": [],
   "source": [
    "def create_click_numbers_ndarray(clicks_values: list) -> np.ndarray:\n",
    "    return np.array(clicks_values)"
   ]
  },
  {
   "cell_type": "code",
   "execution_count": 9,
   "id": "693ae52a",
   "metadata": {},
   "outputs": [],
   "source": [
    "clicks_values = create_click_numbers_ndarray(clicks_values)"
   ]
  },
  {
   "cell_type": "code",
   "execution_count": 20,
   "id": "db1c6d15",
   "metadata": {},
   "outputs": [],
   "source": [
    "def get_max_weekly(clicks_values: np.ndarray) -> list:\n",
    "    return [clicks_values[i * 7:(i + 1) * 7].max() for i in range(4)]"
   ]
  },
  {
   "cell_type": "code",
   "execution_count": 21,
   "id": "3423864a",
   "metadata": {},
   "outputs": [
    {
     "data": {
      "text/plain": [
       "[481, 531, 456, 581]"
      ]
     },
     "execution_count": 21,
     "metadata": {},
     "output_type": "execute_result"
    }
   ],
   "source": [
    "get_max_weekly(clicks_values)"
   ]
  },
  {
   "cell_type": "code",
   "execution_count": 70,
   "id": "f76e1d3b",
   "metadata": {},
   "outputs": [],
   "source": [
    "def get_min_weekly(clicks_values: np.ndarray) -> list:\n",
    "    return [clicks_values[i * 7:(i + 1) * 7].min() for i in range(4)]"
   ]
  },
  {
   "cell_type": "code",
   "execution_count": 71,
   "id": "d4fb7896",
   "metadata": {},
   "outputs": [
    {
     "data": {
      "text/plain": [
       "[265, 267, 264, 269]"
      ]
     },
     "execution_count": 71,
     "metadata": {},
     "output_type": "execute_result"
    }
   ],
   "source": [
    "get_min_weekly(clicks_values)"
   ]
  },
  {
   "cell_type": "code",
   "execution_count": 50,
   "id": "856028da",
   "metadata": {},
   "outputs": [],
   "source": [
    "def get_mean_monday(clicks_values: np.ndarray) -> float:\n",
    "    return clicks_values[::7].mean()"
   ]
  },
  {
   "cell_type": "code",
   "execution_count": 51,
   "id": "35ea212e",
   "metadata": {},
   "outputs": [
    {
     "data": {
      "text/plain": [
       "314.9375"
      ]
     },
     "execution_count": 51,
     "metadata": {},
     "output_type": "execute_result"
    }
   ],
   "source": [
    "get_mean_monday(clicks_values)"
   ]
  },
  {
   "cell_type": "code",
   "execution_count": 62,
   "id": "b8ebde31",
   "metadata": {},
   "outputs": [],
   "source": [
    "def get_max_click(clicks_values: np.ndarray, col_number: int) -> int:\n",
    "    return clicks_values[:,col_number].max()"
   ]
  },
  {
   "cell_type": "code",
   "execution_count": 64,
   "id": "2ec5249f",
   "metadata": {},
   "outputs": [],
   "source": [
    "assert round(get_max_click(clicks_values, 0)) == 581\n",
    "assert round(get_max_click(clicks_values, 1)) == 490\n",
    "assert round(get_max_click(clicks_values, 2)) == 581\n",
    "assert round(get_max_click(clicks_values, 3)) == 529"
   ]
  },
  {
   "cell_type": "code",
   "execution_count": 76,
   "id": "820c4f58",
   "metadata": {},
   "outputs": [],
   "source": [
    "def get_day_of_week_mean(clicks_values: np.ndarray) -> list:\n",
    "    return [clicks_values[i::7].mean() for i in range(7)]"
   ]
  },
  {
   "cell_type": "code",
   "execution_count": 77,
   "id": "34bb0c89",
   "metadata": {},
   "outputs": [
    {
     "data": {
      "text/plain": [
       "[314.9375, 294.4375, 289.3125, 345.6875, 379.0, 453.3125, 468.6875]"
      ]
     },
     "execution_count": 77,
     "metadata": {},
     "output_type": "execute_result"
    }
   ],
   "source": [
    "get_day_of_week_mean(clicks_values)"
   ]
  },
  {
   "cell_type": "code",
   "execution_count": null,
   "id": "5034e2b2",
   "metadata": {},
   "outputs": [],
   "source": [
    "def get_placement_max_clicks(clicks_values: np.ndarray) -> list:\n",
    "    return [clicks_values[i::7].max() for i in range(7)]"
   ]
  },
  {
   "cell_type": "markdown",
   "id": "0b65ec13",
   "metadata": {},
   "source": [
    "## Переформатирование, изменение формы"
   ]
  },
  {
   "cell_type": "markdown",
   "id": "3bc06362",
   "metadata": {},
   "source": [
    "### https://ru.hexlet.io/courses/python-numpy/lessons/form-change/theory_unit"
   ]
  },
  {
   "cell_type": "code",
   "execution_count": 84,
   "id": "3fddfbda",
   "metadata": {},
   "outputs": [],
   "source": [
    "one_dimension_array = np.array(\n",
    "    [0,1,2,3,4,5,6,7,8,9,10,11]\n",
    ")\n",
    "\n",
    "two_dimensions_array = np.array(\n",
    "    [\n",
    "        [0,1,2],\n",
    "        [3,4,5],\n",
    "        [6,7,8],\n",
    "        [9,10,11]\n",
    "    ]\n",
    ")\n",
    "\n",
    "\n",
    "three_dimensions_array = np.array(\n",
    "    [\n",
    "        [\n",
    "            [0,1],\n",
    "            [2,3],\n",
    "        ],\n",
    "        [\n",
    "            [4,5],\n",
    "            [6,7],\n",
    "        ],\n",
    "        [\n",
    "            [8,9],\n",
    "            [10,11]\n",
    "        ]\n",
    "    ]\n",
    ")"
   ]
  },
  {
   "cell_type": "code",
   "execution_count": 83,
   "id": "5ae605cf",
   "metadata": {},
   "outputs": [
    {
     "data": {
      "text/plain": [
       "array([ 0,  1,  2,  3,  4,  5,  6,  7,  8,  9, 10, 11])"
      ]
     },
     "execution_count": 83,
     "metadata": {},
     "output_type": "execute_result"
    }
   ],
   "source": [
    "one_dimension_array"
   ]
  },
  {
   "cell_type": "code",
   "execution_count": 85,
   "id": "b0d685d5",
   "metadata": {},
   "outputs": [
    {
     "data": {
      "text/plain": [
       "array([[ 0,  1,  2],\n",
       "       [ 3,  4,  5],\n",
       "       [ 6,  7,  8],\n",
       "       [ 9, 10, 11]])"
      ]
     },
     "execution_count": 85,
     "metadata": {},
     "output_type": "execute_result"
    }
   ],
   "source": [
    "two_dimensions_array"
   ]
  },
  {
   "cell_type": "code",
   "execution_count": 90,
   "id": "c8bc1dc1",
   "metadata": {},
   "outputs": [
    {
     "data": {
      "text/plain": [
       "(4, 3)"
      ]
     },
     "execution_count": 90,
     "metadata": {},
     "output_type": "execute_result"
    }
   ],
   "source": [
    "two_dimensions_array.shape"
   ]
  },
  {
   "cell_type": "code",
   "execution_count": 86,
   "id": "634e158d",
   "metadata": {},
   "outputs": [
    {
     "data": {
      "text/plain": [
       "array([[[ 0,  1],\n",
       "        [ 2,  3]],\n",
       "\n",
       "       [[ 4,  5],\n",
       "        [ 6,  7]],\n",
       "\n",
       "       [[ 8,  9],\n",
       "        [10, 11]]])"
      ]
     },
     "execution_count": 86,
     "metadata": {},
     "output_type": "execute_result"
    }
   ],
   "source": [
    "three_dimensions_array"
   ]
  },
  {
   "cell_type": "code",
   "execution_count": 87,
   "id": "db465997",
   "metadata": {},
   "outputs": [
    {
     "data": {
      "text/plain": [
       "(12,)"
      ]
     },
     "execution_count": 87,
     "metadata": {},
     "output_type": "execute_result"
    }
   ],
   "source": [
    "one_dimension_array.shape"
   ]
  },
  {
   "cell_type": "code",
   "execution_count": 88,
   "id": "4b5273b4",
   "metadata": {},
   "outputs": [
    {
     "data": {
      "text/plain": [
       "(4, 3)"
      ]
     },
     "execution_count": 88,
     "metadata": {},
     "output_type": "execute_result"
    }
   ],
   "source": [
    "two_dimensions_array.shape"
   ]
  },
  {
   "cell_type": "code",
   "execution_count": 89,
   "id": "f5ed01e3",
   "metadata": {},
   "outputs": [
    {
     "data": {
      "text/plain": [
       "(3, 2, 2)"
      ]
     },
     "execution_count": 89,
     "metadata": {},
     "output_type": "execute_result"
    }
   ],
   "source": [
    "three_dimensions_array.shape"
   ]
  },
  {
   "cell_type": "code",
   "execution_count": 91,
   "id": "8e151cdc",
   "metadata": {},
   "outputs": [
    {
     "data": {
      "text/plain": [
       "array([[ 0,  1,  2],\n",
       "       [ 3,  4,  5],\n",
       "       [ 6,  7,  8],\n",
       "       [ 9, 10, 11]])"
      ]
     },
     "execution_count": 91,
     "metadata": {},
     "output_type": "execute_result"
    }
   ],
   "source": [
    "one_dimension_array.reshape((4, 3))"
   ]
  },
  {
   "cell_type": "code",
   "execution_count": 92,
   "id": "96453755",
   "metadata": {},
   "outputs": [
    {
     "data": {
      "text/plain": [
       "array([[ 0,  1,  2],\n",
       "       [ 3,  4,  5],\n",
       "       [ 6,  7,  8],\n",
       "       [ 9, 10, 11]])"
      ]
     },
     "execution_count": 92,
     "metadata": {},
     "output_type": "execute_result"
    }
   ],
   "source": [
    "two_dimensions_array"
   ]
  },
  {
   "cell_type": "code",
   "execution_count": 95,
   "id": "3688251f",
   "metadata": {},
   "outputs": [
    {
     "data": {
      "text/plain": [
       "array([ 0,  1,  2,  3,  4,  5,  6,  7,  8,  9, 10, 11])"
      ]
     },
     "execution_count": 95,
     "metadata": {},
     "output_type": "execute_result"
    }
   ],
   "source": [
    "two_dimensions_array.reshape((12,))"
   ]
  },
  {
   "cell_type": "code",
   "execution_count": 100,
   "id": "07857e38",
   "metadata": {},
   "outputs": [
    {
     "data": {
      "text/plain": [
       "array([[0, 1, 2],\n",
       "       [3, 4, 0]])"
      ]
     },
     "execution_count": 100,
     "metadata": {},
     "output_type": "execute_result"
    }
   ],
   "source": [
    "np.array(\n",
    "    [\n",
    "        [0,1,2],\n",
    "        [3,4,0],\n",
    "    ]\n",
    ")"
   ]
  },
  {
   "cell_type": "code",
   "execution_count": 104,
   "id": "6dd6ec31",
   "metadata": {},
   "outputs": [
    {
     "data": {
      "text/plain": [
       "array([[ 0,  1,  2,  3,  4,  5],\n",
       "       [ 6,  7,  8,  9, 10, 11]])"
      ]
     },
     "execution_count": 104,
     "metadata": {},
     "output_type": "execute_result"
    }
   ],
   "source": [
    "one_dimension_array.reshape(2,6)"
   ]
  },
  {
   "cell_type": "code",
   "execution_count": 109,
   "id": "11a3b988",
   "metadata": {},
   "outputs": [
    {
     "data": {
      "text/plain": [
       "array([[ 0,  1,  2],\n",
       "       [ 3,  4,  5],\n",
       "       [ 6,  7,  8],\n",
       "       [ 9, 10, 11]])"
      ]
     },
     "execution_count": 109,
     "metadata": {},
     "output_type": "execute_result"
    }
   ],
   "source": [
    "one_dimension_array.reshape(((4,3)))"
   ]
  },
  {
   "cell_type": "code",
   "execution_count": 107,
   "id": "7b2ab0e2",
   "metadata": {},
   "outputs": [
    {
     "data": {
      "text/plain": [
       "array([[ 0,  1,  2],\n",
       "       [ 3,  4,  5],\n",
       "       [ 6,  7,  8],\n",
       "       [ 9, 10, 11]])"
      ]
     },
     "execution_count": 107,
     "metadata": {},
     "output_type": "execute_result"
    }
   ],
   "source": [
    "one_dimension_array.reshape(((4, -2)))"
   ]
  },
  {
   "cell_type": "markdown",
   "id": "f996be71",
   "metadata": {},
   "source": [
    "### Самостоятельная работа"
   ]
  },
  {
   "cell_type": "code",
   "execution_count": 54,
   "id": "985b9b59",
   "metadata": {},
   "outputs": [],
   "source": [
    "import random\n",
    "random.seed(42)\n",
    "min_num = 1200\n",
    "max_num = 2500\n",
    "\n",
    "input_click_numbers = [random.randrange(min_num, max_num) for _ in range(280)]"
   ]
  },
  {
   "cell_type": "code",
   "execution_count": 55,
   "id": "018a9837",
   "metadata": {},
   "outputs": [
    {
     "data": {
      "text/plain": [
       "[1428,\n",
       " 1251,\n",
       " 1763,\n",
       " 1701,\n",
       " 1657,\n",
       " 1485,\n",
       " 1409,\n",
       " 2316,\n",
       " 1378,\n",
       " 2409,\n",
       " 2064,\n",
       " 1265,\n",
       " 1261,\n",
       " 1391,\n",
       " 1647,\n",
       " 1676,\n",
       " 2234,\n",
       " 2432,\n",
       " 1254]"
      ]
     },
     "execution_count": 55,
     "metadata": {},
     "output_type": "execute_result"
    }
   ],
   "source": [
    "# клики идут последовательно с первого по десятый магазин с понедельника по воскресенье и представлены в виде списка числовых значений без пропусков.\n",
    "\n",
    "input_click_numbers[:19]"
   ]
  },
  {
   "cell_type": "code",
   "execution_count": 50,
   "id": "2838292b",
   "metadata": {},
   "outputs": [],
   "source": [
    "def create_weekly_clicks_table(input_click_numbers: list) -> np.ndarray:\n",
    "    return  np.array(input_click_numbers).reshape((-1, 7, 10))"
   ]
  },
  {
   "cell_type": "code",
   "execution_count": 51,
   "id": "af0f0c35",
   "metadata": {},
   "outputs": [],
   "source": [
    "weekly_clicks_table = create_weekly_clicks_table(input_click_numbers)"
   ]
  },
  {
   "cell_type": "code",
   "execution_count": 53,
   "id": "bcccaa63",
   "metadata": {
    "scrolled": true
   },
   "outputs": [
    {
     "data": {
      "text/plain": [
       "array([[[1428, 1251, 1763, 1701, 1657, 1485, 1409, 2316, 1378, 2409],\n",
       "        [2064, 1265, 1261, 1391, 1647, 1676, 2234, 2432, 1254, 2349],\n",
       "        [1607, 2316, 2059, 1651, 2119, 2406, 1769, 1213, 1526, 2065],\n",
       "        [1896, 1769, 1518, 1640, 1889, 1409, 1389, 1978, 1398, 1935],\n",
       "        [1904, 2436, 1741, 1288, 2140, 2298, 1455, 1975, 1361, 2330],\n",
       "        [1800, 2487, 2466, 1940, 2382, 1593, 1342, 1293, 1666, 1792],\n",
       "        [1363, 1676, 1406, 1978, 1769, 2128, 1947, 1533, 1958, 1927]],\n",
       "\n",
       "       [[1629, 1746, 1346, 2447, 1550, 2293, 1701, 1534, 2146, 1977],\n",
       "        [1752, 2340, 1649, 1864, 1314, 1669, 1265, 1846, 2021, 1748],\n",
       "        [1335, 1632, 2361, 1844, 1635, 2222, 2010, 2139, 1492, 1742],\n",
       "        [1485, 1705, 2349, 2303, 1738, 2397, 2077, 2395, 2017, 1941],\n",
       "        [1649, 1483, 2243, 2210, 1386, 1296, 1424, 1513, 2485, 1527],\n",
       "        [2064, 2421, 1330, 1988, 1981, 2420, 2158, 2283, 1714, 2333],\n",
       "        [1223, 1434, 2299, 1746, 1896, 1428, 1801, 2090, 1523, 2129]]])"
      ]
     },
     "execution_count": 53,
     "metadata": {},
     "output_type": "execute_result"
    }
   ],
   "source": [
    "weekly_clicks_table[:2]"
   ]
  },
  {
   "cell_type": "code",
   "execution_count": 56,
   "id": "e8471f58",
   "metadata": {},
   "outputs": [],
   "source": [
    "\n",
    "image_mnist = [\n",
    "    0, 0, 0, 0, 0, 0, 0, 0, 0, 0, 0, 0, 0, 0, 0, 0, 0, 0, 0, 0, 0, 0, 0, 0, 0, 0, 0, 0,\n",
    "    0, 0, 0, 0, 0, 0, 0, 0, 0, 0, 0, 0, 0, 0, 0, 0, 0, 0, 0, 0, 0, 0, 0, 0, 0, 0, 0, 0,\n",
    "    0, 0, 0, 0, 0, 0, 0, 0, 0, 0, 0, 0, 0, 0, 0, 0, 0, 0, 0, 0, 0, 0, 0, 0, 0, 0, 0, 0,\n",
    "    0, 0, 0, 0, 0, 0, 0, 0, 0, 0, 0, 0, 0, 0, 0, 0, 0, 0, 0, 0, 0, 0, 0, 0, 0, 0, 0, 0,\n",
    "    0, 0, 0, 0, 0, 0, 0, 0, 0, 0, 10, 17, 17, 17, 17, 81, 180, 180, 35, 0, 0, 0, 0, 0, 0, 0, 0, 0,\n",
    "    0, 0, 0, 0, 0, 0, 0, 0, 0, 0, 139, 253, 253, 253, 253, 253, 253, 253, 48, 0, 0, 0, 0, 0, 0, 0, 0, 0,\n",
    "    0, 0, 0, 0, 0, 0, 0, 0, 0, 60, 228, 253, 253, 253, 253, 253, 253, 253, 207, 197, 46, 0, 0, 0, 0, 0, 0, 0,\n",
    "    0, 0, 0, 0, 0, 0, 0, 0, 0, 213, 253, 253, 253, 253, 253, 253, 253, 253, 253, 253, 223, 52, 0, 0, 0, 0, 0, 0,\n",
    "    0, 0, 0, 0, 0, 0, 0, 0, 0, 66, 231, 253, 253, 253, 108, 40, 40, 115, 244, 253, 253, 134, 3, 0, 0, 0, 0, 0,\n",
    "    0, 0, 0, 0, 0, 0, 0, 0, 0, 0, 63, 114, 114, 114, 37, 0, 0, 0, 205, 253, 253, 253, 15, 0, 0, 0, 0, 0,\n",
    "    0, 0, 0, 0, 0, 0, 0, 0, 0, 0, 0, 0, 0, 0, 0, 0, 0, 0, 57, 253, 253, 253, 15, 0, 0, 0, 0, 0,\n",
    "    0, 0, 0, 0, 0, 0, 0, 0, 0, 0, 0, 0, 0, 0, 0, 0, 0, 0, 42, 253, 253, 253, 15, 0, 0, 0, 0, 0,\n",
    "    0, 0, 0, 0, 0, 0, 0, 0, 0, 0, 0, 0, 0, 0, 0, 0, 0, 0, 95, 253, 253, 253, 15, 0, 0, 0, 0, 0,\n",
    "    0, 0, 0, 0, 0, 0, 0, 0, 0, 0, 0, 0, 0, 0, 0, 0, 0, 0, 205, 253, 253, 253, 15, 0, 0, 0, 0, 0,\n",
    "    0, 0, 0, 0, 0, 0, 0, 0, 0, 0, 0, 0, 61, 99, 96, 0, 0, 45, 224, 253, 253, 195, 10, 0, 0, 0, 0, 0,\n",
    "    0, 0, 0, 0, 0, 0, 11, 25, 105, 83, 189, 189, 228, 253, 251, 189, 189, 218, 253, 253, 210, 27, 0, 0, 0, 0, 0, 0,\n",
    "    0, 0, 0, 0, 42, 116, 173, 253, 253, 253, 253, 253, 253, 253, 253, 253, 253, 253, 253, 253, 221, 116, 7, 0, 0, 0, 0, 0,\n",
    "    0, 0, 0, 0, 118, 253, 253, 253, 253, 245, 212, 222, 253, 253, 253, 253, 253, 253, 253, 253, 253, 253, 160, 15, 0, 0, 0, 0,\n",
    "    0, 0, 0, 0, 254, 253, 253, 253, 189, 99, 0, 32, 202, 253, 253, 253, 240, 122, 122, 190, 253, 253, 253, 174, 0, 0, 0, 0,\n",
    "    0, 0, 0, 0, 255, 253, 253, 253, 238, 222, 222, 222, 241, 253, 253, 230, 70, 0, 0, 17, 175, 229, 253, 253, 0, 0, 0, 0,\n",
    "    0, 0, 0, 0, 158, 253, 253, 253, 253, 253, 253, 253, 253, 205, 106, 65, 0, 0, 0, 0, 0, 62, 244, 157, 0, 0, 0, 0,\n",
    "    0, 0, 0, 0, 6, 26, 179, 179, 179, 179, 179, 30, 15, 10, 0, 0, 0, 0, 0, 0, 0, 0, 14, 6, 0, 0, 0, 0,\n",
    "    0, 0, 0, 0, 0, 0, 0, 0, 0, 0, 0, 0, 0, 0, 0, 0, 0, 0, 0, 0, 0, 0, 0, 0, 0, 0, 0, 0,\n",
    "    0, 0, 0, 0, 0, 0, 0, 0, 0, 0, 0, 0, 0, 0, 0, 0, 0, 0, 0, 0, 0, 0, 0, 0, 0, 0, 0, 0,\n",
    "    0, 0, 0, 0, 0, 0, 0, 0, 0, 0, 0, 0, 0, 0, 0, 0, 0, 0, 0, 0, 0, 0, 0, 0, 0, 0, 0, 0,\n",
    "    0, 0, 0, 0, 0, 0, 0, 0, 0, 0, 0, 0, 0, 0, 0, 0, 0, 0, 0, 0, 0, 0, 0, 0, 0, 0, 0, 0,\n",
    "    0, 0, 0, 0, 0, 0, 0, 0, 0, 0, 0, 0, 0, 0, 0, 0, 0, 0, 0, 0, 0, 0, 0, 0, 0, 0, 0, 0,\n",
    "    0, 0, 0, 0, 0, 0, 0, 0, 0, 0, 0, 0, 0, 0, 0, 0, 0, 0, 0, 0, 0, 0, 0, 0, 0, 0, 0, 0\n",
    "]\n",
    "\n"
   ]
  },
  {
   "cell_type": "code",
   "execution_count": 58,
   "id": "fa303244",
   "metadata": {},
   "outputs": [
    {
     "data": {
      "text/plain": [
       "(784,)"
      ]
     },
     "execution_count": 58,
     "metadata": {},
     "output_type": "execute_result"
    }
   ],
   "source": [
    "np.array(image_mnist).shape"
   ]
  },
  {
   "cell_type": "code",
   "execution_count": 62,
   "id": "07cf0a93",
   "metadata": {},
   "outputs": [
    {
     "data": {
      "text/plain": [
       "28"
      ]
     },
     "execution_count": 62,
     "metadata": {},
     "output_type": "execute_result"
    }
   ],
   "source": [
    "round(np.array(image_mnist).shape[0] ** 0.5)"
   ]
  },
  {
   "cell_type": "code",
   "execution_count": 63,
   "id": "d59e4abc",
   "metadata": {},
   "outputs": [],
   "source": [
    "def mnist_data_converter(image_mnist) -> np.ndarray:\n",
    "    size = round(len(image_mnist) ** 0.5)\n",
    "    return np.array(image_mnist).reshape((size, -1))"
   ]
  },
  {
   "cell_type": "code",
   "execution_count": 64,
   "id": "17c0d582",
   "metadata": {},
   "outputs": [],
   "source": [
    "image = mnist_data_converter(image_mnist)"
   ]
  },
  {
   "cell_type": "code",
   "execution_count": 65,
   "id": "c674d215",
   "metadata": {},
   "outputs": [
    {
     "data": {
      "text/plain": [
       "array([[  0,   0,   0,   0,   0,   0,   0,   0,   0,   0,   0,   0,   0,\n",
       "          0,   0,   0,   0,   0,   0,   0,   0,   0,   0,   0,   0,   0,\n",
       "          0,   0],\n",
       "       [  0,   0,   0,   0,   0,   0,   0,   0,   0,   0,   0,   0,   0,\n",
       "          0,   0,   0,   0,   0,   0,   0,   0,   0,   0,   0,   0,   0,\n",
       "          0,   0],\n",
       "       [  0,   0,   0,   0,   0,   0,   0,   0,   0,   0,   0,   0,   0,\n",
       "          0,   0,   0,   0,   0,   0,   0,   0,   0,   0,   0,   0,   0,\n",
       "          0,   0],\n",
       "       [  0,   0,   0,   0,   0,   0,   0,   0,   0,   0,   0,   0,   0,\n",
       "          0,   0,   0,   0,   0,   0,   0,   0,   0,   0,   0,   0,   0,\n",
       "          0,   0],\n",
       "       [  0,   0,   0,   0,   0,   0,   0,   0,   0,   0,  10,  17,  17,\n",
       "         17,  17,  81, 180, 180,  35,   0,   0,   0,   0,   0,   0,   0,\n",
       "          0,   0],\n",
       "       [  0,   0,   0,   0,   0,   0,   0,   0,   0,   0, 139, 253, 253,\n",
       "        253, 253, 253, 253, 253,  48,   0,   0,   0,   0,   0,   0,   0,\n",
       "          0,   0],\n",
       "       [  0,   0,   0,   0,   0,   0,   0,   0,   0,  60, 228, 253, 253,\n",
       "        253, 253, 253, 253, 253, 207, 197,  46,   0,   0,   0,   0,   0,\n",
       "          0,   0],\n",
       "       [  0,   0,   0,   0,   0,   0,   0,   0,   0, 213, 253, 253, 253,\n",
       "        253, 253, 253, 253, 253, 253, 253, 223,  52,   0,   0,   0,   0,\n",
       "          0,   0],\n",
       "       [  0,   0,   0,   0,   0,   0,   0,   0,   0,  66, 231, 253, 253,\n",
       "        253, 108,  40,  40, 115, 244, 253, 253, 134,   3,   0,   0,   0,\n",
       "          0,   0],\n",
       "       [  0,   0,   0,   0,   0,   0,   0,   0,   0,   0,  63, 114, 114,\n",
       "        114,  37,   0,   0,   0, 205, 253, 253, 253,  15,   0,   0,   0,\n",
       "          0,   0],\n",
       "       [  0,   0,   0,   0,   0,   0,   0,   0,   0,   0,   0,   0,   0,\n",
       "          0,   0,   0,   0,   0,  57, 253, 253, 253,  15,   0,   0,   0,\n",
       "          0,   0],\n",
       "       [  0,   0,   0,   0,   0,   0,   0,   0,   0,   0,   0,   0,   0,\n",
       "          0,   0,   0,   0,   0,  42, 253, 253, 253,  15,   0,   0,   0,\n",
       "          0,   0],\n",
       "       [  0,   0,   0,   0,   0,   0,   0,   0,   0,   0,   0,   0,   0,\n",
       "          0,   0,   0,   0,   0,  95, 253, 253, 253,  15,   0,   0,   0,\n",
       "          0,   0],\n",
       "       [  0,   0,   0,   0,   0,   0,   0,   0,   0,   0,   0,   0,   0,\n",
       "          0,   0,   0,   0,   0, 205, 253, 253, 253,  15,   0,   0,   0,\n",
       "          0,   0],\n",
       "       [  0,   0,   0,   0,   0,   0,   0,   0,   0,   0,   0,   0,  61,\n",
       "         99,  96,   0,   0,  45, 224, 253, 253, 195,  10,   0,   0,   0,\n",
       "          0,   0],\n",
       "       [  0,   0,   0,   0,   0,   0,  11,  25, 105,  83, 189, 189, 228,\n",
       "        253, 251, 189, 189, 218, 253, 253, 210,  27,   0,   0,   0,   0,\n",
       "          0,   0],\n",
       "       [  0,   0,   0,   0,  42, 116, 173, 253, 253, 253, 253, 253, 253,\n",
       "        253, 253, 253, 253, 253, 253, 253, 221, 116,   7,   0,   0,   0,\n",
       "          0,   0],\n",
       "       [  0,   0,   0,   0, 118, 253, 253, 253, 253, 245, 212, 222, 253,\n",
       "        253, 253, 253, 253, 253, 253, 253, 253, 253, 160,  15,   0,   0,\n",
       "          0,   0],\n",
       "       [  0,   0,   0,   0, 254, 253, 253, 253, 189,  99,   0,  32, 202,\n",
       "        253, 253, 253, 240, 122, 122, 190, 253, 253, 253, 174,   0,   0,\n",
       "          0,   0],\n",
       "       [  0,   0,   0,   0, 255, 253, 253, 253, 238, 222, 222, 222, 241,\n",
       "        253, 253, 230,  70,   0,   0,  17, 175, 229, 253, 253,   0,   0,\n",
       "          0,   0],\n",
       "       [  0,   0,   0,   0, 158, 253, 253, 253, 253, 253, 253, 253, 253,\n",
       "        205, 106,  65,   0,   0,   0,   0,   0,  62, 244, 157,   0,   0,\n",
       "          0,   0],\n",
       "       [  0,   0,   0,   0,   6,  26, 179, 179, 179, 179, 179,  30,  15,\n",
       "         10,   0,   0,   0,   0,   0,   0,   0,   0,  14,   6,   0,   0,\n",
       "          0,   0],\n",
       "       [  0,   0,   0,   0,   0,   0,   0,   0,   0,   0,   0,   0,   0,\n",
       "          0,   0,   0,   0,   0,   0,   0,   0,   0,   0,   0,   0,   0,\n",
       "          0,   0],\n",
       "       [  0,   0,   0,   0,   0,   0,   0,   0,   0,   0,   0,   0,   0,\n",
       "          0,   0,   0,   0,   0,   0,   0,   0,   0,   0,   0,   0,   0,\n",
       "          0,   0],\n",
       "       [  0,   0,   0,   0,   0,   0,   0,   0,   0,   0,   0,   0,   0,\n",
       "          0,   0,   0,   0,   0,   0,   0,   0,   0,   0,   0,   0,   0,\n",
       "          0,   0],\n",
       "       [  0,   0,   0,   0,   0,   0,   0,   0,   0,   0,   0,   0,   0,\n",
       "          0,   0,   0,   0,   0,   0,   0,   0,   0,   0,   0,   0,   0,\n",
       "          0,   0],\n",
       "       [  0,   0,   0,   0,   0,   0,   0,   0,   0,   0,   0,   0,   0,\n",
       "          0,   0,   0,   0,   0,   0,   0,   0,   0,   0,   0,   0,   0,\n",
       "          0,   0],\n",
       "       [  0,   0,   0,   0,   0,   0,   0,   0,   0,   0,   0,   0,   0,\n",
       "          0,   0,   0,   0,   0,   0,   0,   0,   0,   0,   0,   0,   0,\n",
       "          0,   0]])"
      ]
     },
     "execution_count": 65,
     "metadata": {},
     "output_type": "execute_result"
    }
   ],
   "source": [
    "image"
   ]
  },
  {
   "cell_type": "code",
   "execution_count": 39,
   "id": "9c3eab7a",
   "metadata": {},
   "outputs": [],
   "source": [
    "def vec2word(code_array: list) -> np.ndarray:\n",
    "    code_rules = {\n",
    "        (0,2,1) : 'мама',\n",
    "        (1,3,0) : 'мыла',\n",
    "        (1,1,2) : 'раму'\n",
    "    }\n",
    "    word_len = len(next(iter(code_rules)))\n",
    "    np_code_array = np.array(code_array).reshape((-1, word_len))\n",
    "    return [code_rules[tuple(code)] for code in np_code_array]"
   ]
  },
  {
   "cell_type": "code",
   "execution_count": 40,
   "id": "2d9b0d45",
   "metadata": {},
   "outputs": [],
   "source": [
    "code_array = [1, 3, 0, 0, 2, 1, 0, 2, 1, 1, 1, 2, 1, 3, 0, 0, 2, 1]"
   ]
  },
  {
   "cell_type": "code",
   "execution_count": 41,
   "id": "f73c6d91",
   "metadata": {},
   "outputs": [
    {
     "data": {
      "text/plain": [
       "['мыла', 'мама', 'мама', 'раму', 'мыла', 'мама']"
      ]
     },
     "execution_count": 41,
     "metadata": {},
     "output_type": "execute_result"
    }
   ],
   "source": [
    "vec2word(code_array)"
   ]
  },
  {
   "cell_type": "markdown",
   "id": "b1b66385",
   "metadata": {},
   "source": [
    "### Упражнения"
   ]
  },
  {
   "cell_type": "code",
   "execution_count": 36,
   "id": "8313b9a5",
   "metadata": {},
   "outputs": [],
   "source": [
    "def create_weekly_sells_table(sells: list, number_of_shops=10):\n",
    "    return np.array(sells).reshape((-1,7,3))"
   ]
  },
  {
   "cell_type": "code",
   "execution_count": 37,
   "id": "dfe09764",
   "metadata": {},
   "outputs": [],
   "source": [
    "sells = [7, 6, 12, 5, 3, 3, 8, 11, 12, 9, 5, 7, 4, 3, 9, 10, 8, 6, 3, 15, 2,7, 6, 12, 5, 3, 3, 8, 11, 12, 9, 5, 7, 4, 3, 9, 10, 8, 6, 3, 15, 2]"
   ]
  },
  {
   "cell_type": "code",
   "execution_count": 38,
   "id": "f3a874ff",
   "metadata": {},
   "outputs": [
    {
     "data": {
      "text/plain": [
       "array([[[ 7,  6, 12],\n",
       "        [ 5,  3,  3],\n",
       "        [ 8, 11, 12],\n",
       "        [ 9,  5,  7],\n",
       "        [ 4,  3,  9],\n",
       "        [10,  8,  6],\n",
       "        [ 3, 15,  2]],\n",
       "\n",
       "       [[ 7,  6, 12],\n",
       "        [ 5,  3,  3],\n",
       "        [ 8, 11, 12],\n",
       "        [ 9,  5,  7],\n",
       "        [ 4,  3,  9],\n",
       "        [10,  8,  6],\n",
       "        [ 3, 15,  2]]])"
      ]
     },
     "execution_count": 38,
     "metadata": {},
     "output_type": "execute_result"
    }
   ],
   "source": [
    "create_weekly_sells_table(sells, 3)"
   ]
  },
  {
   "cell_type": "markdown",
   "id": "da87c5f8",
   "metadata": {},
   "source": [
    "## Переформатирование и слияние"
   ]
  },
  {
   "cell_type": "markdown",
   "id": "d407c9e0",
   "metadata": {},
   "source": [
    "### Одномерные структуры данных"
   ]
  },
  {
   "cell_type": "code",
   "execution_count": 42,
   "id": "a6386ff3",
   "metadata": {},
   "outputs": [],
   "source": [
    "arr1 = np.array([0, 1, 2, 3,])\n",
    "arr2 = np.array([4, 5, 6, 7])"
   ]
  },
  {
   "cell_type": "code",
   "execution_count": 44,
   "id": "779b20cc",
   "metadata": {},
   "outputs": [
    {
     "data": {
      "text/plain": [
       "array([0, 1, 2, 3, 4, 5, 6, 7])"
      ]
     },
     "execution_count": 44,
     "metadata": {},
     "output_type": "execute_result"
    }
   ],
   "source": [
    "np.concatenate([arr1, arr2])"
   ]
  },
  {
   "cell_type": "code",
   "execution_count": 46,
   "id": "a452f7a7",
   "metadata": {},
   "outputs": [
    {
     "data": {
      "text/plain": [
       "array([0, 1, 2, 3, 4, 5, 6, 7])"
      ]
     },
     "execution_count": 46,
     "metadata": {},
     "output_type": "execute_result"
    }
   ],
   "source": [
    "np.hstack([arr1, arr2])"
   ]
  },
  {
   "cell_type": "code",
   "execution_count": 47,
   "id": "3d18010e",
   "metadata": {},
   "outputs": [
    {
     "data": {
      "text/plain": [
       "array([[0, 1, 2, 3],\n",
       "       [4, 5, 6, 7]])"
      ]
     },
     "execution_count": 47,
     "metadata": {},
     "output_type": "execute_result"
    }
   ],
   "source": [
    "np.vstack([arr1, arr2])"
   ]
  },
  {
   "cell_type": "code",
   "execution_count": 48,
   "id": "0fdda83f",
   "metadata": {},
   "outputs": [
    {
     "data": {
      "text/plain": [
       "array([[0, 1, 2, 3],\n",
       "       [4, 5, 6, 7]])"
      ]
     },
     "execution_count": 48,
     "metadata": {},
     "output_type": "execute_result"
    }
   ],
   "source": [
    "np.array([arr1, arr2])"
   ]
  },
  {
   "cell_type": "code",
   "execution_count": 50,
   "id": "0d12e37c",
   "metadata": {},
   "outputs": [
    {
     "data": {
      "text/plain": [
       "array([[0, 4],\n",
       "       [1, 5],\n",
       "       [2, 6],\n",
       "       [3, 7]])"
      ]
     },
     "execution_count": 50,
     "metadata": {},
     "output_type": "execute_result"
    }
   ],
   "source": [
    "np.column_stack([arr1, arr2])"
   ]
  },
  {
   "cell_type": "code",
   "execution_count": 53,
   "id": "2f97ab08",
   "metadata": {},
   "outputs": [
    {
     "data": {
      "text/plain": [
       "array([[0, 4],\n",
       "       [1, 5],\n",
       "       [2, 6],\n",
       "       [3, 7]])"
      ]
     },
     "execution_count": 53,
     "metadata": {},
     "output_type": "execute_result"
    }
   ],
   "source": [
    "np.array(list(zip(arr1, arr2)))"
   ]
  },
  {
   "cell_type": "markdown",
   "id": "cffc88bb",
   "metadata": {},
   "source": [
    "### Двумерные структуры данных"
   ]
  },
  {
   "cell_type": "code",
   "execution_count": 54,
   "id": "21a0c8c3",
   "metadata": {},
   "outputs": [],
   "source": [
    "arr1 = np.array([[5, 8], [8, 9]])\n",
    "arr2 = np.array([[3, 1], [7, 2]])"
   ]
  },
  {
   "cell_type": "code",
   "execution_count": 55,
   "id": "c6391b9b",
   "metadata": {
    "scrolled": true
   },
   "outputs": [
    {
     "data": {
      "text/plain": [
       "array([[5, 8],\n",
       "       [8, 9],\n",
       "       [3, 1],\n",
       "       [7, 2]])"
      ]
     },
     "execution_count": 55,
     "metadata": {},
     "output_type": "execute_result"
    }
   ],
   "source": [
    "np.vstack([arr1, arr2])"
   ]
  },
  {
   "cell_type": "code",
   "execution_count": 57,
   "id": "b30dd324",
   "metadata": {},
   "outputs": [
    {
     "data": {
      "text/plain": [
       "array([[5, 8],\n",
       "       [8, 9],\n",
       "       [3, 1],\n",
       "       [7, 2]])"
      ]
     },
     "execution_count": 57,
     "metadata": {},
     "output_type": "execute_result"
    }
   ],
   "source": [
    "np.concatenate([arr1, arr2])"
   ]
  },
  {
   "cell_type": "code",
   "execution_count": 56,
   "id": "9ceaf4bc",
   "metadata": {},
   "outputs": [
    {
     "data": {
      "text/plain": [
       "array([[5, 8, 3, 1],\n",
       "       [8, 9, 7, 2]])"
      ]
     },
     "execution_count": 56,
     "metadata": {},
     "output_type": "execute_result"
    }
   ],
   "source": [
    "np.hstack([arr1, arr2])"
   ]
  },
  {
   "cell_type": "code",
   "execution_count": 58,
   "id": "396d9f93",
   "metadata": {},
   "outputs": [
    {
     "data": {
      "text/plain": [
       "array([[5, 8, 3, 1],\n",
       "       [8, 9, 7, 2]])"
      ]
     },
     "execution_count": 58,
     "metadata": {},
     "output_type": "execute_result"
    }
   ],
   "source": [
    "np.concatenate([arr1, arr2], axis = 1)"
   ]
  },
  {
   "cell_type": "markdown",
   "id": "94bbd65a",
   "metadata": {},
   "source": [
    "### Многомерные структуры данных"
   ]
  },
  {
   "cell_type": "code",
   "execution_count": 59,
   "id": "416b0a50",
   "metadata": {},
   "outputs": [],
   "source": [
    "response_values_day1 = np.array([7, 1, 7, 8])\n",
    "response_values_day2 = np.array([4, 2, 4, 5])\n",
    "response_values_day3 = np.array([3, 5, 2, 3])"
   ]
  },
  {
   "cell_type": "code",
   "execution_count": 64,
   "id": "f2f49261",
   "metadata": {},
   "outputs": [],
   "source": [
    "orders = np.vstack([\n",
    "    response_values_day1,\n",
    "    response_values_day2,\n",
    "    response_values_day3,\n",
    "])"
   ]
  },
  {
   "cell_type": "code",
   "execution_count": 65,
   "id": "f1a90f1b",
   "metadata": {},
   "outputs": [
    {
     "data": {
      "text/plain": [
       "array([[7, 1, 7, 8],\n",
       "       [4, 2, 4, 5],\n",
       "       [3, 5, 2, 3]])"
      ]
     },
     "execution_count": 65,
     "metadata": {},
     "output_type": "execute_result"
    }
   ],
   "source": [
    "orders"
   ]
  },
  {
   "cell_type": "code",
   "execution_count": 66,
   "id": "8f043a73",
   "metadata": {},
   "outputs": [
    {
     "data": {
      "text/plain": [
       "array([[7, 4, 3],\n",
       "       [1, 2, 5],\n",
       "       [7, 4, 2],\n",
       "       [8, 5, 3]])"
      ]
     },
     "execution_count": 66,
     "metadata": {},
     "output_type": "execute_result"
    }
   ],
   "source": [
    "orders.T"
   ]
  },
  {
   "cell_type": "markdown",
   "id": "8d72b77f",
   "metadata": {},
   "source": [
    "### Самостоятельная работа"
   ]
  },
  {
   "cell_type": "code",
   "execution_count": 1,
   "id": "1a9f6cff",
   "metadata": {},
   "outputs": [],
   "source": [
    "мама = (0,2,1)\n",
    "мыла = (1,3,0)\n",
    "раму = (1,1,2)"
   ]
  },
  {
   "cell_type": "code",
   "execution_count": 3,
   "id": "4486eb3c",
   "metadata": {},
   "outputs": [],
   "source": [
    "# получает на вход список слов и кодирует их в список чисел\n"
   ]
  },
  {
   "cell_type": "code",
   "execution_count": 37,
   "id": "dc4a44e8",
   "metadata": {},
   "outputs": [],
   "source": [
    "word_array = ['мыла', 'мама', 'мама', 'раму', 'мыла', 'мама']"
   ]
  },
  {
   "cell_type": "code",
   "execution_count": 38,
   "id": "b5d7b900",
   "metadata": {},
   "outputs": [
    {
     "data": {
      "text/plain": [
       "array([1, 3, 0, 0, 2, 1, 0, 2, 1, 1, 1, 2, 1, 3, 0, 0, 2, 1])"
      ]
     },
     "execution_count": 38,
     "metadata": {},
     "output_type": "execute_result"
    }
   ],
   "source": [
    "word2vec(word_array)"
   ]
  },
  {
   "cell_type": "code",
   "execution_count": 2,
   "id": "0e22a775",
   "metadata": {},
   "outputs": [],
   "source": [
    "# получает на вход список слов и кодирует их в матричное представление (массив numpy.ndarray)\n",
    "def word2matrix(word_array: list) -> np.ndarray:\n",
    "    word_codes = {\n",
    "        'мама': (0, 2, 1),\n",
    "        'мыла': (1, 3, 0),\n",
    "        'раму': (1, 1, 2)\n",
    "    }\n",
    "    codes_array = [word_codes[word] for word in word_array]\n",
    "    return np.vstack(codes_array)"
   ]
  },
  {
   "cell_type": "code",
   "execution_count": 43,
   "id": "e5cbbbf2",
   "metadata": {},
   "outputs": [
    {
     "data": {
      "text/plain": [
       "array([[1, 3, 0],\n",
       "       [0, 2, 1],\n",
       "       [0, 2, 1],\n",
       "       [1, 1, 2],\n",
       "       [1, 3, 0],\n",
       "       [0, 2, 1]])"
      ]
     },
     "execution_count": 43,
     "metadata": {},
     "output_type": "execute_result"
    }
   ],
   "source": [
    "word2matrix(word_array)    "
   ]
  },
  {
   "cell_type": "markdown",
   "id": "8df2765c",
   "metadata": {},
   "source": [
    "## Фильтрация значений и вырезание"
   ]
  },
  {
   "cell_type": "code",
   "execution_count": 28,
   "id": "1629b82d",
   "metadata": {},
   "outputs": [],
   "source": [
    " base_array = np.array([0, 1, 2, 3, 4, 5, 6, 7,])"
   ]
  },
  {
   "cell_type": "code",
   "execution_count": 29,
   "id": "dda53645",
   "metadata": {},
   "outputs": [
    {
     "data": {
      "text/plain": [
       "array([0, 1, 2])"
      ]
     },
     "execution_count": 29,
     "metadata": {},
     "output_type": "execute_result"
    }
   ],
   "source": [
    "base_array[base_array < 3]"
   ]
  },
  {
   "cell_type": "code",
   "execution_count": 30,
   "id": "113b6d73",
   "metadata": {},
   "outputs": [],
   "source": [
    "filtered_array = np.fromiter(\n",
    "    (base_array_element for base_array_element in base_array if base_array_element < 3),\n",
    "    dtype = base_array.dtype\n",
    ")"
   ]
  },
  {
   "cell_type": "code",
   "execution_count": 31,
   "id": "f05fadbb",
   "metadata": {},
   "outputs": [
    {
     "data": {
      "text/plain": [
       "array([0, 1, 2])"
      ]
     },
     "execution_count": 31,
     "metadata": {},
     "output_type": "execute_result"
    }
   ],
   "source": [
    "filtered_array"
   ]
  },
  {
   "cell_type": "code",
   "execution_count": 32,
   "id": "2ffbc6b6",
   "metadata": {},
   "outputs": [
    {
     "data": {
      "text/plain": [
       "array([0, 1, 2, 0, 0, 0, 0, 0])"
      ]
     },
     "execution_count": 32,
     "metadata": {},
     "output_type": "execute_result"
    }
   ],
   "source": [
    "np.where(base_array < 3, base_array, 0)"
   ]
  },
  {
   "cell_type": "code",
   "execution_count": 33,
   "id": "75faf77e",
   "metadata": {},
   "outputs": [
    {
     "data": {
      "text/plain": [
       "array([0, 1, 2, 0, 0, 0, 6, 7])"
      ]
     },
     "execution_count": 33,
     "metadata": {},
     "output_type": "execute_result"
    }
   ],
   "source": [
    "compare_masks = (base_array > 5) | (base_array < 3)\n",
    "np.where(compare_masks, base_array, 0)"
   ]
  },
  {
   "cell_type": "code",
   "execution_count": 34,
   "id": "fff98da2",
   "metadata": {},
   "outputs": [
    {
     "data": {
      "text/plain": [
       "array([ 0.,  1., nan,  3.,  4., nan,  6.,  7.])"
      ]
     },
     "execution_count": 34,
     "metadata": {},
     "output_type": "execute_result"
    }
   ],
   "source": [
    "raw_array = np.array([0, 1, None, 3, 4, None, 6, 7,], dtype=np.float64)\n",
    "raw_array"
   ]
  },
  {
   "cell_type": "code",
   "execution_count": 35,
   "id": "a4b9a585",
   "metadata": {},
   "outputs": [],
   "source": [
    "nan_mask = np.isnan(raw_array)"
   ]
  },
  {
   "cell_type": "code",
   "execution_count": 36,
   "id": "227de39a",
   "metadata": {},
   "outputs": [
    {
     "data": {
      "text/plain": [
       "array([0., 1., 3., 4., 6., 7.])"
      ]
     },
     "execution_count": 36,
     "metadata": {},
     "output_type": "execute_result"
    }
   ],
   "source": [
    "raw_array[~nan_mask]"
   ]
  },
  {
   "cell_type": "code",
   "execution_count": 39,
   "id": "42e5f9ec",
   "metadata": {},
   "outputs": [
    {
     "data": {
      "text/plain": [
       "array([0., 1., 3., 4., 6., 7.])"
      ]
     },
     "execution_count": 39,
     "metadata": {},
     "output_type": "execute_result"
    }
   ],
   "source": [
    "raw_array[~np.isnan(raw_array)]"
   ]
  },
  {
   "cell_type": "code",
   "execution_count": 40,
   "id": "2d058ef3",
   "metadata": {},
   "outputs": [
    {
     "data": {
      "text/plain": [
       "array([0., 1., 0., 3., 4., 0., 6., 7.])"
      ]
     },
     "execution_count": 40,
     "metadata": {},
     "output_type": "execute_result"
    }
   ],
   "source": [
    "np.where(np.isnan(raw_array), 0, raw_array)"
   ]
  },
  {
   "cell_type": "code",
   "execution_count": 41,
   "id": "d9cb77e1",
   "metadata": {},
   "outputs": [],
   "source": [
    "orders_values =  [\n",
    "    [7, 1, -7, None],\n",
    "    [1000, 2, 4, None],\n",
    "    [3, None, 503, 3],\n",
    "    [8, 12, 8, 7],\n",
    "    [15, 11, None, 9],\n",
    "    [None, 18, 17, -21],\n",
    "    [252, 16, 25, 17]\n",
    "]"
   ]
  },
  {
   "cell_type": "code",
   "execution_count": 50,
   "id": "9084d589",
   "metadata": {
    "scrolled": true
   },
   "outputs": [
    {
     "data": {
      "text/plain": [
       "array([[   7.,    1.,   -7.,   nan],\n",
       "       [1000.,    2.,    4.,   nan],\n",
       "       [   3.,   nan,  503.,    3.],\n",
       "       [   8.,   12.,    8.,    7.],\n",
       "       [  15.,   11.,   nan,    9.],\n",
       "       [  nan,   18.,   17.,  -21.],\n",
       "       [ 252.,   16.,   25.,   17.]])"
      ]
     },
     "execution_count": 50,
     "metadata": {},
     "output_type": "execute_result"
    }
   ],
   "source": [
    "orders = np.array(orders_values, dtype=np.float64)\n",
    "orders"
   ]
  },
  {
   "cell_type": "code",
   "execution_count": 51,
   "id": "34694164",
   "metadata": {},
   "outputs": [
    {
     "name": "stdout",
     "output_type": "stream",
     "text": [
      "[[   7.    1.   -7.   nan]\n",
      " [1000.    2.    4.   nan]\n",
      " [   3.   nan  503.    3.]\n",
      " [   8.   12.    8.    7.]\n",
      " [  15.   11.   nan    9.]\n",
      " [  nan   18.   17.  -21.]\n",
      " [ 252.   16.   25.   17.]]\n"
     ]
    }
   ],
   "source": [
    "print(orders)"
   ]
  },
  {
   "cell_type": "code",
   "execution_count": 52,
   "id": "0dfe22c4",
   "metadata": {},
   "outputs": [],
   "source": [
    "negative_values = orders < 0\n",
    "big_values = orders > 200\n",
    "nan_values = np.isnan(orders)"
   ]
  },
  {
   "cell_type": "code",
   "execution_count": 53,
   "id": "3f97ad4a",
   "metadata": {},
   "outputs": [],
   "source": [
    "normal_mask = ~negative_values & ~big_values & ~nan_values"
   ]
  },
  {
   "cell_type": "code",
   "execution_count": 54,
   "id": "18d85858",
   "metadata": {},
   "outputs": [
    {
     "data": {
      "text/plain": [
       "array([[ True,  True, False, False],\n",
       "       [False,  True,  True, False],\n",
       "       [ True, False, False,  True],\n",
       "       [ True,  True,  True,  True],\n",
       "       [ True,  True, False,  True],\n",
       "       [False,  True,  True, False],\n",
       "       [False,  True,  True,  True]])"
      ]
     },
     "execution_count": 54,
     "metadata": {},
     "output_type": "execute_result"
    }
   ],
   "source": [
    "normal_mask"
   ]
  },
  {
   "cell_type": "code",
   "execution_count": 55,
   "id": "a0ca4948",
   "metadata": {},
   "outputs": [],
   "source": [
    "normal_values = orders[normal_mask]"
   ]
  },
  {
   "cell_type": "code",
   "execution_count": 56,
   "id": "af589a70",
   "metadata": {},
   "outputs": [
    {
     "data": {
      "text/plain": [
       "array([ 7.,  1.,  2.,  4.,  3.,  3.,  8., 12.,  8.,  7., 15., 11.,  9.,\n",
       "       18., 17., 16., 25., 17.])"
      ]
     },
     "execution_count": 56,
     "metadata": {},
     "output_type": "execute_result"
    }
   ],
   "source": [
    "normal_values"
   ]
  },
  {
   "cell_type": "code",
   "execution_count": 59,
   "id": "6ec3ac0d",
   "metadata": {},
   "outputs": [],
   "source": [
    "normal_mean = int(normal_values.mean())"
   ]
  },
  {
   "cell_type": "code",
   "execution_count": 60,
   "id": "f4f8acd8",
   "metadata": {},
   "outputs": [
    {
     "data": {
      "text/plain": [
       "10"
      ]
     },
     "execution_count": 60,
     "metadata": {},
     "output_type": "execute_result"
    }
   ],
   "source": [
    "normal_mean"
   ]
  },
  {
   "cell_type": "code",
   "execution_count": 62,
   "id": "22b14142",
   "metadata": {},
   "outputs": [
    {
     "data": {
      "text/plain": [
       "array([[ 7.,  1., 10., 10.],\n",
       "       [10.,  2.,  4., 10.],\n",
       "       [ 3., 10., 10.,  3.],\n",
       "       [ 8., 12.,  8.,  7.],\n",
       "       [15., 11., 10.,  9.],\n",
       "       [10., 18., 17., 10.],\n",
       "       [10., 16., 25., 17.]])"
      ]
     },
     "execution_count": 62,
     "metadata": {},
     "output_type": "execute_result"
    }
   ],
   "source": [
    "np.where(normal_mask, orders, normal_mean)"
   ]
  },
  {
   "cell_type": "code",
   "execution_count": 63,
   "id": "5fdaaec4",
   "metadata": {},
   "outputs": [
    {
     "data": {
      "text/plain": [
       "array([[   7.,    1.,   -7.,   nan],\n",
       "       [1000.,    2.,    4.,   nan],\n",
       "       [   3.,   nan,  503.,    3.],\n",
       "       [   8.,   12.,    8.,    7.],\n",
       "       [  15.,   11.,   nan,    9.],\n",
       "       [  nan,   18.,   17.,  -21.],\n",
       "       [ 252.,   16.,   25.,   17.]])"
      ]
     },
     "execution_count": 63,
     "metadata": {},
     "output_type": "execute_result"
    }
   ],
   "source": [
    "orders"
   ]
  },
  {
   "cell_type": "code",
   "execution_count": 65,
   "id": "42b3eb3c",
   "metadata": {},
   "outputs": [
    {
     "data": {
      "text/plain": [
       "array([[ 7.,  1., 10., 10.],\n",
       "       [10.,  2.,  4., 10.],\n",
       "       [ 3., 10., 10.,  3.],\n",
       "       [ 8., 12.,  8.,  7.],\n",
       "       [15., 11., 10.,  9.],\n",
       "       [10., 18., 17., 10.],\n",
       "       [10., 16., 25., 17.]])"
      ]
     },
     "execution_count": 65,
     "metadata": {},
     "output_type": "execute_result"
    }
   ],
   "source": [
    "np.where(~normal_mask, normal_mean, orders)"
   ]
  },
  {
   "cell_type": "code",
   "execution_count": 66,
   "id": "7232bab3",
   "metadata": {},
   "outputs": [
    {
     "data": {
      "text/plain": [
       "array([[ 7.,  1., 10., 10.],\n",
       "       [10.,  2.,  4., 10.],\n",
       "       [ 3., 10., 10.,  3.],\n",
       "       [ 8., 12.,  8.,  7.],\n",
       "       [15., 11., 10.,  9.],\n",
       "       [10., 18., 17., 10.],\n",
       "       [10., 16., 25., 17.]])"
      ]
     },
     "execution_count": 66,
     "metadata": {},
     "output_type": "execute_result"
    }
   ],
   "source": [
    "np.where(normal_mask, orders, normal_mean)"
   ]
  },
  {
   "cell_type": "markdown",
   "id": "8f5825b2",
   "metadata": {},
   "source": [
    "### Самостоятельная работа"
   ]
  },
  {
   "cell_type": "code",
   "execution_count": 5,
   "id": "b840916d",
   "metadata": {},
   "outputs": [
    {
     "data": {
      "text/plain": [
       "array([[ 319., -265.,  319.,  328.],\n",
       "       [ 292.,  274.,  292.,  301.],\n",
       "       [ 283.,  301.,  274.,  283.],\n",
       "       [ 328.,  364.,  328.,   nan],\n",
       "       [ 391.,  355.,  373.,  337.],\n",
       "       [ 445.,  418.,  409.,  445.],\n",
       "       [ 481.,  400.,  481.,  409.],\n",
       "       [  nan,  267.,  333.,  344.],\n",
       "       [ 300.,  278.,  300.,  311.],\n",
       "       [ 289.,  311., -278.,  289.],\n",
       "       [ 344.,  388.,  344.,  333.],\n",
       "       [ 421.,  377.,  399.,  355.],\n",
       "       [ 487.,  454., -443.,  487.],\n",
       "       [ 531.,  432.,  531.,  443.],\n",
       "       [ 312.,  264.,  312.,  320.],\n",
       "       [ 288.,   nan,  288.,  296.],\n",
       "       [ 280.,  296.,  272., -280.],\n",
       "       [ 320.,  352.,  320.,  312.],\n",
       "       [ 376.,  344.,  360.,  328.],\n",
       "       [-424.,  400.,  392.,  424.],\n",
       "       [ 456.,  384.,  456.,  392.],\n",
       "       [ 347.,  269.,  347.,  360.],\n",
       "       [ 308.,  282.,  308.,  321.],\n",
       "       [ 295.,  321.,  282.,   nan],\n",
       "       [ 360.,  412.,  360.,  347.],\n",
       "       [  nan,  399.,  425.,  373.],\n",
       "       [ 529.,  490.,  477.,  529.],\n",
       "       [ 581.,  464.,  581., -477.]])"
      ]
     },
     "execution_count": 5,
     "metadata": {},
     "output_type": "execute_result"
    }
   ],
   "source": [
    "\n",
    "\n",
    "clicks_values =  [\n",
    "    [319, -265, 319, 328],\n",
    "    [292, 274, 292, 301],\n",
    "    [283, 301, 274, 283],\n",
    "    [328, 364, 328, None],\n",
    "    [391, 355, 373, 337],\n",
    "    [445, 418, 409, 445],\n",
    "    [481, 400, 481, 409],\n",
    "    [None, 267, 333, 344],\n",
    "    [300, 278, 300, 311],\n",
    "    [289, 311, -278, 289],\n",
    "    [344, 388, 344, 333],\n",
    "    [421, 377, 399, 355],\n",
    "    [487, 454, -443, 487],\n",
    "    [531, 432, 531, 443],\n",
    "    [312, 264, 312, 320],\n",
    "    [288, None, 288, 296],\n",
    "    [280, 296, 272, -280],\n",
    "    [320, 352, 320, 312],\n",
    "    [376, 344, 360, 328],\n",
    "    [-424, 400, 392, 424],\n",
    "    [456, 384, 456, 392],\n",
    "    [347, 269, 347, 360],\n",
    "    [308, 282, 308, 321],\n",
    "    [295, 321, 282, None],\n",
    "    [360, 412, 360, 347],\n",
    "    [None, 399, 425, 373],\n",
    "    [529, 490, 477, 529],\n",
    "    [581, 464, 581, -477]\n",
    "]\n",
    "\n",
    "clicks_values = np.array(clicks_values, dtype=np.float64)\n",
    "clicks_values"
   ]
  },
  {
   "cell_type": "code",
   "execution_count": 43,
   "id": "005e02c3",
   "metadata": {},
   "outputs": [],
   "source": [
    "# возвращает количество отрицательных значений в данных\n",
    "def get_negative_values_number(clicks_values: np.ndarray):\n",
    "    negative_values_mask = clicks_values < 0\n",
    "    return negative_values_mask.sum()"
   ]
  },
  {
   "cell_type": "code",
   "execution_count": 44,
   "id": "d1c4003d",
   "metadata": {},
   "outputs": [
    {
     "data": {
      "text/plain": [
       "6"
      ]
     },
     "execution_count": 44,
     "metadata": {},
     "output_type": "execute_result"
    }
   ],
   "source": [
    "get_negative_values_number(clicks_values)"
   ]
  },
  {
   "cell_type": "code",
   "execution_count": 35,
   "id": "66b22c1c",
   "metadata": {},
   "outputs": [],
   "source": [
    "# возвращает количество пропусков (np.nan) значений в данных\n",
    "def get_nan_values_number(clicks_values: np.ndarray):\n",
    "    nan_values_mask = (np.isnan(clicks_values))\n",
    "    return nan_values_mask.sum()"
   ]
  },
  {
   "cell_type": "code",
   "execution_count": 36,
   "id": "18e35ebe",
   "metadata": {},
   "outputs": [
    {
     "data": {
      "text/plain": [
       "5"
      ]
     },
     "execution_count": 36,
     "metadata": {},
     "output_type": "execute_result"
    }
   ],
   "source": [
    "get_nan_values_number(clicks_values)"
   ]
  },
  {
   "cell_type": "code",
   "execution_count": 51,
   "id": "1db8c12f",
   "metadata": {},
   "outputs": [],
   "source": [
    "# возвращает массив с исправленными отрицательными значениями на абсолютные\n",
    "def fillneg_values_number(clicks_values: np.ndarray):\n",
    "    return np.where(clicks_values < 0, -clicks_values, clicks_values)"
   ]
  },
  {
   "cell_type": "code",
   "execution_count": 52,
   "id": "0f3498a2",
   "metadata": {},
   "outputs": [
    {
     "data": {
      "text/plain": [
       "array([[319., 265., 319., 328.],\n",
       "       [292., 274., 292., 301.],\n",
       "       [283., 301., 274., 283.],\n",
       "       [328., 364., 328.,  nan],\n",
       "       [391., 355., 373., 337.],\n",
       "       [445., 418., 409., 445.],\n",
       "       [481., 400., 481., 409.],\n",
       "       [ nan, 267., 333., 344.],\n",
       "       [300., 278., 300., 311.],\n",
       "       [289., 311., 278., 289.],\n",
       "       [344., 388., 344., 333.],\n",
       "       [421., 377., 399., 355.],\n",
       "       [487., 454., 443., 487.],\n",
       "       [531., 432., 531., 443.],\n",
       "       [312., 264., 312., 320.],\n",
       "       [288.,  nan, 288., 296.],\n",
       "       [280., 296., 272., 280.],\n",
       "       [320., 352., 320., 312.],\n",
       "       [376., 344., 360., 328.],\n",
       "       [424., 400., 392., 424.],\n",
       "       [456., 384., 456., 392.],\n",
       "       [347., 269., 347., 360.],\n",
       "       [308., 282., 308., 321.],\n",
       "       [295., 321., 282.,  nan],\n",
       "       [360., 412., 360., 347.],\n",
       "       [ nan, 399., 425., 373.],\n",
       "       [529., 490., 477., 529.],\n",
       "       [581., 464., 581., 477.]])"
      ]
     },
     "execution_count": 52,
     "metadata": {},
     "output_type": "execute_result"
    }
   ],
   "source": [
    "fillneg_values_number(clicks_values)"
   ]
  },
  {
   "cell_type": "code",
   "execution_count": 53,
   "id": "a3983b68",
   "metadata": {},
   "outputs": [],
   "source": [
    "# возвращает массив где пропуски заполнены нулями\n",
    "def fill_nan_values(clicks_values: np.ndarray):\n",
    "    return np.where(np.isnan(clicks_values), 0, clicks_values)"
   ]
  },
  {
   "cell_type": "code",
   "execution_count": 54,
   "id": "c83aebb3",
   "metadata": {},
   "outputs": [
    {
     "data": {
      "text/plain": [
       "array([[ 319., -265.,  319.,  328.],\n",
       "       [ 292.,  274.,  292.,  301.],\n",
       "       [ 283.,  301.,  274.,  283.],\n",
       "       [ 328.,  364.,  328.,    0.],\n",
       "       [ 391.,  355.,  373.,  337.],\n",
       "       [ 445.,  418.,  409.,  445.],\n",
       "       [ 481.,  400.,  481.,  409.],\n",
       "       [   0.,  267.,  333.,  344.],\n",
       "       [ 300.,  278.,  300.,  311.],\n",
       "       [ 289.,  311., -278.,  289.],\n",
       "       [ 344.,  388.,  344.,  333.],\n",
       "       [ 421.,  377.,  399.,  355.],\n",
       "       [ 487.,  454., -443.,  487.],\n",
       "       [ 531.,  432.,  531.,  443.],\n",
       "       [ 312.,  264.,  312.,  320.],\n",
       "       [ 288.,    0.,  288.,  296.],\n",
       "       [ 280.,  296.,  272., -280.],\n",
       "       [ 320.,  352.,  320.,  312.],\n",
       "       [ 376.,  344.,  360.,  328.],\n",
       "       [-424.,  400.,  392.,  424.],\n",
       "       [ 456.,  384.,  456.,  392.],\n",
       "       [ 347.,  269.,  347.,  360.],\n",
       "       [ 308.,  282.,  308.,  321.],\n",
       "       [ 295.,  321.,  282.,    0.],\n",
       "       [ 360.,  412.,  360.,  347.],\n",
       "       [   0.,  399.,  425.,  373.],\n",
       "       [ 529.,  490.,  477.,  529.],\n",
       "       [ 581.,  464.,  581., -477.]])"
      ]
     },
     "execution_count": 54,
     "metadata": {},
     "output_type": "execute_result"
    }
   ],
   "source": [
    "fillneg_values_number(clicks_values)"
   ]
  },
  {
   "cell_type": "markdown",
   "id": "4364832e",
   "metadata": {},
   "source": [
    "### Упражнения"
   ]
  },
  {
   "cell_type": "markdown",
   "id": "bbb8c6a1",
   "metadata": {},
   "source": [
    "## Быстрые поэлементные операции"
   ]
  },
  {
   "cell_type": "code",
   "execution_count": 2,
   "id": "a4b62e45",
   "metadata": {},
   "outputs": [],
   "source": [
    "arr1 = np.array([0, 1, 2, 3, 4, 5, 6, 7])"
   ]
  },
  {
   "cell_type": "code",
   "execution_count": 3,
   "id": "06570524",
   "metadata": {},
   "outputs": [
    {
     "data": {
      "text/plain": [
       "array([ 5,  6,  7,  8,  9, 10, 11, 12])"
      ]
     },
     "execution_count": 3,
     "metadata": {},
     "output_type": "execute_result"
    }
   ],
   "source": [
    "arr1 + 5"
   ]
  },
  {
   "cell_type": "code",
   "execution_count": 4,
   "id": "fceb8267",
   "metadata": {},
   "outputs": [],
   "source": [
    "matrix_array = np.array([[5, 8], [8, 9]])\n",
    "vector_array = np.array([1, 2])"
   ]
  },
  {
   "cell_type": "code",
   "execution_count": 5,
   "id": "da0a09f8",
   "metadata": {},
   "outputs": [
    {
     "data": {
      "text/plain": [
       "array([[ 6, 10],\n",
       "       [ 9, 11]])"
      ]
     },
     "execution_count": 5,
     "metadata": {},
     "output_type": "execute_result"
    }
   ],
   "source": [
    "matrix_array + vector_array"
   ]
  },
  {
   "cell_type": "code",
   "execution_count": 6,
   "id": "492cf831",
   "metadata": {},
   "outputs": [],
   "source": [
    "arr1 = [0, 1, 2, 3, 4, 5, 6, 7]\n",
    "change_array_value = 5\n",
    "arr2 = [2, 2, 2, 2, -1, -1, -1, -1]"
   ]
  },
  {
   "cell_type": "code",
   "execution_count": 7,
   "id": "67b6cf40",
   "metadata": {},
   "outputs": [],
   "source": [
    "# sum_ = list(zip(sum() for ))"
   ]
  },
  {
   "cell_type": "code",
   "execution_count": 8,
   "id": "deaa26b8",
   "metadata": {},
   "outputs": [
    {
     "data": {
      "text/plain": [
       "[(0, 2), (1, 2), (2, 2), (3, 2), (4, -1), (5, -1), (6, -1), (7, -1)]"
      ]
     },
     "execution_count": 8,
     "metadata": {},
     "output_type": "execute_result"
    }
   ],
   "source": [
    "list(zip(arr1, arr2))"
   ]
  },
  {
   "cell_type": "code",
   "execution_count": 9,
   "id": "24da3a7f",
   "metadata": {},
   "outputs": [
    {
     "data": {
      "text/plain": [
       "[2, 3, 4, 5, 3, 4, 5, 6]"
      ]
     },
     "execution_count": 9,
     "metadata": {},
     "output_type": "execute_result"
    }
   ],
   "source": [
    "list(sum(e) for e in zip(arr1, arr2))"
   ]
  },
  {
   "cell_type": "code",
   "execution_count": 10,
   "id": "2da45be5",
   "metadata": {},
   "outputs": [
    {
     "data": {
      "text/plain": [
       "[2, 3, 4, 5, 3, 4, 5, 6]"
      ]
     },
     "execution_count": 10,
     "metadata": {},
     "output_type": "execute_result"
    }
   ],
   "source": [
    "list(e1 + e2 for e1, e2 in zip(arr1, arr2))"
   ]
  },
  {
   "cell_type": "code",
   "execution_count": 11,
   "id": "4266b33c",
   "metadata": {},
   "outputs": [],
   "source": [
    "arr1 = np.array([[5, 8], [8, 9]])\n",
    "arr2 = np.array([[3, 1], [7, 2]])"
   ]
  },
  {
   "cell_type": "code",
   "execution_count": 12,
   "id": "103c2580",
   "metadata": {},
   "outputs": [
    {
     "data": {
      "text/plain": [
       "array([[5, 8],\n",
       "       [8, 9]])"
      ]
     },
     "execution_count": 12,
     "metadata": {},
     "output_type": "execute_result"
    }
   ],
   "source": [
    "arr1"
   ]
  },
  {
   "cell_type": "code",
   "execution_count": 13,
   "id": "66fb5407",
   "metadata": {},
   "outputs": [
    {
     "data": {
      "text/plain": [
       "array([[3, 1],\n",
       "       [7, 2]])"
      ]
     },
     "execution_count": 13,
     "metadata": {},
     "output_type": "execute_result"
    }
   ],
   "source": [
    "arr2"
   ]
  },
  {
   "cell_type": "code",
   "execution_count": 14,
   "id": "b9fa4879",
   "metadata": {},
   "outputs": [
    {
     "data": {
      "text/plain": [
       "array([[15,  8],\n",
       "       [56, 18]])"
      ]
     },
     "execution_count": 14,
     "metadata": {},
     "output_type": "execute_result"
    }
   ],
   "source": [
    "arr1 * arr2"
   ]
  },
  {
   "cell_type": "markdown",
   "id": "ad8d1fa2",
   "metadata": {},
   "source": [
    "### Как это работает на практике"
   ]
  },
  {
   "cell_type": "code",
   "execution_count": 17,
   "id": "5c37a16e",
   "metadata": {},
   "outputs": [],
   "source": [
    "orders =  [\n",
    "    [7, 1, 7, 8],\n",
    "    [4, 2, 4, 5],\n",
    "    [3, 5, 2, 3],\n",
    "    [8, 12, 8, 7],\n",
    "    [15, 11, 13, 9],\n",
    "    [21, 18, 17, 21],\n",
    "    [25, 16, 25, 17]\n",
    "]\n",
    "\n",
    "orders = np.array(orders)"
   ]
  },
  {
   "cell_type": "code",
   "execution_count": 18,
   "id": "ca1a8487",
   "metadata": {},
   "outputs": [],
   "source": [
    "mean_order = orders.mean()"
   ]
  },
  {
   "cell_type": "code",
   "execution_count": 19,
   "id": "8984fcc9",
   "metadata": {},
   "outputs": [
    {
     "data": {
      "text/plain": [
       "10.5"
      ]
     },
     "execution_count": 19,
     "metadata": {},
     "output_type": "execute_result"
    }
   ],
   "source": [
    "mean_order"
   ]
  },
  {
   "cell_type": "code",
   "execution_count": 20,
   "id": "8bc78232",
   "metadata": {},
   "outputs": [
    {
     "data": {
      "text/plain": [
       "array([[-3.5, -9.5, -3.5, -2.5],\n",
       "       [-6.5, -8.5, -6.5, -5.5],\n",
       "       [-7.5, -5.5, -8.5, -7.5],\n",
       "       [-2.5,  1.5, -2.5, -3.5],\n",
       "       [ 4.5,  0.5,  2.5, -1.5],\n",
       "       [10.5,  7.5,  6.5, 10.5],\n",
       "       [14.5,  5.5, 14.5,  6.5]])"
      ]
     },
     "execution_count": 20,
     "metadata": {},
     "output_type": "execute_result"
    }
   ],
   "source": [
    "orders - mean_order"
   ]
  },
  {
   "cell_type": "code",
   "execution_count": 35,
   "id": "944b4485",
   "metadata": {},
   "outputs": [],
   "source": [
    "mean_by_shops = np.array([orders[:,i].mean() for i in range(4)])"
   ]
  },
  {
   "cell_type": "code",
   "execution_count": 36,
   "id": "46a98af2",
   "metadata": {},
   "outputs": [
    {
     "data": {
      "text/plain": [
       "array([11.85714286,  9.28571429, 10.85714286, 10.        ])"
      ]
     },
     "execution_count": 36,
     "metadata": {},
     "output_type": "execute_result"
    }
   ],
   "source": [
    "mean_by_shops"
   ]
  },
  {
   "cell_type": "code",
   "execution_count": 37,
   "id": "f57cde49",
   "metadata": {},
   "outputs": [
    {
     "data": {
      "text/plain": [
       "array([[-4.85714286, -8.28571429, -3.85714286, -2.        ],\n",
       "       [-7.85714286, -7.28571429, -6.85714286, -5.        ],\n",
       "       [-8.85714286, -4.28571429, -8.85714286, -7.        ],\n",
       "       [-3.85714286,  2.71428571, -2.85714286, -3.        ],\n",
       "       [ 3.14285714,  1.71428571,  2.14285714, -1.        ],\n",
       "       [ 9.14285714,  8.71428571,  6.14285714, 11.        ],\n",
       "       [13.14285714,  6.71428571, 14.14285714,  7.        ]])"
      ]
     },
     "execution_count": 37,
     "metadata": {},
     "output_type": "execute_result"
    }
   ],
   "source": [
    "orders - mean_by_shops"
   ]
  },
  {
   "cell_type": "code",
   "execution_count": 38,
   "id": "1fffeb27",
   "metadata": {},
   "outputs": [],
   "source": [
    "mean_by_shop = orders.mean(axis=0)"
   ]
  },
  {
   "cell_type": "code",
   "execution_count": 39,
   "id": "297295f1",
   "metadata": {},
   "outputs": [
    {
     "data": {
      "text/plain": [
       "array([11.85714286,  9.28571429, 10.85714286, 10.        ])"
      ]
     },
     "execution_count": 39,
     "metadata": {},
     "output_type": "execute_result"
    }
   ],
   "source": [
    "mean_by_shop"
   ]
  },
  {
   "cell_type": "code",
   "execution_count": 40,
   "id": "ba19b61d",
   "metadata": {},
   "outputs": [
    {
     "data": {
      "text/plain": [
       "array([[-4.85714286, -8.28571429, -3.85714286, -2.        ],\n",
       "       [-7.85714286, -7.28571429, -6.85714286, -5.        ],\n",
       "       [-8.85714286, -4.28571429, -8.85714286, -7.        ],\n",
       "       [-3.85714286,  2.71428571, -2.85714286, -3.        ],\n",
       "       [ 3.14285714,  1.71428571,  2.14285714, -1.        ],\n",
       "       [ 9.14285714,  8.71428571,  6.14285714, 11.        ],\n",
       "       [13.14285714,  6.71428571, 14.14285714,  7.        ]])"
      ]
     },
     "execution_count": 40,
     "metadata": {},
     "output_type": "execute_result"
    }
   ],
   "source": [
    "orders - mean_by_shop"
   ]
  },
  {
   "cell_type": "code",
   "execution_count": 46,
   "id": "aefb9817",
   "metadata": {},
   "outputs": [],
   "source": [
    "mean_by_day = mean_by_day.reshape((7,1))"
   ]
  },
  {
   "cell_type": "code",
   "execution_count": 47,
   "id": "642d4c5a",
   "metadata": {},
   "outputs": [
    {
     "data": {
      "text/plain": [
       "array([[ 5.75],\n",
       "       [ 3.75],\n",
       "       [ 3.25],\n",
       "       [ 8.75],\n",
       "       [12.  ],\n",
       "       [19.25],\n",
       "       [20.75]])"
      ]
     },
     "execution_count": 47,
     "metadata": {},
     "output_type": "execute_result"
    }
   ],
   "source": [
    "mean_by_day"
   ]
  },
  {
   "cell_type": "code",
   "execution_count": 48,
   "id": "61c4d830",
   "metadata": {},
   "outputs": [
    {
     "data": {
      "text/plain": [
       "array([[ 1.25, -4.75,  1.25,  2.25],\n",
       "       [ 0.25, -1.75,  0.25,  1.25],\n",
       "       [-0.25,  1.75, -1.25, -0.25],\n",
       "       [-0.75,  3.25, -0.75, -1.75],\n",
       "       [ 3.  , -1.  ,  1.  , -3.  ],\n",
       "       [ 1.75, -1.25, -2.25,  1.75],\n",
       "       [ 4.25, -4.75,  4.25, -3.75]])"
      ]
     },
     "execution_count": 48,
     "metadata": {},
     "output_type": "execute_result"
    }
   ],
   "source": [
    "orders - mean_by_day"
   ]
  },
  {
   "cell_type": "markdown",
   "id": "6f8865ec",
   "metadata": {},
   "source": [
    "### Самостоятельная работа"
   ]
  },
  {
   "cell_type": "code",
   "execution_count": 6,
   "id": "d6fc8ff7",
   "metadata": {},
   "outputs": [],
   "source": [
    "def min_max_scaler(image_mnist):\n",
    "    image = np.array(image_mnist)\n",
    "    min_pixel_value = image.min()\n",
    "    max_pixel_value = image.max()\n",
    "    return (image - min_pixel_value) / (max_pixel_value - min_pixel_value)"
   ]
  },
  {
   "cell_type": "code",
   "execution_count": null,
   "id": "f0e4edf3",
   "metadata": {},
   "outputs": [],
   "source": [
    "def standard_scaler(image_mnist):\n",
    "    image = np.array(image_mnist)\n",
    "    mean = image.mean()\n",
    "    std = image.std()\n",
    "    return (image - mean) / std"
   ]
  },
  {
   "cell_type": "code",
   "execution_count": 7,
   "id": "e2f1b87b",
   "metadata": {
    "scrolled": true
   },
   "outputs": [
    {
     "data": {
      "text/plain": [
       "array([0.   , 0.125, 0.25 , 0.5  , 1.   ])"
      ]
     },
     "execution_count": 7,
     "metadata": {},
     "output_type": "execute_result"
    }
   ],
   "source": [
    "image = [0, 1, 2, 4, 8]"
   ]
  },
  {
   "cell_type": "code",
   "execution_count": null,
   "id": "51d59c93",
   "metadata": {},
   "outputs": [],
   "source": [
    "min_max_scaler(image) # [0.   , 0.125, 0.25 , 0.5  , 1.   ]"
   ]
  },
  {
   "cell_type": "code",
   "execution_count": 9,
   "id": "8f3bf76a",
   "metadata": {},
   "outputs": [
    {
     "data": {
      "text/plain": [
       "array([-1.06066017, -0.70710678, -0.35355339,  0.35355339,  1.76776695])"
      ]
     },
     "execution_count": 9,
     "metadata": {},
     "output_type": "execute_result"
    }
   ],
   "source": [
    "standard_scaler(image)"
   ]
  },
  {
   "cell_type": "markdown",
   "id": "17073aae",
   "metadata": {},
   "source": [
    "## Уход от циклов и векторизованные вычисления"
   ]
  },
  {
   "cell_type": "code",
   "execution_count": 10,
   "id": "12a157d9",
   "metadata": {},
   "outputs": [],
   "source": [
    "test_matrix = np.array(\n",
    "    [\n",
    "        [2, 4, 6],\n",
    "        [1, 2, 8],\n",
    "    ]\n",
    ")"
   ]
  },
  {
   "cell_type": "code",
   "execution_count": 11,
   "id": "03bb725b",
   "metadata": {},
   "outputs": [
    {
     "data": {
      "text/plain": [
       "3.8333333333333335"
      ]
     },
     "execution_count": 11,
     "metadata": {},
     "output_type": "execute_result"
    }
   ],
   "source": [
    "test_matrix.mean()"
   ]
  },
  {
   "cell_type": "code",
   "execution_count": 12,
   "id": "9bc3893c",
   "metadata": {},
   "outputs": [
    {
     "data": {
      "text/plain": [
       "array([ 3,  6, 14])"
      ]
     },
     "execution_count": 12,
     "metadata": {},
     "output_type": "execute_result"
    }
   ],
   "source": [
    "np.sum(test_matrix, axis=0)"
   ]
  },
  {
   "cell_type": "code",
   "execution_count": 13,
   "id": "86bc5f92",
   "metadata": {},
   "outputs": [
    {
     "data": {
      "text/plain": [
       "array([12, 11])"
      ]
     },
     "execution_count": 13,
     "metadata": {},
     "output_type": "execute_result"
    }
   ],
   "source": [
    "np.sum(test_matrix, axis=1)"
   ]
  },
  {
   "cell_type": "code",
   "execution_count": 16,
   "id": "35d58041",
   "metadata": {},
   "outputs": [],
   "source": [
    "# Исходная функция\n",
    "def fill_over_bound(value, bound):\n",
    "    '''Limit elements from array a by value b'''\n",
    "    returned_value = value\n",
    "    if value > bound:\n",
    "        returned_value = bound\n",
    "    return returned_value\n",
    "\n",
    "\n",
    "# Векторизованный вариант\n",
    "vectorized_fill_over_bound = np.vectorize(fill_over_bound)"
   ]
  },
  {
   "cell_type": "code",
   "execution_count": 17,
   "id": "f9855337",
   "metadata": {},
   "outputs": [],
   "source": [
    "vector_array = [1,2,3,4,5,6]\n",
    "matrix_array = [[1,6],[14,15]]\n",
    "bound_value = 4"
   ]
  },
  {
   "cell_type": "code",
   "execution_count": 19,
   "id": "1e0853b4",
   "metadata": {},
   "outputs": [
    {
     "data": {
      "text/plain": [
       "array([1, 2, 3, 4, 4, 4])"
      ]
     },
     "execution_count": 19,
     "metadata": {},
     "output_type": "execute_result"
    }
   ],
   "source": [
    "vectorized_fill_over_bound(vector_array, bound_value)"
   ]
  },
  {
   "cell_type": "code",
   "execution_count": 20,
   "id": "d9e5011b",
   "metadata": {},
   "outputs": [
    {
     "data": {
      "text/plain": [
       "array([[1, 4],\n",
       "       [4, 4]])"
      ]
     },
     "execution_count": 20,
     "metadata": {},
     "output_type": "execute_result"
    }
   ],
   "source": [
    "vectorized_fill_over_bound(matrix_array, bound_value)"
   ]
  },
  {
   "cell_type": "code",
   "execution_count": 21,
   "id": "cffecc48",
   "metadata": {},
   "outputs": [],
   "source": [
    "orders =  [\n",
    "    [7, 1, 7, 8],\n",
    "    [4, 2, 4, 5],\n",
    "    [3, 5, 2, 3],\n",
    "    [8, 12, 8, 7],\n",
    "    [15, 11, 13, 9],\n",
    "    [21, 18, 17, 21],\n",
    "    [25, 16, 25, 94]\n",
    "]\n",
    "orders = np.array(orders)"
   ]
  },
  {
   "cell_type": "code",
   "execution_count": 23,
   "id": "4f997a0b",
   "metadata": {},
   "outputs": [
    {
     "data": {
      "text/plain": [
       "13.25"
      ]
     },
     "execution_count": 23,
     "metadata": {},
     "output_type": "execute_result"
    }
   ],
   "source": [
    "mean_order = orders.mean()\n",
    "mean_order"
   ]
  },
  {
   "cell_type": "code",
   "execution_count": 24,
   "id": "3a5b603a",
   "metadata": {},
   "outputs": [
    {
     "data": {
      "text/plain": [
       "17.01811010155274"
      ]
     },
     "execution_count": 24,
     "metadata": {},
     "output_type": "execute_result"
    }
   ],
   "source": [
    "sigma_val = orders.std()\n",
    "sigma_val"
   ]
  },
  {
   "cell_type": "code",
   "execution_count": 26,
   "id": "13c6a69c",
   "metadata": {},
   "outputs": [],
   "source": [
    "def fill_sigma_values(value, mean_val, sigma_val):\n",
    "    prepared_value = value\n",
    "    low_bound = mean_val - sigma_val\n",
    "    upper_bound = mean_val + sigma_val\n",
    "\n",
    "    if value < low_bound:\n",
    "        prepared_value = low_bound\n",
    "    elif value > upper_bound:\n",
    "        prepared_value = upper_bound\n",
    "\n",
    "    return prepared_value\n",
    "\n",
    "\n",
    "fill_sigma_values = np.vectorize(fill_sigma_values)\n"
   ]
  },
  {
   "cell_type": "code",
   "execution_count": 28,
   "id": "9890b766",
   "metadata": {
    "scrolled": true
   },
   "outputs": [
    {
     "data": {
      "text/plain": [
       "array([[ 7,  1,  7,  8],\n",
       "       [ 4,  2,  4,  5],\n",
       "       [ 3,  5,  2,  3],\n",
       "       [ 8, 12,  8,  7],\n",
       "       [15, 11, 13,  9],\n",
       "       [21, 18, 17, 21],\n",
       "       [25, 16, 25, 30]])"
      ]
     },
     "execution_count": 28,
     "metadata": {},
     "output_type": "execute_result"
    }
   ],
   "source": [
    "fill_sigma_values(orders, mean_order, sigma_val)"
   ]
  },
  {
   "cell_type": "code",
   "execution_count": 28,
   "id": "86c874ff",
   "metadata": {},
   "outputs": [],
   "source": [
    "# возвращает целочисленный массив средних значений кликов для каждой страницы сайта\n",
    "def get_int_columns_mean(clicks_values: np.ndarray) -> np.ndarray:\n",
    "    return clicks_values.mean(axis=0).astype(int)"
   ]
  },
  {
   "cell_type": "code",
   "execution_count": 27,
   "id": "ea0128ca",
   "metadata": {},
   "outputs": [],
   "source": [
    "def get_even_clicks(value: int) -> int:\n",
    "    return value + 1 if value % 2 else value\n",
    "\n",
    "\n",
    "get_even_clicks = np.vectorize(get_even_clicks)"
   ]
  },
  {
   "cell_type": "code",
   "execution_count": 25,
   "id": "a6ec317d",
   "metadata": {},
   "outputs": [
    {
     "data": {
      "text/plain": [
       "array([[319, 265, 319, 328],\n",
       "       [292, 274, 292, 301],\n",
       "       [283, 301, 274, 283],\n",
       "       [328, 364, 328, 284],\n",
       "       [391, 355, 373, 337],\n",
       "       [445, 418, 409, 445],\n",
       "       [481, 400, 481, 409],\n",
       "       [388, 267, 333, 344],\n",
       "       [531, 278, 300, 311],\n",
       "       [289, 311, 278, 289],\n",
       "       [344, 388, 344, 333],\n",
       "       [421, 377, 399, 355],\n",
       "       [487, 454, 443, 487],\n",
       "       [531, 432, 531, 443],\n",
       "       [312, 264, 312, 320],\n",
       "       [288, 300, 288, 296],\n",
       "       [280, 296, 272, 280],\n",
       "       [320, 352, 320, 312],\n",
       "       [376, 344, 360, 328],\n",
       "       [424, 400, 392, 424],\n",
       "       [456, 384, 456, 392],\n",
       "       [347, 269, 347, 360],\n",
       "       [308, 282, 308, 321],\n",
       "       [295, 321, 282, 392],\n",
       "       [360, 412, 360, 347],\n",
       "       [443, 399, 425, 373],\n",
       "       [529, 490, 477, 529],\n",
       "       [581, 464, 581, 477]])"
      ]
     },
     "execution_count": 25,
     "metadata": {},
     "output_type": "execute_result"
    }
   ],
   "source": [
    "clicks_values =  [\n",
    "    [319, 265, 319, 328],\n",
    "    [292, 274, 292, 301],\n",
    "    [283, 301, 274, 283],\n",
    "    [328, 364, 328, 284],\n",
    "    [391, 355, 373, 337],\n",
    "    [445, 418, 409, 445],\n",
    "    [481, 400, 481, 409],\n",
    "    [388, 267, 333, 344],\n",
    "    [531, 278, 300, 311],\n",
    "    [289, 311, 278, 289],\n",
    "    [344, 388, 344, 333],\n",
    "    [421, 377, 399, 355],\n",
    "    [487, 454, 443, 487],\n",
    "    [531, 432, 531, 443],\n",
    "    [312, 264, 312, 320],\n",
    "    [288, 300, 288, 296],\n",
    "    [280, 296, 272, 280],\n",
    "    [320, 352, 320, 312],\n",
    "    [376, 344, 360, 328],\n",
    "    [424, 400, 392, 424],\n",
    "    [456, 384, 456, 392],\n",
    "    [347, 269, 347, 360],\n",
    "    [308, 282, 308, 321],\n",
    "    [295, 321, 282, 392],\n",
    "    [360, 412, 360, 347],\n",
    "    [443, 399, 425, 373],\n",
    "    [529, 490, 477, 529],\n",
    "    [581, 464, 581, 477]\n",
    "]\n",
    "\n",
    "clicks_values = np.array(clicks_values)\n",
    "clicks_values"
   ]
  },
  {
   "cell_type": "code",
   "execution_count": 30,
   "id": "9d6f85f8",
   "metadata": {},
   "outputs": [
    {
     "data": {
      "text/plain": [
       "array([387, 352, 367, 360])"
      ]
     },
     "execution_count": 30,
     "metadata": {},
     "output_type": "execute_result"
    }
   ],
   "source": [
    "get_int_columns_mean(clicks_values)"
   ]
  },
  {
   "cell_type": "code",
   "execution_count": 26,
   "id": "db6aeb3e",
   "metadata": {},
   "outputs": [
    {
     "ename": "NameError",
     "evalue": "name 'get_even_clicks' is not defined",
     "output_type": "error",
     "traceback": [
      "\u001b[0;31m---------------------------------------------------------------------------\u001b[0m",
      "\u001b[0;31mNameError\u001b[0m                                 Traceback (most recent call last)",
      "Cell \u001b[0;32mIn[26], line 1\u001b[0m\n\u001b[0;32m----> 1\u001b[0m get_even_clicks(clicks_values)\n",
      "\u001b[0;31mNameError\u001b[0m: name 'get_even_clicks' is not defined"
     ]
    }
   ],
   "source": [
    "get_even_clicks(clicks_values)"
   ]
  },
  {
   "cell_type": "markdown",
   "id": "eedb4d02",
   "metadata": {},
   "source": [
    "### Упражнения"
   ]
  },
  {
   "cell_type": "code",
   "execution_count": 4,
   "id": "a089f4fd",
   "metadata": {},
   "outputs": [],
   "source": [
    "def get_stat_values(array: np.ndarray) -> tuple:\n",
    "    return array.mean(), array.std(), np.median(array)"
   ]
  },
  {
   "cell_type": "code",
   "execution_count": 23,
   "id": "73ee46c7",
   "metadata": {},
   "outputs": [],
   "source": [
    "def get_min_value_position(array: np.ndarray) -> tuple:\n",
    "    return np.unravel_index(np.argmin(array), array.shape)"
   ]
  },
  {
   "cell_type": "code",
   "execution_count": 20,
   "id": "3ba6fa97",
   "metadata": {},
   "outputs": [],
   "source": [
    "items = np.array([\n",
    "    [4,5,6],\n",
    "    [3,1,4],\n",
    "    [5,0,6],\n",
    "])"
   ]
  },
  {
   "cell_type": "code",
   "execution_count": 21,
   "id": "6196cb21",
   "metadata": {},
   "outputs": [
    {
     "data": {
      "text/plain": [
       "(3.7777777777777777, 1.9876159799998132, 4.0)"
      ]
     },
     "execution_count": 21,
     "metadata": {},
     "output_type": "execute_result"
    }
   ],
   "source": [
    "get_stat_values(items)"
   ]
  },
  {
   "cell_type": "code",
   "execution_count": 22,
   "id": "176f47e2",
   "metadata": {},
   "outputs": [
    {
     "data": {
      "text/plain": [
       "(2, 1)"
      ]
     },
     "execution_count": 22,
     "metadata": {},
     "output_type": "execute_result"
    }
   ],
   "source": [
    "get_min_value_position(items)"
   ]
  },
  {
   "cell_type": "code",
   "execution_count": 19,
   "id": "49e2c6d2",
   "metadata": {},
   "outputs": [
    {
     "data": {
      "text/plain": [
       "(3, 3)"
      ]
     },
     "execution_count": 19,
     "metadata": {},
     "output_type": "execute_result"
    }
   ],
   "source": [
    "items.shape"
   ]
  },
  {
   "cell_type": "markdown",
   "id": "6a862396",
   "metadata": {},
   "source": [
    "## Применение математических и статистических функций"
   ]
  },
  {
   "cell_type": "code",
   "execution_count": 32,
   "id": "66940c6b",
   "metadata": {},
   "outputs": [],
   "source": [
    "# Продажи за неделю по 4 магазинам\n",
    "\n",
    "orders =  [\n",
    "    [7, 1, 7, 8],\n",
    "    [4, 2, 4, 5],\n",
    "    [3, 5, 2, 3],\n",
    "    [8, 12, 8, 7],\n",
    "    [15, 11, 13, 9],\n",
    "    [21, 86, 35, 16],\n",
    "    [70, 90, 124, 94]\n",
    "]\n",
    "orders = np.array(orders)"
   ]
  },
  {
   "cell_type": "code",
   "execution_count": 29,
   "id": "aa00ee91",
   "metadata": {},
   "outputs": [
    {
     "data": {
      "text/plain": [
       "array([[  7,   1,   7,   8],\n",
       "       [  4,   2,   4,   5],\n",
       "       [  3,   5,   2,   3],\n",
       "       [  8,  12,   8,   7],\n",
       "       [ 15,  11,  13,   9],\n",
       "       [ 21,  86,  35,  16],\n",
       "       [ 70,  90, 124,  94]])"
      ]
     },
     "execution_count": 29,
     "metadata": {},
     "output_type": "execute_result"
    }
   ],
   "source": [
    "orders"
   ]
  },
  {
   "cell_type": "code",
   "execution_count": 30,
   "id": "e39d4ce3",
   "metadata": {},
   "outputs": [
    {
     "data": {
      "text/plain": [
       "array([128, 207, 193, 142])"
      ]
     },
     "execution_count": 30,
     "metadata": {},
     "output_type": "execute_result"
    }
   ],
   "source": [
    "orders.sum(axis=0)"
   ]
  },
  {
   "cell_type": "code",
   "execution_count": 31,
   "id": "c1764e50",
   "metadata": {},
   "outputs": [
    {
     "data": {
      "text/plain": [
       "array([ 23,  15,  13,  35,  48, 158, 378])"
      ]
     },
     "execution_count": 31,
     "metadata": {},
     "output_type": "execute_result"
    }
   ],
   "source": [
    "orders.sum(axis=1)"
   ]
  },
  {
   "cell_type": "code",
   "execution_count": 34,
   "id": "586ad9bb",
   "metadata": {},
   "outputs": [
    {
     "data": {
      "text/plain": [
       "70"
      ]
     },
     "execution_count": 34,
     "metadata": {},
     "output_type": "execute_result"
    }
   ],
   "source": [
    "orders[:,0].max()"
   ]
  },
  {
   "cell_type": "code",
   "execution_count": 35,
   "id": "68e827af",
   "metadata": {},
   "outputs": [
    {
     "data": {
      "text/plain": [
       "6"
      ]
     },
     "execution_count": 35,
     "metadata": {},
     "output_type": "execute_result"
    }
   ],
   "source": [
    "orders[:,0].argmax()"
   ]
  },
  {
   "cell_type": "code",
   "execution_count": 42,
   "id": "2d1b5285",
   "metadata": {},
   "outputs": [],
   "source": [
    "def to_percents(value, total):\n",
    "    return round(value / total * 100, 1)\n",
    "\n",
    "\n",
    "to_percents = np.vectorize(to_percents)"
   ]
  },
  {
   "cell_type": "code",
   "execution_count": 39,
   "id": "ccd0a856",
   "metadata": {},
   "outputs": [
    {
     "data": {
      "text/plain": [
       "26"
      ]
     },
     "execution_count": 39,
     "metadata": {},
     "output_type": "execute_result"
    }
   ],
   "source": [
    "to_percents(256, 1000)"
   ]
  },
  {
   "cell_type": "code",
   "execution_count": 36,
   "id": "00c69eee",
   "metadata": {
    "scrolled": true
   },
   "outputs": [
    {
     "data": {
      "text/plain": [
       "array([[0.01044776, 0.00149254, 0.01044776, 0.0119403 ],\n",
       "       [0.00597015, 0.00298507, 0.00597015, 0.00746269],\n",
       "       [0.00447761, 0.00746269, 0.00298507, 0.00447761],\n",
       "       [0.0119403 , 0.01791045, 0.0119403 , 0.01044776],\n",
       "       [0.02238806, 0.01641791, 0.01940299, 0.01343284],\n",
       "       [0.03134328, 0.12835821, 0.05223881, 0.0238806 ],\n",
       "       [0.10447761, 0.13432836, 0.18507463, 0.14029851]])"
      ]
     },
     "execution_count": 36,
     "metadata": {},
     "output_type": "execute_result"
    }
   ],
   "source": [
    "orders / orders.sum()"
   ]
  },
  {
   "cell_type": "code",
   "execution_count": 43,
   "id": "882fe06d",
   "metadata": {},
   "outputs": [
    {
     "data": {
      "text/plain": [
       "array([[ 1. ,  0.1,  1. ,  1.2],\n",
       "       [ 0.6,  0.3,  0.6,  0.7],\n",
       "       [ 0.4,  0.7,  0.3,  0.4],\n",
       "       [ 1.2,  1.8,  1.2,  1. ],\n",
       "       [ 2.2,  1.6,  1.9,  1.3],\n",
       "       [ 3.1, 12.8,  5.2,  2.4],\n",
       "       [10.4, 13.4, 18.5, 14. ]])"
      ]
     },
     "execution_count": 43,
     "metadata": {},
     "output_type": "execute_result"
    }
   ],
   "source": [
    "to_percents(orders, orders.sum())"
   ]
  },
  {
   "cell_type": "code",
   "execution_count": 44,
   "id": "68888ebc",
   "metadata": {},
   "outputs": [
    {
     "data": {
      "text/plain": [
       "array([ 7,  4,  3,  8, 15, 21, 70])"
      ]
     },
     "execution_count": 44,
     "metadata": {},
     "output_type": "execute_result"
    }
   ],
   "source": [
    "orders[:, 0]"
   ]
  },
  {
   "cell_type": "code",
   "execution_count": 45,
   "id": "c88371eb",
   "metadata": {},
   "outputs": [
    {
     "data": {
      "text/plain": [
       "array([  7,  11,  14,  22,  37,  58, 128])"
      ]
     },
     "execution_count": 45,
     "metadata": {},
     "output_type": "execute_result"
    }
   ],
   "source": [
    "orders[:, 0].cumsum()"
   ]
  },
  {
   "cell_type": "code",
   "execution_count": 46,
   "id": "373283fe",
   "metadata": {},
   "outputs": [
    {
     "data": {
      "text/plain": [
       "array([[-3,  1, -3, -3],\n",
       "       [-1,  3, -2, -2],\n",
       "       [ 5,  7,  6,  4],\n",
       "       [ 7, -1,  5,  2],\n",
       "       [ 6, 75, 22,  7],\n",
       "       [49,  4, 89, 78]])"
      ]
     },
     "execution_count": 46,
     "metadata": {},
     "output_type": "execute_result"
    }
   ],
   "source": [
    "np.diff(orders, axis=0)"
   ]
  },
  {
   "cell_type": "code",
   "execution_count": 47,
   "id": "402c4726",
   "metadata": {},
   "outputs": [
    {
     "data": {
      "text/plain": [
       "array([[ 1. ,  0.1,  1. ,  1.2],\n",
       "       [ 0.6,  0.3,  0.6,  0.7],\n",
       "       [ 0.4,  0.7,  0.3,  0.4],\n",
       "       [ 1.2,  1.8,  1.2,  1. ],\n",
       "       [ 2.2,  1.6,  1.9,  1.3],\n",
       "       [ 3.1, 12.8,  5.2,  2.4],\n",
       "       [10.4, 13.4, 18.5, 14. ]])"
      ]
     },
     "execution_count": 47,
     "metadata": {},
     "output_type": "execute_result"
    }
   ],
   "source": [
    "(orders / orders.sum() * 100).round(1)"
   ]
  },
  {
   "cell_type": "code",
   "execution_count": 26,
   "id": "84f02f0c",
   "metadata": {
    "scrolled": true
   },
   "outputs": [
    {
     "data": {
      "text/plain": [
       "array([ 2, 15,  7, 13, 19, 14,  5,  7, 16, 19, 18,  8,  6,  3, 10, 11,  4,\n",
       "       10, 14, 20])"
      ]
     },
     "execution_count": 26,
     "metadata": {},
     "output_type": "execute_result"
    }
   ],
   "source": [
    "# import random\n",
    "# a = [random.randint(1,20) for _ in range(20)]\n",
    "a = [4, 16, 9, 18, 13, 11, 20, 4, 11, 7, 5, 18, 11, 5, 1, 13, 10, 18, 10, 1]\n",
    "a = [10, 7, 9, 10, 5, 14, 18, 4, 17, 16, 10, 2, 12, 8, 2, 4, 10, 20, 9, 5]\n",
    "a = [15, 4, 6, 6, 8, 16, 14, 14, 12, 14, 4, 16, 9, 5, 19, 3, 17, 19, 13, 2]\n",
    "a = [2, 15, 7, 13, 19, 14, 5, 7, 16, 19, 18, 8, 6, 3, 10, 11, 4, 10, 14, 20]\n",
    "a = np.array(a)\n",
    "a"
   ]
  },
  {
   "cell_type": "code",
   "execution_count": 27,
   "id": "beef693a",
   "metadata": {},
   "outputs": [
    {
     "data": {
      "text/plain": [
       "array([ 2,  3,  4,  5,  6,  7,  7,  8, 10, 10, 11, 13, 14, 14, 15, 16, 18,\n",
       "       19, 19, 20])"
      ]
     },
     "execution_count": 27,
     "metadata": {},
     "output_type": "execute_result"
    }
   ],
   "source": [
    "a_sorted = a.copy()\n",
    "a_sorted.sort()\n",
    "a_sorted"
   ]
  },
  {
   "cell_type": "code",
   "execution_count": 28,
   "id": "d9bf6697",
   "metadata": {},
   "outputs": [
    {
     "data": {
      "text/plain": [
       "6.75"
      ]
     },
     "execution_count": 28,
     "metadata": {},
     "output_type": "execute_result"
    }
   ],
   "source": [
    "np.percentile(a, 25)\n"
   ]
  },
  {
   "cell_type": "code",
   "execution_count": 50,
   "id": "82dce414",
   "metadata": {},
   "outputs": [
    {
     "data": {
      "text/plain": [
       "array([ 1,  3,  6, 10, 15, 21, 28, 36, 45, 55])"
      ]
     },
     "execution_count": 50,
     "metadata": {},
     "output_type": "execute_result"
    }
   ],
   "source": [
    "a.cumsum()"
   ]
  },
  {
   "cell_type": "code",
   "execution_count": 31,
   "id": "98c40575",
   "metadata": {},
   "outputs": [
    {
     "data": {
      "text/plain": [
       "15.25"
      ]
     },
     "execution_count": 31,
     "metadata": {},
     "output_type": "execute_result"
    }
   ],
   "source": [
    "np.percentile(a, 75)"
   ]
  },
  {
   "cell_type": "code",
   "execution_count": 33,
   "id": "113fd92d",
   "metadata": {},
   "outputs": [
    {
     "data": {
      "text/plain": [
       "array([[  7,   1,   7,   8],\n",
       "       [  4,   2,   4,   5],\n",
       "       [  3,   5,   2,   3],\n",
       "       [  8,  12,   8,   7],\n",
       "       [ 15,  11,  13,   9],\n",
       "       [ 21,  86,  35,  16],\n",
       "       [ 70,  90, 124,  94]])"
      ]
     },
     "execution_count": 33,
     "metadata": {},
     "output_type": "execute_result"
    }
   ],
   "source": [
    "orders"
   ]
  },
  {
   "cell_type": "code",
   "execution_count": 34,
   "id": "64e39d1d",
   "metadata": {},
   "outputs": [
    {
     "data": {
      "text/plain": [
       "array([ 7,  4,  3,  8, 15, 21, 70])"
      ]
     },
     "execution_count": 34,
     "metadata": {},
     "output_type": "execute_result"
    }
   ],
   "source": [
    "orders[:, 0]"
   ]
  },
  {
   "cell_type": "code",
   "execution_count": 35,
   "id": "718d4b0f",
   "metadata": {},
   "outputs": [
    {
     "data": {
      "text/plain": [
       "array([ 1,  2,  5, 12, 11, 86, 90])"
      ]
     },
     "execution_count": 35,
     "metadata": {},
     "output_type": "execute_result"
    }
   ],
   "source": [
    "orders[:, 1]"
   ]
  },
  {
   "cell_type": "code",
   "execution_count": 36,
   "id": "e879e992",
   "metadata": {},
   "outputs": [
    {
     "data": {
      "text/plain": [
       "array([[1.        , 0.80868227],\n",
       "       [0.80868227, 1.        ]])"
      ]
     },
     "execution_count": 36,
     "metadata": {},
     "output_type": "execute_result"
    }
   ],
   "source": [
    "np.corrcoef(orders[:, 0], orders[:, 1])"
   ]
  },
  {
   "cell_type": "code",
   "execution_count": 39,
   "id": "66fe960a",
   "metadata": {},
   "outputs": [],
   "source": [
    "def get_iqr(array):\n",
    "    return np.percentile(array, 25), np.percentile(array, 75)"
   ]
  },
  {
   "cell_type": "code",
   "execution_count": 40,
   "id": "a738e753",
   "metadata": {},
   "outputs": [],
   "source": [
    "items = np.array([\n",
    "    [4,5,6],\n",
    "    [3,1,4],\n",
    "    [5,8,6],\n",
    "])\n"
   ]
  },
  {
   "cell_type": "code",
   "execution_count": 42,
   "id": "d4a47fb3",
   "metadata": {},
   "outputs": [
    {
     "data": {
      "text/plain": [
       "(4.0, 6.0)"
      ]
     },
     "execution_count": 42,
     "metadata": {},
     "output_type": "execute_result"
    }
   ],
   "source": [
    "get_iqr(items)"
   ]
  },
  {
   "cell_type": "code",
   "execution_count": 49,
   "id": "03fd9dfc",
   "metadata": {},
   "outputs": [],
   "source": [
    "def get_correlation(array1, array2):\n",
    "    return np.corrcoef(array1, array2)[0, 1]"
   ]
  },
  {
   "cell_type": "code",
   "execution_count": 50,
   "id": "c9b5eb03",
   "metadata": {},
   "outputs": [],
   "source": [
    "items1 = np.array([\n",
    "    [4, 5, 6]\n",
    "])\n",
    "items2 = np.array([\n",
    "    [6, 5, 12]\n",
    "])"
   ]
  },
  {
   "cell_type": "code",
   "execution_count": 51,
   "id": "aa2527ee",
   "metadata": {},
   "outputs": [
    {
     "data": {
      "text/plain": [
       "0.7924058156930615"
      ]
     },
     "execution_count": 51,
     "metadata": {},
     "output_type": "execute_result"
    }
   ],
   "source": [
    "get_correlation(items1, items2)"
   ]
  },
  {
   "cell_type": "code",
   "execution_count": null,
   "id": "5e1b04b2",
   "metadata": {},
   "outputs": [],
   "source": []
  }
 ],
 "metadata": {
  "kernelspec": {
   "display_name": "Python 3 (ipykernel)",
   "language": "python",
   "name": "python3"
  },
  "language_info": {
   "codemirror_mode": {
    "name": "ipython",
    "version": 3
   },
   "file_extension": ".py",
   "mimetype": "text/x-python",
   "name": "python",
   "nbconvert_exporter": "python",
   "pygments_lexer": "ipython3",
   "version": "3.11.4"
  }
 },
 "nbformat": 4,
 "nbformat_minor": 5
}
