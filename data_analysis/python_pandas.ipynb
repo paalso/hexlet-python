{
 "cells": [
  {
   "cell_type": "markdown",
   "id": "7b7a8654-9d18-40e8-924e-4040c9813db6",
   "metadata": {},
   "source": [
    "# [Python: Pandas](https://ru.hexlet.io/courses/python-pandas)"
   ]
  },
  {
   "cell_type": "code",
   "execution_count": 2,
   "id": "8024b1b2-b6b8-4749-9708-c78ed1021c0c",
   "metadata": {},
   "outputs": [],
   "source": [
    "import pandas as pd"
   ]
  },
  {
   "cell_type": "markdown",
   "id": "57d6a250-dcfc-4ee5-9b04-8d86faf20a78",
   "metadata": {},
   "source": [
    "## [Введение](https://ru.hexlet.io/courses/python-pandas/lessons/intro/theory_unit)"
   ]
  },
  {
   "cell_type": "code",
   "execution_count": 7,
   "id": "b1d4b207-459a-4139-aa9d-38fe5cf63649",
   "metadata": {},
   "outputs": [],
   "source": [
    "path = 0"
   ]
  },
  {
   "cell_type": "code",
   "execution_count": null,
   "id": "98d1645f-085a-49d7-9d62-166d46eff3b4",
   "metadata": {},
   "outputs": [],
   "source": []
  }
 ],
 "metadata": {
  "kernelspec": {
   "display_name": "Python 3 (ipykernel)",
   "language": "python",
   "name": "python3"
  },
  "language_info": {
   "codemirror_mode": {
    "name": "ipython",
    "version": 3
   },
   "file_extension": ".py",
   "mimetype": "text/x-python",
   "name": "python",
   "nbconvert_exporter": "python",
   "pygments_lexer": "ipython3",
   "version": "3.12.4"
  }
 },
 "nbformat": 4,
 "nbformat_minor": 5
}
