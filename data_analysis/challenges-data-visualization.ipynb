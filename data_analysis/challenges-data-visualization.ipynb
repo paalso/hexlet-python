{
 "cells": [
  {
   "cell_type": "markdown",
   "id": "e6896eb6-7069-463a-bc67-a5bfd18a17c8",
   "metadata": {},
   "source": [
    "# [Python: Визуализация данных](https://ru.hexlet.io/courses/python-data-visualization)"
   ]
  },
  {
   "cell_type": "markdown",
   "id": "9cbae8cd-6749-41e0-af7e-1953bef446b2",
   "metadata": {},
   "source": [
    "## [Испытания](https://ru.hexlet.io/courses/python-data-visualization#challenges)"
   ]
  },
  {
   "cell_type": "markdown",
   "id": "68c7635a-c0d8-4466-9ea4-ed66a064f05f",
   "metadata": {},
   "source": [
    "### [Глобальное потепление](https://ru.hexlet.io/challenges/python_data_visualization_climate_exercise)\n",
    "\n"
   ]
  },
  {
   "cell_type": "markdown",
   "id": "317032c5-330e-48b2-967e-9c23ab46c7aa",
   "metadata": {},
   "source": [
    "В этом упражнении находится датасет со средними годовыми температурами за последние 100 лет. Вам предстоит побыть немного метеорологами и понаблюдать за изменением климата\n",
    "\n",
    "* Подготовьте датафрейм. Данные для анализа находятся в файле temperatures.csv\n",
    "\n",
    "* Напишите функцию get_temperatures(), которая при помощи Seaborn построит график средних годовых температур за все время наблюдения. Добавьте график скользящего среднего с окном 10, чтобы сгладить шумы от колебаний и сделайте его красным. Добавьте нужные подписи к графику\n"
   ]
  },
  {
   "cell_type": "code",
   "execution_count": 5,
   "id": "bcf9cbe2-c91c-4cb3-87e2-f917ab9a0ce7",
   "metadata": {},
   "outputs": [],
   "source": [
    "import matplotlib.pyplot as plt\n",
    "import seaborn as sns\n",
    "import pandas as pd"
   ]
  },
  {
   "cell_type": "code",
   "execution_count": 12,
   "id": "d3bb1cd3-4513-476a-b3a6-3f9c1f02fc42",
   "metadata": {},
   "outputs": [
    {
     "data": {
      "text/html": [
       "<div>\n",
       "<style scoped>\n",
       "    .dataframe tbody tr th:only-of-type {\n",
       "        vertical-align: middle;\n",
       "    }\n",
       "\n",
       "    .dataframe tbody tr th {\n",
       "        vertical-align: top;\n",
       "    }\n",
       "\n",
       "    .dataframe thead th {\n",
       "        text-align: right;\n",
       "    }\n",
       "</style>\n",
       "<table border=\"1\" class=\"dataframe\">\n",
       "  <thead>\n",
       "    <tr style=\"text-align: right;\">\n",
       "      <th></th>\n",
       "      <th>YEAR</th>\n",
       "      <th>JAN</th>\n",
       "      <th>FEB</th>\n",
       "      <th>MAR</th>\n",
       "      <th>APR</th>\n",
       "      <th>MAY</th>\n",
       "      <th>JUN</th>\n",
       "      <th>JUL</th>\n",
       "      <th>AUG</th>\n",
       "      <th>SEP</th>\n",
       "      <th>OCT</th>\n",
       "      <th>NOV</th>\n",
       "      <th>DEC</th>\n",
       "      <th>ANNUAL</th>\n",
       "      <th>JAN-FEB</th>\n",
       "      <th>MAR-MAY</th>\n",
       "      <th>JUN-SEP</th>\n",
       "      <th>OCT-DEC</th>\n",
       "    </tr>\n",
       "  </thead>\n",
       "  <tbody>\n",
       "    <tr>\n",
       "      <th>0</th>\n",
       "      <td>1901</td>\n",
       "      <td>22.40</td>\n",
       "      <td>24.14</td>\n",
       "      <td>29.07</td>\n",
       "      <td>31.91</td>\n",
       "      <td>33.41</td>\n",
       "      <td>33.18</td>\n",
       "      <td>31.21</td>\n",
       "      <td>30.39</td>\n",
       "      <td>30.47</td>\n",
       "      <td>29.97</td>\n",
       "      <td>27.31</td>\n",
       "      <td>24.49</td>\n",
       "      <td>28.96</td>\n",
       "      <td>23.27</td>\n",
       "      <td>31.46</td>\n",
       "      <td>31.27</td>\n",
       "      <td>27.25</td>\n",
       "    </tr>\n",
       "    <tr>\n",
       "      <th>1</th>\n",
       "      <td>1902</td>\n",
       "      <td>24.93</td>\n",
       "      <td>26.58</td>\n",
       "      <td>29.77</td>\n",
       "      <td>31.78</td>\n",
       "      <td>33.73</td>\n",
       "      <td>32.91</td>\n",
       "      <td>30.92</td>\n",
       "      <td>30.73</td>\n",
       "      <td>29.80</td>\n",
       "      <td>29.12</td>\n",
       "      <td>26.31</td>\n",
       "      <td>24.04</td>\n",
       "      <td>29.22</td>\n",
       "      <td>25.75</td>\n",
       "      <td>31.76</td>\n",
       "      <td>31.09</td>\n",
       "      <td>26.49</td>\n",
       "    </tr>\n",
       "    <tr>\n",
       "      <th>2</th>\n",
       "      <td>1903</td>\n",
       "      <td>23.44</td>\n",
       "      <td>25.03</td>\n",
       "      <td>27.83</td>\n",
       "      <td>31.39</td>\n",
       "      <td>32.91</td>\n",
       "      <td>33.00</td>\n",
       "      <td>31.34</td>\n",
       "      <td>29.98</td>\n",
       "      <td>29.85</td>\n",
       "      <td>29.04</td>\n",
       "      <td>26.08</td>\n",
       "      <td>23.65</td>\n",
       "      <td>28.47</td>\n",
       "      <td>24.24</td>\n",
       "      <td>30.71</td>\n",
       "      <td>30.92</td>\n",
       "      <td>26.26</td>\n",
       "    </tr>\n",
       "    <tr>\n",
       "      <th>3</th>\n",
       "      <td>1904</td>\n",
       "      <td>22.50</td>\n",
       "      <td>24.73</td>\n",
       "      <td>28.21</td>\n",
       "      <td>32.02</td>\n",
       "      <td>32.64</td>\n",
       "      <td>32.07</td>\n",
       "      <td>30.36</td>\n",
       "      <td>30.09</td>\n",
       "      <td>30.04</td>\n",
       "      <td>29.20</td>\n",
       "      <td>26.36</td>\n",
       "      <td>23.63</td>\n",
       "      <td>28.49</td>\n",
       "      <td>23.62</td>\n",
       "      <td>30.95</td>\n",
       "      <td>30.66</td>\n",
       "      <td>26.40</td>\n",
       "    </tr>\n",
       "    <tr>\n",
       "      <th>4</th>\n",
       "      <td>1905</td>\n",
       "      <td>22.00</td>\n",
       "      <td>22.83</td>\n",
       "      <td>26.68</td>\n",
       "      <td>30.01</td>\n",
       "      <td>33.32</td>\n",
       "      <td>33.25</td>\n",
       "      <td>31.44</td>\n",
       "      <td>30.68</td>\n",
       "      <td>30.12</td>\n",
       "      <td>30.67</td>\n",
       "      <td>27.52</td>\n",
       "      <td>23.82</td>\n",
       "      <td>28.30</td>\n",
       "      <td>22.25</td>\n",
       "      <td>30.00</td>\n",
       "      <td>31.33</td>\n",
       "      <td>26.57</td>\n",
       "    </tr>\n",
       "  </tbody>\n",
       "</table>\n",
       "</div>"
      ],
      "text/plain": [
       "   YEAR    JAN    FEB    MAR    APR    MAY    JUN    JUL    AUG    SEP    OCT  \\\n",
       "0  1901  22.40  24.14  29.07  31.91  33.41  33.18  31.21  30.39  30.47  29.97   \n",
       "1  1902  24.93  26.58  29.77  31.78  33.73  32.91  30.92  30.73  29.80  29.12   \n",
       "2  1903  23.44  25.03  27.83  31.39  32.91  33.00  31.34  29.98  29.85  29.04   \n",
       "3  1904  22.50  24.73  28.21  32.02  32.64  32.07  30.36  30.09  30.04  29.20   \n",
       "4  1905  22.00  22.83  26.68  30.01  33.32  33.25  31.44  30.68  30.12  30.67   \n",
       "\n",
       "     NOV    DEC  ANNUAL  JAN-FEB  MAR-MAY  JUN-SEP  OCT-DEC  \n",
       "0  27.31  24.49   28.96    23.27    31.46    31.27    27.25  \n",
       "1  26.31  24.04   29.22    25.75    31.76    31.09    26.49  \n",
       "2  26.08  23.65   28.47    24.24    30.71    30.92    26.26  \n",
       "3  26.36  23.63   28.49    23.62    30.95    30.66    26.40  \n",
       "4  27.52  23.82   28.30    22.25    30.00    31.33    26.57  "
      ]
     },
     "execution_count": 12,
     "metadata": {},
     "output_type": "execute_result"
    }
   ],
   "source": [
    "df = pd.read_csv('data/temperatures.csv')\n",
    "df.head()"
   ]
  },
  {
   "cell_type": "code",
   "execution_count": 16,
   "id": "efe7d230-ed25-4d3a-becb-390be47f85f5",
   "metadata": {},
   "outputs": [
    {
     "data": {
      "text/plain": [
       "YEAR       1901.00\n",
       "JAN          22.40\n",
       "FEB          24.14\n",
       "MAR          29.07\n",
       "APR          31.91\n",
       "MAY          33.41\n",
       "JUN          33.18\n",
       "JUL          31.21\n",
       "AUG          30.39\n",
       "SEP          30.47\n",
       "OCT          29.97\n",
       "NOV          27.31\n",
       "DEC          24.49\n",
       "ANNUAL       28.96\n",
       "JAN-FEB      23.27\n",
       "MAR-MAY      31.46\n",
       "JUN-SEP      31.27\n",
       "OCT-DEC      27.25\n",
       "Name: 0, dtype: float64"
      ]
     },
     "execution_count": 16,
     "metadata": {},
     "output_type": "execute_result"
    }
   ],
   "source": [
    "df.iloc[0][]"
   ]
  },
  {
   "cell_type": "code",
   "execution_count": 24,
   "id": "c463291e-d293-465d-abbb-6a28b01dc518",
   "metadata": {},
   "outputs": [
    {
     "data": {
      "text/plain": [
       "28.995833333333334"
      ]
     },
     "execution_count": 24,
     "metadata": {},
     "output_type": "execute_result"
    }
   ],
   "source": [
    "first = df.loc[0, 'JAN':'DEC']\n",
    "first.mean()"
   ]
  },
  {
   "cell_type": "code",
   "execution_count": null,
   "id": "92f84671-463e-4e76-be4b-18f1e0e99b3a",
   "metadata": {},
   "outputs": [],
   "source": []
  }
 ],
 "metadata": {
  "kernelspec": {
   "display_name": "Python 3 (ipykernel)",
   "language": "python",
   "name": "python3"
  },
  "language_info": {
   "codemirror_mode": {
    "name": "ipython",
    "version": 3
   },
   "file_extension": ".py",
   "mimetype": "text/x-python",
   "name": "python",
   "nbconvert_exporter": "python",
   "pygments_lexer": "ipython3",
   "version": "3.12.4"
  }
 },
 "nbformat": 4,
 "nbformat_minor": 5
}
