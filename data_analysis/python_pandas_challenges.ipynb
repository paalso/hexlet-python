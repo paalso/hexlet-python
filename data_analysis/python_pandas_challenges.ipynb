{
 "cells": [
  {
   "cell_type": "markdown",
   "id": "e6896eb6-7069-463a-bc67-a5bfd18a17c8",
   "metadata": {},
   "source": [
    "# [Python: Pandas](https://ru.hexlet.io/courses/python-pandas)"
   ]
  },
  {
   "cell_type": "markdown",
   "id": "9cbae8cd-6749-41e0-af7e-1953bef446b2",
   "metadata": {},
   "source": [
    "## [Испытания](https://ru.hexlet.io/courses/python-pandas#challenges)"
   ]
  },
  {
   "cell_type": "markdown",
   "id": "68c7635a-c0d8-4466-9ea4-ed66a064f05f",
   "metadata": {},
   "source": [
    "### [Премии](https://ru.hexlet.io/challenges/python-pandas-bonuses-exercise)\n",
    "\n",
    "https://ru.hexlet.io/code_reviews/1587868"
   ]
  },
  {
   "cell_type": "code",
   "execution_count": 10,
   "id": "3f7844e7-dcab-4f80-a00a-bfe1ef6a7369",
   "metadata": {},
   "outputs": [],
   "source": [
    "import pandas as pd"
   ]
  },
  {
   "cell_type": "code",
   "execution_count": 327,
   "id": "d872f76c-6123-4dbe-ab6b-15a8a87cffc8",
   "metadata": {},
   "outputs": [],
   "source": [
    "def prepare_df(departments_path, employees_path, performance_path):\n",
    "    df_departments = pd.read_csv(departments_path)\n",
    "    df_employees = pd.read_csv(employees_path)\n",
    "    df_performance = pd.read_csv(performance_path)\n",
    "    return pd.merge(\n",
    "            pd.merge(\n",
    "                df_departments,\n",
    "                df_performance,\n",
    "                on='EmployeeID'),\n",
    "            df_employees,\n",
    "            on='EmployeeID'\n",
    "        )\n",
    "\n",
    "\n",
    "def get_department_performance(df):\n",
    "    return df.groupby('Department').agg({'Performance': ['median']})\n",
    "\n",
    "def calculate_bonuses(df):\n",
    "    df['Bonus'] = df.apply(lambda x: get_bonuse(x['Performance'], x['Salary']), axis=1)\n",
    "    df = df[df['Bonus'] > 0].sort_values(by='Bonus', ascending=False)\n",
    "    return df[['FirstName', 'LastName', 'Email', 'Department', 'Bonus']].reset_index(drop=True)\n",
    "\n",
    "\n",
    "def get_bonuse(performance, salary):\n",
    "    if performance > 90:\n",
    "        return 0.15 * salary\n",
    "    if performance > 75:\n",
    "        return 0.10 * salary\n",
    "    if performance > 50:\n",
    "        return 0.05 * salary\n",
    "    return 0"
   ]
  },
  {
   "cell_type": "code",
   "execution_count": 106,
   "id": "378db91a-1b8e-418a-a6b5-369307a043dd",
   "metadata": {},
   "outputs": [],
   "source": [
    "df_departments = pd.read_csv('./data/departments.csv')\n",
    "df_employees = pd.read_csv('./data/employees.csv')\n",
    "df_performance = pd.read_csv('./data/performance.csv')"
   ]
  },
  {
   "cell_type": "code",
   "execution_count": 290,
   "id": "627af112-755f-405d-95a3-4f1d67d27abf",
   "metadata": {},
   "outputs": [
    {
     "data": {
      "text/html": [
       "<div>\n",
       "<style scoped>\n",
       "    .dataframe tbody tr th:only-of-type {\n",
       "        vertical-align: middle;\n",
       "    }\n",
       "\n",
       "    .dataframe tbody tr th {\n",
       "        vertical-align: top;\n",
       "    }\n",
       "\n",
       "    .dataframe thead th {\n",
       "        text-align: right;\n",
       "    }\n",
       "</style>\n",
       "<table border=\"1\" class=\"dataframe\">\n",
       "  <thead>\n",
       "    <tr style=\"text-align: right;\">\n",
       "      <th></th>\n",
       "      <th>EmployeeID</th>\n",
       "      <th>Department</th>\n",
       "      <th>Salary</th>\n",
       "      <th>Performance</th>\n",
       "      <th>FirstName</th>\n",
       "      <th>LastName</th>\n",
       "      <th>Email</th>\n",
       "    </tr>\n",
       "  </thead>\n",
       "  <tbody>\n",
       "    <tr>\n",
       "      <th>0</th>\n",
       "      <td>1</td>\n",
       "      <td>Marketing</td>\n",
       "      <td>86223</td>\n",
       "      <td>36</td>\n",
       "      <td>Michael</td>\n",
       "      <td>Johnson</td>\n",
       "      <td>michael.johnson@example.com</td>\n",
       "    </tr>\n",
       "    <tr>\n",
       "      <th>1</th>\n",
       "      <td>2</td>\n",
       "      <td>Finance</td>\n",
       "      <td>111570</td>\n",
       "      <td>48</td>\n",
       "      <td>Sophia</td>\n",
       "      <td>Brown</td>\n",
       "      <td>sophia.brown@example.com</td>\n",
       "    </tr>\n",
       "    <tr>\n",
       "      <th>2</th>\n",
       "      <td>3</td>\n",
       "      <td>Sales</td>\n",
       "      <td>56521</td>\n",
       "      <td>25</td>\n",
       "      <td>Liam</td>\n",
       "      <td>Williams</td>\n",
       "      <td>liam.williams@example.com</td>\n",
       "    </tr>\n",
       "    <tr>\n",
       "      <th>3</th>\n",
       "      <td>4</td>\n",
       "      <td>Sales</td>\n",
       "      <td>106894</td>\n",
       "      <td>67</td>\n",
       "      <td>Emma</td>\n",
       "      <td>Williams</td>\n",
       "      <td>emma.williams@example.com</td>\n",
       "    </tr>\n",
       "    <tr>\n",
       "      <th>4</th>\n",
       "      <td>5</td>\n",
       "      <td>Sales</td>\n",
       "      <td>64254</td>\n",
       "      <td>35</td>\n",
       "      <td>Sophia</td>\n",
       "      <td>Garcia</td>\n",
       "      <td>sophia.garcia@example.com</td>\n",
       "    </tr>\n",
       "  </tbody>\n",
       "</table>\n",
       "</div>"
      ],
      "text/plain": [
       "   EmployeeID Department  Salary  Performance FirstName  LastName  \\\n",
       "0           1  Marketing   86223           36   Michael   Johnson   \n",
       "1           2    Finance  111570           48    Sophia     Brown   \n",
       "2           3      Sales   56521           25      Liam  Williams   \n",
       "3           4      Sales  106894           67      Emma  Williams   \n",
       "4           5      Sales   64254           35    Sophia    Garcia   \n",
       "\n",
       "                         Email  \n",
       "0  michael.johnson@example.com  \n",
       "1     sophia.brown@example.com  \n",
       "2    liam.williams@example.com  \n",
       "3    emma.williams@example.com  \n",
       "4    sophia.garcia@example.com  "
      ]
     },
     "execution_count": 290,
     "metadata": {},
     "output_type": "execute_result"
    }
   ],
   "source": [
    "merged_df = prepare_df('./data/departments.csv', './data/employees.csv', './data/performance.csv')\n",
    "merged_df.head()"
   ]
  },
  {
   "cell_type": "code",
   "execution_count": 292,
   "id": "467c2d95-def3-43f6-abb6-98670ad48b5a",
   "metadata": {
    "scrolled": true
   },
   "outputs": [
    {
     "data": {
      "text/html": [
       "<div>\n",
       "<style scoped>\n",
       "    .dataframe tbody tr th:only-of-type {\n",
       "        vertical-align: middle;\n",
       "    }\n",
       "\n",
       "    .dataframe tbody tr th {\n",
       "        vertical-align: top;\n",
       "    }\n",
       "\n",
       "    .dataframe thead tr th {\n",
       "        text-align: left;\n",
       "    }\n",
       "\n",
       "    .dataframe thead tr:last-of-type th {\n",
       "        text-align: right;\n",
       "    }\n",
       "</style>\n",
       "<table border=\"1\" class=\"dataframe\">\n",
       "  <thead>\n",
       "    <tr>\n",
       "      <th></th>\n",
       "      <th>Performance</th>\n",
       "    </tr>\n",
       "    <tr>\n",
       "      <th></th>\n",
       "      <th>median</th>\n",
       "    </tr>\n",
       "    <tr>\n",
       "      <th>Department</th>\n",
       "      <th></th>\n",
       "    </tr>\n",
       "  </thead>\n",
       "  <tbody>\n",
       "    <tr>\n",
       "      <th>Finance</th>\n",
       "      <td>58.0</td>\n",
       "    </tr>\n",
       "    <tr>\n",
       "      <th>HR</th>\n",
       "      <td>68.0</td>\n",
       "    </tr>\n",
       "    <tr>\n",
       "      <th>IT</th>\n",
       "      <td>59.5</td>\n",
       "    </tr>\n",
       "    <tr>\n",
       "      <th>Marketing</th>\n",
       "      <td>39.0</td>\n",
       "    </tr>\n",
       "    <tr>\n",
       "      <th>Sales</th>\n",
       "      <td>65.5</td>\n",
       "    </tr>\n",
       "  </tbody>\n",
       "</table>\n",
       "</div>"
      ],
      "text/plain": [
       "           Performance\n",
       "                median\n",
       "Department            \n",
       "Finance           58.0\n",
       "HR                68.0\n",
       "IT                59.5\n",
       "Marketing         39.0\n",
       "Sales             65.5"
      ]
     },
     "execution_count": 292,
     "metadata": {},
     "output_type": "execute_result"
    }
   ],
   "source": [
    "department_performance = get_department_performance(merged_df)\n",
    "department_performance"
   ]
  },
  {
   "cell_type": "code",
   "execution_count": 324,
   "id": "0926c555-fce3-446f-a9dc-3af7f8e5fb79",
   "metadata": {},
   "outputs": [
    {
     "data": {
      "text/html": [
       "<div>\n",
       "<style scoped>\n",
       "    .dataframe tbody tr th:only-of-type {\n",
       "        vertical-align: middle;\n",
       "    }\n",
       "\n",
       "    .dataframe tbody tr th {\n",
       "        vertical-align: top;\n",
       "    }\n",
       "\n",
       "    .dataframe thead th {\n",
       "        text-align: right;\n",
       "    }\n",
       "</style>\n",
       "<table border=\"1\" class=\"dataframe\">\n",
       "  <thead>\n",
       "    <tr style=\"text-align: right;\">\n",
       "      <th></th>\n",
       "      <th>FirstName</th>\n",
       "      <th>LastName</th>\n",
       "      <th>Email</th>\n",
       "      <th>Department</th>\n",
       "      <th>Bonus</th>\n",
       "    </tr>\n",
       "  </thead>\n",
       "  <tbody>\n",
       "    <tr>\n",
       "      <th>0</th>\n",
       "      <td>Sophia</td>\n",
       "      <td>Miller</td>\n",
       "      <td>sophia.miller@example.com</td>\n",
       "      <td>Marketing</td>\n",
       "      <td>16932.75</td>\n",
       "    </tr>\n",
       "    <tr>\n",
       "      <th>1</th>\n",
       "      <td>Robert</td>\n",
       "      <td>Jones</td>\n",
       "      <td>robert.jones@example.com</td>\n",
       "      <td>HR</td>\n",
       "      <td>16440.15</td>\n",
       "    </tr>\n",
       "    <tr>\n",
       "      <th>2</th>\n",
       "      <td>David</td>\n",
       "      <td>Brown</td>\n",
       "      <td>david.brown@example.com</td>\n",
       "      <td>IT</td>\n",
       "      <td>16105.20</td>\n",
       "    </tr>\n",
       "    <tr>\n",
       "      <th>3</th>\n",
       "      <td>Liam</td>\n",
       "      <td>Martinez</td>\n",
       "      <td>liam.martinez@example.com</td>\n",
       "      <td>Sales</td>\n",
       "      <td>15953.40</td>\n",
       "    </tr>\n",
       "    <tr>\n",
       "      <th>4</th>\n",
       "      <td>Olivia</td>\n",
       "      <td>Johnson</td>\n",
       "      <td>olivia.johnson@example.com</td>\n",
       "      <td>Sales</td>\n",
       "      <td>15640.20</td>\n",
       "    </tr>\n",
       "  </tbody>\n",
       "</table>\n",
       "</div>"
      ],
      "text/plain": [
       "  FirstName  LastName                       Email Department     Bonus\n",
       "0    Sophia    Miller   sophia.miller@example.com  Marketing  16932.75\n",
       "1    Robert     Jones    robert.jones@example.com         HR  16440.15\n",
       "2     David     Brown     david.brown@example.com         IT  16105.20\n",
       "3      Liam  Martinez   liam.martinez@example.com      Sales  15953.40\n",
       "4    Olivia   Johnson  olivia.johnson@example.com      Sales  15640.20"
      ]
     },
     "execution_count": 324,
     "metadata": {},
     "output_type": "execute_result"
    }
   ],
   "source": [
    "bonuses = calculate_bonuses(merged_df)\n",
    "bonuses.head()"
   ]
  },
  {
   "cell_type": "markdown",
   "id": "b353baaa-7daf-4f9d-9ab4-e2e90f43c7c2",
   "metadata": {},
   "source": [
    "### [Скользящее среднее](https://ru.hexlet.io/challenges/python-pandas-rolling-exercise)\n",
    "\n",
    "https://ru.hexlet.io/code_reviews/1588087"
   ]
  },
  {
   "cell_type": "code",
   "execution_count": 481,
   "id": "13ce7b53-ff7c-4c40-9805-56610db74f0b",
   "metadata": {},
   "outputs": [],
   "source": [
    "import pandas as pd\n",
    "import numpy as np\n",
    "import matplotlib.pyplot as plt"
   ]
  },
  {
   "cell_type": "code",
   "execution_count": 412,
   "id": "4789e429-8941-4a37-8a1a-b6051db4da39",
   "metadata": {},
   "outputs": [],
   "source": [
    "path = './data/sales.csv'"
   ]
  },
  {
   "cell_type": "code",
   "execution_count": 495,
   "id": "14db9661-ef1d-4aa6-bfde-27497b1dc666",
   "metadata": {},
   "outputs": [],
   "source": [
    "def analyze(path):\n",
    "    df = pd.read_csv(path)\n",
    "    df.columns = df.columns.str.lower()  # Преобразуем колонки в lowercase\n",
    "    df = df.assign(\n",
    "        profit_ratio=lambda x: (x['profit'] / x['sales']) * 100,\n",
    "        rolling_avg=lambda x: x['profit_ratio'].rolling(3).mean().round(2)\n",
    "    )\n",
    "    return df\n",
    "\n",
    "\n",
    "def visualize(df):\n",
    "    plt.figure(figsize=(12, 6))\n",
    "    plt.plot(df['month'], df['profit_ratio'], marker='o', color='blue', label='profit ratio')\n",
    "    plt.plot(df['month'], df['rolling_avg'], marker='o', color='green', label='rolling average')\n",
    "    plt.title(\"Monthly profit ratio and rolling average\")\n",
    "    plt.ylabel(\"Profit ratio\")\n",
    "    plt.legend()\n",
    "    plt.grid(True)\n",
    "    plt.show()\n"
   ]
  },
  {
   "cell_type": "code",
   "execution_count": 472,
   "id": "da1e94bb-b586-43d2-99d5-3ab2377069da",
   "metadata": {},
   "outputs": [
    {
     "data": {
      "text/html": [
       "<div>\n",
       "<style scoped>\n",
       "    .dataframe tbody tr th:only-of-type {\n",
       "        vertical-align: middle;\n",
       "    }\n",
       "\n",
       "    .dataframe tbody tr th {\n",
       "        vertical-align: top;\n",
       "    }\n",
       "\n",
       "    .dataframe thead th {\n",
       "        text-align: right;\n",
       "    }\n",
       "</style>\n",
       "<table border=\"1\" class=\"dataframe\">\n",
       "  <thead>\n",
       "    <tr style=\"text-align: right;\">\n",
       "      <th></th>\n",
       "      <th>month</th>\n",
       "      <th>sales</th>\n",
       "      <th>profit</th>\n",
       "      <th>profit_ratio</th>\n",
       "      <th>rolling_avg</th>\n",
       "    </tr>\n",
       "  </thead>\n",
       "  <tbody>\n",
       "    <tr>\n",
       "      <th>0</th>\n",
       "      <td>2021-01-31</td>\n",
       "      <td>502</td>\n",
       "      <td>100.40</td>\n",
       "      <td>20.0</td>\n",
       "      <td>NaN</td>\n",
       "    </tr>\n",
       "    <tr>\n",
       "      <th>1</th>\n",
       "      <td>2021-02-28</td>\n",
       "      <td>718</td>\n",
       "      <td>201.04</td>\n",
       "      <td>28.0</td>\n",
       "      <td>NaN</td>\n",
       "    </tr>\n",
       "    <tr>\n",
       "      <th>2</th>\n",
       "      <td>2021-03-31</td>\n",
       "      <td>722</td>\n",
       "      <td>115.52</td>\n",
       "      <td>16.0</td>\n",
       "      <td>21.33</td>\n",
       "    </tr>\n",
       "    <tr>\n",
       "      <th>3</th>\n",
       "      <td>2021-04-30</td>\n",
       "      <td>627</td>\n",
       "      <td>131.67</td>\n",
       "      <td>21.0</td>\n",
       "      <td>21.67</td>\n",
       "    </tr>\n",
       "    <tr>\n",
       "      <th>4</th>\n",
       "      <td>2021-05-31</td>\n",
       "      <td>553</td>\n",
       "      <td>154.84</td>\n",
       "      <td>28.0</td>\n",
       "      <td>21.67</td>\n",
       "    </tr>\n",
       "  </tbody>\n",
       "</table>\n",
       "</div>"
      ],
      "text/plain": [
       "        month  sales  profit  profit_ratio  rolling_avg\n",
       "0  2021-01-31    502  100.40          20.0          NaN\n",
       "1  2021-02-28    718  201.04          28.0          NaN\n",
       "2  2021-03-31    722  115.52          16.0        21.33\n",
       "3  2021-04-30    627  131.67          21.0        21.67\n",
       "4  2021-05-31    553  154.84          28.0        21.67"
      ]
     },
     "execution_count": 472,
     "metadata": {},
     "output_type": "execute_result"
    }
   ],
   "source": [
    "df = analyze(path)\n",
    "df.head()"
   ]
  },
  {
   "cell_type": "code",
   "execution_count": 497,
   "id": "e08e24d4-4c07-4e19-92b9-254bc5dbd52b",
   "metadata": {},
   "outputs": [
    {
     "data": {
      "image/png": "[encoded data removed]",
      "text/plain": [
       "<Figure size 1200x600 with 1 Axes>"
      ]
     },
     "metadata": {},
     "output_type": "display_data"
    }
   ],
   "source": [
    "visualize(df)"
   ]
  },
  {
   "cell_type": "markdown",
   "id": "b464c716-1ea1-4ec5-9c2d-a7accf0ccebc",
   "metadata": {},
   "source": [
    "### [Когортный анализ](https://ru.hexlet.io/challenges/python-pandas-cohorts-exercise)"
   ]
  },
  {
   "cell_type": "raw",
   "id": "a57ce013-a94f-4c1c-af06-08ce7e82f88b",
   "metadata": {},
   "source": [
    "    Напишите функцию, calculate_retention(), которая принимает путь до csv-файла с данными:\n",
    "        UserID - id пользователя\n",
    "        FirstVisitDate - дата первого посещения в приложении\n",
    "        FollowUpVisitDate - дата последующего посещения\n",
    "\n",
    "    и возвращает следующий датафрейм-сводную таблицу\n",
    "    FollowUpVisitMonth \t2021-01 \t2021-02 \t2021-03 \t2021-04 \t2021-05 \t2021-06\n",
    "    FirstVisitMonth \t\t\t\t\t\t\n",
    "    2021-01 \t1.0 \t0.77 \t0.46 \t0.38 \t0.08 \t0.00\n",
    "    2021-02 \t0.00 \t1.00 \t0.69 \t0.46 \t0.15 \t0.00\n",
    "    2021-03 \t0.00 \t0.00 \t1.00 \t0.89 \t0.56 \t0.33\n",
    "    2021-04 \t0.00 \t0.00 \t0.00 \t1.00 \t0.60 \t0.60\n",
    "    2021-05 \t0.00 \t0.00 \t0.00 \t0.00 \t1.00 \t0.84\n",
    "\n",
    "    c полями:\n",
    "        FirstVisitMonth - месяц первого посещения\n",
    "        FollowUpVisitMonth - месяц последующего посещения\n",
    "\n",
    ", где на пересечении полей расчитаны нормализованный процент удержания.\n",
    "\n",
    "Так например в когорте 2021-01 100 процентов осталось в 2021-01, а уже в 2021-02 осталось 77% пользователей, в 2021-03 осталось 46%, и к 2021-06 не осталось ни одного пользователя из первоначальной когорты"
   ]
  },
  {
   "cell_type": "code",
   "execution_count": 504,
   "id": "bbbe86a2-4f5c-4f14-ba31-e6bca52b1bc4",
   "metadata": {},
   "outputs": [],
   "source": [
    "path = './data/visits.csv'"
   ]
  },
  {
   "cell_type": "code",
   "execution_count": 617,
   "id": "5f270aa0-faad-4e26-81f3-90419b824223",
   "metadata": {},
   "outputs": [],
   "source": [
    "def calculate_retention(path):\n",
    "    df = pd.read_csv(path)\n",
    "    df['FirstVisitDate'] = pd.to_datetime(df['FirstVisitDate'], errors='coerce').dt.to_period('M')\n",
    "    df['FollowUpVisitDate'] = pd.to_datetime(df['FollowUpVisitDate'], errors='coerce').dt.to_period('M')\n",
    "    df['value'] = df['FollowUpVisitDate'].apply(lambda e: 0 if pd.isna(e) else 1)\n",
    "    return df"
   ]
  },
  {
   "cell_type": "code",
   "execution_count": 619,
   "id": "a9da331c-4976-45be-835a-6237677366b1",
   "metadata": {},
   "outputs": [
    {
     "data": {
      "text/html": [
       "<div>\n",
       "<style scoped>\n",
       "    .dataframe tbody tr th:only-of-type {\n",
       "        vertical-align: middle;\n",
       "    }\n",
       "\n",
       "    .dataframe tbody tr th {\n",
       "        vertical-align: top;\n",
       "    }\n",
       "\n",
       "    .dataframe thead th {\n",
       "        text-align: right;\n",
       "    }\n",
       "</style>\n",
       "<table border=\"1\" class=\"dataframe\">\n",
       "  <thead>\n",
       "    <tr style=\"text-align: right;\">\n",
       "      <th></th>\n",
       "      <th>UserID</th>\n",
       "      <th>FirstVisitDate</th>\n",
       "      <th>FollowUpVisitDate</th>\n",
       "      <th>value</th>\n",
       "    </tr>\n",
       "  </thead>\n",
       "  <tbody>\n",
       "    <tr>\n",
       "      <th>0</th>\n",
       "      <td>1</td>\n",
       "      <td>2021-02</td>\n",
       "      <td>2021-02</td>\n",
       "      <td>1</td>\n",
       "    </tr>\n",
       "    <tr>\n",
       "      <th>1</th>\n",
       "      <td>1</td>\n",
       "      <td>2021-02</td>\n",
       "      <td>2021-03</td>\n",
       "      <td>1</td>\n",
       "    </tr>\n",
       "    <tr>\n",
       "      <th>2</th>\n",
       "      <td>1</td>\n",
       "      <td>2021-02</td>\n",
       "      <td>2021-04</td>\n",
       "      <td>1</td>\n",
       "    </tr>\n",
       "    <tr>\n",
       "      <th>3</th>\n",
       "      <td>2</td>\n",
       "      <td>2021-03</td>\n",
       "      <td>2021-03</td>\n",
       "      <td>1</td>\n",
       "    </tr>\n",
       "    <tr>\n",
       "      <th>4</th>\n",
       "      <td>2</td>\n",
       "      <td>2021-03</td>\n",
       "      <td>2021-04</td>\n",
       "      <td>1</td>\n",
       "    </tr>\n",
       "    <tr>\n",
       "      <th>5</th>\n",
       "      <td>3</td>\n",
       "      <td>2021-01</td>\n",
       "      <td>2021-01</td>\n",
       "      <td>1</td>\n",
       "    </tr>\n",
       "    <tr>\n",
       "      <th>6</th>\n",
       "      <td>4</td>\n",
       "      <td>2021-06</td>\n",
       "      <td>2021-06</td>\n",
       "      <td>1</td>\n",
       "    </tr>\n",
       "    <tr>\n",
       "      <th>7</th>\n",
       "      <td>5</td>\n",
       "      <td>2021-05</td>\n",
       "      <td>NaT</td>\n",
       "      <td>0</td>\n",
       "    </tr>\n",
       "    <tr>\n",
       "      <th>8</th>\n",
       "      <td>6</td>\n",
       "      <td>2021-03</td>\n",
       "      <td>2021-03</td>\n",
       "      <td>1</td>\n",
       "    </tr>\n",
       "    <tr>\n",
       "      <th>9</th>\n",
       "      <td>6</td>\n",
       "      <td>2021-03</td>\n",
       "      <td>2021-04</td>\n",
       "      <td>1</td>\n",
       "    </tr>\n",
       "  </tbody>\n",
       "</table>\n",
       "</div>"
      ],
      "text/plain": [
       "   UserID FirstVisitDate FollowUpVisitDate  value\n",
       "0       1        2021-02           2021-02      1\n",
       "1       1        2021-02           2021-03      1\n",
       "2       1        2021-02           2021-04      1\n",
       "3       2        2021-03           2021-03      1\n",
       "4       2        2021-03           2021-04      1\n",
       "5       3        2021-01           2021-01      1\n",
       "6       4        2021-06           2021-06      1\n",
       "7       5        2021-05               NaT      0\n",
       "8       6        2021-03           2021-03      1\n",
       "9       6        2021-03           2021-04      1"
      ]
     },
     "execution_count": 619,
     "metadata": {},
     "output_type": "execute_result"
    }
   ],
   "source": [
    "df = calculate_retention(path)\n",
    "df.head(10)"
   ]
  },
  {
   "cell_type": "code",
   "execution_count": 593,
   "id": "7ec61c4a-a9a9-4a26-801f-d241536ab1af",
   "metadata": {},
   "outputs": [
    {
     "name": "stdout",
     "output_type": "stream",
     "text": [
      "<class 'pandas.core.frame.DataFrame'>\n",
      "RangeIndex: 180 entries, 0 to 179\n",
      "Data columns (total 3 columns):\n",
      " #   Column             Non-Null Count  Dtype    \n",
      "---  ------             --------------  -----    \n",
      " 0   UserID             180 non-null    int64    \n",
      " 1   FirstVisitDate     180 non-null    period[M]\n",
      " 2   FollowUpVisitDate  153 non-null    period[M]\n",
      "dtypes: int64(1), period[M](2)\n",
      "memory usage: 4.3 KB\n"
     ]
    }
   ],
   "source": [
    "df.info()"
   ]
  },
  {
   "cell_type": "code",
   "execution_count": 597,
   "id": "9182ea74-ae55-46d4-9548-b5be61290af7",
   "metadata": {},
   "outputs": [],
   "source": [
    "data = {\n",
    "    'City': ['London', 'Paris', 'London', 'Paris', 'London', 'Paris'],\n",
    "    'Year': [2020, 2020, 2021, 2021, 2022, 2022],\n",
    "    'Sales': [100, 150, 200, 180, 250, 220]\n",
    "}\n",
    "\n",
    "df = pd.DataFrame(data)"
   ]
  },
  {
   "cell_type": "code",
   "execution_count": 599,
   "id": "082e41be-f4e4-4f37-acec-148cb1155c39",
   "metadata": {},
   "outputs": [
    {
     "data": {
      "text/html": [
       "<div>\n",
       "<style scoped>\n",
       "    .dataframe tbody tr th:only-of-type {\n",
       "        vertical-align: middle;\n",
       "    }\n",
       "\n",
       "    .dataframe tbody tr th {\n",
       "        vertical-align: top;\n",
       "    }\n",
       "\n",
       "    .dataframe thead th {\n",
       "        text-align: right;\n",
       "    }\n",
       "</style>\n",
       "<table border=\"1\" class=\"dataframe\">\n",
       "  <thead>\n",
       "    <tr style=\"text-align: right;\">\n",
       "      <th></th>\n",
       "      <th>City</th>\n",
       "      <th>Year</th>\n",
       "      <th>Sales</th>\n",
       "    </tr>\n",
       "  </thead>\n",
       "  <tbody>\n",
       "    <tr>\n",
       "      <th>0</th>\n",
       "      <td>London</td>\n",
       "      <td>2020</td>\n",
       "      <td>100</td>\n",
       "    </tr>\n",
       "    <tr>\n",
       "      <th>1</th>\n",
       "      <td>Paris</td>\n",
       "      <td>2020</td>\n",
       "      <td>150</td>\n",
       "    </tr>\n",
       "    <tr>\n",
       "      <th>2</th>\n",
       "      <td>London</td>\n",
       "      <td>2021</td>\n",
       "      <td>200</td>\n",
       "    </tr>\n",
       "    <tr>\n",
       "      <th>3</th>\n",
       "      <td>Paris</td>\n",
       "      <td>2021</td>\n",
       "      <td>180</td>\n",
       "    </tr>\n",
       "    <tr>\n",
       "      <th>4</th>\n",
       "      <td>London</td>\n",
       "      <td>2022</td>\n",
       "      <td>250</td>\n",
       "    </tr>\n",
       "    <tr>\n",
       "      <th>5</th>\n",
       "      <td>Paris</td>\n",
       "      <td>2022</td>\n",
       "      <td>220</td>\n",
       "    </tr>\n",
       "  </tbody>\n",
       "</table>\n",
       "</div>"
      ],
      "text/plain": [
       "     City  Year  Sales\n",
       "0  London  2020    100\n",
       "1   Paris  2020    150\n",
       "2  London  2021    200\n",
       "3   Paris  2021    180\n",
       "4  London  2022    250\n",
       "5   Paris  2022    220"
      ]
     },
     "execution_count": 599,
     "metadata": {},
     "output_type": "execute_result"
    }
   ],
   "source": [
    "df"
   ]
  },
  {
   "cell_type": "code",
   "execution_count": 601,
   "id": "5acfe47e-55fe-495c-8b08-b6eb0aa52a6e",
   "metadata": {},
   "outputs": [
    {
     "data": {
      "text/html": [
       "<div>\n",
       "<style scoped>\n",
       "    .dataframe tbody tr th:only-of-type {\n",
       "        vertical-align: middle;\n",
       "    }\n",
       "\n",
       "    .dataframe tbody tr th {\n",
       "        vertical-align: top;\n",
       "    }\n",
       "\n",
       "    .dataframe thead th {\n",
       "        text-align: right;\n",
       "    }\n",
       "</style>\n",
       "<table border=\"1\" class=\"dataframe\">\n",
       "  <thead>\n",
       "    <tr style=\"text-align: right;\">\n",
       "      <th>Year</th>\n",
       "      <th>2020</th>\n",
       "      <th>2021</th>\n",
       "      <th>2022</th>\n",
       "    </tr>\n",
       "    <tr>\n",
       "      <th>City</th>\n",
       "      <th></th>\n",
       "      <th></th>\n",
       "      <th></th>\n",
       "    </tr>\n",
       "  </thead>\n",
       "  <tbody>\n",
       "    <tr>\n",
       "      <th>London</th>\n",
       "      <td>100</td>\n",
       "      <td>200</td>\n",
       "      <td>250</td>\n",
       "    </tr>\n",
       "    <tr>\n",
       "      <th>Paris</th>\n",
       "      <td>150</td>\n",
       "      <td>180</td>\n",
       "      <td>220</td>\n",
       "    </tr>\n",
       "  </tbody>\n",
       "</table>\n",
       "</div>"
      ],
      "text/plain": [
       "Year    2020  2021  2022\n",
       "City                    \n",
       "London   100   200   250\n",
       "Paris    150   180   220"
      ]
     },
     "execution_count": 601,
     "metadata": {},
     "output_type": "execute_result"
    }
   ],
   "source": [
    "# values='Sales': указываем столбец, данные которого хотим агрегировать.\n",
    "# index='City': строки будут соответствовать значениям столбца City.\n",
    "# columns='Year': значения столбца Year будут заголовками столбцов.\n",
    "# aggfunc='sum': функция суммирования данных.\n",
    "pivot = pd.pivot_table(df, values='Sales', index='City', columns='Year', aggfunc='sum')\n",
    "pivot"
   ]
  },
  {
   "cell_type": "code",
   "execution_count": 623,
   "id": "0dd22649-e0a9-4844-b6f8-fce42fbec841",
   "metadata": {},
   "outputs": [
    {
     "ename": "KeyError",
     "evalue": "'FollowUpVisitMonth'",
     "output_type": "error",
     "traceback": [
      "\u001b[0;31m---------------------------------------------------------------------------\u001b[0m",
      "\u001b[0;31mKeyError\u001b[0m                                  Traceback (most recent call last)",
      "Cell \u001b[0;32mIn[623], line 1\u001b[0m\n\u001b[0;32m----> 1\u001b[0m pivot \u001b[38;5;241m=\u001b[39m pd\u001b[38;5;241m.\u001b[39mpivot_table(df, values\u001b[38;5;241m=\u001b[39m\u001b[38;5;124m'\u001b[39m\u001b[38;5;124mvalue\u001b[39m\u001b[38;5;124m'\u001b[39m, index\u001b[38;5;241m=\u001b[39m\u001b[38;5;124m'\u001b[39m\u001b[38;5;124mFirstVisitDate\u001b[39m\u001b[38;5;124m'\u001b[39m, columns\u001b[38;5;241m=\u001b[39m\u001b[38;5;124m'\u001b[39m\u001b[38;5;124mFollowUpVisitMonth\u001b[39m\u001b[38;5;124m'\u001b[39m, aggfunc\u001b[38;5;241m=\u001b[39m\u001b[38;5;124m'\u001b[39m\u001b[38;5;124msum\u001b[39m\u001b[38;5;124m'\u001b[39m)\n",
      "File \u001b[0;32m~/anaconda3/lib/python3.11/site-packages/pandas/core/reshape/pivot.py:102\u001b[0m, in \u001b[0;36mpivot_table\u001b[0;34m(data, values, index, columns, aggfunc, fill_value, margins, dropna, margins_name, observed, sort)\u001b[0m\n\u001b[1;32m     99\u001b[0m     table \u001b[38;5;241m=\u001b[39m concat(pieces, keys\u001b[38;5;241m=\u001b[39mkeys, axis\u001b[38;5;241m=\u001b[39m\u001b[38;5;241m1\u001b[39m)\n\u001b[1;32m    100\u001b[0m     \u001b[38;5;28;01mreturn\u001b[39;00m table\u001b[38;5;241m.\u001b[39m__finalize__(data, method\u001b[38;5;241m=\u001b[39m\u001b[38;5;124m\"\u001b[39m\u001b[38;5;124mpivot_table\u001b[39m\u001b[38;5;124m\"\u001b[39m)\n\u001b[0;32m--> 102\u001b[0m table \u001b[38;5;241m=\u001b[39m __internal_pivot_table(\n\u001b[1;32m    103\u001b[0m     data,\n\u001b[1;32m    104\u001b[0m     values,\n\u001b[1;32m    105\u001b[0m     index,\n\u001b[1;32m    106\u001b[0m     columns,\n\u001b[1;32m    107\u001b[0m     aggfunc,\n\u001b[1;32m    108\u001b[0m     fill_value,\n\u001b[1;32m    109\u001b[0m     margins,\n\u001b[1;32m    110\u001b[0m     dropna,\n\u001b[1;32m    111\u001b[0m     margins_name,\n\u001b[1;32m    112\u001b[0m     observed,\n\u001b[1;32m    113\u001b[0m     sort,\n\u001b[1;32m    114\u001b[0m )\n\u001b[1;32m    115\u001b[0m \u001b[38;5;28;01mreturn\u001b[39;00m table\u001b[38;5;241m.\u001b[39m__finalize__(data, method\u001b[38;5;241m=\u001b[39m\u001b[38;5;124m\"\u001b[39m\u001b[38;5;124mpivot_table\u001b[39m\u001b[38;5;124m\"\u001b[39m)\n",
      "File \u001b[0;32m~/anaconda3/lib/python3.11/site-packages/pandas/core/reshape/pivot.py:172\u001b[0m, in \u001b[0;36m__internal_pivot_table\u001b[0;34m(data, values, index, columns, aggfunc, fill_value, margins, dropna, margins_name, observed, sort)\u001b[0m\n\u001b[1;32m    169\u001b[0m     values \u001b[38;5;241m=\u001b[39m \u001b[38;5;28mlist\u001b[39m(values)\n\u001b[1;32m    171\u001b[0m observed_bool \u001b[38;5;241m=\u001b[39m \u001b[38;5;28;01mFalse\u001b[39;00m \u001b[38;5;28;01mif\u001b[39;00m observed \u001b[38;5;129;01mis\u001b[39;00m lib\u001b[38;5;241m.\u001b[39mno_default \u001b[38;5;28;01melse\u001b[39;00m observed\n\u001b[0;32m--> 172\u001b[0m grouped \u001b[38;5;241m=\u001b[39m data\u001b[38;5;241m.\u001b[39mgroupby(keys, observed\u001b[38;5;241m=\u001b[39mobserved_bool, sort\u001b[38;5;241m=\u001b[39msort, dropna\u001b[38;5;241m=\u001b[39mdropna)\n\u001b[1;32m    173\u001b[0m \u001b[38;5;28;01mif\u001b[39;00m observed \u001b[38;5;129;01mis\u001b[39;00m lib\u001b[38;5;241m.\u001b[39mno_default \u001b[38;5;129;01mand\u001b[39;00m \u001b[38;5;28many\u001b[39m(\n\u001b[1;32m    174\u001b[0m     ping\u001b[38;5;241m.\u001b[39m_passed_categorical \u001b[38;5;28;01mfor\u001b[39;00m ping \u001b[38;5;129;01min\u001b[39;00m grouped\u001b[38;5;241m.\u001b[39m_grouper\u001b[38;5;241m.\u001b[39mgroupings\n\u001b[1;32m    175\u001b[0m ):\n\u001b[1;32m    176\u001b[0m     warnings\u001b[38;5;241m.\u001b[39mwarn(\n\u001b[1;32m    177\u001b[0m         \u001b[38;5;124m\"\u001b[39m\u001b[38;5;124mThe default value of observed=False is deprecated and will change \u001b[39m\u001b[38;5;124m\"\u001b[39m\n\u001b[1;32m    178\u001b[0m         \u001b[38;5;124m\"\u001b[39m\u001b[38;5;124mto observed=True in a future version of pandas. Specify \u001b[39m\u001b[38;5;124m\"\u001b[39m\n\u001b[0;32m   (...)\u001b[0m\n\u001b[1;32m    181\u001b[0m         stacklevel\u001b[38;5;241m=\u001b[39mfind_stack_level(),\n\u001b[1;32m    182\u001b[0m     )\n",
      "File \u001b[0;32m~/anaconda3/lib/python3.11/site-packages/pandas/core/frame.py:9183\u001b[0m, in \u001b[0;36mDataFrame.groupby\u001b[0;34m(self, by, axis, level, as_index, sort, group_keys, observed, dropna)\u001b[0m\n\u001b[1;32m   9180\u001b[0m \u001b[38;5;28;01mif\u001b[39;00m level \u001b[38;5;129;01mis\u001b[39;00m \u001b[38;5;28;01mNone\u001b[39;00m \u001b[38;5;129;01mand\u001b[39;00m by \u001b[38;5;129;01mis\u001b[39;00m \u001b[38;5;28;01mNone\u001b[39;00m:\n\u001b[1;32m   9181\u001b[0m     \u001b[38;5;28;01mraise\u001b[39;00m \u001b[38;5;167;01mTypeError\u001b[39;00m(\u001b[38;5;124m\"\u001b[39m\u001b[38;5;124mYou have to supply one of \u001b[39m\u001b[38;5;124m'\u001b[39m\u001b[38;5;124mby\u001b[39m\u001b[38;5;124m'\u001b[39m\u001b[38;5;124m and \u001b[39m\u001b[38;5;124m'\u001b[39m\u001b[38;5;124mlevel\u001b[39m\u001b[38;5;124m'\u001b[39m\u001b[38;5;124m\"\u001b[39m)\n\u001b[0;32m-> 9183\u001b[0m \u001b[38;5;28;01mreturn\u001b[39;00m DataFrameGroupBy(\n\u001b[1;32m   9184\u001b[0m     obj\u001b[38;5;241m=\u001b[39m\u001b[38;5;28mself\u001b[39m,\n\u001b[1;32m   9185\u001b[0m     keys\u001b[38;5;241m=\u001b[39mby,\n\u001b[1;32m   9186\u001b[0m     axis\u001b[38;5;241m=\u001b[39maxis,\n\u001b[1;32m   9187\u001b[0m     level\u001b[38;5;241m=\u001b[39mlevel,\n\u001b[1;32m   9188\u001b[0m     as_index\u001b[38;5;241m=\u001b[39mas_index,\n\u001b[1;32m   9189\u001b[0m     sort\u001b[38;5;241m=\u001b[39msort,\n\u001b[1;32m   9190\u001b[0m     group_keys\u001b[38;5;241m=\u001b[39mgroup_keys,\n\u001b[1;32m   9191\u001b[0m     observed\u001b[38;5;241m=\u001b[39mobserved,\n\u001b[1;32m   9192\u001b[0m     dropna\u001b[38;5;241m=\u001b[39mdropna,\n\u001b[1;32m   9193\u001b[0m )\n",
      "File \u001b[0;32m~/anaconda3/lib/python3.11/site-packages/pandas/core/groupby/groupby.py:1329\u001b[0m, in \u001b[0;36mGroupBy.__init__\u001b[0;34m(self, obj, keys, axis, level, grouper, exclusions, selection, as_index, sort, group_keys, observed, dropna)\u001b[0m\n\u001b[1;32m   1326\u001b[0m \u001b[38;5;28mself\u001b[39m\u001b[38;5;241m.\u001b[39mdropna \u001b[38;5;241m=\u001b[39m dropna\n\u001b[1;32m   1328\u001b[0m \u001b[38;5;28;01mif\u001b[39;00m grouper \u001b[38;5;129;01mis\u001b[39;00m \u001b[38;5;28;01mNone\u001b[39;00m:\n\u001b[0;32m-> 1329\u001b[0m     grouper, exclusions, obj \u001b[38;5;241m=\u001b[39m get_grouper(\n\u001b[1;32m   1330\u001b[0m         obj,\n\u001b[1;32m   1331\u001b[0m         keys,\n\u001b[1;32m   1332\u001b[0m         axis\u001b[38;5;241m=\u001b[39maxis,\n\u001b[1;32m   1333\u001b[0m         level\u001b[38;5;241m=\u001b[39mlevel,\n\u001b[1;32m   1334\u001b[0m         sort\u001b[38;5;241m=\u001b[39msort,\n\u001b[1;32m   1335\u001b[0m         observed\u001b[38;5;241m=\u001b[39m\u001b[38;5;28;01mFalse\u001b[39;00m \u001b[38;5;28;01mif\u001b[39;00m observed \u001b[38;5;129;01mis\u001b[39;00m lib\u001b[38;5;241m.\u001b[39mno_default \u001b[38;5;28;01melse\u001b[39;00m observed,\n\u001b[1;32m   1336\u001b[0m         dropna\u001b[38;5;241m=\u001b[39m\u001b[38;5;28mself\u001b[39m\u001b[38;5;241m.\u001b[39mdropna,\n\u001b[1;32m   1337\u001b[0m     )\n\u001b[1;32m   1339\u001b[0m \u001b[38;5;28;01mif\u001b[39;00m observed \u001b[38;5;129;01mis\u001b[39;00m lib\u001b[38;5;241m.\u001b[39mno_default:\n\u001b[1;32m   1340\u001b[0m     \u001b[38;5;28;01mif\u001b[39;00m \u001b[38;5;28many\u001b[39m(ping\u001b[38;5;241m.\u001b[39m_passed_categorical \u001b[38;5;28;01mfor\u001b[39;00m ping \u001b[38;5;129;01min\u001b[39;00m grouper\u001b[38;5;241m.\u001b[39mgroupings):\n",
      "File \u001b[0;32m~/anaconda3/lib/python3.11/site-packages/pandas/core/groupby/grouper.py:1043\u001b[0m, in \u001b[0;36mget_grouper\u001b[0;34m(obj, key, axis, level, sort, observed, validate, dropna)\u001b[0m\n\u001b[1;32m   1041\u001b[0m         in_axis, level, gpr \u001b[38;5;241m=\u001b[39m \u001b[38;5;28;01mFalse\u001b[39;00m, gpr, \u001b[38;5;28;01mNone\u001b[39;00m\n\u001b[1;32m   1042\u001b[0m     \u001b[38;5;28;01melse\u001b[39;00m:\n\u001b[0;32m-> 1043\u001b[0m         \u001b[38;5;28;01mraise\u001b[39;00m \u001b[38;5;167;01mKeyError\u001b[39;00m(gpr)\n\u001b[1;32m   1044\u001b[0m \u001b[38;5;28;01melif\u001b[39;00m \u001b[38;5;28misinstance\u001b[39m(gpr, Grouper) \u001b[38;5;129;01mand\u001b[39;00m gpr\u001b[38;5;241m.\u001b[39mkey \u001b[38;5;129;01mis\u001b[39;00m \u001b[38;5;129;01mnot\u001b[39;00m \u001b[38;5;28;01mNone\u001b[39;00m:\n\u001b[1;32m   1045\u001b[0m     \u001b[38;5;66;03m# Add key to exclusions\u001b[39;00m\n\u001b[1;32m   1046\u001b[0m     exclusions\u001b[38;5;241m.\u001b[39madd(gpr\u001b[38;5;241m.\u001b[39mkey)\n",
      "\u001b[0;31mKeyError\u001b[0m: 'FollowUpVisitMonth'"
     ]
    }
   ],
   "source": [
    "pivot = pd.pivot_table(df, values='value', index='FirstVisitDate', columns='FollowUpVisitMonth', aggfunc='sum')"
   ]
  },
  {
   "cell_type": "code",
   "execution_count": null,
   "id": "69fa3b04-d789-458b-9e3e-43a7daf5f06f",
   "metadata": {},
   "outputs": [],
   "source": []
  }
 ],
 "metadata": {
  "kernelspec": {
   "display_name": "Python 3 (ipykernel)",
   "language": "python",
   "name": "python3"
  },
  "language_info": {
   "codemirror_mode": {
    "name": "ipython",
    "version": 3
   },
   "file_extension": ".py",
   "mimetype": "text/x-python",
   "name": "python",
   "nbconvert_exporter": "python",
   "pygments_lexer": "ipython3",
   "version": "3.11.9"
  }
 },
 "nbformat": 4,
 "nbformat_minor": 5
}
