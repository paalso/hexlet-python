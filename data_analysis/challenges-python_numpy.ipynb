{
 "cells": [
  {
   "cell_type": "markdown",
   "id": "831f65bd-67e6-4d86-b3dc-b7da898334c4",
   "metadata": {},
   "source": [
    "# [Python: Numpy-массивы](https://ru.hexlet.io/courses/python-numpy)"
   ]
  },
  {
   "cell_type": "markdown",
   "id": "7d2aa39c-7a15-466f-b5a0-2b534f7a808b",
   "metadata": {},
   "source": [
    "## [Испытания](https://ru.hexlet.io/courses/python-numpy#challenges)"
   ]
  },
  {
   "cell_type": "markdown",
   "id": "cac4ec97-cbc9-4789-8c8a-95269142ab48",
   "metadata": {},
   "source": [
    "### [Успешные группы](https://ru.hexlet.io/challenges/python_numpy_student_grades_exercise/instance)\n",
    "\n",
    "https://ru.hexlet.io/code_reviews/1574111"
   ]
  },
  {
   "cell_type": "code",
   "execution_count": 1,
   "id": "0e7cabe9-3bfa-4456-997f-03cbd1b83073",
   "metadata": {},
   "outputs": [],
   "source": [
    "import numpy as np"
   ]
  },
  {
   "cell_type": "raw",
   "id": "2914eb91-f7fe-452e-a69b-2c96655681e1",
   "metadata": {},
   "source": [
    "Напишите функцию better_in_subject(), которая принимает два массива с оценками студентов двух групп по предметам (Math, Chemistry, Physics, Literature) и название предмета, а возвращает номер группы, у которой средняя оценка выше.\n",
    "\n",
    "Напишите функцию get_above_average(), которая принимает два массива с оценками студентов двух групп и номер группы, а возвращает массив процентов студентов, получивших оценку выше среднего по каждому из предметов."
   ]
  },
  {
   "cell_type": "code",
   "execution_count": 33,
   "id": "554a4feb-0db6-4643-9dca-b5c646e06945",
   "metadata": {},
   "outputs": [],
   "source": [
    "def better_in_subject(array1: np.array, array2: np.array, subject: str) -> int:\n",
    "    subjects = ['Math', 'Chemistry', 'Physics', 'Literature']\n",
    "    col_num = subjects.index(subject)\n",
    "    array1_subject_mean = array1[:,col_num].mean()\n",
    "    array2_subject_mean = array2[:,col_num].mean()\n",
    "    return 1 if array1_subject_mean > array2_subject_mean else 2\n",
    "\n",
    "\n",
    "def get_above_average(array1: np.array, array2: np.array, array_number: int) -> int:\n",
    "    array = array1 if array_number == 1 else array2\n",
    "    mean_grades = array.mean(axis=0)\n",
    "    return ((array > mean_grades).sum(axis=0) / array.shape[0] * 100).round(2)"
   ]
  },
  {
   "cell_type": "code",
   "execution_count": 15,
   "id": "4d5b707f-1361-4023-8aa1-a92595591dec",
   "metadata": {},
   "outputs": [
    {
     "name": "stdout",
     "output_type": "stream",
     "text": [
      "2\n",
      "1\n",
      "1\n"
     ]
    }
   ],
   "source": [
    "print(better_in_subject(grades_1, grades_2, 'Math')) # 2\n",
    "print(better_in_subject(grades_1, grades_2, 'Physics')) # 1\n",
    "print(better_in_subject(grades_1, grades_2, 'Literature')) # 1"
   ]
  },
  {
   "cell_type": "code",
   "execution_count": 17,
   "id": "e6b52f70-2254-4549-9ae8-dc77400a19e3",
   "metadata": {},
   "outputs": [],
   "source": [
    "# каждый ряд - оценки студента\n",
    "# по предметам: Math, Chemistry, Physics, Literature\n",
    "grades_1 = np.array([[2, 2, 5, 3], [3, 4, 2, 5], [3, 5, 5, 4], [4, 4, 5, 2], [5, 5, 4, 5]])\n",
    "grades_2 = np.array([[5, 3, 3, 5], [4, 5, 4, 5], [3, 2, 2, 2], [3, 2, 2, 2], [5, 2, 4, 2]])"
   ]
  },
  {
   "cell_type": "code",
   "execution_count": 19,
   "id": "2bed16b5-2849-433a-a17a-1bf9e3791f13",
   "metadata": {
    "scrolled": true
   },
   "outputs": [
    {
     "data": {
      "text/plain": [
       "array([40., 40., 60., 60.])"
      ]
     },
     "execution_count": 19,
     "metadata": {},
     "output_type": "execute_result"
    }
   ],
   "source": [
    "get_above_average(grades_1, grades_2, 1) # [40., 80., 80., 60.]"
   ]
  },
  {
   "cell_type": "markdown",
   "id": "927bb5c4-59a3-43bc-98ca-cc47e5ebd580",
   "metadata": {},
   "source": [
    "### [Анализ погоды](https://ru.hexlet.io/challenges/python_numpy_temperatures_exercise)\n",
    "\n",
    "https://ru.hexlet.io/code_reviews/1576923"
   ]
  },
  {
   "cell_type": "markdown",
   "id": "6fd22671-d97c-42d4-8ce4-588cba107493",
   "metadata": {},
   "source": [
    "Напишите функцию anomalous_days_count, которая принимает массив температур за месяц и возвращает количество аномальных дней в месяце. Аномальными дни считаются, если температура за день отличается от средней скользящей (с окном в 5 дней) на 5 и больше градусов.\n",
    "\n",
    "`days = [12, 16, 20, 32, 24, 22, 12, 18]`\n",
    "\n",
    "средние скользящие с окном в 5 дней будут [nan, nan, nan, nan, 20.8, 22.8, 22.0, 21.6]\n",
    "тогда разницы со средними будут как [nan, nan, nan, nan, 3.2, 0.8, 10.0, 3.6]\n",
    "отсюда видно, что у нас 2 аномальных дня\n",
    "\n",
    "`anomalous_days_count(days) # 2`\n",
    "\n",
    "2) Напишите функцию stable_days_count, которая принимает массив температур за месяц и возвращает количество стабильных дней в месяце. Стабильными дни считаются, если температура за день не отличается от средней скользящей (с окном в 5 дней) больше чем на 2 градуса.\n",
    "\n",
    "`days = [12, 16, 20, 32, 24, 22, 12, 18]`\n",
    "\n",
    "средние скользящие с окном в 5 дней будут [nan, nan, nan, nan, 20.8, 22.8, 22.0, 21.6]\n",
    "огда разницы со средними будут как [nan, nan, nan, nan, 3.2, 0.8, 10.0, 3.6]\n",
    "отсюда видно, что есть 1 стабильный день\n",
    "\n",
    "`stable_days_count(days) # 1`\n",
    "\n",
    "3) Напишите функцию max_stable_period, которая принимает массив температур и возвращает максимальную продолжительность периода стабильных дней. Стабильными дни считаются, если температура за день не отличается от средней скользящей (с окном в 5 дней) больше чем на 2 градуса.\n",
    "\n",
    "`days = [12, 16, 20, 32, 24, 22, 12, 18]`\n",
    "\n",
    "средние скользящие с окном в 5 дней будут [nan, nan, nan, nan, 20.8, 22.8, 22.0, 21.6]\n",
    "тогда разницы со средними будут как [nan, nan, nan, nan, 3.2, 0.8, 10.0, 3.6]\n",
    "отсюда видно, что есть всего 1 стабильный день подряд\n",
    "\n",
    "`max_stable_period(days) # 1`\n",
    "\n",
    "Подсказки\n",
    "\n",
    "Среднее скользящее расчитывается как среднее периода. Если невозможно расчитать за предыдущие дни, то задайте его как nan. Например для массива [1, 2, 3] скользящие будут [nan, nan, 2.0]\n"
   ]
  },
  {
   "cell_type": "code",
   "execution_count": 3,
   "id": "277f5812-68fc-49d1-8216-5281020807e5",
   "metadata": {},
   "outputs": [],
   "source": [
    "def moving_average(array: np.array, window):\n",
    "    nan_section = np.full(min((array_len := len(array)), window - 1), np.nan)\n",
    "    if array_len <= window - 1:\n",
    "        return nan_section\n",
    "    values_section = np.array([array[i - window:i].mean() for i in range(window, array_len + 1)])\n",
    "    return np.hstack([nan_section, values_section])\n",
    "\n",
    "\n",
    "def anomalous_days_count(array, window=5, abnormal_diff=5):\n",
    "    if isinstance(array, list):\n",
    "        array = np.array(array)\n",
    "    moving_averages = moving_average(array, window)\n",
    "    diffs = np.abs(moving_averages - array)\n",
    "    # print(diffs)\n",
    "    return len(diffs[diffs >= abnormal_diff])\n",
    "\n",
    "def stable_days_count(array, window=5, stable_diff=2):\n",
    "    if isinstance(array, list):\n",
    "        array = np.array(array)\n",
    "    moving_averages = moving_average(array, window)\n",
    "    diffs = np.abs(moving_averages - array)\n",
    "    # print(diffs)\n",
    "    return len(diffs[diffs <= stable_diff])\n",
    "\n",
    "\n",
    "def max_stable_period(array, window=5, stable_diff=2):\n",
    "    if isinstance(array, list):\n",
    "        array = np.array(array)\n",
    "    stable_days_mask = _stable_days_mask(array, window, stable_diff)\n",
    "    return _longest_constant_series(stable_days_mask, True)\n",
    "\n",
    "\n",
    "def _stable_days_mask(array: np.array, window, stable_diff):\n",
    "    moving_averages = moving_average(array, window)\n",
    "    diffs = np.abs(moving_averages - array)\n",
    "    return diffs <= stable_diff\n",
    "\n",
    "\n",
    "def _longest_constant_series(items, value):\n",
    "    def _longest_constant_series_from_id(id_):\n",
    "        max_len = 0\n",
    "        for i in range(id_, len(items)):\n",
    "            if items[i] != value:\n",
    "                break\n",
    "            max_len += 1\n",
    "        return max_len\n",
    "    \n",
    "    max_len = 0\n",
    "    for i in range(len(items)):\n",
    "        next_longest_constant_series = _longest_constant_series_from_id(i)\n",
    "        if next_longest_constant_series > max_len:\n",
    "            max_len = next_longest_constant_series\n",
    "    return max_len"
   ]
  },
  {
   "cell_type": "code",
   "execution_count": 5,
   "id": "3048fc47-ca9e-45b8-9e97-1c95c134be57",
   "metadata": {},
   "outputs": [],
   "source": [
    "days = np.array([12, 16, 20, 32, 24, 22, 12, 18])\n",
    "# array([ nan,  nan,  nan,  nan,  3.2,  0.8, 10. ,  3.6])"
   ]
  },
  {
   "cell_type": "code",
   "execution_count": 7,
   "id": "f2e8c1a4-f673-4703-b0ed-cf0ae9c9d716",
   "metadata": {},
   "outputs": [
    {
     "data": {
      "text/plain": [
       "1"
      ]
     },
     "execution_count": 7,
     "metadata": {},
     "output_type": "execute_result"
    }
   ],
   "source": [
    "anomalous_days_count(days)"
   ]
  },
  {
   "cell_type": "code",
   "execution_count": 9,
   "id": "0fecd82e-3649-45c9-888c-338f5d683ec4",
   "metadata": {},
   "outputs": [
    {
     "data": {
      "text/plain": [
       "1"
      ]
     },
     "execution_count": 9,
     "metadata": {},
     "output_type": "execute_result"
    }
   ],
   "source": [
    "stable_days_count(days)"
   ]
  },
  {
   "cell_type": "code",
   "execution_count": 11,
   "id": "42d92946-ed71-4931-b4b8-99d35fce8fa8",
   "metadata": {},
   "outputs": [
    {
     "data": {
      "text/plain": [
       "1"
      ]
     },
     "execution_count": 11,
     "metadata": {},
     "output_type": "execute_result"
    }
   ],
   "source": [
    "max_stable_period(days)"
   ]
  },
  {
   "cell_type": "code",
   "execution_count": 38,
   "id": "0cfff215-4c11-4aef-b614-1af95b58fd46",
   "metadata": {},
   "outputs": [],
   "source": [
    "def max_stable_period(temperatures):\n",
    "    temperatures_diff = find_temperatures_diff(temperatures)\n",
    "    stable_days = temperatures_diff <= 2\n",
    "\n",
    "    change_points = np.where(np.logical_not(stable_days))[0] + 1\n",
    "    all_points = np.concatenate(([0], change_points, [len(temperatures)]))\n",
    "\n",
    "    stable_periods = np.diff(all_points) - 1\n",
    "    return np.max(stable_periods)"
   ]
  },
  {
   "cell_type": "markdown",
   "id": "0b1c37dd-2289-4967-b22b-ea5fe93f1a39",
   "metadata": {},
   "source": [
    "### [Система рекомендаций](https://ru.hexlet.io/challenges/python-numpy-recommendations-exercise)\n",
    "\n",
    "https://ru.hexlet.io/code_reviews/1588353\n",
    "\n",
    "https://ru.hexlet.io/challenges/python-numpy-recommendations-exercise/instance"
   ]
  },
  {
   "cell_type": "markdown",
   "id": "5b70fc21-4c34-4aaa-b919-5c9a9277026a",
   "metadata": {},
   "source": [
    "Напишите функцию, get_recommendation(), которая принимает матрицу с данными о покупках и id пользователя и возвращает список id из максимум 3 товаров, которые можно порекомендовать пользователю для покупки\n",
    "\n",
    "```\n",
    "# df с покупками представляет собой матрицу, где каждая строка это покупки пользователя с id равным индексу строки\n",
    "# т.е. покупки пользователя 0 будут [1 2 5 0 0]\n",
    "# что означает, что он купил 1 товар с id=0, 2 товара с id=1, 5 товаров id=2 и ноль остальных\n",
    "purchases = np.array([\n",
    "   [1, 2, 5, 0, 0],\n",
    "   [1, 1, 0, 1, 4],\n",
    "   [0, 3, 0, 0, 1],\n",
    "   [1, 5, 0, 0, 3]])\n",
    "\n",
    "# получим рекомендации пользователя с id=0\n",
    "recs = get_recommendation(purchases, 0)\n",
    "# пользователю предлагаются товары с id=3 и id=4\n",
    "print(recs) # [4 3]\n",
    "```\n",
    "Товар добавляется в рекомендации по принципу - если он куплен у схожих, но не куплен самим пользователем. Для поиска рекомендаций каждого пользователя ограничьтесь только 5 самыми схожими с ним пользователями."
   ]
  },
  {
   "cell_type": "code",
   "execution_count": 75,
   "id": "33dd62ff-b7d0-420f-8643-72f43297abc0",
   "metadata": {},
   "outputs": [],
   "source": [
    "from collections import Counter\n",
    "import numpy as np\n",
    "\n",
    "\n",
    "def get_recommendation(purchases, user_id, similar_goods_count=3, similar_purchases_count=5):\n",
    "    top_similar_goods = _get_top_similar_goods(purchases, user_id, similar_purchases_count).sum(axis=0)\n",
    "    top_similar_goods_ids = np.argsort(-top_similar_goods)\n",
    "    filtered_top_similar_goods_ids = top_similar_goods_ids[top_similar_goods[top_similar_goods_ids] != 0]\n",
    "    return filtered_top_similar_goods_ids[:similar_goods_count]\n",
    "\n",
    "\n",
    "def _get_top_similar_goods(purchases, user_id, similar_purchases_count):\n",
    "    user_purchases = purchases[user_id]\n",
    "    user_goods = np.where(user_purchases > 0, 1, 0)\n",
    "\n",
    "    top_similar_purchases = _get_top_similar_purchases(purchases, user_id, similar_purchases_count)\n",
    "    top_similar_goods = np.where(top_similar_purchases > 0, 1, 0)\n",
    "    top_similar_goods[:, user_goods == 1] = 0\n",
    "    return top_similar_goods\n",
    "\n",
    "\n",
    "def _get_top_similar_purchases(purchases, user_id, count):\n",
    "    users_purchases = purchases[user_id]\n",
    "    corrcoefs = np.corrcoef(users_purchases, purchases)[0,1:]\n",
    "\n",
    "    sorted_ids = np.argsort(-corrcoefs)\n",
    "    top_similar_ids = sorted_ids[sorted_ids != user_id][:count]\n",
    "    top_similar_purchases = purchases[top_similar_ids]\n",
    "    return top_similar_purchases"
   ]
  },
  {
   "cell_type": "code",
   "execution_count": 55,
   "id": "c92df743-0f3d-4e89-ae15-e6a23602d685",
   "metadata": {},
   "outputs": [],
   "source": [
    "# Debug version\n",
    "\n",
    "def get_recommendation(purchases, user_id, similar_goods_count=3, similar_purchases_count=5):\n",
    "    top_similar_goods = _get_top_similar_goods(purchases, user_id, similar_purchases_count).sum(axis=0)\n",
    "    print(f'top_similar_goods:\\n{top_similar_goods}\\n')\n",
    "    top_similar_goods_ids = np.argsort(-top_similar_goods)\n",
    "    print(f'top_similar_goods_ids:\\n{top_similar_goods_ids}\\n')\n",
    "    filtered_top_similar_goods_ids = top_similar_goods_ids[top_similar_goods[top_similar_goods_ids] != 0]\n",
    "    print(f'filtered_top_similar_goods_ids:\\n{filtered_top_similar_goods_ids}\\n')\n",
    "    return filtered_top_similar_goods_ids[:similar_goods_count]\n",
    "\n",
    "\n",
    "def _get_top_similar_goods(purchases, user_id, similar_purchases_count):\n",
    "    user_purchases = purchases[user_id]\n",
    "    user_goods = np.where(user_purchases > 0, 1, 0)\n",
    "\n",
    "    top_similar_purchases = _get_top_similar_purchases(purchases, user_id, similar_purchases_count)\n",
    "    top_similar_goods = np.where(top_similar_purchases > 0, 1, 0)\n",
    "    top_similar_goods[:, user_goods == 1] = 0\n",
    "    return top_similar_goods\n",
    "\n",
    "\n",
    "def _get_top_similar_purchases(purchases, user_id, count):\n",
    "    users_purchases = purchases[user_id]\n",
    "    corrcoefs = np.corrcoef(users_purchases, purchases)[0,1:]\n",
    "\n",
    "    sorted_ids = np.argsort(-corrcoefs)\n",
    "    top_similar_ids = sorted_ids[sorted_ids != user_id][:count]\n",
    "    top_similar_purchases = purchases[top_similar_ids]\n",
    "    return top_similar_purchases"
   ]
  },
  {
   "cell_type": "code",
   "execution_count": 61,
   "id": "8fb2a0a4-ec81-4258-8ef9-7c8f983402fc",
   "metadata": {},
   "outputs": [
    {
     "name": "stdout",
     "output_type": "stream",
     "text": [
      "1.26.4\n"
     ]
    }
   ],
   "source": [
    "print(np.__version__)"
   ]
  },
  {
   "cell_type": "markdown",
   "id": "02ccbed8-3ebd-4b51-85e3-901f58c0cfd5",
   "metadata": {},
   "source": [
    "```\n",
    "/usr/src/app$ cat find_bug.py \n",
    "import numpy as np\n",
    "\n",
    "array = np.array([0, 5, 0, 5, 0, 5, 0, 5, 0, 5])\n",
    "array_descending_value_ids = np.argsort(-array)\n",
    "print(array_descending_value_ids)\n",
    "print(np.__version__)\n",
    "/usr/src/app$ python3 ./find_bug.py \n",
    "[1 3 7 5 9 2 4 0 6 8]\n",
    "2.1.1\n",
    "```"
   ]
  },
  {
   "cell_type": "code",
   "execution_count": null,
   "id": "a3659861-6177-42b5-b441-2d1a27ac48f1",
   "metadata": {},
   "outputs": [],
   "source": []
  }
 ],
 "metadata": {
  "kernelspec": {
   "display_name": "Python 3 (ipykernel)",
   "language": "python",
   "name": "python3"
  },
  "language_info": {
   "codemirror_mode": {
    "name": "ipython",
    "version": 3
   },
   "file_extension": ".py",
   "mimetype": "text/x-python",
   "name": "python",
   "nbconvert_exporter": "python",
   "pygments_lexer": "ipython3",
   "version": "3.11.9"
  }
 },
 "nbformat": 4,
 "nbformat_minor": 5
}
