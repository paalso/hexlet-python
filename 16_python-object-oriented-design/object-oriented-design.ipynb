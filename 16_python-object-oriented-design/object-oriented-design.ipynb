{
 "cells": [
  {
   "cell_type": "markdown",
   "id": "711c2fb3-34db-4315-90e2-815e47bb1275",
   "metadata": {},
   "source": [
    "# [Python: Объектно-ориентированный дизайн ](https://ru.hexlet.io/courses/python-object-oriented-design)"
   ]
  },
  {
   "cell_type": "markdown",
   "id": "e631805a-e215-4e5e-b068-c81b969d15ca",
   "metadata": {},
   "source": [
    "## [Шаблоны Проектирования](https://ru.hexlet.io/courses/python-object-oriented-design/lessons/patterns/theory_unit)"
   ]
  },
  {
   "cell_type": "markdown",
   "id": "e2486e22-936f-4383-9388-f9294f96e405",
   "metadata": {},
   "source": [
    "[Решение](https://ru.hexlet.io/code_reviews/1131296)"
   ]
  },
  {
   "cell_type": "raw",
   "id": "11c01295-3200-4092-99ca-1b367e81e5a1",
   "metadata": {},
   "source": [
    "Реализуйте функцию to_Klass(), которая принимает на вход словарь и возвращает объект типа Klass такой же структуры.\n",
    "\n",
    "data = {\n",
    "    'key': 'value',\n",
    "    'key2': 'value2',\n",
    "}\n",
    "config = to_Klass(data)\n",
    "\n",
    "config.key ## value\n",
    "config.key2 ## value2"
   ]
  },
  {
   "cell_type": "code",
   "execution_count": 19,
   "id": "2665649f-dc9d-4c35-aa7d-dc87ddd72533",
   "metadata": {},
   "outputs": [],
   "source": [
    "from dataclasses import dataclass\n",
    "\n",
    "\n",
    "@dataclass\n",
    "class Klass:\n",
    "    pass"
   ]
  },
  {
   "cell_type": "code",
   "execution_count": 29,
   "id": "181e546f-25e8-49c2-902c-041d79b8f62c",
   "metadata": {},
   "outputs": [],
   "source": [
    "def to_Klass(data):\n",
    "    klass = Klass()\n",
    "    for key, value in data.items():\n",
    "        klass.__setattr__(key, value)\n",
    "    return klass"
   ]
  },
  {
   "cell_type": "code",
   "execution_count": 31,
   "id": "ba62cd7a-f5af-4940-8ffb-ea17a876028a",
   "metadata": {},
   "outputs": [
    {
     "data": {
      "text/plain": [
       "'value2'"
      ]
     },
     "execution_count": 31,
     "metadata": {},
     "output_type": "execute_result"
    }
   ],
   "source": [
    "data = {\n",
    "    'key': 'value',\n",
    "    'key2': 'value2',\n",
    "}\n",
    "config = to_Klass(data)\n",
    "\n",
    "config.key ## value\n",
    "config.key2 ## value2"
   ]
  },
  {
   "cell_type": "code",
   "execution_count": 1,
   "id": "2b037302-0b96-4e8e-a73a-3f9a04b88401",
   "metadata": {},
   "outputs": [],
   "source": [
    "articles = [\n",
    "    {'id': 1, 'title': '\"How to foo?\"', 'author': 'F. BarBaz'},\n",
    "    {'id': 2, 'title': '\"Force 101\"', 'author': 'O-W. Kenobi'},\n",
    "    {'id': 3, 'title': '\"Top 10 skyscrapers\"', 'author': 'K. Kong'},\n",
    "    {'id': 4, 'title': '\"Top 10 skyscrapers (jp. edition)\"', 'author': 'K. Godzilla'},\n",
    "    {'id': 5, 'title': '\"5 min recepies\"', 'author': 'H. Lector'},\n",
    "]"
   ]
  },
  {
   "cell_type": "markdown",
   "id": "f0f83351-30a2-4ba4-a2ed-ebe6c29ca97d",
   "metadata": {},
   "source": [
    "## [Конфигурация](https://ru.hexlet.io/courses/python-object-oriented-design/lessons/configuration/theory_unit)"
   ]
  },
  {
   "cell_type": "markdown",
   "id": "f3720a7c-df71-4a7f-ae60-cdf503ab99ff",
   "metadata": {},
   "source": [
    "[Решение](https://ru.hexlet.io/code_reviews/1133501)"
   ]
  },
  {
   "cell_type": "code",
   "execution_count": 7,
   "id": "2aa151de-0410-4d9a-93e6-02ddd5dfe7ab",
   "metadata": {},
   "outputs": [],
   "source": [
    "class PasswordValidator:\n",
    "    OPTIONS = {\n",
    "        'min_len': 8,\n",
    "        'contain_numbers': False\n",
    "    }\n",
    "\n",
    "    def __init__(self, **options):\n",
    "        self.options = { **self.__class__.OPTIONS }\n",
    "        self.options.update(options)\n",
    "\n",
    "    def validate(self, password):\n",
    "        errors = {}\n",
    "        if len(password) < self.options['min_len']:\n",
    "            errors['min_len'] = 'too small'\n",
    "\n",
    "        if self.options['contain_numbers'] and not self._contain_numbers(password):\n",
    "            errors['contain_numbers'] = 'should contain at least one number'\n",
    "\n",
    "        return errors\n",
    "\n",
    "    @staticmethod\n",
    "    def _contain_numbers(text):\n",
    "        return any(c.isdigit() for c in text)"
   ]
  },
  {
   "cell_type": "markdown",
   "id": "b8c16270-cbd9-45e6-91ea-a1458e318779",
   "metadata": {},
   "source": [
    "## [Изменяемая конфигурация](https://ru.hexlet.io/courses/python-object-oriented-design/lessons/configuration-setters/theory_unit)"
   ]
  },
  {
   "cell_type": "markdown",
   "id": "8d192216-da2c-4c97-99c9-fa6f2f8e486e",
   "metadata": {},
   "source": [
    "[Решение](https://ru.hexlet.io/code_reviews/1133840)"
   ]
  },
  {
   "cell_type": "code",
   "execution_count": 40,
   "id": "47280461-885f-44fd-9608-ba4422b938d8",
   "metadata": {},
   "outputs": [],
   "source": [
    "class Truncater:\n",
    "    OPTIONS = {\n",
    "        'separator': '...',\n",
    "        'length': 200,\n",
    "    }\n",
    "    def __init__(self, **options):\n",
    "        self.options = self.__class__.OPTIONS | options\n",
    "\n",
    "    def truncate(self, text, **options):\n",
    "        options = self.options | options\n",
    "        length = options['length']\n",
    "        separator = options['separator']\n",
    "        if len(text) <= length:\n",
    "            return text\n",
    "        truncated_text = f'{text[:length]}{separator}'\n",
    "        return truncated_text"
   ]
  },
  {
   "cell_type": "code",
   "execution_count": 42,
   "id": "46755cf4-697e-4e21-b517-7e653612a480",
   "metadata": {},
   "outputs": [
    {
     "data": {
      "text/plain": [
       "'one tw...'"
      ]
     },
     "execution_count": 42,
     "metadata": {},
     "output_type": "execute_result"
    }
   ],
   "source": [
    "truncater = Truncater()\n",
    "\n",
    "truncater.truncate('one two')  # one two\n",
    "truncater.truncate('one two', length=6)  # one tw..."
   ]
  },
  {
   "cell_type": "code",
   "execution_count": 44,
   "id": "c608918a-eefd-4adc-aece-9d09f26e9c10",
   "metadata": {},
   "outputs": [
    {
     "data": {
      "text/plain": [
       "'one tw*'"
      ]
     },
     "execution_count": 44,
     "metadata": {},
     "output_type": "execute_result"
    }
   ],
   "source": [
    "truncater2 = Truncater(length=6, separator='*')\n",
    "truncater2.truncate('one two')  # one tw*"
   ]
  },
  {
   "cell_type": "code",
   "execution_count": 46,
   "id": "fab6732d-516e-4a62-a47b-1f1e5dfaf898",
   "metadata": {},
   "outputs": [
    {
     "data": {
      "text/plain": [
       "'one tw...'"
      ]
     },
     "execution_count": 46,
     "metadata": {},
     "output_type": "execute_result"
    }
   ],
   "source": [
    "truncater.truncate('one two', length=6)"
   ]
  },
  {
   "cell_type": "markdown",
   "id": "ad05b37a-47a6-4cfd-b252-6d2b08e969cb",
   "metadata": {},
   "source": [
    "## [Объекты-сущности, Объекты-значения и внедренные объекты](https://ru.hexlet.io/courses/python-object-oriented-design/lessons/modeling/theory_unit)"
   ]
  },
  {
   "cell_type": "markdown",
   "id": "43e98c64-17d1-4b68-adf4-9337de339b33",
   "metadata": {},
   "source": [
    "[Решение](https://ru.hexlet.io/code_reviews/1135088)"
   ]
  },
  {
   "cell_type": "code",
   "execution_count": 18,
   "id": "7195ddab-d857-44d4-bbda-130b251ad1a8",
   "metadata": {},
   "outputs": [],
   "source": [
    "from urllib.parse import urlparse, parse_qs\n",
    "\n",
    "\n",
    "class Url:\n",
    "    def __init__(self, url):\n",
    "        self.parsed_url = urlparse(url)\n",
    "\n",
    "    def get_scheme(self):\n",
    "        return self.parsed_url.scheme\n",
    "\n",
    "    def get_hostname(self):\n",
    "        return self.parsed_url.hostname\n",
    "    \n",
    "    def get_query_params(self):\n",
    "        query = self.parsed_url.query\n",
    "        return parse_qs(query)\n",
    "\n",
    "    def get_query_param(self, key, value=None):\n",
    "        params = self.get_query_params()\n",
    "        query_param = params.get(key, [value])[0]\n",
    "        return query_param\n",
    "\n",
    "    def __eq__(self, other):\n",
    "        return self.parsed_url == other.parsed_url and self.parsed_url == other.parsed_url"
   ]
  },
  {
   "cell_type": "code",
   "execution_count": 20,
   "id": "e1c1522f-fc3b-4f27-9e6c-da2a98f1aaea",
   "metadata": {},
   "outputs": [
    {
     "name": "stdout",
     "output_type": "stream",
     "text": [
      "http\n",
      "hexlet.io\n",
      "{'key': ['value'], 'key2': ['value2']}\n",
      "value\n",
      "value2\n",
      "ehu\n",
      "None\n"
     ]
    }
   ],
   "source": [
    "url = Url('http://hexlet.io:80?key=value&key2=value2')\n",
    "print(url.get_scheme()) # http\n",
    "print(url.get_hostname()) # hexlet.io\n",
    "print(url.get_query_params())\n",
    "# {\n",
    "#  key: [value],\n",
    "#  key2: [value2],\n",
    "# }\n",
    "print(url.get_query_param('key')) # value\n",
    "# второй параметр — значение по умолчанию\n",
    "print(url.get_query_param('key2', 'lala')) # value2\n",
    "print(url.get_query_param('new', 'ehu')) # ehu\n",
    "print(url.get_query_param('new')) # None"
   ]
  },
  {
   "cell_type": "code",
   "execution_count": 22,
   "id": "b589e045-c8f6-4bf6-8924-7bedb8c0c977",
   "metadata": {},
   "outputs": [
    {
     "data": {
      "text/plain": [
       "True"
      ]
     },
     "execution_count": 22,
     "metadata": {},
     "output_type": "execute_result"
    }
   ],
   "source": [
    "url == Url('http://hexlet.io:80?key=value&key2=value2') # True"
   ]
  },
  {
   "cell_type": "code",
   "execution_count": 24,
   "id": "62f436d8-6277-4de2-ae99-ecafcc4f47f1",
   "metadata": {},
   "outputs": [
    {
     "data": {
      "text/plain": [
       "False"
      ]
     },
     "execution_count": 24,
     "metadata": {},
     "output_type": "execute_result"
    }
   ],
   "source": [
    "url == Url('http://hexlet.io:80?key=value') "
   ]
  },
  {
   "cell_type": "code",
   "execution_count": 26,
   "id": "64ab7f99-b1b0-458f-9be6-72971f6c6583",
   "metadata": {},
   "outputs": [
    {
     "data": {
      "text/plain": [
       "ParseResult(scheme='http', netloc='hexlet.io:80', path='', params='', query='key=value&key2=value2', fragment='')"
      ]
     },
     "execution_count": 26,
     "metadata": {},
     "output_type": "execute_result"
    }
   ],
   "source": [
    "Url('http://hexlet.io:80?key=value&key2=value2').parsed_url"
   ]
  },
  {
   "cell_type": "code",
   "execution_count": 30,
   "id": "d604741c-c516-4f68-8cde-d789902183a2",
   "metadata": {},
   "outputs": [],
   "source": [
    "from urllib.parse import urlparse, parse_qs\n",
    "\n",
    "\n",
    "class Url:\n",
    "    def __init__(self, url):\n",
    "        self.parsed_url = urlparse(url)\n",
    "\n",
    "    def get_scheme(self):\n",
    "        return self.parsed_url.scheme\n",
    "\n",
    "    def get_hostname(self):\n",
    "        return self.parsed_url.hostname\n",
    "\n",
    "    def get_netloc(self):\n",
    "        return self.parsed_url.netloc\n",
    "\n",
    "    def get_path(self):\n",
    "        return self.parsed_url.path\n",
    "\n",
    "    def get_query_params(self):\n",
    "        query = self.parsed_url.query\n",
    "        return parse_qs(query)\n",
    "\n",
    "    def get_query_param(self, key, value=None):\n",
    "        params = self.get_query_params()\n",
    "        query_param = params.get(key, [value])[0]\n",
    "        return query_param\n",
    "\n",
    "    def get_clean_url(self):\n",
    "        return f'{self.get_scheme()}://{self.get_netloc()}/{self.get_path()}'\n",
    "\n",
    "    def __eq__(self, other):\n",
    "        return self.get_clean_url() == other.get_clean_url() and \\\n",
    "               self.get_query_params() == other.get_query_params()"
   ]
  },
  {
   "cell_type": "code",
   "execution_count": 51,
   "id": "06b4a6fd-163f-41fd-b79e-09c7345239fd",
   "metadata": {},
   "outputs": [
    {
     "data": {
      "text/plain": [
       "True"
      ]
     },
     "execution_count": 51,
     "metadata": {},
     "output_type": "execute_result"
    }
   ],
   "source": [
    "url == Url('http://hexlet.io:80?key=value&key2=value2') # True"
   ]
  },
  {
   "cell_type": "code",
   "execution_count": 57,
   "id": "3245b3a4-426a-4381-99a5-d139aad06771",
   "metadata": {},
   "outputs": [
    {
     "data": {
      "text/plain": [
       "False"
      ]
     },
     "execution_count": 57,
     "metadata": {},
     "output_type": "execute_result"
    }
   ],
   "source": [
    "url == Url('http://hexlet.io:80?key=value&key2=value3') "
   ]
  },
  {
   "cell_type": "code",
   "execution_count": 59,
   "id": "1535c93a-56b5-4212-af95-81113c23c1c1",
   "metadata": {},
   "outputs": [
    {
     "data": {
      "text/plain": [
       "True"
      ]
     },
     "execution_count": 59,
     "metadata": {},
     "output_type": "execute_result"
    }
   ],
   "source": [
    "url == Url('http://hexlet.io:80?key2=value2&key=value')"
   ]
  },
  {
   "cell_type": "markdown",
   "id": "4e20f03a-d4c8-4ecb-b3f8-730ddcce3c8f",
   "metadata": {},
   "source": [
    "Hexlet's version"
   ]
  },
  {
   "cell_type": "code",
   "execution_count": 62,
   "id": "fbad0b24-afcb-48ad-872b-4beb1a4b4d2f",
   "metadata": {},
   "outputs": [],
   "source": [
    "class HexletUrl():\n",
    "    def __init__(self, url):\n",
    "        self.url = urlparse(url)\n",
    "        self.query_params = {}\n",
    "\n",
    "        if self.url.query:\n",
    "            self.query_params = parse_qs(self.url.query)\n",
    "\n",
    "    def get_scheme(self):\n",
    "        return self.url.scheme\n",
    "\n",
    "    def get_hostname(self):\n",
    "        return self.url.hostname\n",
    "\n",
    "    def get_query_params(self):\n",
    "        return self.query_params\n",
    "\n",
    "    def get_query_param(self, key, default_value=None):\n",
    "        return self.query_params.get(key, [default_value])[0]\n",
    "\n",
    "    def __eq__(self, other):\n",
    "        return self.url == other.url"
   ]
  },
  {
   "cell_type": "code",
   "execution_count": 64,
   "id": "1b466565-d44c-45ef-85f2-54a152a9f380",
   "metadata": {},
   "outputs": [],
   "source": [
    "helet_url = HexletUrl('http://hexlet.io:80?key=value&key2=value2')"
   ]
  },
  {
   "cell_type": "code",
   "execution_count": 66,
   "id": "7f10b45c-056f-4d84-b473-da5dc277f375",
   "metadata": {},
   "outputs": [
    {
     "data": {
      "text/plain": [
       "True"
      ]
     },
     "execution_count": 66,
     "metadata": {},
     "output_type": "execute_result"
    }
   ],
   "source": [
    "helet_url == HexletUrl('http://hexlet.io:80?key=value&key2=value2')"
   ]
  },
  {
   "cell_type": "code",
   "execution_count": 68,
   "id": "75e105b1-65f2-4619-ba8b-4069f5fb3dc5",
   "metadata": {},
   "outputs": [
    {
     "data": {
      "text/plain": [
       "False"
      ]
     },
     "execution_count": 68,
     "metadata": {},
     "output_type": "execute_result"
    }
   ],
   "source": [
    "helet_url == HexletUrl('http://hexlet.io:80?key2=value2&key=value')"
   ]
  },
  {
   "cell_type": "markdown",
   "id": "86980cf7-520a-41a3-8e1f-fc0d20735d6e",
   "metadata": {},
   "source": [
    "## [Fluent Interface](https://ru.hexlet.io/courses/python-object-oriented-design/lessons/fluent-interface/theory_unit)"
   ]
  },
  {
   "cell_type": "markdown",
   "id": "28cced1e-a3d3-4d76-909c-2eac0361b8c1",
   "metadata": {},
   "source": [
    "[Решение](https://ru.hexlet.io/code_reviews/1135214)"
   ]
  },
  {
   "cell_type": "code",
   "execution_count": 175,
   "id": "aa0b850d-2d28-42d2-bf7a-b116506b021e",
   "metadata": {},
   "outputs": [],
   "source": [
    "from functools import reduce as _reduce\n",
    "\n",
    "\n",
    "class Collection:\n",
    "    def __init__(self, iterable):\n",
    "        self.iterable = iterable\n",
    "\n",
    "    def map_(self, func):\n",
    "        return Collection(list(map(func, self.iterable)))\n",
    "\n",
    "    def filter_(self, func):\n",
    "        return Collection(list(filter(func, self.iterable)))\n",
    "\n",
    "    def reduce_(self, func, acc=None):\n",
    "        return Collection([_reduce(func, self.iterable, acc)])\n",
    "\n",
    "    # возвращает коллекцию с уникальными значениями\n",
    "    def unique(self):\n",
    "        tuples = set(tuple(sorted(d.items())) for d in self.iterable)\n",
    "        return Collection(list(dict(t) for t in tuples))\n",
    "\n",
    "    # группирует коллекцию по указаному ключу\n",
    "    def group_by(self, func):\n",
    "        def reducer(acc, val):\n",
    "            key, value = func(val)\n",
    "            if key not in acc:\n",
    "                acc[key] = []\n",
    "            acc[key].append(value)\n",
    "            return acc\n",
    "        result_dict = _reduce(reducer, self.iterable, {})\n",
    "        return Collection([{k: v} for k, v in result_dict.items()])\n",
    "\n",
    "    # сортирует колекцию по ключу\n",
    "    def sort_by(self, func):\n",
    "        return Collection(sorted(self.iterable, key=func))\n",
    "\n",
    "    def print(self):\n",
    "        print(self.iterable)\n",
    "        return Collection(self.iterable)\n",
    "\n",
    "    def all(self):\n",
    "        return list(self.iterable)"
   ]
  },
  {
   "cell_type": "code",
   "execution_count": 177,
   "id": "0dfd7c02-c3be-432d-8bc0-0b64df84034e",
   "metadata": {},
   "outputs": [],
   "source": [
    "raw = [{'name': 'istambul', 'country': 'turkey'},\n",
    "       {'name': 'Moscow ', 'country': ' Russia'},\n",
    "       {'name': 'iStambul', 'country': 'tUrkey'},\n",
    "       {'name': 'antalia', 'country': 'turkeY '},\n",
    "       {'name': 'samarA', 'country': '  ruSsiA'}]\n",
    "\n",
    "expected = [{'russia': ['moscow', 'samara']},\n",
    "            {'turkey': ['antalia', 'istambul']}]\n",
    "\n",
    "\n",
    "def test_format():\n",
    "    assert format(raw) == expected\n"
   ]
  },
  {
   "cell_type": "code",
   "execution_count": 179,
   "id": "a969f7ea-045c-400c-9043-0ee4c9bcdd0f",
   "metadata": {},
   "outputs": [],
   "source": [
    "test_format()"
   ]
  },
  {
   "cell_type": "markdown",
   "id": "ee87ea31-9b02-4fe3-a3b9-79b58f6d6a8e",
   "metadata": {},
   "source": [
    "## [Сборщики](https://ru.hexlet.io/courses/python-object-oriented-design/lessons/builder/theory_unit)"
   ]
  },
  {
   "cell_type": "markdown",
   "id": "c9ab5024-7c33-492a-b424-a0df0e01bc12",
   "metadata": {},
   "source": [
    "### Builders"
   ]
  },
  {
   "cell_type": "code",
   "execution_count": 32,
   "id": "ba7593cc-d587-4368-88c3-a36a4becb5c6",
   "metadata": {},
   "outputs": [],
   "source": [
    "class DataValidator:\n",
    "    def __init__(self, data):\n",
    "        self._data = data\n",
    "        self._errors = []\n",
    "\n",
    "    def validate_email(self):\n",
    "        if \"@\" not in self._data.get(\"email\", \"\"):\n",
    "            self._errors.append(\"Invalid email\")\n",
    "        return self\n",
    "\n",
    "    def validate_password(self):\n",
    "        if len(self.data._get(\"password\", \"\")) < 8:\n",
    "            self._errors.append(\"Password is too short\")\n",
    "        return self\n",
    "\n",
    "    def get_errors(self):\n",
    "        return self._errors"
   ]
  },
  {
   "cell_type": "code",
   "execution_count": 34,
   "id": "aa81b860-5118-4eb0-b8fe-db9ead0ead87",
   "metadata": {},
   "outputs": [
    {
     "name": "stdout",
     "output_type": "stream",
     "text": [
      "<__main__.DataValidator object at 0x7fdabd582f30>\n"
     ]
    }
   ],
   "source": [
    "data = {\"email\": \"test\", \"password\": \"short\"}\n",
    "validator = DataValidator(data)\n",
    "errors = validator.validate_email()\n",
    "\n",
    "if errors:\n",
    "    print(errors)"
   ]
  },
  {
   "cell_type": "code",
   "execution_count": 36,
   "id": "da9d8c7e-3f76-41f6-a6ee-944f6ecb46da",
   "metadata": {},
   "outputs": [
    {
     "data": {
      "text/plain": [
       "<__main__.DataValidator at 0x7fdabd582f30>"
      ]
     },
     "execution_count": 36,
     "metadata": {},
     "output_type": "execute_result"
    }
   ],
   "source": [
    "validator"
   ]
  },
  {
   "cell_type": "code",
   "execution_count": 27,
   "id": "8b9ffd3f-779d-42e6-a5cf-71868e1fa261",
   "metadata": {},
   "outputs": [
    {
     "data": {
      "text/plain": [
       "['Invalid email']"
      ]
     },
     "execution_count": 27,
     "metadata": {},
     "output_type": "execute_result"
    }
   ],
   "source": [
    "validator._errors"
   ]
  },
  {
   "cell_type": "raw",
   "id": "21356196-4230-4159-a5e6-cb6cc4a7086c",
   "metadata": {},
   "source": [
    "Booking — процесс бронирования чего-либо. В интернете существует множество сайтов, предлагающих бронирование машин, квартир, домов, самолётов и многого другого. Несмотря на то, что такие сайты предлагают разные услуги, букинг везде работает почти идентично. Выбираются нужные даты и, если они свободны, производится бронирование.\n",
    "\n",
    "Реализуйте класс Booking, который позволяет бронировать номер отеля на определённые даты. Метод класса book() принимает на вход две даты в текстовом формате. Если бронирование возможно, то метод возвращает True и выполняет бронирование (даты записываются во внутреннее состояние объекта)."
   ]
  },
  {
   "cell_type": "markdown",
   "id": "7872cf29-60bf-40e9-bf24-3398e3a754a0",
   "metadata": {},
   "source": [
    "[Решение](https://ru.hexlet.io/code_reviews/1137615)"
   ]
  },
  {
   "cell_type": "code",
   "execution_count": 195,
   "id": "c084d16e-0f43-413e-8a58-26a8fd4a7381",
   "metadata": {},
   "outputs": [],
   "source": [
    "from datetime import datetime\n",
    "\n",
    "class Booking:\n",
    "    def __init__(self):\n",
    "        self.booked_dates = []\n",
    "        self.booked_date_intervals = []\n",
    "\n",
    "    def book(self, str_date1: str, str_date2: str):\n",
    "        date1 = self.__class__.to_date(str_date1)\n",
    "        date2 = self.__class__.to_date(str_date2)\n",
    "        booking_interval = (date1, date2)\n",
    "        if self._check_booking(booking_interval):\n",
    "            self.booked_date_intervals.append(booking_interval)\n",
    "            return True\n",
    "        return False\n",
    "    \n",
    "    @staticmethod\n",
    "    def to_date(str_date: str):\n",
    "        return datetime.strptime(str_date, '%Y-%m-%d').date()\n",
    "\n",
    "    @staticmethod\n",
    "    def check_intervals_intersection(date_interval1, date_interval2):\n",
    "        start1, end1 = date_interval1\n",
    "        start2, end2 = date_interval2\n",
    "        return start1 < end2 and start2 < end1\n",
    "\n",
    "    def _check_booking(self, new_booking_interval):\n",
    "        start, end = new_booking_interval\n",
    "        if end <= start:\n",
    "            return False\n",
    "        for interval in self.booked_date_intervals:\n",
    "            if self.__class__.check_intervals_intersection(interval, new_booking_interval):\n",
    "                return False\n",
    "        return True"
   ]
  },
  {
   "cell_type": "code",
   "execution_count": 197,
   "id": "71079e9d-edd7-4250-8af7-aa77a069cb3f",
   "metadata": {},
   "outputs": [],
   "source": [
    "booking = Booking()"
   ]
  },
  {
   "cell_type": "code",
   "execution_count": 199,
   "id": "5a7209dd-c8fd-4d7b-ae8a-4ea0f935792b",
   "metadata": {},
   "outputs": [],
   "source": [
    "assert booking.book('2008-11-11', '2008-11-13')  # True\n",
    "assert not booking.book('2008-11-12', '2008-11-12')  # False\n",
    "assert not booking.book('2008-11-10', '2008-11-12')  # False\n",
    "assert booking.book('2008-11-10', '2008-11-11')  # True\n",
    "assert booking.book('2008-11-13', '2008-11-14')  # True"
   ]
  },
  {
   "cell_type": "code",
   "execution_count": null,
   "id": "20354fb9-d5d8-4120-8adc-53806cc9331a",
   "metadata": {},
   "outputs": [],
   "source": []
  }
 ],
 "metadata": {
  "kernelspec": {
   "display_name": "Python 3 (ipykernel)",
   "language": "python",
   "name": "python3"
  },
  "language_info": {
   "codemirror_mode": {
    "name": "ipython",
    "version": 3
   },
   "file_extension": ".py",
   "mimetype": "text/x-python",
   "name": "python",
   "nbconvert_exporter": "python",
   "pygments_lexer": "ipython3",
   "version": "3.12.4"
  }
 },
 "nbformat": 4,
 "nbformat_minor": 5
}
