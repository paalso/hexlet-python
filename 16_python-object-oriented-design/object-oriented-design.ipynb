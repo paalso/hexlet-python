{
 "cells": [
  {
   "cell_type": "markdown",
   "id": "711c2fb3-34db-4315-90e2-815e47bb1275",
   "metadata": {},
   "source": [
    "# [Python: Объектно-ориентированный дизайн ](https://ru.hexlet.io/courses/python-object-oriented-design)"
   ]
  },
  {
   "cell_type": "markdown",
   "id": "e631805a-e215-4e5e-b068-c81b969d15ca",
   "metadata": {},
   "source": [
    "## [Шаблоны Проектирования](https://ru.hexlet.io/courses/python-object-oriented-design/lessons/patterns/theory_unit)"
   ]
  },
  {
   "cell_type": "markdown",
   "id": "e2486e22-936f-4383-9388-f9294f96e405",
   "metadata": {},
   "source": [
    "[Решение](https://ru.hexlet.io/code_reviews/1131296)"
   ]
  },
  {
   "cell_type": "raw",
   "id": "11c01295-3200-4092-99ca-1b367e81e5a1",
   "metadata": {},
   "source": [
    "Реализуйте функцию to_Klass(), которая принимает на вход словарь и возвращает объект типа Klass такой же структуры.\n",
    "\n",
    "data = {\n",
    "    'key': 'value',\n",
    "    'key2': 'value2',\n",
    "}\n",
    "config = to_Klass(data)\n",
    "\n",
    "config.key ## value\n",
    "config.key2 ## value2"
   ]
  },
  {
   "cell_type": "code",
   "execution_count": 19,
   "id": "2665649f-dc9d-4c35-aa7d-dc87ddd72533",
   "metadata": {},
   "outputs": [],
   "source": [
    "from dataclasses import dataclass\n",
    "\n",
    "\n",
    "@dataclass\n",
    "class Klass:\n",
    "    pass"
   ]
  },
  {
   "cell_type": "code",
   "execution_count": 29,
   "id": "181e546f-25e8-49c2-902c-041d79b8f62c",
   "metadata": {},
   "outputs": [],
   "source": [
    "def to_Klass(data):\n",
    "    klass = Klass()\n",
    "    for key, value in data.items():\n",
    "        klass.__setattr__(key, value)\n",
    "    return klass"
   ]
  },
  {
   "cell_type": "code",
   "execution_count": 31,
   "id": "ba62cd7a-f5af-4940-8ffb-ea17a876028a",
   "metadata": {},
   "outputs": [
    {
     "data": {
      "text/plain": [
       "'value2'"
      ]
     },
     "execution_count": 31,
     "metadata": {},
     "output_type": "execute_result"
    }
   ],
   "source": [
    "data = {\n",
    "    'key': 'value',\n",
    "    'key2': 'value2',\n",
    "}\n",
    "config = to_Klass(data)\n",
    "\n",
    "config.key ## value\n",
    "config.key2 ## value2"
   ]
  },
  {
   "cell_type": "code",
   "execution_count": 1,
   "id": "2b037302-0b96-4e8e-a73a-3f9a04b88401",
   "metadata": {},
   "outputs": [],
   "source": [
    "articles = [\n",
    "    {'id': 1, 'title': '\"How to foo?\"', 'author': 'F. BarBaz'},\n",
    "    {'id': 2, 'title': '\"Force 101\"', 'author': 'O-W. Kenobi'},\n",
    "    {'id': 3, 'title': '\"Top 10 skyscrapers\"', 'author': 'K. Kong'},\n",
    "    {'id': 4, 'title': '\"Top 10 skyscrapers (jp. edition)\"', 'author': 'K. Godzilla'},\n",
    "    {'id': 5, 'title': '\"5 min recepies\"', 'author': 'H. Lector'},\n",
    "]"
   ]
  },
  {
   "cell_type": "markdown",
   "id": "f0f83351-30a2-4ba4-a2ed-ebe6c29ca97d",
   "metadata": {},
   "source": [
    "## [Конфигурация](https://ru.hexlet.io/courses/python-object-oriented-design/lessons/configuration/theory_unit)"
   ]
  },
  {
   "cell_type": "markdown",
   "id": "f3720a7c-df71-4a7f-ae60-cdf503ab99ff",
   "metadata": {},
   "source": [
    "[Решение](https://ru.hexlet.io/code_reviews/1133501)"
   ]
  },
  {
   "cell_type": "code",
   "execution_count": 7,
   "id": "2aa151de-0410-4d9a-93e6-02ddd5dfe7ab",
   "metadata": {},
   "outputs": [],
   "source": [
    "class PasswordValidator:\n",
    "    OPTIONS = {\n",
    "        'min_len': 8,\n",
    "        'contain_numbers': False\n",
    "    }\n",
    "\n",
    "    def __init__(self, **options):\n",
    "        self.options = { **self.__class__.OPTIONS }\n",
    "        self.options.update(options)\n",
    "\n",
    "    def validate(self, password):\n",
    "        errors = {}\n",
    "        if len(password) < self.options['min_len']:\n",
    "            errors['min_len'] = 'too small'\n",
    "\n",
    "        if self.options['contain_numbers'] and not self._contain_numbers(password):\n",
    "            errors['contain_numbers'] = 'should contain at least one number'\n",
    "\n",
    "        return errors\n",
    "\n",
    "    @staticmethod\n",
    "    def _contain_numbers(text):\n",
    "        return any(c.isdigit() for c in text)"
   ]
  },
  {
   "cell_type": "markdown",
   "id": "b8c16270-cbd9-45e6-91ea-a1458e318779",
   "metadata": {},
   "source": [
    "## [Изменяемая конфигурация](https://ru.hexlet.io/courses/python-object-oriented-design/lessons/configuration-setters/theory_unit)"
   ]
  },
  {
   "cell_type": "markdown",
   "id": "8d192216-da2c-4c97-99c9-fa6f2f8e486e",
   "metadata": {},
   "source": [
    "[Решение](https://ru.hexlet.io/code_reviews/1133840)"
   ]
  },
  {
   "cell_type": "code",
   "execution_count": 40,
   "id": "47280461-885f-44fd-9608-ba4422b938d8",
   "metadata": {},
   "outputs": [],
   "source": [
    "class Truncater:\n",
    "    OPTIONS = {\n",
    "        'separator': '...',\n",
    "        'length': 200,\n",
    "    }\n",
    "    def __init__(self, **options):\n",
    "        self.options = self.__class__.OPTIONS | options\n",
    "\n",
    "    def truncate(self, text, **options):\n",
    "        options = self.options | options\n",
    "        length = options['length']\n",
    "        separator = options['separator']\n",
    "        if len(text) <= length:\n",
    "            return text\n",
    "        truncated_text = f'{text[:length]}{separator}'\n",
    "        return truncated_text"
   ]
  },
  {
   "cell_type": "code",
   "execution_count": 42,
   "id": "46755cf4-697e-4e21-b517-7e653612a480",
   "metadata": {},
   "outputs": [
    {
     "data": {
      "text/plain": [
       "'one tw...'"
      ]
     },
     "execution_count": 42,
     "metadata": {},
     "output_type": "execute_result"
    }
   ],
   "source": [
    "truncater = Truncater()\n",
    "\n",
    "truncater.truncate('one two')  # one two\n",
    "truncater.truncate('one two', length=6)  # one tw..."
   ]
  },
  {
   "cell_type": "code",
   "execution_count": 44,
   "id": "c608918a-eefd-4adc-aece-9d09f26e9c10",
   "metadata": {},
   "outputs": [
    {
     "data": {
      "text/plain": [
       "'one tw*'"
      ]
     },
     "execution_count": 44,
     "metadata": {},
     "output_type": "execute_result"
    }
   ],
   "source": [
    "truncater2 = Truncater(length=6, separator='*')\n",
    "truncater2.truncate('one two')  # one tw*"
   ]
  },
  {
   "cell_type": "code",
   "execution_count": 46,
   "id": "fab6732d-516e-4a62-a47b-1f1e5dfaf898",
   "metadata": {},
   "outputs": [
    {
     "data": {
      "text/plain": [
       "'one tw...'"
      ]
     },
     "execution_count": 46,
     "metadata": {},
     "output_type": "execute_result"
    }
   ],
   "source": [
    "truncater.truncate('one two', length=6)"
   ]
  },
  {
   "cell_type": "markdown",
   "id": "ad05b37a-47a6-4cfd-b252-6d2b08e969cb",
   "metadata": {},
   "source": [
    "## [Объекты-сущности, Объекты-значения и внедренные объекты](https://ru.hexlet.io/courses/python-object-oriented-design/lessons/modeling/theory_unit)"
   ]
  },
  {
   "cell_type": "markdown",
   "id": "43e98c64-17d1-4b68-adf4-9337de339b33",
   "metadata": {},
   "source": [
    "[Решение]()"
   ]
  },
  {
   "cell_type": "code",
   "execution_count": 182,
   "id": "7195ddab-d857-44d4-bbda-130b251ad1a8",
   "metadata": {},
   "outputs": [],
   "source": [
    "from urllib.parse import urlparse, parse_qs\n",
    "\n",
    "\n",
    "class Url:\n",
    "    def __init__(self, url):\n",
    "        self.parsed_url = urlparse(url)\n",
    "\n",
    "    def get_scheme(self):\n",
    "        return self.parsed_url.scheme\n",
    "\n",
    "    def get_hostname(self):\n",
    "        return self.parsed_url.hostname\n",
    "    \n",
    "    def get_query_params(self):\n",
    "        query = self.parsed_url.querya\n",
    "        return parse_qs(query)\n",
    "\n",
    "    def get_query_param(self, key, value=None):\n",
    "        params = self.get_query_params()\n",
    "        query_param = params.get(key, [value])[0]\n",
    "        return query_param\n",
    "\n",
    "    def __eq__(self, other):\n",
    "        return self.parsed_url == other.parsed_url and self.parsed_url == other.parsed_url"
   ]
  },
  {
   "cell_type": "code",
   "execution_count": 198,
   "id": "e1c1522f-fc3b-4f27-9e6c-da2a98f1aaea",
   "metadata": {},
   "outputs": [
    {
     "name": "stdout",
     "output_type": "stream",
     "text": [
      "http\n",
      "hexlet.io\n",
      "{'key': ['value'], 'key2': ['value2']}\n",
      "value\n",
      "value2\n",
      "ehu\n",
      "None\n"
     ]
    }
   ],
   "source": [
    "url = Url('http://hexlet.io:80?key=value&key2=value2')\n",
    "print(url.get_scheme()) # http\n",
    "print(url.get_hostname()) # hexlet.io\n",
    "print(url.get_query_params())\n",
    "# {\n",
    "#  key: [value],\n",
    "#  key2: [value2],\n",
    "# }\n",
    "print(url.get_query_param('key')) # value\n",
    "# второй параметр — значение по умолчанию\n",
    "print(url.get_query_param('key2', 'lala')) # value2\n",
    "print(url.get_query_param('new', 'ehu')) # ehu\n",
    "print(url.get_query_param('new')) # None"
   ]
  },
  {
   "cell_type": "code",
   "execution_count": 178,
   "id": "b589e045-c8f6-4bf6-8924-7bedb8c0c977",
   "metadata": {},
   "outputs": [
    {
     "data": {
      "text/plain": [
       "True"
      ]
     },
     "execution_count": 178,
     "metadata": {},
     "output_type": "execute_result"
    }
   ],
   "source": [
    "url == Url('http://hexlet.io:80?key=value&key2=value2') # True"
   ]
  },
  {
   "cell_type": "code",
   "execution_count": 180,
   "id": "62f436d8-6277-4de2-ae99-ecafcc4f47f1",
   "metadata": {},
   "outputs": [
    {
     "data": {
      "text/plain": [
       "False"
      ]
     },
     "execution_count": 180,
     "metadata": {},
     "output_type": "execute_result"
    }
   ],
   "source": [
    "url == Url('http://hexlet.io:80?key=value') "
   ]
  },
  {
   "cell_type": "code",
   "execution_count": 186,
   "id": "64ab7f99-b1b0-458f-9be6-72971f6c6583",
   "metadata": {},
   "outputs": [
    {
     "data": {
      "text/plain": [
       "ParseResult(scheme='http', netloc='hexlet.io:80', path='', params='', query='key=value&key2=value2', fragment='')"
      ]
     },
     "execution_count": 186,
     "metadata": {},
     "output_type": "execute_result"
    }
   ],
   "source": [
    "Url('http://hexlet.io:80?key=value&key2=value2').parsed_url"
   ]
  },
  {
   "cell_type": "code",
   "execution_count": 248,
   "id": "d604741c-c516-4f68-8cde-d789902183a2",
   "metadata": {},
   "outputs": [],
   "source": [
    "from urllib.parse import urlparse, parse_qs\n",
    "\n",
    "\n",
    "class Url:\n",
    "    def __init__(self, url):\n",
    "        self.parsed_url = urlparse(url)\n",
    "\n",
    "    def get_scheme(self):\n",
    "        return self.parsed_url.scheme\n",
    "\n",
    "    def get_hostname(self):\n",
    "        return self.parsed_url.hostname\n",
    "\n",
    "    def get_netloc(self):\n",
    "        return self.parsed_url.netloc\n",
    "\n",
    "    def get_path(self):\n",
    "        return self.parsed_url.path\n",
    "\n",
    "    def get_query_params(self):\n",
    "        query = self.parsed_url.query\n",
    "        return parse_qs(query)\n",
    "\n",
    "    def get_query_param(self, key, value=None):\n",
    "        params = self.get_query_params()\n",
    "        query_param = params.get(key, [value])[0]\n",
    "        return query_param\n",
    "\n",
    "    def get_clean_url(self):\n",
    "        return f'{self.get_scheme()}://{self.get_netloc()}/{self.get_path()}'\n",
    "\n",
    "    def __eq__(self, other):\n",
    "        return self.get_clean_url() == other.get_clean_url() and \\\n",
    "               self.get_query_params() == other.get_query_params()"
   ]
  },
  {
   "cell_type": "code",
   "execution_count": 250,
   "id": "06b4a6fd-163f-41fd-b79e-09c7345239fd",
   "metadata": {},
   "outputs": [
    {
     "ename": "TypeError",
     "evalue": "Url.get_query_param() missing 1 required positional argument: 'key'",
     "output_type": "error",
     "traceback": [
      "\u001b[0;31m---------------------------------------------------------------------------\u001b[0m",
      "\u001b[0;31mTypeError\u001b[0m                                 Traceback (most recent call last)",
      "Cell \u001b[0;32mIn[250], line 1\u001b[0m\n\u001b[0;32m----> 1\u001b[0m url \u001b[38;5;241m==\u001b[39m Url(\u001b[38;5;124m'\u001b[39m\u001b[38;5;124mhttp://hexlet.io:80?key=value&key2=value2\u001b[39m\u001b[38;5;124m'\u001b[39m)\n",
      "Cell \u001b[0;32mIn[230], line 34\u001b[0m, in \u001b[0;36mUrl.__eq__\u001b[0;34m(self, other)\u001b[0m\n\u001b[1;32m     32\u001b[0m \u001b[38;5;28;01mdef\u001b[39;00m \u001b[38;5;21m__eq__\u001b[39m(\u001b[38;5;28mself\u001b[39m, other):\n\u001b[1;32m     33\u001b[0m     \u001b[38;5;28;01mreturn\u001b[39;00m \u001b[38;5;28mself\u001b[39m\u001b[38;5;241m.\u001b[39mget_clean_url() \u001b[38;5;241m==\u001b[39m other\u001b[38;5;241m.\u001b[39mget_clean_url() \u001b[38;5;129;01mand\u001b[39;00m \\\n\u001b[0;32m---> 34\u001b[0m            \u001b[38;5;28mself\u001b[39m\u001b[38;5;241m.\u001b[39mget_query_param() \u001b[38;5;241m==\u001b[39m other\u001b[38;5;241m.\u001b[39mget_query_param()\n",
      "\u001b[0;31mTypeError\u001b[0m: Url.get_query_param() missing 1 required positional argument: 'key'"
     ]
    }
   ],
   "source": [
    "url == Url('http://hexlet.io:80?key=value&key2=value2') # True"
   ]
  },
  {
   "cell_type": "code",
   "execution_count": 240,
   "id": "3245b3a4-426a-4381-99a5-d139aad06771",
   "metadata": {},
   "outputs": [
    {
     "ename": "TypeError",
     "evalue": "Url.get_query_param() missing 1 required positional argument: 'key'",
     "output_type": "error",
     "traceback": [
      "\u001b[0;31m---------------------------------------------------------------------------\u001b[0m",
      "\u001b[0;31mTypeError\u001b[0m                                 Traceback (most recent call last)",
      "Cell \u001b[0;32mIn[240], line 1\u001b[0m\n\u001b[0;32m----> 1\u001b[0m url \u001b[38;5;241m==\u001b[39m Url(\u001b[38;5;124m'\u001b[39m\u001b[38;5;124mhttp://hexlet.io:80?key2=value2&key=value\u001b[39m\u001b[38;5;124m'\u001b[39m)\n",
      "Cell \u001b[0;32mIn[230], line 34\u001b[0m, in \u001b[0;36mUrl.__eq__\u001b[0;34m(self, other)\u001b[0m\n\u001b[1;32m     32\u001b[0m \u001b[38;5;28;01mdef\u001b[39;00m \u001b[38;5;21m__eq__\u001b[39m(\u001b[38;5;28mself\u001b[39m, other):\n\u001b[1;32m     33\u001b[0m     \u001b[38;5;28;01mreturn\u001b[39;00m \u001b[38;5;28mself\u001b[39m\u001b[38;5;241m.\u001b[39mget_clean_url() \u001b[38;5;241m==\u001b[39m other\u001b[38;5;241m.\u001b[39mget_clean_url() \u001b[38;5;129;01mand\u001b[39;00m \\\n\u001b[0;32m---> 34\u001b[0m            \u001b[38;5;28mself\u001b[39m\u001b[38;5;241m.\u001b[39mget_query_param() \u001b[38;5;241m==\u001b[39m other\u001b[38;5;241m.\u001b[39mget_query_param()\n",
      "\u001b[0;31mTypeError\u001b[0m: Url.get_query_param() missing 1 required positional argument: 'key'"
     ]
    }
   ],
   "source": [
    "url == Url('http://hexlet.io:80?key2=value2&key=value') "
   ]
  },
  {
   "cell_type": "code",
   "execution_count": 224,
   "id": "1535c93a-56b5-4212-af95-81113c23c1c1",
   "metadata": {},
   "outputs": [],
   "source": [
    "url = Url('http://hexlet.io:80?key=value&key2=value2')"
   ]
  },
  {
   "cell_type": "code",
   "execution_count": 222,
   "id": "ab0c53af-0b39-4b88-a1b7-f3ce806b29fa",
   "metadata": {},
   "outputs": [
    {
     "data": {
      "text/plain": [
       "'http://hexlet.io:80/'"
      ]
     },
     "execution_count": 222,
     "metadata": {},
     "output_type": "execute_result"
    }
   ],
   "source": [
    "url.get_clean_url()"
   ]
  },
  {
   "cell_type": "code",
   "execution_count": null,
   "id": "d84c40a5-f165-48a7-9071-c8623b6dab44",
   "metadata": {},
   "outputs": [],
   "source": []
  }
 ],
 "metadata": {
  "kernelspec": {
   "display_name": "Python 3 (ipykernel)",
   "language": "python",
   "name": "python3"
  },
  "language_info": {
   "codemirror_mode": {
    "name": "ipython",
    "version": 3
   },
   "file_extension": ".py",
   "mimetype": "text/x-python",
   "name": "python",
   "nbconvert_exporter": "python",
   "pygments_lexer": "ipython3",
   "version": "3.12.4"
  }
 },
 "nbformat": 4,
 "nbformat_minor": 5
}
