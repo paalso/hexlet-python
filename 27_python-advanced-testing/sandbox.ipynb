{
 "cells": [
  {
   "cell_type": "code",
   "execution_count": 14,
   "id": "55d02055-321d-4d52-97a7-956061ba4140",
   "metadata": {},
   "outputs": [],
   "source": [
    "class FakeClient:\n",
    "    def __init__(self, data):\n",
    "        self.data = data\n",
    "\n",
    "    def list_for_users(self, user_name):\n",
    "        return self.data"
   ]
  },
  {
   "cell_type": "code",
   "execution_count": 16,
   "id": "4aae2379-254e-49ca-875a-fbae4c1f88ac",
   "metadata": {},
   "outputs": [],
   "source": [
    "class Repo:\n",
    "    def __init__(self, language):\n",
    "        self.language = language"
   ]
  },
  {
   "cell_type": "code",
   "execution_count": 46,
   "id": "de87ce10-62f7-48cd-a201-ea23d0e226c9",
   "metadata": {},
   "outputs": [],
   "source": [
    "data = [\n",
    "    {'language': 'ruby'},\n",
    "     {'language': 'js'},\n",
    "     {'language': 'js'},\n",
    "     {'language': 'ruby'},\n",
    "     {'language': 'ruby'},\n",
    "]"
   ]
  },
  {
   "cell_type": "code",
   "execution_count": 40,
   "id": "b732d2b7-c332-42e7-82b2-5373913c8eec",
   "metadata": {},
   "outputs": [],
   "source": [
    "client = FakeClient(data)"
   ]
  },
  {
   "cell_type": "code",
   "execution_count": 42,
   "id": "6134587f-c3a0-4ec3-8ba0-b1c3fcaddbed",
   "metadata": {},
   "outputs": [
    {
     "data": {
      "text/plain": [
       "[{'language': 'ruby'}, {'language': 'js'}, {'language': 'ruby'}]"
      ]
     },
     "execution_count": 42,
     "metadata": {},
     "output_type": "execute_result"
    }
   ],
   "source": [
    "client.list_for_users('john_doe')"
   ]
  },
  {
   "cell_type": "code",
   "execution_count": 26,
   "id": "029bd2ac-eff5-4f97-80ff-aa0fae7b77db",
   "metadata": {},
   "outputs": [],
   "source": [
    "class Client():\n",
    "    def list_for_users(self, user_name):\n",
    "        raise Exception(\"Can not send http request\")\n"
   ]
  },
  {
   "cell_type": "code",
   "execution_count": 28,
   "id": "b36aaaf0-e30a-46a3-b57c-a6ce6599aa9f",
   "metadata": {},
   "outputs": [],
   "source": [
    "default_client = Client()\n",
    "\n",
    "\n",
    "def get_user_main_language(user_name, client=default_client):\n",
    "    data = client.list_for_users(user_name)\n",
    "    if not data:\n",
    "        return None\n",
    "\n",
    "    languges = map(lambda repo: repo[\"language\"], data)\n",
    "    languages_count = {}\n",
    "    for language in languges:\n",
    "        if language not in languages_count:\n",
    "            languages_count[language] = 1\n",
    "        else:\n",
    "            languages_count[language] += 1\n",
    "    return max(languages_count, key=lambda k: languages_count[k])\n"
   ]
  },
  {
   "cell_type": "code",
   "execution_count": 44,
   "id": "ec2b1dc1-30ef-457d-a468-d7918cc2a899",
   "metadata": {},
   "outputs": [
    {
     "data": {
      "text/plain": [
       "'ruby'"
      ]
     },
     "execution_count": 44,
     "metadata": {},
     "output_type": "execute_result"
    }
   ],
   "source": [
    "get_user_main_language('john_doe', client)"
   ]
  },
  {
   "cell_type": "code",
   "execution_count": 48,
   "id": "49ace834-12a5-4230-b9ce-0bc8fb999360",
   "metadata": {},
   "outputs": [],
   "source": [
    "def test_get_user_main_language():\n",
    "    user_name = 'johndoe'\n",
    "    client = FakeClient(data)\n",
    "    assert get_user_main_language(user_name, client=client) == 'ruby'"
   ]
  },
  {
   "cell_type": "code",
   "execution_count": 50,
   "id": "b836e160-7399-4a94-8cfd-474986766eda",
   "metadata": {},
   "outputs": [],
   "source": [
    "test_get_user_main_language()"
   ]
  },
  {
   "cell_type": "markdown",
   "id": "5297d74c-e3a1-4632-b837-14d5b24e8bda",
   "metadata": {},
   "source": [
    "### Манкипатчинг"
   ]
  },
  {
   "cell_type": "code",
   "execution_count": 1,
   "id": "0c83f69b-d677-44dd-8145-0e7c0c5f6f95",
   "metadata": {},
   "outputs": [],
   "source": [
    "class User:\n",
    "    def __init__(self, name):\n",
    "        self.name = name\n",
    "\n",
    "    def get_name(self):\n",
    "        return self.name"
   ]
  },
  {
   "cell_type": "code",
   "execution_count": 3,
   "id": "f59cb2c7-4dc0-4017-977f-86fd4cbbf028",
   "metadata": {},
   "outputs": [
    {
     "data": {
      "text/plain": [
       "'John'"
      ]
     },
     "execution_count": 3,
     "metadata": {},
     "output_type": "execute_result"
    }
   ],
   "source": [
    "user = User(\"John\")\n",
    "user.get_name()  # John"
   ]
  },
  {
   "cell_type": "code",
   "execution_count": 5,
   "id": "332fa345-7d16-4c0f-b4ac-d66f5578a98c",
   "metadata": {},
   "outputs": [
    {
     "data": {
      "text/plain": [
       "'Alice'"
      ]
     },
     "execution_count": 5,
     "metadata": {},
     "output_type": "execute_result"
    }
   ],
   "source": [
    "patch_name = lambda: \"Alice\"\n",
    "user.get_name = patch_name\n",
    "\n",
    "user.get_name()  # Alice"
   ]
  },
  {
   "cell_type": "code",
   "execution_count": 1,
   "id": "85f3eb1a-efdd-47f5-b88a-922e512b556a",
   "metadata": {},
   "outputs": [],
   "source": [
    "class Sqrer:\n",
    "    def __init__(self, dependency):\n",
    "        self.dependency = dependency\n",
    "\n",
    "    def sqr(self):\n",
    "        return self.dependency.get_value() ** 2"
   ]
  },
  {
   "cell_type": "code",
   "execution_count": 7,
   "id": "278ea158-735d-458f-b92f-fcc9b345bf07",
   "metadata": {},
   "outputs": [],
   "source": [
    "class A:\n",
    "    def get_value(self):\n",
    "        return 4.0"
   ]
  },
  {
   "cell_type": "code",
   "execution_count": 9,
   "id": "9d3c8b1a-18db-4f9e-9646-82ca8be2db94",
   "metadata": {},
   "outputs": [
    {
     "data": {
      "text/plain": [
       "16.0"
      ]
     },
     "execution_count": 9,
     "metadata": {},
     "output_type": "execute_result"
    }
   ],
   "source": [
    "a = A()\n",
    "\n",
    "sqrer = Sqrer(a)\n",
    "sqrer.sqr()"
   ]
  },
  {
   "cell_type": "code",
   "execution_count": null,
   "id": "45837bdd-332a-4501-9779-9d96dfec2f06",
   "metadata": {},
   "outputs": [],
   "source": []
  }
 ],
 "metadata": {
  "kernelspec": {
   "display_name": "Python 3 (ipykernel)",
   "language": "python",
   "name": "python3"
  },
  "language_info": {
   "codemirror_mode": {
    "name": "ipython",
    "version": 3
   },
   "file_extension": ".py",
   "mimetype": "text/x-python",
   "name": "python",
   "nbconvert_exporter": "python",
   "pygments_lexer": "ipython3",
   "version": "3.12.4"
  }
 },
 "nbformat": 4,
 "nbformat_minor": 5
}
