{
 "cells": [
  {
   "cell_type": "markdown",
   "id": "407b77b9-4d18-4834-b915-e9374f228a62",
   "metadata": {},
   "source": [
    "# [Погружаясь в классы](https://ru.hexlet.io/courses/python-classes)"
   ]
  },
  {
   "cell_type": "markdown",
   "id": "71ac7311-427b-4979-b5d4-b7814fdc08c8",
   "metadata": {},
   "source": [
    "## [Наследование](https://ru.hexlet.io/courses/python-classes/lessons//exercise_unit)"
   ]
  },
  {
   "cell_type": "markdown",
   "id": "84aa7390-ad0d-42be-a612-25f98987e0c3",
   "metadata": {},
   "source": [
    "[Упражнение](https://ru.hexlet.io/courses/python-classes/lessons//exercise_unit)"
   ]
  },
  {
   "cell_type": "markdown",
   "id": "a020ae15-3e0c-478b-8486-f1a18d4060ec",
   "metadata": {},
   "source": [
    "[Решение](https://ru.hexlet.io/code_reviews/1798813)"
   ]
  },
  {
   "cell_type": "code",
   "execution_count": 24,
   "id": "cefeda20-d771-4d3f-8104-47033d2c55a3",
   "metadata": {},
   "outputs": [],
   "source": [
    "class HTMLElement:\n",
    "    def __init__(self, attributes=None):\n",
    "        self.attributes = attributes if attributes else {}\n",
    "\n",
    "    def _stringify_attributes(self):\n",
    "        return ' '.join(f'{key}=\"{value}\"' for key, value in self.attributes.items())"
   ]
  },
  {
   "cell_type": "code",
   "execution_count": 51,
   "id": "e1d42f81-f4c6-4bbc-aadb-637faf5e33ca",
   "metadata": {},
   "outputs": [],
   "source": [
    "class HTMLHrElement(HTMLElement):\n",
    "    def __str__(self):\n",
    "        stringified_attributes = self._stringify_attributes()\n",
    "        separator = ' ' if stringified_attributes else ''\n",
    "        return f'<hr{separator}{stringified_attributes}>'"
   ]
  },
  {
   "cell_type": "code",
   "execution_count": 53,
   "id": "7cbaa25c-ecf7-4df6-a73e-13b22ecf76ee",
   "metadata": {},
   "outputs": [
    {
     "name": "stdout",
     "output_type": "stream",
     "text": [
      "<hr class=\"w-75\" id=\"wop\">\n"
     ]
    }
   ],
   "source": [
    "hr = HTMLHrElement({'class':'w-75', 'id':'wop'})\n",
    "print(hr)"
   ]
  },
  {
   "cell_type": "code",
   "execution_count": 55,
   "id": "0dbf1cd8-f0f6-47a2-9770-bf6a571714bb",
   "metadata": {},
   "outputs": [
    {
     "name": "stdout",
     "output_type": "stream",
     "text": [
      "<hr>\n"
     ]
    }
   ],
   "source": [
    "hr = HTMLHrElement()\n",
    "print(hr)"
   ]
  },
  {
   "cell_type": "code",
   "execution_count": null,
   "id": "6ac61f65-b7d9-4726-b29c-ee2716cfa7dd",
   "metadata": {},
   "outputs": [],
   "source": []
  },
  {
   "cell_type": "code",
   "execution_count": 67,
   "id": "c1d10d48-56a3-4978-8bcb-ee0421b26f4c",
   "metadata": {},
   "outputs": [],
   "source": [
    "class User:\n",
    "    def __init__(self):\n",
    "        self.name = \"User\"\n",
    "\n",
    "    # зададим приватный метод\n",
    "    def __private_greet(self):\n",
    "        return f\"Hello, {self.name}!\"\n",
    "\n",
    "    # зададим публичный интерфейс для этого метода\n",
    "    def greet(self):\n",
    "        return self.__private_greet()\n",
    "\n",
    "\n",
    "class John(User):\n",
    "    # попробуем переопределить приватный метод родителя\n",
    "    def __private_greet(self):\n",
    "        return f\"Hello, John!\""
   ]
  },
  {
   "cell_type": "code",
   "execution_count": 69,
   "id": "742ce38e-43e9-44e7-9238-5b02cc220b30",
   "metadata": {},
   "outputs": [
    {
     "data": {
      "text/plain": [
       "'Hello, User!'"
      ]
     },
     "execution_count": 69,
     "metadata": {},
     "output_type": "execute_result"
    }
   ],
   "source": [
    "John().greet()"
   ]
  },
  {
   "cell_type": "code",
   "execution_count": null,
   "id": "6fc51234-5069-4acc-b49c-598d1c2ea2d7",
   "metadata": {},
   "outputs": [],
   "source": []
  }
 ],
 "metadata": {
  "kernelspec": {
   "display_name": "Python 3 (ipykernel)",
   "language": "python",
   "name": "python3"
  },
  "language_info": {
   "codemirror_mode": {
    "name": "ipython",
    "version": 3
   },
   "file_extension": ".py",
   "mimetype": "text/x-python",
   "name": "python",
   "nbconvert_exporter": "python",
   "pygments_lexer": "ipython3",
   "version": "3.12.4"
  }
 },
 "nbformat": 4,
 "nbformat_minor": 5
}
