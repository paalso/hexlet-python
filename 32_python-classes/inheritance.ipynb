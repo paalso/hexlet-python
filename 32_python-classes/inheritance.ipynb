{
 "cells": [
  {
   "cell_type": "markdown",
   "id": "407b77b9-4d18-4834-b915-e9374f228a62",
   "metadata": {},
   "source": [
    "# [Погружаясь в классы](https://ru.hexlet.io/courses/python-classes)"
   ]
  },
  {
   "cell_type": "markdown",
   "id": "71ac7311-427b-4979-b5d4-b7814fdc08c8",
   "metadata": {},
   "source": [
    "## [Наследование](https://ru.hexlet.io/courses/python-classes/lessons//exercise_unit)"
   ]
  },
  {
   "attachments": {},
   "cell_type": "markdown",
   "id": "7e75668e-573c-4222-99b7-b843413123ee",
   "metadata": {},
   "source": [
    "[Упражнение](https://ru.hexlet.io/courses/python-classes/lessons//exercise_unit)\n",
    "\n",
    "[Решение](https://ru.hexlet.io/code_reviews/1798813)"
   ]
  },
  {
   "cell_type": "code",
   "execution_count": 24,
   "id": "cefeda20-d771-4d3f-8104-47033d2c55a3",
   "metadata": {},
   "outputs": [],
   "source": [
    "class HTMLElement:\n",
    "    def __init__(self, attributes=None):\n",
    "        self.attributes = attributes if attributes else {}\n",
    "\n",
    "    def _stringify_attributes(self):\n",
    "        return ' '.join(f'{key}=\"{value}\"' for key, value in self.attributes.items())"
   ]
  },
  {
   "cell_type": "code",
   "execution_count": 51,
   "id": "e1d42f81-f4c6-4bbc-aadb-637faf5e33ca",
   "metadata": {},
   "outputs": [],
   "source": [
    "class HTMLHrElement(HTMLElement):\n",
    "    def __str__(self):\n",
    "        stringified_attributes = self._stringify_attributes()\n",
    "        separator = ' ' if stringified_attributes else ''\n",
    "        return f'<hr{separator}{stringified_attributes}>'"
   ]
  },
  {
   "cell_type": "code",
   "execution_count": 53,
   "id": "7cbaa25c-ecf7-4df6-a73e-13b22ecf76ee",
   "metadata": {},
   "outputs": [
    {
     "name": "stdout",
     "output_type": "stream",
     "text": [
      "<hr class=\"w-75\" id=\"wop\">\n"
     ]
    }
   ],
   "source": [
    "hr = HTMLHrElement({'class':'w-75', 'id':'wop'})\n",
    "print(hr)"
   ]
  },
  {
   "cell_type": "code",
   "execution_count": 55,
   "id": "0dbf1cd8-f0f6-47a2-9770-bf6a571714bb",
   "metadata": {},
   "outputs": [
    {
     "name": "stdout",
     "output_type": "stream",
     "text": [
      "<hr>\n"
     ]
    }
   ],
   "source": [
    "hr = HTMLHrElement()\n",
    "print(hr)"
   ]
  },
  {
   "cell_type": "code",
   "execution_count": null,
   "id": "6ac61f65-b7d9-4726-b29c-ee2716cfa7dd",
   "metadata": {},
   "outputs": [],
   "source": []
  },
  {
   "cell_type": "code",
   "execution_count": 67,
   "id": "c1d10d48-56a3-4978-8bcb-ee0421b26f4c",
   "metadata": {},
   "outputs": [],
   "source": [
    "class User:\n",
    "    def __init__(self):\n",
    "        self.name = \"User\"\n",
    "\n",
    "    # зададим приватный метод\n",
    "    def __private_greet(self):\n",
    "        return f\"Hello, {self.name}!\"\n",
    "\n",
    "    # зададим публичный интерфейс для этого метода\n",
    "    def greet(self):\n",
    "        return self.__private_greet()\n",
    "\n",
    "\n",
    "class John(User):\n",
    "    # попробуем переопределить приватный метод родителя\n",
    "    def __private_greet(self):\n",
    "        return f\"Hello, John!\""
   ]
  },
  {
   "cell_type": "code",
   "execution_count": 69,
   "id": "742ce38e-43e9-44e7-9238-5b02cc220b30",
   "metadata": {},
   "outputs": [
    {
     "data": {
      "text/plain": [
       "'Hello, User!'"
      ]
     },
     "execution_count": 69,
     "metadata": {},
     "output_type": "execute_result"
    }
   ],
   "source": [
    "John().greet()"
   ]
  },
  {
   "cell_type": "markdown",
   "id": "5d2f6ae1-cb4c-4e38-87cb-9c53d34b1aff",
   "metadata": {},
   "source": [
    "## [Модификаторы доступа](https://ru.hexlet.io/courses/python-classes/lessons/visibility/theory_unit)"
   ]
  },
  {
   "attachments": {},
   "cell_type": "markdown",
   "id": "5d59b215-0e0c-485b-ba11-c362bcff77d7",
   "metadata": {},
   "source": [
    "[Упражнение](https://ru.hexlet.io/courses/python-classes/lessons/visibility/exercise_unit)\n",
    "\n",
    "[Решение](https://ru.hexlet.io/code_reviews/1206847)"
   ]
  },
  {
   "cell_type": "code",
   "execution_count": 305,
   "id": "9fd76622-e803-432b-911d-22a179c8e611",
   "metadata": {},
   "outputs": [],
   "source": [
    "class HTMLElement:\n",
    "    def __init__(self, attributes=None):\n",
    "        if attributes is None:\n",
    "            self.attributes = {}\n",
    "        else:\n",
    "            self.attributes = attributes\n",
    "\n",
    "    def get_attribute(self, key):\n",
    "        return self.attributes.get(key)\n",
    "\n",
    "    def remove_tag(self, tag):\n",
    "        if self._check_tag(tag):\n",
    "            self.attributes['tag'] = self._update_tags(tag, list.remove)\n",
    "    \n",
    "    def add_tag(self, tag):\n",
    "        if not self._check_tag(tag):\n",
    "            self.attributes['tag'] = self._update_tags(tag, list.append)\n",
    "\n",
    "    def toggle_tag(self, tag):\n",
    "        self.remove_tag(tag) if self._check_tag(tag) else self.add_tag(tag)\n",
    "    \n",
    "    def _update_tags(self, tag, operation):\n",
    "        tag_list = self._get_tag_list()\n",
    "        operation(tag_list, tag)\n",
    "        return ' '.join(tag_list)\n",
    "\n",
    "    def _get_tag_list(self):\n",
    "        return self._get_tag_str().split()\n",
    "\n",
    "    def _get_tag_str(self):\n",
    "        return self.get_attribute('tag') or ''\n",
    "\n",
    "    def _check_tag(self, tag):\n",
    "        tag_str = self._get_tag_str()\n",
    "        return tag_str and tag in tag_str\n",
    "\n",
    "class HTMLDivElement(HTMLElement):\n",
    "    pass"
   ]
  },
  {
   "cell_type": "code",
   "execution_count": 301,
   "id": "aef49a1a-4546-4b8f-9ba0-0bd02d8cd6d8",
   "metadata": {},
   "outputs": [
    {
     "name": "stdout",
     "output_type": "stream",
     "text": [
      "one two small\n",
      "one two small\n",
      "one small\n",
      "one small\n",
      "one\n",
      "one small\n",
      "one\n",
      "one small\n"
     ]
    }
   ],
   "source": [
    "div = HTMLDivElement({'tag': 'one two'})\n",
    "\n",
    "div.add_tag('small')\n",
    "print(div.get_attribute('tag')) ## 'one two small'\n",
    "\n",
    "div.add_tag('small')\n",
    "print(div.get_attribute('tag')) ## 'one two small'\n",
    "\n",
    "div.remove_tag('two')\n",
    "print(div.get_attribute('tag')) ## 'one small'\n",
    "\n",
    "div.remove_tag('two')\n",
    "print(div.get_attribute('tag')) ## 'one small'\n",
    "\n",
    "div.toggle_tag('small')\n",
    "print(div.get_attribute('tag')) ## 'one'\n",
    "\n",
    "div.toggle_tag('small')\n",
    "print(div.get_attribute('tag')) ## 'one small'\n",
    "\n",
    "div.toggle_tag('small')\n",
    "print(div.get_attribute('tag')) ## 'one'\n",
    "\n",
    "div.toggle_tag('small')\n",
    "print(div.get_attribute('tag')) ## 'one small'"
   ]
  },
  {
   "cell_type": "code",
   "execution_count": 160,
   "id": "86578f22-f677-49e7-8055-619c7e8f9157",
   "metadata": {},
   "outputs": [
    {
     "data": {
      "text/plain": [
       "['one', 'two']"
      ]
     },
     "execution_count": 160,
     "metadata": {},
     "output_type": "execute_result"
    }
   ],
   "source": [
    "div = HTMLDivElement({'tag': 'one two'})\n",
    "div.get_tag_list()"
   ]
  },
  {
   "cell_type": "markdown",
   "id": "300e4c5f-f1a3-4006-831c-93a02ba5ea80",
   "metadata": {},
   "source": [
    "## [Позднее связывание](https://ru.hexlet.io/courses/python-classes/lessons/late-binding/theory_unit)"
   ]
  },
  {
   "cell_type": "code",
   "execution_count": 1,
   "id": "cbd20687-4b09-4395-8dcc-e9c6f5e11707",
   "metadata": {},
   "outputs": [],
   "source": [
    "class A:\n",
    "    __name = \"From A\"\n",
    "\n",
    "    def get_name(self):\n",
    "        print(\"Current class:\", type(self).__name__)\n",
    "        return self.__name\n",
    "\n",
    "\n",
    "class B(A):\n",
    "    pass"
   ]
  },
  {
   "cell_type": "code",
   "execution_count": 2,
   "id": "89303126-7e20-45bd-acc2-c2fe485394a3",
   "metadata": {},
   "outputs": [
    {
     "name": "stdout",
     "output_type": "stream",
     "text": [
      "Current class: A\n",
      "From A\n",
      "Current class: B\n",
      "From A\n"
     ]
    }
   ],
   "source": [
    "a = A()\n",
    "print(a.get_name())\n",
    "# => Current class: A\n",
    "# => From A\n",
    "\n",
    "b = B()\n",
    "print(b.get_name())\n",
    "# => Current class: B\n",
    "# => From A"
   ]
  },
  {
   "cell_type": "code",
   "execution_count": 320,
   "id": "c46fbbf2-c68c-4fff-b3dd-adb4f6791818",
   "metadata": {},
   "outputs": [
    {
     "name": "stdout",
     "output_type": "stream",
     "text": [
      "I am B\n"
     ]
    }
   ],
   "source": [
    "class A:\n",
    "    def who_am_i(self):\n",
    "        print(f\"I am {type(self).__name__}\")\n",
    "\n",
    "class B(A):\n",
    "    pass\n",
    "\n",
    "b = B()\n",
    "b.who_am_i()  # I am B"
   ]
  },
  {
   "attachments": {},
   "cell_type": "markdown",
   "id": "1764c924-a837-43ce-9cee-64ab27533fac",
   "metadata": {},
   "source": [
    "[Упражнение](https://ru.hexlet.io/courses/python-classes/lessons/late-binding/exercise_unit)\n",
    "\n",
    "[Решение](https://ru.hexlet.io/code_reviews/1209298)"
   ]
  },
  {
   "cell_type": "code",
   "execution_count": 13,
   "id": "23585315-eb1c-4ce4-bfa5-769b73942409",
   "metadata": {},
   "outputs": [],
   "source": [
    "class Base:\n",
    "    def is_instance_of(self, class_name):\n",
    "        self_mro = self.__class__.__mro__\n",
    "        return any(clazz.__name__ == class_name for clazz in self_mro)\n",
    "\n",
    "\n",
    "class Child(Base):\n",
    "    pass\n",
    "\n",
    "\n",
    "class ChildOfChild(Child):\n",
    "    pass"
   ]
  },
  {
   "cell_type": "code",
   "execution_count": 15,
   "id": "02b1408a-d0aa-462a-9d92-719127ae750b",
   "metadata": {},
   "outputs": [
    {
     "name": "stdout",
     "output_type": "stream",
     "text": [
      "True\n",
      "True\n",
      "True\n",
      "False\n"
     ]
    }
   ],
   "source": [
    "obj = ChildOfChild()\n",
    "print(obj.is_instance_of('Base')) ##  True\n",
    "print(obj.is_instance_of('Child'))  ## True\n",
    "print(obj.is_instance_of('ChildOfChild'))  ## True\n",
    "print(obj.is_instance_of('SomeClass'))  ## False"
   ]
  },
  {
   "cell_type": "code",
   "execution_count": 5,
   "id": "2d6a7417-40da-49b4-b38a-b2a0c7ad4d4a",
   "metadata": {},
   "outputs": [
    {
     "data": {
      "text/plain": [
       "<__main__.ChildOfChild at 0x7f95bcca9670>"
      ]
     },
     "execution_count": 5,
     "metadata": {},
     "output_type": "execute_result"
    }
   ],
   "source": [
    "obj"
   ]
  },
  {
   "cell_type": "code",
   "execution_count": 7,
   "id": "aad37df0-38d1-4991-be25-22413f741aeb",
   "metadata": {},
   "outputs": [
    {
     "data": {
      "text/plain": [
       "(__main__.ChildOfChild, __main__.Child, __main__.Base, object)"
      ]
     },
     "execution_count": 7,
     "metadata": {},
     "output_type": "execute_result"
    }
   ],
   "source": [
    "ChildOfChild.__mro__"
   ]
  },
  {
   "cell_type": "markdown",
   "id": "364f3c25-9e31-4488-a126-e79246161d0d",
   "metadata": {},
   "source": [
    "## [Шаблонный метод](https://ru.hexlet.io/courses/python-classes/lessons/template-method/theory_unit)"
   ]
  },
  {
   "cell_type": "code",
   "execution_count": 1,
   "id": "81838345-b9a4-4d7b-96af-6fcc3e41b784",
   "metadata": {},
   "outputs": [
    {
     "ename": "NameError",
     "evalue": "name 'HtmlElement' is not defined",
     "output_type": "error",
     "traceback": [
      "\u001b[0;31m---------------------------------------------------------------------------\u001b[0m",
      "\u001b[0;31mNameError\u001b[0m                                 Traceback (most recent call last)",
      "Cell \u001b[0;32mIn[1], line 1\u001b[0m\n\u001b[0;32m----> 1\u001b[0m \u001b[38;5;28;01mclass\u001b[39;00m \u001b[38;5;21;01mHtmlSingleElement\u001b[39;00m(HtmlElement):\n\u001b[1;32m      2\u001b[0m     \u001b[38;5;28;01mdef\u001b[39;00m \u001b[38;5;21m__str__\u001b[39m(\u001b[38;5;28mself\u001b[39m):\n\u001b[1;32m      3\u001b[0m         attr_line \u001b[38;5;241m=\u001b[39m \u001b[38;5;28mself\u001b[39m\u001b[38;5;241m.\u001b[39mstringify_attributes()\n",
      "\u001b[0;31mNameError\u001b[0m: name 'HtmlElement' is not defined"
     ]
    }
   ],
   "source": [
    "class HtmlSingleElement(HtmlElement):\n",
    "    def __str__(self):\n",
    "        attr_line = self.stringify_attributes()\n",
    "        # get_tag_name – метод, который должны реализовать все подклассы\n",
    "        tag_name = self.get_tag_name()\n",
    "        # Создаётся одиночный тег\n",
    "        return f\"<{tag_name} {attr_line} />\"\n",
    "\n",
    "\n",
    "class HtmlPairElement(HtmlElement):\n",
    "    def __str__(self):\n",
    "        attr_line = self.stringify_attributes()\n",
    "        body = self.get_text_content()\n",
    "        # get_tag_name – метод, который должны реализовать все подклассы\n",
    "        tag_name = self.get_tag_name()\n",
    "        return f\"<{tag_name} {attr_line}>{body}</{tag_name}>\"\n"
   ]
  },
  {
   "attachments": {},
   "cell_type": "markdown",
   "id": "e269882d-a7d7-4855-96c4-223aadfc8409",
   "metadata": {},
   "source": [
    "[Упражнение](https://ru.hexlet.io/courses/python-classes/lessons/template-method/exercise_unit)\n",
    "\n",
    "[Решение](https://ru.hexlet.io/code_reviews/1210439)"
   ]
  },
  {
   "cell_type": "code",
   "execution_count": 114,
   "id": "a66c9980-22ac-41f0-95d0-90caac6baa70",
   "metadata": {},
   "outputs": [],
   "source": [
    "class HTMLElement:\n",
    "    def __init__(self, attributes=None):\n",
    "        self.attributes = attributes if attributes else {}\n",
    "\n",
    "    def _stringify_attributes(self):\n",
    "        line = ''.join(f' {k}=\"{v}\"' for k, v in self.attributes.items())\n",
    "        return line\n",
    "\n",
    "\n",
    "class HTMLPairElement(HTMLElement):\n",
    "    def __init__(self, attributes=None):\n",
    "        super().__init__(attributes)\n",
    "        self._body = ''\n",
    "    \n",
    "    def get_text_content(self):\n",
    "        return self._body\n",
    "    \n",
    "    def set_text_content(self, body):\n",
    "        self._body = body\n",
    "\n",
    "    def __str__(self):\n",
    "        tag_name = self.get_tag_name()\n",
    "        attributes = self._stringify_attributes()\n",
    "        return f'<{tag_name}{attributes}>{self.get_text_content()}</{tag_name}>'\n",
    "\n",
    "\n",
    "class HTMLDivElement(HTMLPairElement):\n",
    "    def get_tag_name(self):\n",
    "        return 'div'"
   ]
  },
  {
   "cell_type": "code",
   "execution_count": 110,
   "id": "98ff2997-f4c6-4ee8-9387-112e57a2037f",
   "metadata": {},
   "outputs": [
    {
     "data": {
      "text/plain": [
       "'<div name=\"div\" data-toggle=\"true\">Body Text</div>'"
      ]
     },
     "execution_count": 110,
     "metadata": {},
     "output_type": "execute_result"
    }
   ],
   "source": [
    "div = HTMLDivElement({'name':'div', 'data-toggle':'true'})\n",
    "div.get_text_content()\n",
    "div.set_text_content('Body Text')\n",
    "div.get_text_content()  # Body Text\n",
    "str(div)\n",
    "# '<div name=\"div\" data-toggle=\"true\">Body Text</div>'"
   ]
  },
  {
   "cell_type": "code",
   "execution_count": 112,
   "id": "5c8cfc74-3f62-4c39-91b8-0d367c0eaf40",
   "metadata": {},
   "outputs": [
    {
     "data": {
      "text/plain": [
       "'<div>Body Text</div>'"
      ]
     },
     "execution_count": 112,
     "metadata": {},
     "output_type": "execute_result"
    }
   ],
   "source": [
    "div = HTMLDivElement()\n",
    "div.get_text_content()\n",
    "div.set_text_content('Body Text')\n",
    "div.get_text_content()  # Body Text\n",
    "str(div)\n",
    "# '<div name=\"div\" data-toggle=\"true\">Body Text</div>'"
   ]
  },
  {
   "cell_type": "markdown",
   "id": "691ba41c-4eae-482b-b5f6-8cdb69fe996f",
   "metadata": {},
   "source": [
    "## [Переопределение методов](https://ru.hexlet.io/courses/python-classes/lessons/overriding/theory_unit)"
   ]
  },
  {
   "attachments": {},
   "cell_type": "markdown",
   "id": "b23d3297-4105-4ff9-8540-1aebaf9a3533",
   "metadata": {},
   "source": [
    "[Упражнение](https://ru.hexlet.io/courses/python-classes/lessons/overriding/exercise_unit)\n",
    "\n",
    "[Решение](https://ru.hexlet.io/code_reviews/1211554)"
   ]
  },
  {
   "cell_type": "code",
   "execution_count": 1,
   "id": "2df7788c-8a3a-451d-918d-0015dac775ae",
   "metadata": {},
   "outputs": [
    {
     "name": "stdout",
     "output_type": "stream",
     "text": [
      "236\n"
     ]
    }
   ],
   "source": [
    "import os\n",
    "\n",
    "stats = os.stat('/etc/hosts')\n",
    "print(stats.st_size)  # размер в байтах"
   ]
  },
  {
   "cell_type": "code",
   "execution_count": 25,
   "id": "9e2b11cf-a225-46b8-a507-3b15fa48ce9e",
   "metadata": {},
   "outputs": [],
   "source": [
    "import os\n",
    "\n",
    "\n",
    "class FileInfo:\n",
    "    def __init__(self, file_path):\n",
    "        self.file_path = file_path\n",
    "        self.file_stat = os.stat(self.file_path)\n",
    "\n",
    "    def get_size(self):\n",
    "        return self.file_stat.st_size"
   ]
  },
  {
   "cell_type": "code",
   "execution_count": 94,
   "id": "a71ee3fe-45e5-4e18-9c5c-ab084ac67871",
   "metadata": {},
   "outputs": [],
   "source": [
    "class SmartFileInfo(FileInfo):\n",
    "    ALLOWED_UNITS = 'b', 'kb'\n",
    "    \n",
    "    def __init__(self, file_path):\n",
    "        super().__init__(file_path)\n",
    "\n",
    "    def get_size(self, unit='b'):\n",
    "        if unit not in self.ALLOWED_UNITS:\n",
    "            raise ValueError\n",
    "        value = super().get_size()  # in bytes\n",
    "        if unit == 'kb':\n",
    "            value /= 1024.0   # # in kbytes\n",
    "        return value"
   ]
  },
  {
   "cell_type": "code",
   "execution_count": 96,
   "id": "4341c9c2-9fb2-4799-b0e3-3a678d19dff4",
   "metadata": {},
   "outputs": [
    {
     "data": {
      "text/plain": [
       "0.0615234375"
      ]
     },
     "execution_count": 96,
     "metadata": {},
     "output_type": "execute_result"
    }
   ],
   "source": [
    "file_stat = SmartFileInfo('Makefile');\n",
    "file_stat.get_size()  # 67\n",
    "file_stat.get_size('b')  # 67\n",
    "file_stat.get_size('kb')  # 0.0654296875\n",
    "# file_stat.get_size('udav')  # ValueError\n"
   ]
  },
  {
   "cell_type": "markdown",
   "id": "be24eeb2-b72f-4d8d-97f4-6db4f0339533",
   "metadata": {},
   "source": [
    "## [Исключения](https://ru.hexlet.io/courses/python-classes/lessons/exceptions/theory_unit)"
   ]
  },
  {
   "attachments": {},
   "cell_type": "markdown",
   "id": "ab6ad45f-a3b0-4a97-9593-f81325c0de8c",
   "metadata": {},
   "source": [
    "[Упражнение](https://ru.hexlet.io/courses/python-classes/lessons/exceptions/exercise_unit)\n",
    "\n",
    "[Решение](https://ru.hexlet.io/code_reviews/1811864)"
   ]
  },
  {
   "cell_type": "code",
   "execution_count": 108,
   "id": "00be73e3-cfbe-4743-9b3c-a6533392233e",
   "metadata": {},
   "outputs": [],
   "source": [
    "class FileError(Exception):\n",
    "    pass\n",
    "\n",
    "\n",
    "class NotExistsError(FileError):\n",
    "    pass\n",
    "\n",
    "\n",
    "class NotReadableError(FileError):\n",
    "    pass"
   ]
  },
  {
   "cell_type": "code",
   "execution_count": 109,
   "id": "eeb3fd76-e7f4-4f0b-b91a-1e42cdb759c2",
   "metadata": {},
   "outputs": [],
   "source": [
    "import os\n",
    "\n",
    "class File:\n",
    "    def __init__(self, file_path):\n",
    "        self.file_path = file_path\n",
    "\n",
    "    def read(self):\n",
    "        file_path = self.file_path\n",
    "        if not os.path.exists(file_path):\n",
    "            raise NotExistsError(f'{file_path} does not exist')\n",
    "        if not os.access(file_path, os.R_OK):\n",
    "            raise NotReadableError(f'Cannot read {file_path}')\n",
    "        with open(file_path, 'r') as f:\n",
    "            return f.read()"
   ]
  },
  {
   "cell_type": "code",
   "execution_count": 110,
   "id": "65fde92e-4a18-45d7-9d63-3f7ba2a573a6",
   "metadata": {
    "scrolled": true
   },
   "outputs": [
    {
     "data": {
      "text/plain": [
       "'console:\\n\\t@python-console\\n\\ntest:\\n\\tuv run pytest\\n\\n.PHONY: test\\n\\n'"
      ]
     },
     "execution_count": 110,
     "metadata": {},
     "output_type": "execute_result"
    }
   ],
   "source": [
    "file = File('Makefile')\n",
    "file.read()  # \"какие-то данные\""
   ]
  },
  {
   "cell_type": "code",
   "execution_count": 111,
   "id": "b66a2dc1-02fe-452b-b15e-f944bce192e6",
   "metadata": {},
   "outputs": [
    {
     "ename": "NotExistsError",
     "evalue": "/etc/nonexists does not exist",
     "output_type": "error",
     "traceback": [
      "\u001b[0;31m---------------------------------------------------------------------------\u001b[0m",
      "\u001b[0;31mNotExistsError\u001b[0m                            Traceback (most recent call last)",
      "Cell \u001b[0;32mIn[111], line 2\u001b[0m\n\u001b[1;32m      1\u001b[0m file \u001b[38;5;241m=\u001b[39m File(\u001b[38;5;124m'\u001b[39m\u001b[38;5;124m/etc/nonexists\u001b[39m\u001b[38;5;124m'\u001b[39m)\n\u001b[0;32m----> 2\u001b[0m file\u001b[38;5;241m.\u001b[39mread()\n",
      "Cell \u001b[0;32mIn[109], line 10\u001b[0m, in \u001b[0;36mFile.read\u001b[0;34m(self)\u001b[0m\n\u001b[1;32m      8\u001b[0m file_path \u001b[38;5;241m=\u001b[39m \u001b[38;5;28mself\u001b[39m\u001b[38;5;241m.\u001b[39mfile_path\n\u001b[1;32m      9\u001b[0m \u001b[38;5;28;01mif\u001b[39;00m \u001b[38;5;129;01mnot\u001b[39;00m os\u001b[38;5;241m.\u001b[39mpath\u001b[38;5;241m.\u001b[39mexists(file_path):\n\u001b[0;32m---> 10\u001b[0m     \u001b[38;5;28;01mraise\u001b[39;00m NotExistsError(\u001b[38;5;124mf\u001b[39m\u001b[38;5;124m'\u001b[39m\u001b[38;5;132;01m{\u001b[39;00mfile_path\u001b[38;5;132;01m}\u001b[39;00m\u001b[38;5;124m does not exist\u001b[39m\u001b[38;5;124m'\u001b[39m)\n\u001b[1;32m     11\u001b[0m \u001b[38;5;28;01mif\u001b[39;00m \u001b[38;5;129;01mnot\u001b[39;00m os\u001b[38;5;241m.\u001b[39maccess(file_path, os\u001b[38;5;241m.\u001b[39mR_OK):\n\u001b[1;32m     12\u001b[0m     \u001b[38;5;28;01mraise\u001b[39;00m NotReadableError(\u001b[38;5;124mf\u001b[39m\u001b[38;5;124m'\u001b[39m\u001b[38;5;124mCannot read \u001b[39m\u001b[38;5;132;01m{\u001b[39;00mfile_path\u001b[38;5;132;01m}\u001b[39;00m\u001b[38;5;124m'\u001b[39m)\n",
      "\u001b[0;31mNotExistsError\u001b[0m: /etc/nonexists does not exist"
     ]
    }
   ],
   "source": [
    "file = File('/etc/nonexists')\n",
    "file.read()  # NotExistsError"
   ]
  },
  {
   "cell_type": "code",
   "execution_count": null,
   "id": "cfe70b78-7288-408e-9ac3-4b9534e048b3",
   "metadata": {},
   "outputs": [],
   "source": [
    "file = File('/proc/kcore')\n",
    "file.read()  # NotReadableError"
   ]
  },
  {
   "cell_type": "code",
   "execution_count": null,
   "id": "f8792a8c-07cf-4ec0-8d27-c2b91ad8faca",
   "metadata": {},
   "outputs": [],
   "source": [
    "def read_files(paths):\n",
    "    result = []\n",
    "    for path in paths:\n",
    "        try:\n",
    "            content = File(path).read()\n",
    "        except FileError:\n",
    "            content = None\n",
    "        result.append(content)\n",
    "    return result"
   ]
  },
  {
   "cell_type": "code",
   "execution_count": null,
   "id": "854e707f-dc76-48f5-8803-5cb25f852650",
   "metadata": {},
   "outputs": [],
   "source": [
    "values = read_files(['/etc/fstab', '/etc/unknown'])\n",
    "print(values)  # => [\"какие-то данные\", None]"
   ]
  },
  {
   "cell_type": "markdown",
   "id": "a75fa7d6-4ab4-4b06-9159-7c1fd19939a3",
   "metadata": {},
   "source": [
    "## [Динамическая диспетчеризация](https://ru.hexlet.io/courses/python-classes/lessons/dynamic-dispatch/theory_unit)"
   ]
  },
  {
   "cell_type": "raw",
   "id": "dacc75ff-d897-4a03-b8bf-42071a0f32da",
   "metadata": {},
   "source": [
    "Класс Dispatcher должен содержать метод call_method(obj, method_name, *args), который:\n",
    "\n",
    "Проверяет, есть ли у объекта метод с именем method_name.\n",
    "Если да — вызывает его с аргументами *args.\n",
    "Если нет, но у объекта есть метод __call__ — вызывает obj(*args).\n",
    "Если ни то, ни другое — выбрасывает Exception(\"No method error\")."
   ]
  },
  {
   "cell_type": "code",
   "execution_count": 154,
   "id": "70e557b4-6611-4883-872a-f3d5801ae6cf",
   "metadata": {},
   "outputs": [],
   "source": [
    "class Dispatcher:\n",
    "    # Что происходит при вызове: obj.get_name() => call_method(obj, 'get_name')\n",
    "    def call_method(self, obj, method_name, *args):  # функция-диспетчер'\n",
    "        attributes = obj.__class__.__dict__\n",
    "        if method_name in attributes:\n",
    "            method = attributes.get(method_name)\n",
    "        if callable(method):\n",
    "            return method(obj, *args)\n",
    "        if '__call__' in attributes:\n",
    "            return __call__(obj, *args)"
   ]
  },
  {
   "cell_type": "code",
   "execution_count": 158,
   "id": "fac8c409-d05a-4714-b8eb-c6b8a43384dd",
   "metadata": {},
   "outputs": [
    {
     "name": "stdout",
     "output_type": "stream",
     "text": [
      "Hello, Alice!\n",
      "None\n"
     ]
    },
    {
     "ename": "UnboundLocalError",
     "evalue": "cannot access local variable 'method' where it is not associated with a value",
     "output_type": "error",
     "traceback": [
      "\u001b[0;31m---------------------------------------------------------------------------\u001b[0m",
      "\u001b[0;31mUnboundLocalError\u001b[0m                         Traceback (most recent call last)",
      "Cell \u001b[0;32mIn[158], line 21\u001b[0m\n\u001b[1;32m     17\u001b[0m \u001b[38;5;66;03m# Output: Hello, Alice!\u001b[39;00m\n\u001b[1;32m     18\u001b[0m \n\u001b[1;32m     19\u001b[0m \u001b[38;5;66;03m# ✅ Вызов через __call__, если метод не найден\u001b[39;00m\n\u001b[1;32m     20\u001b[0m echo \u001b[38;5;241m=\u001b[39m Echo()\n\u001b[0;32m---> 21\u001b[0m \u001b[38;5;28mprint\u001b[39m(dispatcher\u001b[38;5;241m.\u001b[39mcall_method(echo, \u001b[38;5;124m'\u001b[39m\u001b[38;5;124mspeak\u001b[39m\u001b[38;5;124m'\u001b[39m, \u001b[38;5;124m'\u001b[39m\u001b[38;5;124mHello!\u001b[39m\u001b[38;5;124m'\u001b[39m))\n\u001b[1;32m     22\u001b[0m \u001b[38;5;66;03m# Output: Echo: Hello!\u001b[39;00m\n\u001b[1;32m     23\u001b[0m \n\u001b[1;32m     24\u001b[0m \u001b[38;5;66;03m# ❌ Нет метода и нет __call__ → Exception\u001b[39;00m\n\u001b[1;32m     25\u001b[0m empty \u001b[38;5;241m=\u001b[39m Empty()\n",
      "Cell \u001b[0;32mIn[154], line 7\u001b[0m, in \u001b[0;36mDispatcher.call_method\u001b[0;34m(self, obj, method_name, *args)\u001b[0m\n\u001b[1;32m      5\u001b[0m \u001b[38;5;28;01mif\u001b[39;00m method_name \u001b[38;5;129;01min\u001b[39;00m attributes:\n\u001b[1;32m      6\u001b[0m     method \u001b[38;5;241m=\u001b[39m attributes\u001b[38;5;241m.\u001b[39mget(method_name)\n\u001b[0;32m----> 7\u001b[0m \u001b[38;5;28;01mif\u001b[39;00m \u001b[38;5;28mcallable\u001b[39m(method):\n\u001b[1;32m      8\u001b[0m     \u001b[38;5;28;01mreturn\u001b[39;00m method(obj, \u001b[38;5;241m*\u001b[39margs)\n\u001b[1;32m      9\u001b[0m \u001b[38;5;28;01mif\u001b[39;00m \u001b[38;5;124m'\u001b[39m\u001b[38;5;124m__call__\u001b[39m\u001b[38;5;124m'\u001b[39m \u001b[38;5;129;01min\u001b[39;00m attributes:\n",
      "\u001b[0;31mUnboundLocalError\u001b[0m: cannot access local variable 'method' where it is not associated with a value"
     ]
    }
   ],
   "source": [
    "class Greeter:\n",
    "    def greet(self, name):\n",
    "        print(f\"Hello, {name}!\")\n",
    "\n",
    "class Echo:\n",
    "    def __call__(self, msg):\n",
    "        print(f\"Echo: {msg}\")\n",
    "\n",
    "class Empty:\n",
    "    pass\n",
    "\n",
    "dispatcher = Dispatcher()\n",
    "\n",
    "# ✅ Вызов существующего метода\n",
    "greeter = Greeter()\n",
    "print(dispatcher.call_method(greeter, 'greet', 'Alice'))\n",
    "# Output: Hello, Alice!\n",
    "\n",
    "# ✅ Вызов через __call__, если метод не найден\n",
    "echo = Echo()\n",
    "print(dispatcher.call_method(echo, 'speak', 'Hello!'))\n",
    "# Output: Echo: Hello!\n",
    "\n",
    "# ❌ Нет метода и нет __call__ → Exception\n",
    "empty = Empty()\n",
    "# print(dispatcher.call_method(empty, 'do_something'))\n",
    "# Output: Exception: No method error"
   ]
  },
  {
   "cell_type": "code",
   "execution_count": 92,
   "id": "315d4be9-ea3e-41d5-8ed4-07d76a93587a",
   "metadata": {},
   "outputs": [],
   "source": [
    "class A:\n",
    "    def __init__(self, value):\n",
    "        self.value = value\n",
    "\n",
    "    def plus5(self):\n",
    "        return self.value + 5"
   ]
  },
  {
   "cell_type": "code",
   "execution_count": 128,
   "id": "7feb4d18-743a-45b9-9c86-969007c6ebc5",
   "metadata": {},
   "outputs": [],
   "source": [
    "obj = greeter\n",
    "method_name = 'greet'"
   ]
  },
  {
   "cell_type": "code",
   "execution_count": 130,
   "id": "13381fbe-9bc9-4039-b180-c48fd155da07",
   "metadata": {},
   "outputs": [],
   "source": [
    "attributes = obj.__class__.__dict__"
   ]
  },
  {
   "cell_type": "code",
   "execution_count": 132,
   "id": "0cc0687d-242e-45eb-9f2a-c74807d7e81c",
   "metadata": {},
   "outputs": [
    {
     "data": {
      "text/plain": [
       "mappingproxy({'__module__': '__main__',\n",
       "              'greet': <function __main__.Greeter.greet(self, name)>,\n",
       "              '__dict__': <attribute '__dict__' of 'Greeter' objects>,\n",
       "              '__weakref__': <attribute '__weakref__' of 'Greeter' objects>,\n",
       "              '__doc__': None})"
      ]
     },
     "execution_count": 132,
     "metadata": {},
     "output_type": "execute_result"
    }
   ],
   "source": [
    "attributes"
   ]
  },
  {
   "cell_type": "code",
   "execution_count": 134,
   "id": "71bb6be0-51b4-494d-8278-b1c54ddda132",
   "metadata": {},
   "outputs": [
    {
     "data": {
      "text/plain": [
       "True"
      ]
     },
     "execution_count": 134,
     "metadata": {},
     "output_type": "execute_result"
    }
   ],
   "source": [
    "method_name in attributes"
   ]
  },
  {
   "cell_type": "markdown",
   "id": "8c2bfcb9-c538-4de1-9db5-e78ea273af2a",
   "metadata": {},
   "source": [
    "## [Абстрактные классы](https://ru.hexlet.io/courses/python-classes/lessons/abstract-classes/theory_unit)"
   ]
  },
  {
   "cell_type": "markdown",
   "id": "dfb96c14-37d5-4a73-b89e-88d97e08e97d",
   "metadata": {},
   "source": [
    "[Упражнение](https://ru.hexlet.io/courses/python-classes/lessons/abstract-classes/exercise_unit)\n",
    "\n",
    "[Решение](https://ru.hexlet.io/code_reviews/1813594)"
   ]
  },
  {
   "cell_type": "code",
   "execution_count": 151,
   "id": "acc92f00-b479-4f8e-9894-1c7326869071",
   "metadata": {},
   "outputs": [],
   "source": [
    "from abc import ABC, abstractmethod\n",
    "\n",
    "\n",
    "class HTMLElement(ABC):\n",
    "    ATTRIBUTE_NAMES = ['name', 'class']\n",
    "\n",
    "    def __init__(self, attributes=None):\n",
    "        if attributes is None:\n",
    "            self.attributes = {}\n",
    "        else:\n",
    "            self.attributes = attributes\n",
    "\n",
    "    @classmethod\n",
    "    def get_attribute_names(cls):\n",
    "        return cls.ATTRIBUTE_NAMES\n",
    "\n",
    "    def get_attributes(self):\n",
    "        return self.attributes\n",
    "\n",
    "    @abstractmethod\n",
    "    def is_valid(self):\n",
    "        pass\n",
    "\n",
    "\n",
    "# Для тега Button допустимыми являются: name, class, type. Причём атрибут type, является обязательным и \n",
    "# может принимать одно из доступных значений: button, submit, reset.\n",
    "class HTMLButtonElement(HTMLElement):\n",
    "    ATTRIBUTE_NAMES = ['type']\n",
    "    TYPE_NAMES = ['button', 'submit', 'reset']\n",
    "\n",
    "    @classmethod\n",
    "    def get_attribute_names(cls):\n",
    "        return super().ATTRIBUTE_NAMES + cls.ATTRIBUTE_NAMES\n",
    "\n",
    "    def is_valid(self):\n",
    "        allowed_attribute_names = self.get_attribute_names()\n",
    "        attributes = self.get_attributes()\n",
    "        required_attribute_name = 'type' \n",
    "        if required_attribute_name not in attributes:\n",
    "            return False      \n",
    "        if attributes[required_attribute_name] not in self.TYPE_NAMES:\n",
    "            return False\n",
    "        return all(attribute in allowed_attribute_names\n",
    "                   for attribute in attributes)\n",
    "\n",
    "\n",
    "# Для тега Img допустимыми являются: name, class, src. Причём name и class допустимы для любого элемента.\n",
    "# Поэтому информация о них находится в базовом классе.\n",
    "class HTMLImgElement(HTMLElement):\n",
    "    ATTRIBUTE_NAMES = ['src']\n",
    "\n",
    "    @classmethod\n",
    "    def get_attribute_names(cls):\n",
    "        return super().ATTRIBUTE_NAMES + cls.ATTRIBUTE_NAMES\n",
    "\n",
    "    def is_valid(self):\n",
    "        allowed_attribute_names = self.get_attribute_names()\n",
    "        return all(attribute in allowed_attribute_names\n",
    "                   for attribute in self.get_attributes())\n"
   ]
  },
  {
   "cell_type": "code",
   "execution_count": 153,
   "id": "67822d78-6ac5-4989-94ad-9c442e7ae097",
   "metadata": {},
   "outputs": [
    {
     "name": "stdout",
     "output_type": "stream",
     "text": [
      "True\n",
      "False\n",
      "False\n",
      "True\n"
     ]
    }
   ],
   "source": [
    "button1 = HTMLButtonElement({'class': 'rounded', 'type': 'button'})\n",
    "print(button1.is_valid())  # True\n",
    "\n",
    "button2 = HTMLButtonElement({'class': 'rounded'})\n",
    "print(button2.is_valid())  # False\n",
    "\n",
    "button3 = HTMLButtonElement({'type': 'resett'})\n",
    "print(button3.is_valid())  # False\n",
    "\n",
    "button3 = HTMLButtonElement({'type': 'reset'})\n",
    "print(button3.is_valid())  # True"
   ]
  },
  {
   "cell_type": "code",
   "execution_count": 155,
   "id": "95a671ca-93e4-470b-84d1-e61a085a0af4",
   "metadata": {},
   "outputs": [
    {
     "name": "stdout",
     "output_type": "stream",
     "text": [
      "True\n",
      "False\n"
     ]
    }
   ],
   "source": [
    "img1 = HTMLImgElement({'class': 'rounded', 'src': 'path/to/image'})\n",
    "print(img1.is_valid())  # True\n",
    "\n",
    "img2 = HTMLImgElement({'class': 'rounded', 'href': 'path/to/image'})\n",
    "print(img2.is_valid())  # False"
   ]
  },
  {
   "cell_type": "markdown",
   "id": "2b5a0c11-15a5-4f7e-aee2-f133d238d81c",
   "metadata": {},
   "source": [
    "Позднее статическое связывание"
   ]
  },
  {
   "cell_type": "code",
   "execution_count": 158,
   "id": "2b3e7f90-1aeb-4a52-9a5d-43d2ca7d7a08",
   "metadata": {},
   "outputs": [],
   "source": [
    "class A:\n",
    "    def simple_func():\n",
    "        print(\"Simple Function\")\n",
    "\n",
    "    @staticmethod\n",
    "    def who():\n",
    "        print(\"A\")\n",
    "\n",
    "    @staticmethod\n",
    "    def test():\n",
    "        A.who()\n",
    "\n",
    "\n",
    "class B(A):\n",
    "    @staticmethod\n",
    "    def who():\n",
    "        print(\"B\")"
   ]
  },
  {
   "cell_type": "code",
   "execution_count": 166,
   "id": "1f7698be-8588-4fb2-b0ac-cbb19878102d",
   "metadata": {},
   "outputs": [
    {
     "name": "stdout",
     "output_type": "stream",
     "text": [
      "A\n",
      "B\n",
      "A\n"
     ]
    }
   ],
   "source": [
    "obj = B()\n",
    "# obj.simple_func()  # Это вызовет ошибку, потому что Python пытается передать self в simple_func\n",
    "A.who()\n",
    "B.who()\n",
    "B.test()  # 'A'"
   ]
  },
  {
   "cell_type": "code",
   "execution_count": 168,
   "id": "354cbd61-60f9-43e4-99b2-f10068a73a7d",
   "metadata": {},
   "outputs": [
    {
     "ename": "NameError",
     "evalue": "name '_table' is not defined",
     "output_type": "error",
     "traceback": [
      "\u001b[0;31m---------------------------------------------------------------------------\u001b[0m",
      "\u001b[0;31mNameError\u001b[0m                                 Traceback (most recent call last)",
      "Cell \u001b[0;32mIn[168], line 10\u001b[0m\n\u001b[1;32m      6\u001b[0m \u001b[38;5;28;01mclass\u001b[39;00m \u001b[38;5;21;01mUser\u001b[39;00m(BaseEntity):\n\u001b[1;32m      7\u001b[0m     _table \u001b[38;5;241m=\u001b[39m \u001b[38;5;124m\"\u001b[39m\u001b[38;5;124musers\u001b[39m\u001b[38;5;124m\"\u001b[39m\n\u001b[0;32m---> 10\u001b[0m \u001b[38;5;28mprint\u001b[39m(User\u001b[38;5;241m.\u001b[39mget_table())\n",
      "Cell \u001b[0;32mIn[168], line 3\u001b[0m, in \u001b[0;36mBaseEntity.get_table\u001b[0;34m()\u001b[0m\n\u001b[1;32m      2\u001b[0m \u001b[38;5;28;01mdef\u001b[39;00m \u001b[38;5;21mget_table\u001b[39m():\n\u001b[0;32m----> 3\u001b[0m     \u001b[38;5;28;01mreturn\u001b[39;00m _table\n",
      "\u001b[0;31mNameError\u001b[0m: name '_table' is not defined"
     ]
    }
   ],
   "source": [
    "class BaseEntity:\n",
    "    def get_table():\n",
    "        return _table\n",
    "\n",
    "\n",
    "class User(BaseEntity):\n",
    "    _table = \"users\"\n",
    "\n",
    "\n",
    "print(User.get_table())  # NameError: name '_table' is not defined"
   ]
  },
  {
   "cell_type": "code",
   "execution_count": 170,
   "id": "198dbcd0-0266-471d-86e0-d144cdc59be2",
   "metadata": {},
   "outputs": [
    {
     "name": "stdout",
     "output_type": "stream",
     "text": [
      "users\n"
     ]
    }
   ],
   "source": [
    "class BaseEntity:\n",
    "    @classmethod\n",
    "    def get_table(cls):\n",
    "        return cls._table\n",
    "\n",
    "\n",
    "class User(BaseEntity):\n",
    "    _table = \"users\"\n",
    "\n",
    "\n",
    "print(User.get_table())  # 'users'"
   ]
  },
  {
   "cell_type": "code",
   "execution_count": 172,
   "id": "ac63551f-d104-4044-a0a2-4e50e362dcba",
   "metadata": {},
   "outputs": [
    {
     "name": "stdout",
     "output_type": "stream",
     "text": [
      "users\n"
     ]
    }
   ],
   "source": [
    "class BaseEntity:\n",
    "    _table = \"base_entity\"\n",
    "\n",
    "    @classmethod\n",
    "    def get_table(cls):\n",
    "        return cls._table\n",
    "\n",
    "\n",
    "class User(BaseEntity):\n",
    "    _table = \"users\"\n",
    "\n",
    "\n",
    "print(User.get_table())  # 'users'"
   ]
  },
  {
   "cell_type": "code",
   "execution_count": null,
   "id": "8241bcd5-048c-443d-b503-ef1c90089341",
   "metadata": {},
   "outputs": [],
   "source": []
  }
 ],
 "metadata": {
  "kernelspec": {
   "display_name": "Python 3 (ipykernel)",
   "language": "python",
   "name": "python3"
  },
  "language_info": {
   "codemirror_mode": {
    "name": "ipython",
    "version": 3
   },
   "file_extension": ".py",
   "mimetype": "text/x-python",
   "name": "python",
   "nbconvert_exporter": "python",
   "pygments_lexer": "ipython3",
   "version": "3.12.4"
  }
 },
 "nbformat": 4,
 "nbformat_minor": 5
}
