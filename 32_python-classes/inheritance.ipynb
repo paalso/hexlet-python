{
 "cells": [
  {
   "cell_type": "markdown",
   "id": "407b77b9-4d18-4834-b915-e9374f228a62",
   "metadata": {},
   "source": [
    "# [Погружаясь в классы](https://ru.hexlet.io/courses/python-classes)"
   ]
  },
  {
   "cell_type": "markdown",
   "id": "71ac7311-427b-4979-b5d4-b7814fdc08c8",
   "metadata": {},
   "source": [
    "## [Наследование](https://ru.hexlet.io/courses/python-classes/lessons//exercise_unit)"
   ]
  },
  {
   "cell_type": "markdown",
   "id": "84aa7390-ad0d-42be-a612-25f98987e0c3",
   "metadata": {},
   "source": [
    "[Упражнение](https://ru.hexlet.io/courses/python-classes/lessons//exercise_unit)"
   ]
  },
  {
   "cell_type": "markdown",
   "id": "a020ae15-3e0c-478b-8486-f1a18d4060ec",
   "metadata": {},
   "source": [
    "[Решение](https://ru.hexlet.io/code_reviews/1798813)"
   ]
  },
  {
   "cell_type": "code",
   "execution_count": 24,
   "id": "cefeda20-d771-4d3f-8104-47033d2c55a3",
   "metadata": {},
   "outputs": [],
   "source": [
    "class HTMLElement:\n",
    "    def __init__(self, attributes=None):\n",
    "        self.attributes = attributes if attributes else {}\n",
    "\n",
    "    def _stringify_attributes(self):\n",
    "        return ' '.join(f'{key}=\"{value}\"' for key, value in self.attributes.items())"
   ]
  },
  {
   "cell_type": "code",
   "execution_count": 51,
   "id": "e1d42f81-f4c6-4bbc-aadb-637faf5e33ca",
   "metadata": {},
   "outputs": [],
   "source": [
    "class HTMLHrElement(HTMLElement):\n",
    "    def __str__(self):\n",
    "        stringified_attributes = self._stringify_attributes()\n",
    "        separator = ' ' if stringified_attributes else ''\n",
    "        return f'<hr{separator}{stringified_attributes}>'"
   ]
  },
  {
   "cell_type": "code",
   "execution_count": 53,
   "id": "7cbaa25c-ecf7-4df6-a73e-13b22ecf76ee",
   "metadata": {},
   "outputs": [
    {
     "name": "stdout",
     "output_type": "stream",
     "text": [
      "<hr class=\"w-75\" id=\"wop\">\n"
     ]
    }
   ],
   "source": [
    "hr = HTMLHrElement({'class':'w-75', 'id':'wop'})\n",
    "print(hr)"
   ]
  },
  {
   "cell_type": "code",
   "execution_count": 55,
   "id": "0dbf1cd8-f0f6-47a2-9770-bf6a571714bb",
   "metadata": {},
   "outputs": [
    {
     "name": "stdout",
     "output_type": "stream",
     "text": [
      "<hr>\n"
     ]
    }
   ],
   "source": [
    "hr = HTMLHrElement()\n",
    "print(hr)"
   ]
  },
  {
   "cell_type": "code",
   "execution_count": null,
   "id": "6ac61f65-b7d9-4726-b29c-ee2716cfa7dd",
   "metadata": {},
   "outputs": [],
   "source": []
  },
  {
   "cell_type": "code",
   "execution_count": 67,
   "id": "c1d10d48-56a3-4978-8bcb-ee0421b26f4c",
   "metadata": {},
   "outputs": [],
   "source": [
    "class User:\n",
    "    def __init__(self):\n",
    "        self.name = \"User\"\n",
    "\n",
    "    # зададим приватный метод\n",
    "    def __private_greet(self):\n",
    "        return f\"Hello, {self.name}!\"\n",
    "\n",
    "    # зададим публичный интерфейс для этого метода\n",
    "    def greet(self):\n",
    "        return self.__private_greet()\n",
    "\n",
    "\n",
    "class John(User):\n",
    "    # попробуем переопределить приватный метод родителя\n",
    "    def __private_greet(self):\n",
    "        return f\"Hello, John!\""
   ]
  },
  {
   "cell_type": "code",
   "execution_count": 69,
   "id": "742ce38e-43e9-44e7-9238-5b02cc220b30",
   "metadata": {},
   "outputs": [
    {
     "data": {
      "text/plain": [
       "'Hello, User!'"
      ]
     },
     "execution_count": 69,
     "metadata": {},
     "output_type": "execute_result"
    }
   ],
   "source": [
    "John().greet()"
   ]
  },
  {
   "cell_type": "markdown",
   "id": "5d2f6ae1-cb4c-4e38-87cb-9c53d34b1aff",
   "metadata": {},
   "source": [
    "## [Модификаторы доступа](https://ru.hexlet.io/courses/python-classes/lessons/visibility/theory_unit)"
   ]
  },
  {
   "cell_type": "markdown",
   "id": "771c8735-c15c-4617-8206-6134441417ba",
   "metadata": {},
   "source": [
    "[Упражнение](https://ru.hexlet.io/courses/python-classes/lessons/visibility/exercise_unit)"
   ]
  },
  {
   "cell_type": "markdown",
   "id": "b558983a-8fb6-40ee-9e25-1b1bb767767e",
   "metadata": {},
   "source": [
    "[Решение](https://ru.hexlet.io/code_reviews/1206847)"
   ]
  },
  {
   "cell_type": "code",
   "execution_count": 305,
   "id": "9fd76622-e803-432b-911d-22a179c8e611",
   "metadata": {},
   "outputs": [],
   "source": [
    "class HTMLElement:\n",
    "    def __init__(self, attributes=None):\n",
    "        if attributes is None:\n",
    "            self.attributes = {}\n",
    "        else:\n",
    "            self.attributes = attributes\n",
    "\n",
    "    def get_attribute(self, key):\n",
    "        return self.attributes.get(key)\n",
    "\n",
    "    def remove_tag(self, tag):\n",
    "        if self._check_tag(tag):\n",
    "            self.attributes['tag'] = self._update_tags(tag, list.remove)\n",
    "    \n",
    "    def add_tag(self, tag):\n",
    "        if not self._check_tag(tag):\n",
    "            self.attributes['tag'] = self._update_tags(tag, list.append)\n",
    "\n",
    "    def toggle_tag(self, tag):\n",
    "        self.remove_tag(tag) if self._check_tag(tag) else self.add_tag(tag)\n",
    "    \n",
    "    def _update_tags(self, tag, operation):\n",
    "        tag_list = self._get_tag_list()\n",
    "        operation(tag_list, tag)\n",
    "        return ' '.join(tag_list)\n",
    "\n",
    "    def _get_tag_list(self):\n",
    "        return self._get_tag_str().split()\n",
    "\n",
    "    def _get_tag_str(self):\n",
    "        return self.get_attribute('tag') or ''\n",
    "\n",
    "    def _check_tag(self, tag):\n",
    "        tag_str = self._get_tag_str()\n",
    "        return tag_str and tag in tag_str\n",
    "\n",
    "class HTMLDivElement(HTMLElement):\n",
    "    pass"
   ]
  },
  {
   "cell_type": "code",
   "execution_count": 301,
   "id": "aef49a1a-4546-4b8f-9ba0-0bd02d8cd6d8",
   "metadata": {},
   "outputs": [
    {
     "name": "stdout",
     "output_type": "stream",
     "text": [
      "one two small\n",
      "one two small\n",
      "one small\n",
      "one small\n",
      "one\n",
      "one small\n",
      "one\n",
      "one small\n"
     ]
    }
   ],
   "source": [
    "div = HTMLDivElement({'tag': 'one two'})\n",
    "\n",
    "div.add_tag('small')\n",
    "print(div.get_attribute('tag')) ## 'one two small'\n",
    "\n",
    "div.add_tag('small')\n",
    "print(div.get_attribute('tag')) ## 'one two small'\n",
    "\n",
    "div.remove_tag('two')\n",
    "print(div.get_attribute('tag')) ## 'one small'\n",
    "\n",
    "div.remove_tag('two')\n",
    "print(div.get_attribute('tag')) ## 'one small'\n",
    "\n",
    "div.toggle_tag('small')\n",
    "print(div.get_attribute('tag')) ## 'one'\n",
    "\n",
    "div.toggle_tag('small')\n",
    "print(div.get_attribute('tag')) ## 'one small'\n",
    "\n",
    "div.toggle_tag('small')\n",
    "print(div.get_attribute('tag')) ## 'one'\n",
    "\n",
    "div.toggle_tag('small')\n",
    "print(div.get_attribute('tag')) ## 'one small'"
   ]
  },
  {
   "cell_type": "code",
   "execution_count": 160,
   "id": "86578f22-f677-49e7-8055-619c7e8f9157",
   "metadata": {},
   "outputs": [
    {
     "data": {
      "text/plain": [
       "['one', 'two']"
      ]
     },
     "execution_count": 160,
     "metadata": {},
     "output_type": "execute_result"
    }
   ],
   "source": [
    "div = HTMLDivElement({'tag': 'one two'})\n",
    "div.get_tag_list()"
   ]
  },
  {
   "cell_type": "markdown",
   "id": "300e4c5f-f1a3-4006-831c-93a02ba5ea80",
   "metadata": {},
   "source": [
    "## [Позднее связывание](https://ru.hexlet.io/courses/python-classes/lessons/late-binding/theory_unit)"
   ]
  },
  {
   "cell_type": "code",
   "execution_count": 1,
   "id": "cbd20687-4b09-4395-8dcc-e9c6f5e11707",
   "metadata": {},
   "outputs": [],
   "source": [
    "class A:\n",
    "    __name = \"From A\"\n",
    "\n",
    "    def get_name(self):\n",
    "        print(\"Current class:\", type(self).__name__)\n",
    "        return self.__name\n",
    "\n",
    "\n",
    "class B(A):\n",
    "    pass"
   ]
  },
  {
   "cell_type": "code",
   "execution_count": 2,
   "id": "89303126-7e20-45bd-acc2-c2fe485394a3",
   "metadata": {},
   "outputs": [
    {
     "name": "stdout",
     "output_type": "stream",
     "text": [
      "Current class: A\n",
      "From A\n",
      "Current class: B\n",
      "From A\n"
     ]
    }
   ],
   "source": [
    "a = A()\n",
    "print(a.get_name())\n",
    "# => Current class: A\n",
    "# => From A\n",
    "\n",
    "b = B()\n",
    "print(b.get_name())\n",
    "# => Current class: B\n",
    "# => From A"
   ]
  },
  {
   "cell_type": "code",
   "execution_count": 320,
   "id": "c46fbbf2-c68c-4fff-b3dd-adb4f6791818",
   "metadata": {},
   "outputs": [
    {
     "name": "stdout",
     "output_type": "stream",
     "text": [
      "I am B\n"
     ]
    }
   ],
   "source": [
    "class A:\n",
    "    def who_am_i(self):\n",
    "        print(f\"I am {type(self).__name__}\")\n",
    "\n",
    "class B(A):\n",
    "    pass\n",
    "\n",
    "b = B()\n",
    "b.who_am_i()  # I am B"
   ]
  },
  {
   "cell_type": "markdown",
   "id": "bdfbb289-98f1-4961-a69f-ddca2f342197",
   "metadata": {},
   "source": [
    "[Упражнение](https://ru.hexlet.io/courses/python-classes/lessons/late-binding/exercise_unit)"
   ]
  },
  {
   "cell_type": "markdown",
   "id": "0b631409-b396-440e-ac5c-19cfef10918c",
   "metadata": {},
   "source": [
    "[Решение](https://ru.hexlet.io/code_reviews/1209298)"
   ]
  },
  {
   "cell_type": "code",
   "execution_count": 13,
   "id": "23585315-eb1c-4ce4-bfa5-769b73942409",
   "metadata": {},
   "outputs": [],
   "source": [
    "class Base:\n",
    "    def is_instance_of(self, class_name):\n",
    "        self_mro = self.__class__.__mro__\n",
    "        return any(clazz.__name__ == class_name for clazz in self_mro)\n",
    "\n",
    "\n",
    "class Child(Base):\n",
    "    pass\n",
    "\n",
    "\n",
    "class ChildOfChild(Child):\n",
    "    pass"
   ]
  },
  {
   "cell_type": "code",
   "execution_count": 15,
   "id": "02b1408a-d0aa-462a-9d92-719127ae750b",
   "metadata": {},
   "outputs": [
    {
     "name": "stdout",
     "output_type": "stream",
     "text": [
      "True\n",
      "True\n",
      "True\n",
      "False\n"
     ]
    }
   ],
   "source": [
    "obj = ChildOfChild()\n",
    "print(obj.is_instance_of('Base')) ##  True\n",
    "print(obj.is_instance_of('Child'))  ## True\n",
    "print(obj.is_instance_of('ChildOfChild'))  ## True\n",
    "print(obj.is_instance_of('SomeClass'))  ## False"
   ]
  },
  {
   "cell_type": "code",
   "execution_count": 5,
   "id": "2d6a7417-40da-49b4-b38a-b2a0c7ad4d4a",
   "metadata": {},
   "outputs": [
    {
     "data": {
      "text/plain": [
       "<__main__.ChildOfChild at 0x7f95bcca9670>"
      ]
     },
     "execution_count": 5,
     "metadata": {},
     "output_type": "execute_result"
    }
   ],
   "source": [
    "obj"
   ]
  },
  {
   "cell_type": "code",
   "execution_count": 7,
   "id": "aad37df0-38d1-4991-be25-22413f741aeb",
   "metadata": {},
   "outputs": [
    {
     "data": {
      "text/plain": [
       "(__main__.ChildOfChild, __main__.Child, __main__.Base, object)"
      ]
     },
     "execution_count": 7,
     "metadata": {},
     "output_type": "execute_result"
    }
   ],
   "source": [
    "ChildOfChild.__mro__"
   ]
  },
  {
   "cell_type": "markdown",
   "id": "364f3c25-9e31-4488-a126-e79246161d0d",
   "metadata": {},
   "source": [
    "## [Шаблонный метод](https://ru.hexlet.io/courses/python-classes/lessons/template-method/theory_unit)"
   ]
  },
  {
   "cell_type": "code",
   "execution_count": 1,
   "id": "81838345-b9a4-4d7b-96af-6fcc3e41b784",
   "metadata": {},
   "outputs": [
    {
     "ename": "NameError",
     "evalue": "name 'HtmlElement' is not defined",
     "output_type": "error",
     "traceback": [
      "\u001b[0;31m---------------------------------------------------------------------------\u001b[0m",
      "\u001b[0;31mNameError\u001b[0m                                 Traceback (most recent call last)",
      "Cell \u001b[0;32mIn[1], line 1\u001b[0m\n\u001b[0;32m----> 1\u001b[0m \u001b[38;5;28;01mclass\u001b[39;00m \u001b[38;5;21;01mHtmlSingleElement\u001b[39;00m(HtmlElement):\n\u001b[1;32m      2\u001b[0m     \u001b[38;5;28;01mdef\u001b[39;00m \u001b[38;5;21m__str__\u001b[39m(\u001b[38;5;28mself\u001b[39m):\n\u001b[1;32m      3\u001b[0m         attr_line \u001b[38;5;241m=\u001b[39m \u001b[38;5;28mself\u001b[39m\u001b[38;5;241m.\u001b[39mstringify_attributes()\n",
      "\u001b[0;31mNameError\u001b[0m: name 'HtmlElement' is not defined"
     ]
    }
   ],
   "source": [
    "class HtmlSingleElement(HtmlElement):\n",
    "    def __str__(self):\n",
    "        attr_line = self.stringify_attributes()\n",
    "        # get_tag_name – метод, который должны реализовать все подклассы\n",
    "        tag_name = self.get_tag_name()\n",
    "        # Создаётся одиночный тег\n",
    "        return f\"<{tag_name} {attr_line} />\"\n",
    "\n",
    "\n",
    "class HtmlPairElement(HtmlElement):\n",
    "    def __str__(self):\n",
    "        attr_line = self.stringify_attributes()\n",
    "        body = self.get_text_content()\n",
    "        # get_tag_name – метод, который должны реализовать все подклассы\n",
    "        tag_name = self.get_tag_name()\n",
    "        return f\"<{tag_name} {attr_line}>{body}</{tag_name}>\"\n"
   ]
  },
  {
   "cell_type": "markdown",
   "id": "c4a1c581-e77c-461c-ab01-80a123c68ba6",
   "metadata": {},
   "source": [
    "[Упражнение](https://ru.hexlet.io/courses/python-classes/lessons/template-method/exercise_unit)"
   ]
  },
  {
   "cell_type": "markdown",
   "id": "ca0ce1c1-f8f9-46c7-80dc-7e1fd8a33a44",
   "metadata": {},
   "source": [
    "[Решение](https://ru.hexlet.io/code_reviews/1210439)"
   ]
  },
  {
   "cell_type": "code",
   "execution_count": 114,
   "id": "a66c9980-22ac-41f0-95d0-90caac6baa70",
   "metadata": {},
   "outputs": [],
   "source": [
    "class HTMLElement:\n",
    "    def __init__(self, attributes=None):\n",
    "        self.attributes = attributes if attributes else {}\n",
    "\n",
    "    def _stringify_attributes(self):\n",
    "        line = ''.join(f' {k}=\"{v}\"' for k, v in self.attributes.items())\n",
    "        return line\n",
    "\n",
    "\n",
    "class HTMLPairElement(HTMLElement):\n",
    "    def __init__(self, attributes=None):\n",
    "        super().__init__(attributes)\n",
    "        self._body = ''\n",
    "    \n",
    "    def get_text_content(self):\n",
    "        return self._body\n",
    "    \n",
    "    def set_text_content(self, body):\n",
    "        self._body = body\n",
    "\n",
    "    def __str__(self):\n",
    "        tag_name = self.get_tag_name()\n",
    "        attributes = self._stringify_attributes()\n",
    "        return f'<{tag_name}{attributes}>{self.get_text_content()}</{tag_name}>'\n",
    "\n",
    "\n",
    "class HTMLDivElement(HTMLPairElement):\n",
    "    def get_tag_name(self):\n",
    "        return 'div'"
   ]
  },
  {
   "cell_type": "code",
   "execution_count": 110,
   "id": "98ff2997-f4c6-4ee8-9387-112e57a2037f",
   "metadata": {},
   "outputs": [
    {
     "data": {
      "text/plain": [
       "'<div name=\"div\" data-toggle=\"true\">Body Text</div>'"
      ]
     },
     "execution_count": 110,
     "metadata": {},
     "output_type": "execute_result"
    }
   ],
   "source": [
    "div = HTMLDivElement({'name':'div', 'data-toggle':'true'})\n",
    "div.get_text_content()\n",
    "div.set_text_content('Body Text')\n",
    "div.get_text_content()  # Body Text\n",
    "str(div)\n",
    "# '<div name=\"div\" data-toggle=\"true\">Body Text</div>'"
   ]
  },
  {
   "cell_type": "code",
   "execution_count": 112,
   "id": "5c8cfc74-3f62-4c39-91b8-0d367c0eaf40",
   "metadata": {},
   "outputs": [
    {
     "data": {
      "text/plain": [
       "'<div>Body Text</div>'"
      ]
     },
     "execution_count": 112,
     "metadata": {},
     "output_type": "execute_result"
    }
   ],
   "source": [
    "div = HTMLDivElement()\n",
    "div.get_text_content()\n",
    "div.set_text_content('Body Text')\n",
    "div.get_text_content()  # Body Text\n",
    "str(div)\n",
    "# '<div name=\"div\" data-toggle=\"true\">Body Text</div>'"
   ]
  },
  {
   "cell_type": "markdown",
   "id": "691ba41c-4eae-482b-b5f6-8cdb69fe996f",
   "metadata": {},
   "source": [
    "## [Переопределение методов](https://ru.hexlet.io/courses/python-classes/lessons/overriding/theory_unit)"
   ]
  },
  {
   "cell_type": "markdown",
   "id": "c0fb200f-e996-4803-8226-13710dce67e7",
   "metadata": {},
   "source": [
    "[Упражнение](https://ru.hexlet.io/courses/python-classes/lessons/overriding/exercise_unit)"
   ]
  },
  {
   "cell_type": "markdown",
   "id": "c9ac43e5-4dfb-49f4-ba0d-efba850691b4",
   "metadata": {},
   "source": [
    "[Решение](https://ru.hexlet.io/code_reviews/1211554)"
   ]
  },
  {
   "cell_type": "code",
   "execution_count": 1,
   "id": "2df7788c-8a3a-451d-918d-0015dac775ae",
   "metadata": {},
   "outputs": [
    {
     "name": "stdout",
     "output_type": "stream",
     "text": [
      "236\n"
     ]
    }
   ],
   "source": [
    "import os\n",
    "\n",
    "stats = os.stat('/etc/hosts')\n",
    "print(stats.st_size)  # размер в байтах"
   ]
  },
  {
   "cell_type": "code",
   "execution_count": 25,
   "id": "9e2b11cf-a225-46b8-a507-3b15fa48ce9e",
   "metadata": {},
   "outputs": [],
   "source": [
    "import os\n",
    "\n",
    "\n",
    "class FileInfo:\n",
    "    def __init__(self, file_path):\n",
    "        self.file_path = file_path\n",
    "        self.file_stat = os.stat(self.file_path)\n",
    "\n",
    "    def get_size(self):\n",
    "        return self.file_stat.st_size"
   ]
  },
  {
   "cell_type": "code",
   "execution_count": 94,
   "id": "a71ee3fe-45e5-4e18-9c5c-ab084ac67871",
   "metadata": {},
   "outputs": [],
   "source": [
    "class SmartFileInfo(FileInfo):\n",
    "    ALLOWED_UNITS = 'b', 'kb'\n",
    "    \n",
    "    def __init__(self, file_path):\n",
    "        super().__init__(file_path)\n",
    "\n",
    "    def get_size(self, unit='b'):\n",
    "        if unit not in self.ALLOWED_UNITS:\n",
    "            raise ValueError\n",
    "        value = super().get_size()  # in bytes\n",
    "        if unit == 'kb':\n",
    "            value /= 1024.0   # # in kbytes\n",
    "        return value"
   ]
  },
  {
   "cell_type": "code",
   "execution_count": 96,
   "id": "4341c9c2-9fb2-4799-b0e3-3a678d19dff4",
   "metadata": {},
   "outputs": [
    {
     "data": {
      "text/plain": [
       "0.0615234375"
      ]
     },
     "execution_count": 96,
     "metadata": {},
     "output_type": "execute_result"
    }
   ],
   "source": [
    "file_stat = SmartFileInfo('Makefile');\n",
    "file_stat.get_size()  # 67\n",
    "file_stat.get_size('b')  # 67\n",
    "file_stat.get_size('kb')  # 0.0654296875\n",
    "# file_stat.get_size('udav')  # ValueError\n"
   ]
  },
  {
   "cell_type": "markdown",
   "id": "be24eeb2-b72f-4d8d-97f4-6db4f0339533",
   "metadata": {},
   "source": [
    "## [Исключения](https://ru.hexlet.io/courses/python-classes/lessons/exceptions/theory_unit)"
   ]
  },
  {
   "cell_type": "markdown",
   "id": "d888c9d4-ca80-438b-9832-9e1c856a021e",
   "metadata": {
    "scrolled": true
   },
   "source": [
    "[Упражнение](https://ru.hexlet.io/courses/python-classes/lessons/exceptions/exercise_unit)"
   ]
  },
  {
   "cell_type": "markdown",
   "id": "c712c8c8-ac82-411f-8d04-8ad4dc3241fc",
   "metadata": {},
   "source": [
    "[Решение](https://ru.hexlet.io/code_reviews/1811864)"
   ]
  },
  {
   "cell_type": "code",
   "execution_count": 108,
   "id": "00be73e3-cfbe-4743-9b3c-a6533392233e",
   "metadata": {},
   "outputs": [],
   "source": [
    "class FileError(Exception):\n",
    "    pass\n",
    "\n",
    "\n",
    "class NotExistsError(FileError):\n",
    "    pass\n",
    "\n",
    "\n",
    "class NotReadableError(FileError):\n",
    "    pass"
   ]
  },
  {
   "cell_type": "code",
   "execution_count": 109,
   "id": "eeb3fd76-e7f4-4f0b-b91a-1e42cdb759c2",
   "metadata": {},
   "outputs": [],
   "source": [
    "import os\n",
    "\n",
    "class File:\n",
    "    def __init__(self, file_path):\n",
    "        self.file_path = file_path\n",
    "\n",
    "    def read(self):\n",
    "        file_path = self.file_path\n",
    "        if not os.path.exists(file_path):\n",
    "            raise NotExistsError(f'{file_path} does not exist')\n",
    "        if not os.access(file_path, os.R_OK):\n",
    "            raise NotReadableError(f'Cannot read {file_path}')\n",
    "        with open(file_path, 'r') as f:\n",
    "            return f.read()"
   ]
  },
  {
   "cell_type": "code",
   "execution_count": 110,
   "id": "65fde92e-4a18-45d7-9d63-3f7ba2a573a6",
   "metadata": {
    "scrolled": true
   },
   "outputs": [
    {
     "data": {
      "text/plain": [
       "'console:\\n\\t@python-console\\n\\ntest:\\n\\tuv run pytest\\n\\n.PHONY: test\\n\\n'"
      ]
     },
     "execution_count": 110,
     "metadata": {},
     "output_type": "execute_result"
    }
   ],
   "source": [
    "file = File('Makefile')\n",
    "file.read()  # \"какие-то данные\""
   ]
  },
  {
   "cell_type": "code",
   "execution_count": 111,
   "id": "b66a2dc1-02fe-452b-b15e-f944bce192e6",
   "metadata": {},
   "outputs": [
    {
     "ename": "NotExistsError",
     "evalue": "/etc/nonexists does not exist",
     "output_type": "error",
     "traceback": [
      "\u001b[0;31m---------------------------------------------------------------------------\u001b[0m",
      "\u001b[0;31mNotExistsError\u001b[0m                            Traceback (most recent call last)",
      "Cell \u001b[0;32mIn[111], line 2\u001b[0m\n\u001b[1;32m      1\u001b[0m file \u001b[38;5;241m=\u001b[39m File(\u001b[38;5;124m'\u001b[39m\u001b[38;5;124m/etc/nonexists\u001b[39m\u001b[38;5;124m'\u001b[39m)\n\u001b[0;32m----> 2\u001b[0m file\u001b[38;5;241m.\u001b[39mread()\n",
      "Cell \u001b[0;32mIn[109], line 10\u001b[0m, in \u001b[0;36mFile.read\u001b[0;34m(self)\u001b[0m\n\u001b[1;32m      8\u001b[0m file_path \u001b[38;5;241m=\u001b[39m \u001b[38;5;28mself\u001b[39m\u001b[38;5;241m.\u001b[39mfile_path\n\u001b[1;32m      9\u001b[0m \u001b[38;5;28;01mif\u001b[39;00m \u001b[38;5;129;01mnot\u001b[39;00m os\u001b[38;5;241m.\u001b[39mpath\u001b[38;5;241m.\u001b[39mexists(file_path):\n\u001b[0;32m---> 10\u001b[0m     \u001b[38;5;28;01mraise\u001b[39;00m NotExistsError(\u001b[38;5;124mf\u001b[39m\u001b[38;5;124m'\u001b[39m\u001b[38;5;132;01m{\u001b[39;00mfile_path\u001b[38;5;132;01m}\u001b[39;00m\u001b[38;5;124m does not exist\u001b[39m\u001b[38;5;124m'\u001b[39m)\n\u001b[1;32m     11\u001b[0m \u001b[38;5;28;01mif\u001b[39;00m \u001b[38;5;129;01mnot\u001b[39;00m os\u001b[38;5;241m.\u001b[39maccess(file_path, os\u001b[38;5;241m.\u001b[39mR_OK):\n\u001b[1;32m     12\u001b[0m     \u001b[38;5;28;01mraise\u001b[39;00m NotReadableError(\u001b[38;5;124mf\u001b[39m\u001b[38;5;124m'\u001b[39m\u001b[38;5;124mCannot read \u001b[39m\u001b[38;5;132;01m{\u001b[39;00mfile_path\u001b[38;5;132;01m}\u001b[39;00m\u001b[38;5;124m'\u001b[39m)\n",
      "\u001b[0;31mNotExistsError\u001b[0m: /etc/nonexists does not exist"
     ]
    }
   ],
   "source": [
    "file = File('/etc/nonexists')\n",
    "file.read()  # NotExistsError"
   ]
  },
  {
   "cell_type": "code",
   "execution_count": null,
   "id": "cfe70b78-7288-408e-9ac3-4b9534e048b3",
   "metadata": {},
   "outputs": [],
   "source": [
    "file = File('/proc/kcore')\n",
    "file.read()  # NotReadableError"
   ]
  },
  {
   "cell_type": "code",
   "execution_count": null,
   "id": "f8792a8c-07cf-4ec0-8d27-c2b91ad8faca",
   "metadata": {},
   "outputs": [],
   "source": [
    "def read_files(paths):\n",
    "    result = []\n",
    "    for path in paths:\n",
    "        try:\n",
    "            content = File(path).read()\n",
    "        except FileError:\n",
    "            content = None\n",
    "        result.append(content)\n",
    "    return result"
   ]
  },
  {
   "cell_type": "code",
   "execution_count": null,
   "id": "854e707f-dc76-48f5-8803-5cb25f852650",
   "metadata": {},
   "outputs": [],
   "source": [
    "values = read_files(['/etc/fstab', '/etc/unknown'])\n",
    "print(values)  # => [\"какие-то данные\", None]"
   ]
  },
  {
   "cell_type": "markdown",
   "id": "a75fa7d6-4ab4-4b06-9159-7c1fd19939a3",
   "metadata": {},
   "source": [
    "## [Динамическая диспетчеризация](https://ru.hexlet.io/courses/python-classes/lessons/dynamic-dispatch/theory_unit)"
   ]
  },
  {
   "cell_type": "code",
   "execution_count": 121,
   "id": "70e557b4-6611-4883-872a-f3d5801ae6cf",
   "metadata": {},
   "outputs": [],
   "source": [
    "class Dispatcher:\n",
    "    # Что происходит при вызове: obj.get_name() => call_method(obj, 'get_name')\n",
    "    def call_method(self, obj, method_name, *args):  # функция-диспетчер\n",
    "        # Получаем список всех методов в классе объекта\n",
    "        methods = [method for method in dir(obj) if callable(getattr(obj, method))]\n",
    "        if method_name in methods:\n",
    "            # Берем нужный метод и вызываем его\n",
    "            getattr(obj, method_name)(*args)\n",
    "        elif method_name not in methods and \"__call__\" in methods:\n",
    "            # Если метод method_name не найден, но определен метод __call__, то вызываем его\n",
    "            obj.__call__(*args)\n",
    "        else:\n",
    "            raise Exception(\"No method error\")\n"
   ]
  },
  {
   "cell_type": "code",
   "execution_count": null,
   "id": "fbf4f03f-cd06-4259-b46f-9cdffb2e3f07",
   "metadata": {},
   "outputs": [],
   "source": []
  }
 ],
 "metadata": {
  "kernelspec": {
   "display_name": "Python 3 (ipykernel)",
   "language": "python",
   "name": "python3"
  },
  "language_info": {
   "codemirror_mode": {
    "name": "ipython",
    "version": 3
   },
   "file_extension": ".py",
   "mimetype": "text/x-python",
   "name": "python",
   "nbconvert_exporter": "python",
   "pygments_lexer": "ipython3",
   "version": "3.12.4"
  }
 },
 "nbformat": 4,
 "nbformat_minor": 5
}
