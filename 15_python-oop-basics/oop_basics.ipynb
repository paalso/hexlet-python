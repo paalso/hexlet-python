{
 "cells": [
  {
   "cell_type": "markdown",
   "id": "87086948-ce15-4caa-9887-b73cd47bf9ca",
   "metadata": {},
   "source": [
    "# [Python: Введение в ООП](https://ru.hexlet.io/courses/python-oop-basics)"
   ]
  },
  {
   "cell_type": "markdown",
   "id": "06e62071-57d1-4d35-997d-a78af3090afe",
   "metadata": {},
   "source": [
    "## [Свойства](https://ru.hexlet.io/courses/python-oop-basics/lessons/properties/theory_unit)"
   ]
  },
  {
   "cell_type": "raw",
   "id": "89ff664a-8fab-4017-a096-d784c381ab09",
   "metadata": {},
   "source": [
    "Реализуйте класс HourClock, который будет изображать часы с одной лишь часовой стрелкой. Текущее время (час) должно сообщать свойство hours. Это же свойство должно позволять изменять положение часовой стрелки (посредством сеттера). При изменении положения стрелки нужно контролировать, чтобы значение оставалось в диапазоне 0..11 (часов)."
   ]
  },
  {
   "cell_type": "markdown",
   "id": "d7c63e56-2495-45f0-9390-9106961773a0",
   "metadata": {},
   "source": [
    "[Решение](https://ru.hexlet.io/code_reviews/355194)"
   ]
  },
  {
   "cell_type": "code",
   "execution_count": 104,
   "id": "5c838c7d-c43b-4584-988b-d1b294edcd41",
   "metadata": {},
   "outputs": [],
   "source": [
    "class HourClock:\n",
    "    def __init__(self):\n",
    "        self._hours = 0\n",
    "\n",
    "    @property\n",
    "    def hours(self):\n",
    "        return self._hours\n",
    "\n",
    "    @hours.setter\n",
    "    def hours(self, value):\n",
    "        self._hours = self._normalize(value)\n",
    "\n",
    "    @staticmethod\n",
    "    def _normalize(hours):\n",
    "        return hours % 12"
   ]
  },
  {
   "cell_type": "markdown",
   "id": "1d2c7a24-ece3-43af-a6ed-6b92c626cf9b",
   "metadata": {},
   "source": [
    "## [Наследование](https://ru.hexlet.io/courses/python-oop-basics/lessons/inheritance/theory_unit)"
   ]
  },
  {
   "cell_type": "markdown",
   "id": "28432f88-36dd-42b1-9a3b-58b085628623",
   "metadata": {},
   "source": [
    "[Решение](https://ru.hexlet.io/code_reviews/355549)"
   ]
  },
  {
   "cell_type": "raw",
   "id": "2011028c-c86c-4aff-bf7f-dba24aa8fe04",
   "metadata": {},
   "source": [
    "Вам дан класс Counter, реализующий счетчик с инкрементом и декрементом. Вам нужно реализовать класс-потомок LimitedCounter, который будет отличаться от Counter тем, что при инициализации будет принимать в качестве аргумента лимит — максимальное возможное значение счетчика.\n",
    "\n",
    "Требования к классу LimitedCounter:\n",
    "\n",
    "    Класс должен максимально использовать методы предка, если таковые переопределяет\n",
    "    Минимальное значение счетчика Counter — 0, должно оставаться таковым и для LimitedCounter\n"
   ]
  },
  {
   "cell_type": "code",
   "execution_count": 154,
   "id": "3081cebb-adfb-482a-b1cc-24e50e327e46",
   "metadata": {},
   "outputs": [],
   "source": [
    "class Counter(object):\n",
    "    \"\"\"A simple integral counter.\"\"\"\n",
    "\n",
    "    def __init__(self):\n",
    "        \"\"\"Initialize a new counter with zero as starting value.\"\"\"\n",
    "        self.value = 0\n",
    "\n",
    "    def inc(self, amount=1):\n",
    "        \"\"\"Increment counter's value.\"\"\"\n",
    "        self.value = max(self.value + amount, 0)\n",
    "\n",
    "    def dec(self, amount=1):\n",
    "        \"\"\"Decrement counter's value.\"\"\"\n",
    "        self.inc(-amount)"
   ]
  },
  {
   "cell_type": "code",
   "execution_count": 155,
   "id": "eef421a3-8a40-4959-8a30-a5cdb05df27e",
   "metadata": {},
   "outputs": [],
   "source": [
    "class LimitedCounter(Counter):\n",
    "    def __init__(self, limit):\n",
    "        super().__init__()\n",
    "        self.limit = limit\n",
    "\n",
    "    def inc(self, amount=1):\n",
    "        super().inc(amount)\n",
    "        self.value = min(self.value, self.limit)"
   ]
  },
  {
   "cell_type": "code",
   "execution_count": 156,
   "id": "92ae64af-7222-4bd3-acb1-0aafd838286a",
   "metadata": {},
   "outputs": [],
   "source": [
    "counter = LimitedCounter(limit=10)"
   ]
  },
  {
   "cell_type": "code",
   "execution_count": 157,
   "id": "1f1b0624-8ca3-46c8-bbdc-e0a80f5dd580",
   "metadata": {},
   "outputs": [
    {
     "data": {
      "text/plain": [
       "10"
      ]
     },
     "execution_count": 157,
     "metadata": {},
     "output_type": "execute_result"
    }
   ],
   "source": [
    "counter = LimitedCounter(limit=10)\n",
    "counter.inc()\n",
    "counter.inc(7)\n",
    "counter.value  # 8\n",
    "counter.dec(10)\n",
    "counter.value  # 0\n",
    "counter.inc(7)\n",
    "counter.inc(7)\n",
    "counter.value  # 10"
   ]
  },
  {
   "cell_type": "markdown",
   "id": "a7cd5362-adbe-4116-a31a-9d7c2c26a359",
   "metadata": {},
   "source": [
    "## [Исключения](https://ru.hexlet.io/courses/python-oop-basics/lessons/exceptions/theory_unit)"
   ]
  },
  {
   "cell_type": "markdown",
   "id": "d34cf085-0f4f-4187-9ce2-e986ad01fb2c",
   "metadata": {},
   "source": [
    "[Решение](https://ru.hexlet.io/code_reviews/355555)"
   ]
  },
  {
   "cell_type": "code",
   "execution_count": 80,
   "id": "c78c735d-163a-4bb2-a63b-bfdeebe00b48",
   "metadata": {},
   "outputs": [],
   "source": [
    "def suppress(exceptions: tuple, or_return=None):\n",
    "    def outer(func):\n",
    "        def inner(*args, **kwargs):\n",
    "            try:\n",
    "                result = func(*args, **kwargs)\n",
    "            except exceptions:\n",
    "                result = or_return\n",
    "            return result\n",
    "        return inner\n",
    "    return outer"
   ]
  },
  {
   "cell_type": "code",
   "execution_count": 74,
   "id": "f5741f47-4125-4aa8-bb33-7f5504d15172",
   "metadata": {},
   "outputs": [],
   "source": [
    "@suppress((KeyError, IndexError))\n",
    "def get_item(key, structure):\n",
    "     return structure[key]"
   ]
  },
  {
   "cell_type": "code",
   "execution_count": 76,
   "id": "1f406159-c164-4a50-9ec2-7c821348a8d3",
   "metadata": {},
   "outputs": [
    {
     "data": {
      "text/plain": [
       "True"
      ]
     },
     "execution_count": 76,
     "metadata": {},
     "output_type": "execute_result"
    }
   ],
   "source": [
    "get_item(7, \"foo\") is None  # True"
   ]
  },
  {
   "cell_type": "code",
   "execution_count": 78,
   "id": "0b1b805b-871b-4e54-aa87-0dea475f66b6",
   "metadata": {},
   "outputs": [
    {
     "data": {
      "text/plain": [
       "True"
      ]
     },
     "execution_count": 78,
     "metadata": {},
     "output_type": "execute_result"
    }
   ],
   "source": [
    "get_item('a', {}) is None  # True"
   ]
  },
  {
   "cell_type": "code",
   "execution_count": null,
   "id": "9ec00c64-3081-4a74-b147-4e9b616801a4",
   "metadata": {},
   "outputs": [],
   "source": []
  }
 ],
 "metadata": {
  "kernelspec": {
   "display_name": "Python 3 (ipykernel)",
   "language": "python",
   "name": "python3"
  },
  "language_info": {
   "codemirror_mode": {
    "name": "ipython",
    "version": 3
   },
   "file_extension": ".py",
   "mimetype": "text/x-python",
   "name": "python",
   "nbconvert_exporter": "python",
   "pygments_lexer": "ipython3",
   "version": "3.12.4"
  }
 },
 "nbformat": 4,
 "nbformat_minor": 5
}
