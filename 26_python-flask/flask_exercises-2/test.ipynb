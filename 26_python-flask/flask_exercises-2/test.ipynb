{
 "cells": [
  {
   "cell_type": "code",
   "execution_count": 1,
   "id": "9c69696a",
   "metadata": {},
   "outputs": [],
   "source": [
    "import json\n",
    "import os"
   ]
  },
  {
   "cell_type": "code",
   "execution_count": 2,
   "id": "ad7dd7d8",
   "metadata": {},
   "outputs": [],
   "source": [
    "class UserRepository:\n",
    "    def __init__(self, path):\n",
    "        self.path = path\n",
    "        self.id = 0\n",
    "        if not os.path.exists(self.path):\n",
    "            self.id = 0\n",
    "            with open(self.path, 'w') as file:\n",
    "                json.dump([], file)\n",
    "        else:\n",
    "            data = self._load_data()\n",
    "            self.id = max(user['id'] for user in data)\n",
    "\n",
    "    def save(self, user):\n",
    "        data = self._load_data()\n",
    "        self.id += 1\n",
    "        numerized_user = user | {'id': self.id}\n",
    "        data.append(numerized_user)\n",
    "        self._save_data(data)\n",
    "\n",
    "    def find_by_id(self, id_):\n",
    "        result = self.find('id', id_)\n",
    "        if result:\n",
    "            return result[0]\n",
    "\n",
    "    def find(self, key, value):\n",
    "        data = self._load_data()\n",
    "        return [user for user in data if user[key] == value]\n",
    "\n",
    "    def get_all(self):\n",
    "        return self._load_data()\n",
    "\n",
    "    def _load_data(self):\n",
    "        with open(self.path, 'r') as file:\n",
    "            return json.load(file)\n",
    "\n",
    "    def _save_data(self, data):\n",
    "        with open(self.path, 'w') as file:\n",
    "            json.dump(data, file, indent=4)"
   ]
  },
  {
   "cell_type": "code",
   "execution_count": 3,
   "id": "dc08ee70",
   "metadata": {},
   "outputs": [],
   "source": [
    "STORAGE = 'flask_example/data/db.dat'"
   ]
  },
  {
   "cell_type": "code",
   "execution_count": 4,
   "id": "8928653b",
   "metadata": {},
   "outputs": [],
   "source": [
    "repo = UserRepository(STORAGE)"
   ]
  },
  {
   "cell_type": "code",
   "execution_count": 43,
   "id": "8f955ae5",
   "metadata": {},
   "outputs": [],
   "source": [
    "user1 = {'name': 'John', 'email': 'john@email.net'}\n",
    "user2 = {'name': 'Tom', 'email': 'tom@email.net'}\n",
    "user5 = {'name': 'Nick', 'email': 'nikky@email.com'}"
   ]
  },
  {
   "cell_type": "code",
   "execution_count": 5,
   "id": "488630fe",
   "metadata": {},
   "outputs": [
    {
     "data": {
      "text/plain": [
       "[{'name': 'Tom', 'email': 'tommy@email.com', 'id': 1},\n",
       " {'name': 'John', 'email': 'john@email.net', 'id': 2},\n",
       " {'name': 'Tom', 'email': 'tom@email.net', 'id': 3},\n",
       " {'name': 'Tom', 'email': 'tommy@email.com', 'id': 4},\n",
       " {'name': 'Nick', 'email': 'nikky@email.com', 'id': 5},\n",
       " {'name': 'Tom Dickson', 'email': 'tom@email.net', 'city': '3', 'id': 6}]"
      ]
     },
     "execution_count": 5,
     "metadata": {},
     "output_type": "execute_result"
    }
   ],
   "source": [
    "repo.get_all()"
   ]
  },
  {
   "cell_type": "code",
   "execution_count": 6,
   "id": "e8f003ff",
   "metadata": {
    "scrolled": true
   },
   "outputs": [
    {
     "data": {
      "text/plain": [
       "[{'name': 'Tom', 'email': 'tommy@email.com', 'id': 4}]"
      ]
     },
     "execution_count": 6,
     "metadata": {},
     "output_type": "execute_result"
    }
   ],
   "source": [
    "repo.find('id', 4)"
   ]
  },
  {
   "cell_type": "code",
   "execution_count": 8,
   "id": "0be16841",
   "metadata": {},
   "outputs": [],
   "source": [
    "repo.find_by_id(6)"
   ]
  },
  {
   "cell_type": "code",
   "execution_count": null,
   "id": "cde67e81",
   "metadata": {},
   "outputs": [],
   "source": []
  }
 ],
 "metadata": {
  "kernelspec": {
   "display_name": "Python 3 (ipykernel)",
   "language": "python",
   "name": "python3"
  },
  "language_info": {
   "codemirror_mode": {
    "name": "ipython",
    "version": 3
   },
   "file_extension": ".py",
   "mimetype": "text/x-python",
   "name": "python",
   "nbconvert_exporter": "python",
   "pygments_lexer": "ipython3",
   "version": "3.11.4"
  }
 },
 "nbformat": 4,
 "nbformat_minor": 5
}
