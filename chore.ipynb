{
 "cells": [
  {
   "cell_type": "code",
   "execution_count": 87,
   "id": "436deb97-49a6-4db2-94b4-11b89ddad9a0",
   "metadata": {},
   "outputs": [],
   "source": [
    "# https://ru.hexlet.io/code_reviews/1604983\n",
    "\n",
    "from itertools import chain\n",
    "\n",
    "\n",
    "def get_children(parents):\n",
    "    return list(chain(*map(lambda e: e['children'], parents)))"
   ]
  },
  {
   "cell_type": "code",
   "execution_count": 89,
   "id": "66c45cc2-b37f-465a-b7e9-c541fe2b2418",
   "metadata": {},
   "outputs": [],
   "source": [
    "\n",
    "users = [\n",
    "    {\n",
    "        'name': 'Tirion',\n",
    "        'children': [\n",
    "            {'name': 'Mira', 'birthday': '1983-03-23'},\n",
    "        ],\n",
    "    },\n",
    "    {'name': 'Bronn', 'children': []},\n",
    "    {\n",
    "        'name': 'Sam',\n",
    "        'children': [\n",
    "            {'name': 'Aria', 'birthday': '2012-11-03'},\n",
    "            {'name': 'Keit', 'birthday': '1933-05-14'},\n",
    "        ],\n",
    "    },\n",
    "    {\n",
    "        'name': 'Rob',\n",
    "        'children': [\n",
    "            {'name': 'Tisha', 'birthday': '2012-11-03'},\n",
    "        ],\n",
    "    },\n",
    "]"
   ]
  },
  {
   "cell_type": "code",
   "execution_count": 91,
   "id": "ea0a1ff5-d1c4-4816-8809-6a502cc4c3db",
   "metadata": {},
   "outputs": [
    {
     "data": {
      "text/plain": [
       "[{'name': 'Mira', 'birthday': '1983-03-23'},\n",
       " {'name': 'Aria', 'birthday': '2012-11-03'},\n",
       " {'name': 'Keit', 'birthday': '1933-05-14'},\n",
       " {'name': 'Tisha', 'birthday': '2012-11-03'}]"
      ]
     },
     "execution_count": 91,
     "metadata": {},
     "output_type": "execute_result"
    }
   ],
   "source": [
    "get_children(users)"
   ]
  },
  {
   "cell_type": "code",
   "execution_count": 45,
   "id": "fdc12785-f3c1-457e-a6ed-6ea21876c0d9",
   "metadata": {},
   "outputs": [],
   "source": [
    "# https://ru.hexlet.io/code_reviews/1606228\n",
    "\n",
    "def get_fibonacci():\n",
    "    yield 0\n",
    "    yield 1\n",
    "    f1, f2 = 0, 1\n",
    "    while True:\n",
    "        f1, f2 = f2, f1 + f2\n",
    "        yield f2"
   ]
  },
  {
   "cell_type": "code",
   "execution_count": 47,
   "id": "573fbcfb-801a-4f3d-aedc-82d79115b58b",
   "metadata": {},
   "outputs": [
    {
     "name": "stdout",
     "output_type": "stream",
     "text": [
      "0\n",
      "1\n",
      "1\n",
      "2\n",
      "3\n",
      "5\n",
      "8\n",
      "13\n",
      "21\n",
      "34\n",
      "55\n",
      "89\n",
      "144\n"
     ]
    }
   ],
   "source": [
    "fib = get_fibonacci()\n",
    "\n",
    "for x in fib:\n",
    "    print(x)\n",
    "    if x > 100:\n",
    "        break"
   ]
  },
  {
   "cell_type": "code",
   "execution_count": 83,
   "id": "b455f4a2-8bec-4adb-a091-95b2fe8522ef",
   "metadata": {},
   "outputs": [],
   "source": [
    "# https://ru.hexlet.io/code_reviews/1606238\n",
    "from itertools import chain\n",
    "\n",
    "\n",
    "def get_girl_friends(persons):\n",
    "    return list(\n",
    "        filter(\n",
    "            lambda e: e['gender'] == 'female',\n",
    "            chain(\n",
    "                *map(\n",
    "                    lambda e: e['friends'],\n",
    "                    persons)\n",
    "            )\n",
    "        )\n",
    "    )"
   ]
  },
  {
   "cell_type": "code",
   "execution_count": 85,
   "id": "b7ee134f-0b71-4b50-ae69-ed143efc62ba",
   "metadata": {},
   "outputs": [
    {
     "name": "stdout",
     "output_type": "stream",
     "text": [
      "[{'name': 'Mira', 'gender': 'female'}, {'name': 'Aria', 'gender': 'female'}, {'name': 'Keit', 'gender': 'female'}]\n"
     ]
    }
   ],
   "source": [
    "users = [\n",
    "    {\n",
    "        'name': 'Tirion',\n",
    "        'friends': [\n",
    "            {'name': 'Mira', 'gender': 'female'},\n",
    "            {'name': 'Ramsey', 'gender': 'male'},\n",
    "        ],\n",
    "    },\n",
    "    {'name': 'Bronn', 'friends': []},\n",
    "    {\n",
    "        'name': 'Sam',\n",
    "        'friends': [\n",
    "            {'name': 'Aria', 'gender': 'female'},\n",
    "            {'name': 'Keit', 'gender': 'female'},\n",
    "        ],\n",
    "    },\n",
    "    {\n",
    "        'name': 'Rob',\n",
    "        'friends': [\n",
    "            {'name': 'Taywin', 'gender': 'male'},\n",
    "        ],\n",
    "    },\n",
    "]\n",
    "\n",
    "print(get_girl_friends(users))\n",
    "# => [\n",
    "# =>     {'name': 'Mira', 'gender': 'female'},\n",
    "# =>     {'name': 'Aria', 'gender': 'female'},\n",
    "# =>     {'name': 'Keit', 'gender': 'female'},"
   ]
  },
  {
   "cell_type": "raw",
   "id": "a9dbed2c-af4e-42a9-a45c-059acfb4beff",
   "metadata": {},
   "source": [
    "# Индексы пар, элементы которых равны друг другу\n",
    "[(1, 2), (4, 4), (5, 7), (0, 0)]\n",
    "\n",
    "# Пример посложнее: отфильтруем во вложенных списках четные элементы, затем оставим списки длиннее трех элементов\n",
    "list_of_lists = [[1, 2, 3, 5], [7, 11, 8, 0], [21, 12, 2, 7, 1], [1, 3]]\n",
    " [[1, 3, 5], [21, 7, 1]]"
   ]
  },
  {
   "cell_type": "raw",
   "id": "9b7b9123-416d-40ef-97f7-1741865ef22f",
   "metadata": {},
   "source": [
    "Реализуйте функцию group_by для группировки объектов по заданному свойству. Функция принимает аргументами список словарей и название свойства для группировки. Она должна возвращать словарь, где ключ - это значение по заданному свойству, а значение - список с данными, подходящими для группы.\n",
    "\n",
    "Пример использования:"
   ]
  },
  {
   "cell_type": "code",
   "execution_count": 3,
   "id": "e11e7bc6-9992-4bfe-82f5-c7c382d3f8fe",
   "metadata": {},
   "outputs": [],
   "source": [
    "from functools import reduce\n",
    "\n",
    "\n",
    "def group_by(dicts, key):\n",
    "    def aggregator(acc, item):\n",
    "        key_value = item[key]\n",
    "        if key_value not in acc:\n",
    "            acc[key_value] = []\n",
    "        acc[key_value].append(item)\n",
    "        return acc\n",
    "    return reduce(aggregator, dicts, {})"
   ]
  },
  {
   "cell_type": "code",
   "execution_count": 5,
   "id": "ef216ccb-7642-40c9-90b5-510bda2a595c",
   "metadata": {},
   "outputs": [
    {
     "name": "stdout",
     "output_type": "stream",
     "text": [
      "{}\n",
      "{3: [{'name': 'Tirion', 'class': 'B', 'mark': 3}, {'name': 'Keit', 'class': 'A', 'mark': 3}], 4: [{'name': 'Ramsey', 'class': 'A', 'mark': 4}]}\n"
     ]
    }
   ],
   "source": [
    "students = [\n",
    "    {'name': 'Tirion', 'class': 'B', 'mark': 3},\n",
    "    {'name': 'Keit', 'class': 'A', 'mark': 3},\n",
    "    {'name': 'Ramsey', 'class': 'A', 'mark': 4},\n",
    "]\n",
    "\n",
    "print(group_by([], ''))  # => {}\n",
    "print(group_by(students, 'mark'))\n",
    "# => {\n",
    "# =>   3: [\n",
    "# =>     {'name': 'Tirion', 'class': 'B', 'mark': 3},\n",
    "# =>     {'name': 'Keit', 'class': 'A', 'mark': 3},\n",
    "# =>   ],\n",
    "# =>   4: [\n",
    "# =>     {'name': 'Ramsey', 'class': 'A', 'mark': 4},\n",
    "# =>   ],\n",
    "# => }"
   ]
  },
  {
   "cell_type": "code",
   "execution_count": 37,
   "id": "6f8585bd-900e-428b-9bdc-aada983e686f",
   "metadata": {},
   "outputs": [],
   "source": [
    "from collections import defaultdict\n",
    "\n",
    "\n",
    "def group_by(dicts, key):\n",
    "    def aggregator(acc, item):\n",
    "        acc[item[key]].append(item)\n",
    "        return acc\n",
    "    return dict(reduce(aggregator, dicts, defaultdict(list)))"
   ]
  },
  {
   "cell_type": "code",
   "execution_count": 17,
   "id": "e838bea2-88b0-440e-a6f1-e16fd7e89b3f",
   "metadata": {},
   "outputs": [
    {
     "name": "stdout",
     "output_type": "stream",
     "text": [
      "{}\n",
      "{3: [{'name': 'Tirion', 'class': 'B', 'mark': 3}, {'name': 'Keit', 'class': 'A', 'mark': 3}], 4: [{'name': 'Ramsey', 'class': 'A', 'mark': 4}]}\n"
     ]
    }
   ],
   "source": [
    "students = [\n",
    "    {'name': 'Tirion', 'class': 'B', 'mark': 3},\n",
    "    {'name': 'Keit', 'class': 'A', 'mark': 3},\n",
    "    {'name': 'Ramsey', 'class': 'A', 'mark': 4},\n",
    "]\n",
    "\n",
    "print(group_by([], ''))  # => {}\n",
    "print(group_by(students, 'mark'))"
   ]
  },
  {
   "cell_type": "code",
   "execution_count": 59,
   "id": "08593a1e-5d86-4f6a-9650-c0d1396e409d",
   "metadata": {},
   "outputs": [
    {
     "name": "stdout",
     "output_type": "stream",
     "text": [
      "{'name': 'Mitchell Peterson', 'class': 'B', 'mark': 1}\n",
      "{'name': 'Joseph Mueller', 'class': 'C', 'mark': 3}\n",
      "{'name': 'Timothy Anthony', 'class': 'A', 'mark': 3}\n",
      "{'name': 'Christopher Williams', 'class': 'F', 'mark': 1}\n",
      "{'name': 'Adam Martinez', 'class': 'H', 'mark': 5}\n"
     ]
    }
   ],
   "source": [
    "from faker import Faker\n",
    "import random\n",
    "\n",
    "fake = Faker()\n",
    "\n",
    "# Генерация 1000 записей\n",
    "students = [\n",
    "    {\n",
    "        'name': fake.name(),\n",
    "        'class': random.choice(['A', 'B', 'C', 'D', 'E', 'F', 'G', 'H']),\n",
    "        'mark': random.randint(1, 5)\n",
    "    }\n",
    "    for _ in range(100_000)\n",
    "]\n",
    "\n",
    "# Вывод первых 5 записей для примера\n",
    "for student in students[:5]:\n",
    "    print(student)"
   ]
  },
  {
   "cell_type": "code",
   "execution_count": 31,
   "id": "eca4ce42-5330-4f78-9194-e1c17dce6837",
   "metadata": {},
   "outputs": [],
   "source": [
    "import time\n",
    "\n",
    "def time_decorator(func):\n",
    "    def inner(*args, **kwargs):\n",
    "        start_time = time.time()\n",
    "        result = func(*args, **kwargs)\n",
    "        end_time = time.time()\n",
    "        print(f\"Duration: {end_time - start_time:.6f} seconds\")\n",
    "        return result\n",
    "    return inner"
   ]
  },
  {
   "cell_type": "code",
   "execution_count": 39,
   "id": "9dbd2fb8-bd4f-4a45-8370-134722d4fb5e",
   "metadata": {},
   "outputs": [],
   "source": [
    "group_by_paalso = group_by"
   ]
  },
  {
   "cell_type": "code",
   "execution_count": 41,
   "id": "dbcc9b21-da5a-43ff-8b74-4bb274d9dc63",
   "metadata": {},
   "outputs": [],
   "source": [
    "@time_decorator\n",
    "def group_by_paalso(dicts, key):\n",
    "    def aggregator(acc, item):\n",
    "        acc[item[key]].append(item)\n",
    "        return acc\n",
    "    return dict(reduce(aggregator, dicts, defaultdict(list)))"
   ]
  },
  {
   "cell_type": "code",
   "execution_count": 43,
   "id": "7210b08f-5532-4aaf-8756-55182caccac3",
   "metadata": {},
   "outputs": [],
   "source": [
    "@time_decorator\n",
    "def group_by_hexlet(objects, key):\n",
    "    def reducer(acc, obj):\n",
    "        # из каждого объекта берётся значение по ключу\n",
    "        group_name = obj[key]\n",
    "        # контейнером группы выступает список\n",
    "        # метод get возвращает пустой список, если в аккумуляторе ничего нет\n",
    "        group = acc.get(group_name, [])\n",
    "        # возвращается новый словарь аккумулятора\n",
    "        # старый аккумулятор обновляется\n",
    "        # для текущей группы записывается новый список с данными\n",
    "        return {**acc, group_name: group + [obj]}\n",
    "\n",
    "    return reduce(reducer, objects, {})"
   ]
  },
  {
   "cell_type": "code",
   "execution_count": 65,
   "id": "7a612900-bb7d-41cd-9a09-e57723fd1c0f",
   "metadata": {},
   "outputs": [
    {
     "name": "stdout",
     "output_type": "stream",
     "text": [
      "Duration: 0.016545 seconds\n"
     ]
    }
   ],
   "source": [
    "result1 = group_by_paalso(students, 'mark')"
   ]
  },
  {
   "cell_type": "code",
   "execution_count": 67,
   "id": "3eb120b1-67d0-4c1a-b7d6-8448724d76e8",
   "metadata": {},
   "outputs": [
    {
     "name": "stdout",
     "output_type": "stream",
     "text": [
      "Duration: 13.753069 seconds\n"
     ]
    }
   ],
   "source": [
    "result2 = group_by_hexlet(students, 'mark')"
   ]
  },
  {
   "cell_type": "code",
   "execution_count": 51,
   "id": "953e9476-6718-43da-9598-925c245083e3",
   "metadata": {},
   "outputs": [
    {
     "data": {
      "text/plain": [
       "15.421404682274247"
      ]
     },
     "execution_count": 51,
     "metadata": {},
     "output_type": "execute_result"
    }
   ],
   "source": [
    "0.004611 / 0.000299"
   ]
  },
  {
   "cell_type": "code",
   "execution_count": 69,
   "id": "d9a02d89-be96-4b93-a644-da3806c6bafc",
   "metadata": {},
   "outputs": [
    {
     "data": {
      "text/plain": [
       "[1, 25, 81]"
      ]
     },
     "execution_count": 69,
     "metadata": {},
     "output_type": "execute_result"
    }
   ],
   "source": [
    "# квадраты чисел\n",
    "[x * x for x in [1,5,-9]]"
   ]
  },
  {
   "cell_type": "code",
   "execution_count": 73,
   "id": "2aa44d80-7032-4a54-8dc2-d6e85cd28474",
   "metadata": {},
   "outputs": [
    {
     "data": {
      "text/plain": [
       "[72, 101, 108, 108, 111, 44, 32, 119, 111, 114, 108, 100, 33]"
      ]
     },
     "execution_count": 73,
     "metadata": {},
     "output_type": "execute_result"
    }
   ],
   "source": [
    "# Коды прописных букв из заданной строки\n",
    "[ord(c) for c in 'Hello, world!']"
   ]
  },
  {
   "cell_type": "code",
   "execution_count": 75,
   "id": "a6e9c58b-8d18-4c61-a674-2b4e1e636f27",
   "metadata": {},
   "outputs": [
    {
     "data": {
      "text/plain": [
       "[1, 3]"
      ]
     },
     "execution_count": 75,
     "metadata": {},
     "output_type": "execute_result"
    }
   ],
   "source": [
    "# Индексы пар, элементы которых равны друг другу\n",
    "L = [(1, 2), (4, 4), (5, 7), (0, 0)]\n",
    "\n",
    "[i for i, (x, y) in enumerate(L) if x == y]"
   ]
  },
  {
   "cell_type": "code",
   "execution_count": 79,
   "id": "1c19f273-0a6b-4f26-b452-df93838e83ba",
   "metadata": {},
   "outputs": [],
   "source": [
    "# Пример посложнее: отфильтруем во вложенных списках четные элементы, затем оставим списки длиннее трех элементов\n",
    "list_of_lists = [[1, 2, 3, 5], [7, 11, 8, 0], [21, 12, 2, 7, 1], [1, 3]]"
   ]
  },
  {
   "cell_type": "code",
   "execution_count": 89,
   "id": "169be828-92e7-48b0-b123-698864819e5b",
   "metadata": {},
   "outputs": [
    {
     "data": {
      "text/plain": [
       "[[1, 3, 5], [21, 7, 1]]"
      ]
     },
     "execution_count": 89,
     "metadata": {},
     "output_type": "execute_result"
    }
   ],
   "source": [
    "[items for items in [[e for e in items if e % 2 == 1] for items in list_of_lists] if len(items) > 2]"
   ]
  },
  {
   "cell_type": "code",
   "execution_count": 91,
   "id": "8a43d1e7-6b8e-439a-b356-00189b7dd83e",
   "metadata": {},
   "outputs": [
    {
     "data": {
      "text/plain": [
       "[[1, 3, 5], [21, 7, 1]]"
      ]
     },
     "execution_count": 91,
     "metadata": {},
     "output_type": "execute_result"
    }
   ],
   "source": [
    "[ x for x in [[elem for elem in l if elem % 2 == 1] for l in list_of_lists] if len(x) >= 3]"
   ]
  },
  {
   "cell_type": "code",
   "execution_count": 93,
   "id": "5a2fe348-62a6-4e08-8489-7b301d1d448c",
   "metadata": {},
   "outputs": [],
   "source": [
    "source = [11, 12, 1, 121]"
   ]
  },
  {
   "cell_type": "code",
   "execution_count": 95,
   "id": "ba3c1ba9-1891-49d2-8526-588a9f986bb0",
   "metadata": {},
   "outputs": [
    {
     "data": {
      "text/plain": [
       "265"
      ]
     },
     "execution_count": 95,
     "metadata": {},
     "output_type": "execute_result"
    }
   ],
   "source": [
    "sum([x ** 2 for x in [num for num in source if num // 10 >= 1] if x // 10 < 10])"
   ]
  },
  {
   "cell_type": "code",
   "execution_count": 97,
   "id": "bf3325c8-43ee-4f80-85fc-9b9d555bd815",
   "metadata": {},
   "outputs": [
    {
     "data": {
      "text/plain": [
       "265"
      ]
     },
     "execution_count": 97,
     "metadata": {},
     "output_type": "execute_result"
    }
   ],
   "source": [
    "sum(map(lambda num: num ** 2, (filter(lambda num: num // 10 >= 1 and num // 10 < 10, source))))\n"
   ]
  },
  {
   "cell_type": "code",
   "execution_count": 99,
   "id": "b4786990-05e3-48b3-b4d5-ab65ff72a75c",
   "metadata": {},
   "outputs": [
    {
     "data": {
      "text/plain": [
       "265"
      ]
     },
     "execution_count": 99,
     "metadata": {},
     "output_type": "execute_result"
    }
   ],
   "source": [
    "sum([num ** 2 for num in source if num // 10 >= 1 and num // 10 < 10])"
   ]
  },
  {
   "cell_type": "code",
   "execution_count": 101,
   "id": "5ebe62f0-1514-4b8b-82b8-7ae448ef3fc7",
   "metadata": {},
   "outputs": [
    {
     "ename": "TypeError",
     "evalue": "'NoneType' object is not iterable",
     "output_type": "error",
     "traceback": [
      "\u001b[0;31m---------------------------------------------------------------------------\u001b[0m",
      "\u001b[0;31mTypeError\u001b[0m                                 Traceback (most recent call last)",
      "Cell \u001b[0;32mIn[101], line 1\u001b[0m\n\u001b[0;32m----> 1\u001b[0m [\u001b[38;5;28msum\u001b[39m([]\u001b[38;5;241m.\u001b[39mappend(num \u001b[38;5;241m*\u001b[39m\u001b[38;5;241m*\u001b[39m \u001b[38;5;241m2\u001b[39m)) \u001b[38;5;28;01mfor\u001b[39;00m num \u001b[38;5;129;01min\u001b[39;00m source \u001b[38;5;28;01mif\u001b[39;00m num \u001b[38;5;241m/\u001b[39m\u001b[38;5;241m/\u001b[39m \u001b[38;5;241m10\u001b[39m \u001b[38;5;241m>\u001b[39m\u001b[38;5;241m=\u001b[39m \u001b[38;5;241m1\u001b[39m \u001b[38;5;129;01mand\u001b[39;00m num \u001b[38;5;241m/\u001b[39m\u001b[38;5;241m/\u001b[39m \u001b[38;5;241m10\u001b[39m\u001b[38;5;241m<\u001b[39m \u001b[38;5;241m10\u001b[39m][\u001b[38;5;241m0\u001b[39m]\n",
      "\u001b[0;31mTypeError\u001b[0m: 'NoneType' object is not iterable"
     ]
    }
   ],
   "source": [
    "[sum([].append(num ** 2)) for num in source if num // 10 >= 1 and num // 10< 10][0]"
   ]
  },
  {
   "cell_type": "code",
   "execution_count": 107,
   "id": "dd04f274-322f-43e7-b5a8-bb133692de11",
   "metadata": {},
   "outputs": [
    {
     "data": {
      "text/plain": [
       "<generator object <genexpr> at 0x7f149a902260>"
      ]
     },
     "execution_count": 107,
     "metadata": {},
     "output_type": "execute_result"
    }
   ],
   "source": [
    "(print(x) for x in (1, 2, 3))"
   ]
  },
  {
   "cell_type": "raw",
   "id": "d69dd292-825f-4162-bc8f-dfd9519e5938",
   "metadata": {},
   "source": [
    "Создайте функцию validate_passwords(), которая принимает список паролей и проверяет их на соответствие следующим критериям:\n",
    "\n",
    "    Все пароли должны быть не короче 8 символов.\n",
    "    Хотя бы один пароль должен содержать цифру.\n",
    "    Хотя бы один пароль должен содержать заглавную букву.\n",
    "    Ни один пароль не должен содержать пробелов.\n",
    "\n",
    "Функция должна возвращать True, если все условия выполнены, и False в противном случае.\n",
    "Подсказки\n",
    "\n",
    "    Используйте generator expressions в сочетании с функциями any и all для реализации этой проверки.\n"
   ]
  },
  {
   "cell_type": "code",
   "execution_count": 7,
   "id": "d9ac168a-d90e-4768-a05c-47c81821459b",
   "metadata": {},
   "outputs": [],
   "source": [
    "def validate_passwords(passwords):\n",
    "    return all(\n",
    "        [all(len(password) >= 8 for password in passwords),\n",
    "        all(' ' not in password for password in passwords),\n",
    "        any(any(c.isupper() for c in password) for password in passwords),\n",
    "        any(any(c.isdigit() for c in password) for password in passwords)]\n",
    "    )"
   ]
  },
  {
   "cell_type": "code",
   "execution_count": 9,
   "id": "d0879b18-6a36-42c2-94d5-e17ff3a6857a",
   "metadata": {},
   "outputs": [],
   "source": [
    "passwords = {\n",
    "        'short': ['short', '1234567'],\n",
    "        'no_digits': ['password', 'strongPass'],\n",
    "        'no_uppercase': ['password123', 'strongpass1'],\n",
    "        'contains_space': ['password 123', 'strongPass1'],\n",
    "        'valid': ['password123', 'Password123', 'StrongPass1']\n",
    "}"
   ]
  },
  {
   "cell_type": "code",
   "execution_count": 11,
   "id": "941d4e23-b4ab-4059-9b49-493db461386b",
   "metadata": {},
   "outputs": [
    {
     "data": {
      "text/plain": [
       "True"
      ]
     },
     "execution_count": 11,
     "metadata": {},
     "output_type": "execute_result"
    }
   ],
   "source": [
    "key = 'valid'\n",
    "validate_passwords(passwords[key])"
   ]
  },
  {
   "cell_type": "code",
   "execution_count": 47,
   "id": "bcc9da64-31a1-43b7-ab0a-f3b901d0217d",
   "metadata": {},
   "outputs": [],
   "source": [
    "# https://ru.hexlet.io/code_reviews/1608996\n",
    "from collections import Counter\n",
    "\n",
    "FREE_EMAIL_DOMAINS = [\n",
    "    'gmail.com',\n",
    "    'yandex.ru',\n",
    "    'hotmail.com',\n",
    "    'yahoo.com',\n",
    "]\n",
    "\n",
    "\n",
    "def get_free_domains_count(emails):\n",
    "    return dict(Counter(\n",
    "        filter(\n",
    "            lambda domain: domain in FREE_EMAIL_DOMAINS,\n",
    "            map(\n",
    "                lambda email: email.split('@')[-1],\n",
    "                emails\n",
    "            )\n",
    "        )\n",
    "    ))"
   ]
  },
  {
   "cell_type": "code",
   "execution_count": 45,
   "id": "049aafe4-961c-4a4c-8d9b-b638a8adb507",
   "metadata": {},
   "outputs": [
    {
     "name": "stdout",
     "output_type": "stream",
     "text": [
      "{'gmail.com': 3, 'yandex.ru': 2, 'hotmail.com': 2}\n"
     ]
    }
   ],
   "source": [
    "emails = [\n",
    "    'info@gmail.com',\n",
    "    'info@yandex.ru',\n",
    "    'info@hotmail.com',\n",
    "    'mk@host.com',\n",
    "    'support@hexlet.io',\n",
    "    'key@yandex.ru',\n",
    "    'sergey@gmail.com',\n",
    "    'vovan@gmail.com',\n",
    "    'vovan@hotmail.com',\n",
    "]\n",
    "\n",
    "print(get_free_domains_count(emails))\n",
    "# => {\n",
    "# =>   'gmail.com': 3,\n",
    "# =>   'yandex.ru': 2,\n",
    "# =>   'hotmail.com': 2,\n",
    "# => }"
   ]
  },
  {
   "cell_type": "raw",
   "id": "f8c3fc7c-0af4-459d-b822-0ca3667b1278",
   "metadata": {},
   "source": [
    "В этом упражнении вам нужно будет реализовать две функции высшего порядка, возвращающие замыкания: partial_apply() и flip().\n",
    "\n",
    "partial_apply() принимает функцию от двух аргументов и первый аргумент для неё, а возвращает замыкание. Замыкание принимает оставшийся второй аргумент, а затем применяет замкнутую функцию к обоим аргументам и возращает результат.\n",
    "\n",
    "def greet(name, surname):\n",
    "    return f'Hello, {name} {surname}!'\n",
    "\n",
    "f = partial_apply(greet, 'Dorian')\n",
    "f('Grey')\n",
    "# 'Hello, Dorian Grey!'\n",
    "\n",
    "Функция flip() принимает в качестве единственного аргумента функцию от двух аргументов. Возвращаемое замыкание должно также принять два аргумента, а затем применить к ним замкнутую функцию, но аргументы подставить в обратном порядке. Таким образом flip() как бы \"переворачивает\" (\"flips\") исходную функцию.\n",
    "\n",
    "def greet(name, surname):\n",
    "    return f'Hello, {name} {surname}!'\n",
    "\n",
    "f = flip(greet)\n",
    "f('Christian', 'Teodor')"
   ]
  },
  {
   "cell_type": "code",
   "execution_count": 60,
   "id": "9b67f6c1-42c4-4464-931f-db09d6e5d045",
   "metadata": {},
   "outputs": [],
   "source": [
    "def partial_apply(func, first_arg):\n",
    "    def wrapper(second_arg):\n",
    "        return func(first_arg, second_arg)\n",
    "    return wrapper\n",
    "\n",
    "\n",
    "def flip(func):\n",
    "    def wrapper(first_arg, second_arg):\n",
    "        return func(second_arg, first_arg)\n",
    "    return wrapper"
   ]
  },
  {
   "cell_type": "code",
   "execution_count": 58,
   "id": "cf8b35c9-d21e-4ce3-baf0-4c85590f7860",
   "metadata": {},
   "outputs": [
    {
     "data": {
      "text/plain": [
       "'Hello, Dorian Grey!'"
      ]
     },
     "execution_count": 58,
     "metadata": {},
     "output_type": "execute_result"
    }
   ],
   "source": [
    "def greet(name, surname):\n",
    "    return f'Hello, {name} {surname}!'\n",
    "\n",
    "f = partial_apply(greet, 'Dorian')\n",
    "f('Grey')\n",
    "# 'Hello, Dorian Grey!'"
   ]
  },
  {
   "cell_type": "code",
   "execution_count": 62,
   "id": "407bc01c-3e84-4e5e-b325-09fcc06306d7",
   "metadata": {},
   "outputs": [
    {
     "data": {
      "text/plain": [
       "'Hello, Teodor Christian!'"
      ]
     },
     "execution_count": 62,
     "metadata": {},
     "output_type": "execute_result"
    }
   ],
   "source": [
    "f = flip(greet)\n",
    "f('Christian', 'Teodor')"
   ]
  },
  {
   "cell_type": "code",
   "execution_count": 66,
   "id": "659eac60-8e2f-4a6c-adeb-12e424c216ac",
   "metadata": {},
   "outputs": [
    {
     "data": {
      "text/plain": [
       "9"
      ]
     },
     "execution_count": 66,
     "metadata": {},
     "output_type": "execute_result"
    }
   ],
   "source": [
    "wop = flip(pow)\n",
    "wop(2, 3)"
   ]
  },
  {
   "cell_type": "code",
   "execution_count": 19,
   "id": "8b70de90-aa39-4c56-9d2d-5f13ee58cd9b",
   "metadata": {},
   "outputs": [],
   "source": [
    "# https://ru.hexlet.io/code_reviews/272178\n",
    "\n",
    "def length(items):\n",
    "    if not items:\n",
    "        return 0\n",
    "    _, *rest = items\n",
    "    return 1 + length(rest)\n",
    "\n",
    "\n",
    "def reverse_range(first, last):\n",
    "    if last == first:\n",
    "        return [first]\n",
    "    return [last] + reverse_range(first, last - 1)\n",
    "\n",
    "\n",
    "def filter_positive(items):\n",
    "    if not items:\n",
    "        return []\n",
    "    first, *rest = items\n",
    "    if first > 0:\n",
    "        return [first] + filter_positive(rest)\n",
    "    return filter_positive(rest)     "
   ]
  },
  {
   "cell_type": "code",
   "execution_count": 7,
   "id": "554c6c67-8dee-438d-adcd-969b32e5b13f",
   "metadata": {},
   "outputs": [
    {
     "data": {
      "text/plain": [
       "3"
      ]
     },
     "execution_count": 7,
     "metadata": {},
     "output_type": "execute_result"
    }
   ],
   "source": [
    "length([1, 2, 3]) # 3"
   ]
  },
  {
   "cell_type": "code",
   "execution_count": 11,
   "id": "9ba755b3-076d-4bb4-857c-22cc831f5b6b",
   "metadata": {},
   "outputs": [
    {
     "data": {
      "text/plain": [
       "[3, 2, 1]"
      ]
     },
     "execution_count": 11,
     "metadata": {},
     "output_type": "execute_result"
    }
   ],
   "source": [
    "reverse_range(1, 3) # [3, 2, 1]"
   ]
  },
  {
   "cell_type": "code",
   "execution_count": 15,
   "id": "87f06aa9-2cd3-451a-b736-7dde75b51575",
   "metadata": {},
   "outputs": [
    {
     "data": {
      "text/plain": [
       "[1, 3]"
      ]
     },
     "execution_count": 15,
     "metadata": {},
     "output_type": "execute_result"
    }
   ],
   "source": [
    "filter_positive([1, -2, 3])"
   ]
  },
  {
   "cell_type": "code",
   "execution_count": 49,
   "id": "1b12f31b-a2b4-4eec-b432-9b49c8e3ce56",
   "metadata": {},
   "outputs": [],
   "source": [
    "def smallest_divisor(number):\n",
    "    if number == 1:\n",
    "        return 1\n",
    "\n",
    "    upper_limit = number ** 0.5\n",
    "    \n",
    "    def iter(acc):\n",
    "        if acc > upper_limit:\n",
    "            return number\n",
    "        if number % acc == 0:\n",
    "            return acc\n",
    "        return iter (acc + 1)\n",
    "\n",
    "    return iter(2)"
   ]
  },
  {
   "cell_type": "code",
   "execution_count": 51,
   "id": "a41614bc-ceb4-4dc2-8821-33534a8bd569",
   "metadata": {},
   "outputs": [
    {
     "data": {
      "text/plain": [
       "5"
      ]
     },
     "execution_count": 51,
     "metadata": {},
     "output_type": "execute_result"
    }
   ],
   "source": [
    "smallest_divisor(25) # 3\n",
    "# smallest_divisor(17) #17"
   ]
  },
  {
   "cell_type": "code",
   "execution_count": 53,
   "id": "dec24781-e27d-4611-9de8-32f440f9faf9",
   "metadata": {},
   "outputs": [],
   "source": [
    "def smallest_divisor(num):\n",
    "    def iter(acc):\n",
    "        # Мы используем 'num // 2' в условии, а не 'num'.\n",
    "        # Эта простая оптимизация позволит нам скоратить число проверок\n",
    "        if acc > num // 2:\n",
    "            return num\n",
    "        if num % acc == 0:\n",
    "            return acc\n",
    "        return iter(acc + 1)\n",
    "\n",
    "    # Особый случай для числа 1\n",
    "    if num == 1:\n",
    "        return 1\n",
    "\n",
    "    return iter(2)"
   ]
  },
  {
   "cell_type": "code",
   "execution_count": 76,
   "id": "3bd157fb-2302-4ac3-860c-9cf62d63d657",
   "metadata": {},
   "outputs": [],
   "source": [
    "# https://ru.hexlet.io/code_reviews/348646\n",
    "\n",
    "def memoized(function):\n",
    "    memo = {}\n",
    "    def wrapper(arg):\n",
    "        if arg not in memo:\n",
    "            memo[arg] = function(arg) \n",
    "        return memo[arg]\n",
    "    return wrapper"
   ]
  },
  {
   "cell_type": "code",
   "execution_count": 68,
   "id": "d8f6359f-cfff-489d-8191-20fd274438ac",
   "metadata": {},
   "outputs": [],
   "source": [
    "@memoized\n",
    "def f(x):\n",
    "    print('Calculating...')\n",
    "    return x * 10"
   ]
  },
  {
   "cell_type": "code",
   "execution_count": 70,
   "id": "13bf3bff-9ca7-47ff-acb1-4c1adfafde1f",
   "metadata": {},
   "outputs": [
    {
     "name": "stdout",
     "output_type": "stream",
     "text": [
      "Calculating...\n"
     ]
    },
    {
     "data": {
      "text/plain": [
       "100"
      ]
     },
     "execution_count": 70,
     "metadata": {},
     "output_type": "execute_result"
    }
   ],
   "source": [
    "f(10)"
   ]
  },
  {
   "cell_type": "code",
   "execution_count": 72,
   "id": "998e71f9-e8c6-4b71-a381-9fe830e89a10",
   "metadata": {},
   "outputs": [
    {
     "name": "stdout",
     "output_type": "stream",
     "text": [
      "Calculating...\n"
     ]
    },
    {
     "data": {
      "text/plain": [
       "20"
      ]
     },
     "execution_count": 72,
     "metadata": {},
     "output_type": "execute_result"
    }
   ],
   "source": [
    "f(2)"
   ]
  },
  {
   "cell_type": "code",
   "execution_count": 74,
   "id": "855f49fe-8a1a-4ae3-a1e9-5276fe82de12",
   "metadata": {},
   "outputs": [
    {
     "data": {
      "text/plain": [
       "100"
      ]
     },
     "execution_count": 74,
     "metadata": {},
     "output_type": "execute_result"
    }
   ],
   "source": [
    "f(10)"
   ]
  },
  {
   "cell_type": "code",
   "execution_count": null,
   "id": "593f2af8-fd27-40d3-8741-d87da69f2ff2",
   "metadata": {},
   "outputs": [],
   "source": []
  }
 ],
 "metadata": {
  "kernelspec": {
   "display_name": "Python 3 (ipykernel)",
   "language": "python",
   "name": "python3"
  },
  "language_info": {
   "codemirror_mode": {
    "name": "ipython",
    "version": 3
   },
   "file_extension": ".py",
   "mimetype": "text/x-python",
   "name": "python",
   "nbconvert_exporter": "python",
   "pygments_lexer": "ipython3",
   "version": "3.12.4"
  }
 },
 "nbformat": 4,
 "nbformat_minor": 5
}
